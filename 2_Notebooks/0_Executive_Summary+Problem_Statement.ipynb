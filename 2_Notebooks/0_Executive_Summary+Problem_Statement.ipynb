{
 "cells": [
  {
   "cell_type": "markdown",
   "metadata": {},
   "source": [
    "# Executive Summary"
   ]
  },
  {
   "cell_type": "raw",
   "metadata": {},
   "source": [
    "Our main objective at Alpha Advantage Capital is to understand where the market is heading before it arrives at its destination. Through the application of financial analysis, financial modeling with machine learning, and through thorough research and understandings of consumer trends, we believe that Alpha Advantage Capital forecasts the future and invests accordingly. \n",
    "\n",
    "A newer area of interest regards sentiment analysis from social media regarding specific securities, as well as the market in general. There is immense information available on social media platforms like Discord, Reddit, and Tik Tok. To be able to capture this sentiment and use it as one element in forecasting future price movement or activity is of great interest to Alpha Advantage Capital.\n",
    "\n",
    "So we begin our journey into social media mining. We will begin with a couple financial subreddits due to the activity and selected focus. The data is already in text format, thus making our data scientists and NLP experts work significantly easier. We will experiment with a number of data cleaning methods, as well as a couple sentiment analysis packages to assess overall setiment across a couple different time periods.\n",
    "\n",
    "Once we have the data collected, cleaned, and sentiment scored, we will create a display that will show the overlay between general sentiment change and general price movement of the market, and with enough data will attempt to do the same with individual securities. With the visual check in place, we will move onto using the sentiment data as a feature in a couple different time-series models, including RNN, ARIMA, and SARIMAX.\n",
    "\n",
    "We will compare a RNN's performance predicting soley on financial data, against a RNN performing on financial data and sentiment score averages by day, and observe whether performance improves or deteriorates.\n",
    "\n",
    "With these steps in place, we will assess positives and negatives of the procedure, and begin formulating another iterative pass in order to optimize this process. Alpha Advantage Capital strongly believes that there is imeasurable value and insight buried away in numerous subreddit groups and Discord groups, and it's only a matter of time until we can capture this invaluable information and use it to predict future price movement as well as understand market sentiment."
   ]
  },
  {
   "cell_type": "markdown",
   "metadata": {},
   "source": [
    "# Problem Statement"
   ]
  },
  {
   "cell_type": "raw",
   "metadata": {},
   "source": [
    "We are interested in exploring and understanding the influence of social media platforms, specifically reddit in this case, in effecting price movement in the general market as well as with individual securities. Do investing subreddits actually have enough influence and users with money to in a sense move the market, or is there evidence of only slight influence? One step further, can reddit data from selected subreddits be scored by sentiment analysis and used to accurately forecast price movement through the use of time-series forecasting?"
   ]
  }
 ],
 "metadata": {
  "kernelspec": {
   "display_name": "Python 3",
   "language": "python",
   "name": "python3"
  },
  "language_info": {
   "codemirror_mode": {
    "name": "ipython",
    "version": 3
   },
   "file_extension": ".py",
   "mimetype": "text/x-python",
   "name": "python",
   "nbconvert_exporter": "python",
   "pygments_lexer": "ipython3",
   "version": "3.8.5"
  }
 },
 "nbformat": 4,
 "nbformat_minor": 4
}

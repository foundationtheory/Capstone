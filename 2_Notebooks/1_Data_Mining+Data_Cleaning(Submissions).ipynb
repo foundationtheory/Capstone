{
 "cells": [
  {
   "cell_type": "raw",
   "metadata": {},
   "source": [
    "Problem Statement\n",
    "Data Collection\n",
    "Data Cleaning & EDA\n",
    "Preprocessing & Modeling\n",
    "Evaluation and Conceptual Understanding\n",
    "Conclusion and Recommendations"
   ]
  },
  {
   "cell_type": "code",
   "execution_count": 1,
   "metadata": {
    "ExecuteTime": {
     "end_time": "2021-03-15T06:57:17.310523Z",
     "start_time": "2021-03-15T06:57:17.272964Z"
    }
   },
   "outputs": [
    {
     "data": {
      "text/plain": [
       "'/Users/ch/Desktop/GA/Projects/project_6_capstone'"
      ]
     },
     "execution_count": 1,
     "metadata": {},
     "output_type": "execute_result"
    }
   ],
   "source": [
    "pwd!"
   ]
  },
  {
   "cell_type": "markdown",
   "metadata": {},
   "source": [
    "# IMPORTS"
   ]
  },
  {
   "cell_type": "code",
   "execution_count": 26,
   "metadata": {
    "ExecuteTime": {
     "end_time": "2021-03-15T11:02:24.770774Z",
     "start_time": "2021-03-15T11:02:24.764021Z"
    }
   },
   "outputs": [],
   "source": [
    "import pandas as pd\n",
    "import datetime as dt\n",
    "import time\n",
    "import requests\n",
    "pd.set_option('display.max_columns', None) # Displays all columns\n",
    "import numpy as np\n",
    "\n",
    "import os"
   ]
  },
  {
   "cell_type": "code",
   "execution_count": 23,
   "metadata": {
    "ExecuteTime": {
     "end_time": "2021-03-15T11:01:38.982541Z",
     "start_time": "2021-03-15T11:01:37.200355Z"
    }
   },
   "outputs": [
    {
     "name": "stdout",
     "output_type": "stream",
     "text": [
      "CPU times: user 701 ms, sys: 293 ms, total: 994 ms\n",
      "Wall time: 1.78 s\n"
     ]
    }
   ],
   "source": [
    "%%time\n",
    "from nltk.tokenize import sent_tokenize, word_tokenize, RegexpTokenizer\n",
    "from nltk.stem import WordNetLemmatizer\n",
    "from nltk.stem.porter import PorterStemmer\n",
    "from nltk.corpus import stopwords\n",
    "from nltk.sentiment.vader import SentimentIntensityAnalyzer\n",
    "import re # Python's package for RegEx (Regular Expressions)\n",
    "from sklearn.feature_extraction.text import CountVectorizer, TfidfVectorizer\n",
    "from sklearn.feature_extraction import text"
   ]
  },
  {
   "cell_type": "code",
   "execution_count": 3,
   "metadata": {
    "ExecuteTime": {
     "end_time": "2021-03-15T06:57:18.792259Z",
     "start_time": "2021-03-15T06:57:17.785240Z"
    }
   },
   "outputs": [
    {
     "data": {
      "text/plain": [
       "1.0020661354064941"
      ]
     },
     "execution_count": 3,
     "metadata": {},
     "output_type": "execute_result"
    }
   ],
   "source": [
    "start=time.time()\n",
    "time.sleep(1)\n",
    "current=time.time()\n",
    "current - start"
   ]
  },
  {
   "cell_type": "markdown",
   "metadata": {},
   "source": [
    "# FUNCTIONS"
   ]
  },
  {
   "cell_type": "code",
   "execution_count": 178,
   "metadata": {
    "ExecuteTime": {
     "end_time": "2021-03-16T07:41:20.528549Z",
     "start_time": "2021-03-16T07:41:20.496391Z"
    }
   },
   "outputs": [],
   "source": [
    "def query_pushshift_submissions(subreddit, kind, day_window, n):\n",
    "    \n",
    "    SUBFIELDS = ['title', 'selftext', 'subreddit', 'created_utc', 'author', 'num_comments', 'score', 'is_self']\n",
    "    \n",
    "    # establish base url and stem\n",
    "    # could also use request.getparams\n",
    "    stem = f\"https://api.pushshift.io/reddit/search/submission?subreddit={subreddit}&size=100\" # also known as the \"API endpoint\" \n",
    "    #stem = f\"{BASE_URL}?subreddit={subreddit}&size=100\" # always pulling max of 100\n",
    "    \n",
    "    # instantiate empty list for temp storage\n",
    "    posts = []\n",
    "    \n",
    "    # implement for loop with `time.sleep(1)`\n",
    "    for i in range(1, n + 1):\n",
    "        URL = \"{}&after={}d\".format(stem, day_window * i)\n",
    "        print(\"Querying from: \" + URL)\n",
    "        response = requests.get(URL)\n",
    "        assert response.status_code == 200\n",
    "        mine = response.json()['data']\n",
    "        df = pd.DataFrame.from_dict(mine)\n",
    "        posts.append(df)\n",
    "        #print(df.shape)\n",
    "        time.sleep(1.5)\n",
    "    # pd.concat storage list\n",
    "    full = pd.concat(posts, sort=False)\n",
    "    \n",
    "    # if submission\n",
    "    if kind == \"submission\":\n",
    "        # select desired columns\n",
    "        full = full[SUBFIELDS]\n",
    "        # drop duplicates\n",
    "        full.drop_duplicates(inplace = True)\n",
    "        # select `is_self` == True\n",
    "        full = full.loc[full['is_self'] == True]\n",
    "        \n",
    "    # create `timestamp` column\n",
    "    full['timestamp'] = full[\"created_utc\"].map(dt.date.fromtimestamp)\n",
    "    \n",
    "    print(\"Query Complete!\")    \n",
    "    return full.reset_index(drop=True)"
   ]
  },
  {
   "cell_type": "code",
   "execution_count": 27,
   "metadata": {
    "ExecuteTime": {
     "end_time": "2021-03-15T11:02:29.041885Z",
     "start_time": "2021-03-15T11:02:29.035274Z"
    }
   },
   "outputs": [],
   "source": [
    "def substituteincolumn(data, column): # Handles strange observations\n",
    "        data[column].replace('[deleted]', np.nan, inplace = True)\n",
    "        data[column].replace('[removed]', np.nan, inplace = True)"
   ]
  },
  {
   "cell_type": "code",
   "execution_count": 18,
   "metadata": {
    "ExecuteTime": {
     "end_time": "2021-03-15T11:00:47.951827Z",
     "start_time": "2021-03-15T11:00:47.942711Z"
    }
   },
   "outputs": [],
   "source": [
    "def clean_strings(input_list, stopwords = []):\n",
    "    import re # we'll use regex to strip urls\n",
    "    output_list = [] # create output list\n",
    "    stopwords = [word.lower() for word in stopwords] # ensure case insensitivity for stopwords\n",
    "    for sentence in input_list:\n",
    "        sentence = re.sub(r'^https?:\\/\\/.*[\\r\\n]*', '', sentence, flags=re.MULTILINE) # remove URLS per stackoverflow\n",
    "        sentence = sentence.replace('https', '')\n",
    "        sentence = sentence.replace('\\n',' ') # replace \\n and \\t with spaces as they represent breaks between words\n",
    "        sentence = sentence.replace('\\t',' ')\n",
    "        sentence = ''.join([letter for letter in sentence if letter.isalpha() or letter == ' ']) #remove numbers and punctuation\n",
    "        sentence = ' '.join([word.lower() for word in sentence.split() if word.lower() not in stopwords]) #coerce to lowercase while removing stopwords\n",
    "        output_list.append(sentence) # add to the output list\n",
    "    return output_list"
   ]
  },
  {
   "cell_type": "code",
   "execution_count": 24,
   "metadata": {
    "ExecuteTime": {
     "end_time": "2021-03-15T11:01:48.045232Z",
     "start_time": "2021-03-15T11:01:48.034998Z"
    }
   },
   "outputs": [],
   "source": [
    "custom = ['just','like','com','do','https','really']\n",
    "combined_words = text.ENGLISH_STOP_WORDS.union(custom)"
   ]
  },
  {
   "cell_type": "markdown",
   "metadata": {},
   "source": [
    "# MINING FROM:\n",
    "- https://www.reddit.com/r/investing/ Created Mar 15, 2008\n",
    "- https://www.reddit.com/r/GME/ Created May 30, 2012\n",
    "- https://www.reddit.com/r/wallstreetbets/ Created Jan 31, 2012\n",
    "- https://www.reddit.com/r/SecurityAnalysis/ Created Dec 8, 2010\n",
    "\n",
    "Shouldn't mine before 2012"
   ]
  },
  {
   "cell_type": "raw",
   "metadata": {},
   "source": [
    "https://www.reddit.com/r/wallstreetbets/\n",
    "https://www.reddit.com/r/investing/\n",
    "https://www.reddit.com/r/GME/\n",
    "https://www.reddit.com/r/SecurityAnalysis/"
   ]
  },
  {
   "cell_type": "raw",
   "metadata": {},
   "source": [
    "Dataset Naming Convention\n",
    "investingsubsmissions \n",
    "GMEsubmissions\n",
    "wsbsubmissions\n",
    "investmentssubmissions\n",
    "securityanalysissubsmissions"
   ]
  },
  {
   "cell_type": "markdown",
   "metadata": {},
   "source": [
    "# BEGIN MINING"
   ]
  },
  {
   "cell_type": "markdown",
   "metadata": {},
   "source": [
    "# Investing Submissions"
   ]
  },
  {
   "cell_type": "markdown",
   "metadata": {},
   "source": [
    "# ```https://www.reddit.com/r/investing/```"
   ]
  },
  {
   "cell_type": "code",
   "execution_count": null,
   "metadata": {
    "ExecuteTime": {
     "end_time": "2021-03-15T19:03:17.212328Z",
     "start_time": "2021-03-15T19:03:13.952Z"
    },
    "scrolled": true
   },
   "outputs": [],
   "source": [
    "# investinggamestopsubmissions\n",
    "investingsubsmissions=query_pushshift_submissions(subreddit='investing', kind='submission', day_window=1, n=3000)"
   ]
  },
  {
   "cell_type": "markdown",
   "metadata": {},
   "source": [
    "### Check quality of data before exporting to csv"
   ]
  },
  {
   "cell_type": "code",
   "execution_count": 15,
   "metadata": {
    "ExecuteTime": {
     "end_time": "2021-03-15T11:00:27.536310Z",
     "start_time": "2021-03-15T11:00:27.530571Z"
    }
   },
   "outputs": [
    {
     "data": {
      "text/plain": [
       "(186768, 9)"
      ]
     },
     "execution_count": 15,
     "metadata": {},
     "output_type": "execute_result"
    }
   ],
   "source": [
    "investingsubsmissions.shape"
   ]
  },
  {
   "cell_type": "code",
   "execution_count": 16,
   "metadata": {
    "ExecuteTime": {
     "end_time": "2021-03-15T11:00:33.185146Z",
     "start_time": "2021-03-15T11:00:32.996897Z"
    }
   },
   "outputs": [
    {
     "data": {
      "text/plain": [
       "title              0\n",
       "selftext        1195\n",
       "subreddit          0\n",
       "created_utc        0\n",
       "author             0\n",
       "num_comments       0\n",
       "score              0\n",
       "is_self            0\n",
       "timestamp          0\n",
       "dtype: int64"
      ]
     },
     "execution_count": 16,
     "metadata": {},
     "output_type": "execute_result"
    }
   ],
   "source": [
    "investingsubsmissions.isnull().sum()"
   ]
  },
  {
   "cell_type": "raw",
   "metadata": {},
   "source": [
    "def substituteincolumn(data, column): # Handles strange observations\n",
    "        data[column].replace('[deleted]', np.nan, inplace = True)\n",
    "        data[column].replace('[removed]', np.nan, inplace = True)"
   ]
  },
  {
   "cell_type": "code",
   "execution_count": 28,
   "metadata": {
    "ExecuteTime": {
     "end_time": "2021-03-15T11:02:39.642403Z",
     "start_time": "2021-03-15T11:02:39.516480Z"
    }
   },
   "outputs": [],
   "source": [
    "substituteincolumn(investingsubsmissions, 'selftext')\n",
    "substituteincolumn(investingsubsmissions, 'author')"
   ]
  },
  {
   "cell_type": "code",
   "execution_count": 29,
   "metadata": {
    "ExecuteTime": {
     "end_time": "2021-03-15T11:02:42.017160Z",
     "start_time": "2021-03-15T11:02:41.881859Z"
    },
    "scrolled": true
   },
   "outputs": [
    {
     "data": {
      "text/plain": [
       "title               0\n",
       "selftext        31880\n",
       "subreddit           0\n",
       "created_utc         0\n",
       "author          17067\n",
       "num_comments        0\n",
       "score               0\n",
       "is_self             0\n",
       "timestamp           0\n",
       "dtype: int64"
      ]
     },
     "execution_count": 29,
     "metadata": {},
     "output_type": "execute_result"
    }
   ],
   "source": [
    "investingsubsmissions.isnull().sum()"
   ]
  },
  {
   "cell_type": "code",
   "execution_count": 30,
   "metadata": {
    "ExecuteTime": {
     "end_time": "2021-03-15T11:03:45.489549Z",
     "start_time": "2021-03-15T11:03:45.249345Z"
    }
   },
   "outputs": [],
   "source": [
    "investingsubsmissions.dropna(inplace=True)"
   ]
  },
  {
   "cell_type": "code",
   "execution_count": 31,
   "metadata": {
    "ExecuteTime": {
     "end_time": "2021-03-15T11:03:55.319462Z",
     "start_time": "2021-03-15T11:03:55.215707Z"
    },
    "scrolled": true
   },
   "outputs": [
    {
     "data": {
      "text/plain": [
       "title           0\n",
       "selftext        0\n",
       "subreddit       0\n",
       "created_utc     0\n",
       "author          0\n",
       "num_comments    0\n",
       "score           0\n",
       "is_self         0\n",
       "timestamp       0\n",
       "dtype: int64"
      ]
     },
     "execution_count": 31,
     "metadata": {},
     "output_type": "execute_result"
    }
   ],
   "source": [
    "investingsubsmissions.isnull().sum()"
   ]
  },
  {
   "cell_type": "code",
   "execution_count": 32,
   "metadata": {
    "ExecuteTime": {
     "end_time": "2021-03-15T11:04:10.788083Z",
     "start_time": "2021-03-15T11:04:10.776393Z"
    }
   },
   "outputs": [
    {
     "data": {
      "text/plain": [
       "(146053, 9)"
      ]
     },
     "execution_count": 32,
     "metadata": {},
     "output_type": "execute_result"
    }
   ],
   "source": [
    "investingsubsmissions.shape"
   ]
  },
  {
   "cell_type": "code",
   "execution_count": 34,
   "metadata": {
    "ExecuteTime": {
     "end_time": "2021-03-15T11:04:52.151611Z",
     "start_time": "2021-03-15T11:04:52.112775Z"
    },
    "scrolled": false
   },
   "outputs": [
    {
     "data": {
      "text/html": [
       "<div>\n",
       "<style scoped>\n",
       "    .dataframe tbody tr th:only-of-type {\n",
       "        vertical-align: middle;\n",
       "    }\n",
       "\n",
       "    .dataframe tbody tr th {\n",
       "        vertical-align: top;\n",
       "    }\n",
       "\n",
       "    .dataframe thead th {\n",
       "        text-align: right;\n",
       "    }\n",
       "</style>\n",
       "<table border=\"1\" class=\"dataframe\">\n",
       "  <thead>\n",
       "    <tr style=\"text-align: right;\">\n",
       "      <th></th>\n",
       "      <th>title</th>\n",
       "      <th>selftext</th>\n",
       "      <th>subreddit</th>\n",
       "      <th>created_utc</th>\n",
       "      <th>author</th>\n",
       "      <th>num_comments</th>\n",
       "      <th>score</th>\n",
       "      <th>is_self</th>\n",
       "      <th>timestamp</th>\n",
       "    </tr>\n",
       "  </thead>\n",
       "  <tbody>\n",
       "    <tr>\n",
       "      <th>186767</th>\n",
       "      <td>ULIP</td>\n",
       "      <td>ULIP Plans – Get best ULIP plans in India. Com...</td>\n",
       "      <td>investing</td>\n",
       "      <td>1356679375</td>\n",
       "      <td>policybazaar9</td>\n",
       "      <td>0</td>\n",
       "      <td>0</td>\n",
       "      <td>True</td>\n",
       "      <td>2012-12-27</td>\n",
       "    </tr>\n",
       "  </tbody>\n",
       "</table>\n",
       "</div>"
      ],
      "text/plain": [
       "       title                                           selftext  subreddit  \\\n",
       "186767  ULIP  ULIP Plans – Get best ULIP plans in India. Com...  investing   \n",
       "\n",
       "        created_utc         author  num_comments  score  is_self   timestamp  \n",
       "186767   1356679375  policybazaar9             0      0     True  2012-12-27  "
      ]
     },
     "execution_count": 34,
     "metadata": {},
     "output_type": "execute_result"
    }
   ],
   "source": [
    "investingsubsmissions.tail(1)"
   ]
  },
  {
   "cell_type": "code",
   "execution_count": 35,
   "metadata": {
    "ExecuteTime": {
     "end_time": "2021-03-15T11:06:10.897962Z",
     "start_time": "2021-03-15T11:05:02.986280Z"
    }
   },
   "outputs": [],
   "source": [
    "# Create new column called clean text with clean_strings function applied to selftext\n",
    "investingsubsmissions['cleantext'] = clean_strings(investingsubsmissions['selftext'], stopwords=combined_words)"
   ]
  },
  {
   "cell_type": "code",
   "execution_count": 36,
   "metadata": {
    "ExecuteTime": {
     "end_time": "2021-03-15T11:07:23.963230Z",
     "start_time": "2021-03-15T11:07:21.711837Z"
    }
   },
   "outputs": [],
   "source": [
    "# Add column with length of selftext\n",
    "investingsubsmissions['selftextwordcount'] = investingsubsmissions['selftext'].str.split().str.len()"
   ]
  },
  {
   "cell_type": "raw",
   "metadata": {},
   "source": [
    "# Consider Dropping Selftext before exporting to avoid issues"
   ]
  },
  {
   "cell_type": "raw",
   "metadata": {
    "ExecuteTime": {
     "end_time": "2021-03-15T11:08:26.646632Z",
     "start_time": "2021-03-15T11:08:26.603237Z"
    }
   },
   "source": [
    "investingsubsmissions.head().append(investingsubsmissions.tail())"
   ]
  },
  {
   "cell_type": "code",
   "execution_count": 41,
   "metadata": {
    "ExecuteTime": {
     "end_time": "2021-03-15T11:08:55.695205Z",
     "start_time": "2021-03-15T11:08:51.263724Z"
    }
   },
   "outputs": [],
   "source": [
    "# Save data set to csv in data folder\n",
    "investingsubsmissions.to_csv('./data/investingsubmissions.csv', index = False)"
   ]
  },
  {
   "cell_type": "markdown",
   "metadata": {},
   "source": [
    "# GME Submissions"
   ]
  },
  {
   "cell_type": "markdown",
   "metadata": {},
   "source": [
    "# ```https://www.reddit.com/r/GME/```"
   ]
  },
  {
   "cell_type": "code",
   "execution_count": 77,
   "metadata": {
    "ExecuteTime": {
     "end_time": "2021-03-15T22:44:01.038080Z",
     "start_time": "2021-03-15T21:14:41.839415Z"
    },
    "scrolled": true
   },
   "outputs": [
    {
     "name": "stdout",
     "output_type": "stream",
     "text": [
      "Querying from: https://api.pushshift.io/reddit/search/submission?subreddit=GME&size=100&after=2d\n",
      "Querying from: https://api.pushshift.io/reddit/search/submission?subreddit=GME&size=100&after=4d\n",
      "Querying from: https://api.pushshift.io/reddit/search/submission?subreddit=GME&size=100&after=6d\n",
      "Querying from: https://api.pushshift.io/reddit/search/submission?subreddit=GME&size=100&after=8d\n",
      "Querying from: https://api.pushshift.io/reddit/search/submission?subreddit=GME&size=100&after=10d\n",
      "Querying from: https://api.pushshift.io/reddit/search/submission?subreddit=GME&size=100&after=12d\n",
      "Querying from: https://api.pushshift.io/reddit/search/submission?subreddit=GME&size=100&after=14d\n",
      "Querying from: https://api.pushshift.io/reddit/search/submission?subreddit=GME&size=100&after=16d\n",
      "Querying from: https://api.pushshift.io/reddit/search/submission?subreddit=GME&size=100&after=18d\n",
      "Querying from: https://api.pushshift.io/reddit/search/submission?subreddit=GME&size=100&after=20d\n",
      "Querying from: https://api.pushshift.io/reddit/search/submission?subreddit=GME&size=100&after=22d\n",
      "Querying from: https://api.pushshift.io/reddit/search/submission?subreddit=GME&size=100&after=24d\n",
      "Querying from: https://api.pushshift.io/reddit/search/submission?subreddit=GME&size=100&after=26d\n",
      "Querying from: https://api.pushshift.io/reddit/search/submission?subreddit=GME&size=100&after=28d\n",
      "Querying from: https://api.pushshift.io/reddit/search/submission?subreddit=GME&size=100&after=30d\n",
      "Querying from: https://api.pushshift.io/reddit/search/submission?subreddit=GME&size=100&after=32d\n",
      "Querying from: https://api.pushshift.io/reddit/search/submission?subreddit=GME&size=100&after=34d\n",
      "Querying from: https://api.pushshift.io/reddit/search/submission?subreddit=GME&size=100&after=36d\n",
      "Querying from: https://api.pushshift.io/reddit/search/submission?subreddit=GME&size=100&after=38d\n",
      "Querying from: https://api.pushshift.io/reddit/search/submission?subreddit=GME&size=100&after=40d\n",
      "Querying from: https://api.pushshift.io/reddit/search/submission?subreddit=GME&size=100&after=42d\n",
      "Querying from: https://api.pushshift.io/reddit/search/submission?subreddit=GME&size=100&after=44d\n",
      "Querying from: https://api.pushshift.io/reddit/search/submission?subreddit=GME&size=100&after=46d\n",
      "Querying from: https://api.pushshift.io/reddit/search/submission?subreddit=GME&size=100&after=48d\n",
      "Querying from: https://api.pushshift.io/reddit/search/submission?subreddit=GME&size=100&after=50d\n",
      "Querying from: https://api.pushshift.io/reddit/search/submission?subreddit=GME&size=100&after=52d\n",
      "Querying from: https://api.pushshift.io/reddit/search/submission?subreddit=GME&size=100&after=54d\n",
      "Querying from: https://api.pushshift.io/reddit/search/submission?subreddit=GME&size=100&after=56d\n",
      "Querying from: https://api.pushshift.io/reddit/search/submission?subreddit=GME&size=100&after=58d\n",
      "Querying from: https://api.pushshift.io/reddit/search/submission?subreddit=GME&size=100&after=60d\n",
      "Querying from: https://api.pushshift.io/reddit/search/submission?subreddit=GME&size=100&after=62d\n",
      "Querying from: https://api.pushshift.io/reddit/search/submission?subreddit=GME&size=100&after=64d\n",
      "Querying from: https://api.pushshift.io/reddit/search/submission?subreddit=GME&size=100&after=66d\n",
      "Querying from: https://api.pushshift.io/reddit/search/submission?subreddit=GME&size=100&after=68d\n",
      "Querying from: https://api.pushshift.io/reddit/search/submission?subreddit=GME&size=100&after=70d\n",
      "Querying from: https://api.pushshift.io/reddit/search/submission?subreddit=GME&size=100&after=72d\n",
      "Querying from: https://api.pushshift.io/reddit/search/submission?subreddit=GME&size=100&after=74d\n",
      "Querying from: https://api.pushshift.io/reddit/search/submission?subreddit=GME&size=100&after=76d\n",
      "Querying from: https://api.pushshift.io/reddit/search/submission?subreddit=GME&size=100&after=78d\n",
      "Querying from: https://api.pushshift.io/reddit/search/submission?subreddit=GME&size=100&after=80d\n",
      "Querying from: https://api.pushshift.io/reddit/search/submission?subreddit=GME&size=100&after=82d\n",
      "Querying from: https://api.pushshift.io/reddit/search/submission?subreddit=GME&size=100&after=84d\n",
      "Querying from: https://api.pushshift.io/reddit/search/submission?subreddit=GME&size=100&after=86d\n",
      "Querying from: https://api.pushshift.io/reddit/search/submission?subreddit=GME&size=100&after=88d\n",
      "Querying from: https://api.pushshift.io/reddit/search/submission?subreddit=GME&size=100&after=90d\n",
      "Querying from: https://api.pushshift.io/reddit/search/submission?subreddit=GME&size=100&after=92d\n",
      "Querying from: https://api.pushshift.io/reddit/search/submission?subreddit=GME&size=100&after=94d\n",
      "Querying from: https://api.pushshift.io/reddit/search/submission?subreddit=GME&size=100&after=96d\n",
      "Querying from: https://api.pushshift.io/reddit/search/submission?subreddit=GME&size=100&after=98d\n",
      "Querying from: https://api.pushshift.io/reddit/search/submission?subreddit=GME&size=100&after=100d\n",
      "Querying from: https://api.pushshift.io/reddit/search/submission?subreddit=GME&size=100&after=102d\n",
      "Querying from: https://api.pushshift.io/reddit/search/submission?subreddit=GME&size=100&after=104d\n",
      "Querying from: https://api.pushshift.io/reddit/search/submission?subreddit=GME&size=100&after=106d\n",
      "Querying from: https://api.pushshift.io/reddit/search/submission?subreddit=GME&size=100&after=108d\n",
      "Querying from: https://api.pushshift.io/reddit/search/submission?subreddit=GME&size=100&after=110d\n",
      "Querying from: https://api.pushshift.io/reddit/search/submission?subreddit=GME&size=100&after=112d\n",
      "Querying from: https://api.pushshift.io/reddit/search/submission?subreddit=GME&size=100&after=114d\n",
      "Querying from: https://api.pushshift.io/reddit/search/submission?subreddit=GME&size=100&after=116d\n",
      "Querying from: https://api.pushshift.io/reddit/search/submission?subreddit=GME&size=100&after=118d\n",
      "Querying from: https://api.pushshift.io/reddit/search/submission?subreddit=GME&size=100&after=120d\n",
      "Querying from: https://api.pushshift.io/reddit/search/submission?subreddit=GME&size=100&after=122d\n",
      "Querying from: https://api.pushshift.io/reddit/search/submission?subreddit=GME&size=100&after=124d\n",
      "Querying from: https://api.pushshift.io/reddit/search/submission?subreddit=GME&size=100&after=126d\n",
      "Querying from: https://api.pushshift.io/reddit/search/submission?subreddit=GME&size=100&after=128d\n",
      "Querying from: https://api.pushshift.io/reddit/search/submission?subreddit=GME&size=100&after=130d\n",
      "Querying from: https://api.pushshift.io/reddit/search/submission?subreddit=GME&size=100&after=132d\n",
      "Querying from: https://api.pushshift.io/reddit/search/submission?subreddit=GME&size=100&after=134d\n",
      "Querying from: https://api.pushshift.io/reddit/search/submission?subreddit=GME&size=100&after=136d\n",
      "Querying from: https://api.pushshift.io/reddit/search/submission?subreddit=GME&size=100&after=138d\n",
      "Querying from: https://api.pushshift.io/reddit/search/submission?subreddit=GME&size=100&after=140d\n",
      "Querying from: https://api.pushshift.io/reddit/search/submission?subreddit=GME&size=100&after=142d\n",
      "Querying from: https://api.pushshift.io/reddit/search/submission?subreddit=GME&size=100&after=144d\n",
      "Querying from: https://api.pushshift.io/reddit/search/submission?subreddit=GME&size=100&after=146d\n",
      "Querying from: https://api.pushshift.io/reddit/search/submission?subreddit=GME&size=100&after=148d\n",
      "Querying from: https://api.pushshift.io/reddit/search/submission?subreddit=GME&size=100&after=150d\n",
      "Querying from: https://api.pushshift.io/reddit/search/submission?subreddit=GME&size=100&after=152d\n",
      "Querying from: https://api.pushshift.io/reddit/search/submission?subreddit=GME&size=100&after=154d\n",
      "Querying from: https://api.pushshift.io/reddit/search/submission?subreddit=GME&size=100&after=156d\n",
      "Querying from: https://api.pushshift.io/reddit/search/submission?subreddit=GME&size=100&after=158d\n",
      "Querying from: https://api.pushshift.io/reddit/search/submission?subreddit=GME&size=100&after=160d\n",
      "Querying from: https://api.pushshift.io/reddit/search/submission?subreddit=GME&size=100&after=162d\n",
      "Querying from: https://api.pushshift.io/reddit/search/submission?subreddit=GME&size=100&after=164d\n",
      "Querying from: https://api.pushshift.io/reddit/search/submission?subreddit=GME&size=100&after=166d\n",
      "Querying from: https://api.pushshift.io/reddit/search/submission?subreddit=GME&size=100&after=168d\n"
     ]
    },
    {
     "name": "stdout",
     "output_type": "stream",
     "text": [
      "Querying from: https://api.pushshift.io/reddit/search/submission?subreddit=GME&size=100&after=170d\n",
      "Querying from: https://api.pushshift.io/reddit/search/submission?subreddit=GME&size=100&after=172d\n",
      "Querying from: https://api.pushshift.io/reddit/search/submission?subreddit=GME&size=100&after=174d\n",
      "Querying from: https://api.pushshift.io/reddit/search/submission?subreddit=GME&size=100&after=176d\n",
      "Querying from: https://api.pushshift.io/reddit/search/submission?subreddit=GME&size=100&after=178d\n",
      "Querying from: https://api.pushshift.io/reddit/search/submission?subreddit=GME&size=100&after=180d\n",
      "Querying from: https://api.pushshift.io/reddit/search/submission?subreddit=GME&size=100&after=182d\n",
      "Querying from: https://api.pushshift.io/reddit/search/submission?subreddit=GME&size=100&after=184d\n",
      "Querying from: https://api.pushshift.io/reddit/search/submission?subreddit=GME&size=100&after=186d\n",
      "Querying from: https://api.pushshift.io/reddit/search/submission?subreddit=GME&size=100&after=188d\n",
      "Querying from: https://api.pushshift.io/reddit/search/submission?subreddit=GME&size=100&after=190d\n",
      "Querying from: https://api.pushshift.io/reddit/search/submission?subreddit=GME&size=100&after=192d\n",
      "Querying from: https://api.pushshift.io/reddit/search/submission?subreddit=GME&size=100&after=194d\n",
      "Querying from: https://api.pushshift.io/reddit/search/submission?subreddit=GME&size=100&after=196d\n",
      "Querying from: https://api.pushshift.io/reddit/search/submission?subreddit=GME&size=100&after=198d\n",
      "Querying from: https://api.pushshift.io/reddit/search/submission?subreddit=GME&size=100&after=200d\n",
      "Querying from: https://api.pushshift.io/reddit/search/submission?subreddit=GME&size=100&after=202d\n",
      "Querying from: https://api.pushshift.io/reddit/search/submission?subreddit=GME&size=100&after=204d\n",
      "Querying from: https://api.pushshift.io/reddit/search/submission?subreddit=GME&size=100&after=206d\n",
      "Querying from: https://api.pushshift.io/reddit/search/submission?subreddit=GME&size=100&after=208d\n",
      "Querying from: https://api.pushshift.io/reddit/search/submission?subreddit=GME&size=100&after=210d\n",
      "Querying from: https://api.pushshift.io/reddit/search/submission?subreddit=GME&size=100&after=212d\n",
      "Querying from: https://api.pushshift.io/reddit/search/submission?subreddit=GME&size=100&after=214d\n",
      "Querying from: https://api.pushshift.io/reddit/search/submission?subreddit=GME&size=100&after=216d\n",
      "Querying from: https://api.pushshift.io/reddit/search/submission?subreddit=GME&size=100&after=218d\n",
      "Querying from: https://api.pushshift.io/reddit/search/submission?subreddit=GME&size=100&after=220d\n",
      "Querying from: https://api.pushshift.io/reddit/search/submission?subreddit=GME&size=100&after=222d\n",
      "Querying from: https://api.pushshift.io/reddit/search/submission?subreddit=GME&size=100&after=224d\n",
      "Querying from: https://api.pushshift.io/reddit/search/submission?subreddit=GME&size=100&after=226d\n",
      "Querying from: https://api.pushshift.io/reddit/search/submission?subreddit=GME&size=100&after=228d\n",
      "Querying from: https://api.pushshift.io/reddit/search/submission?subreddit=GME&size=100&after=230d\n",
      "Querying from: https://api.pushshift.io/reddit/search/submission?subreddit=GME&size=100&after=232d\n",
      "Querying from: https://api.pushshift.io/reddit/search/submission?subreddit=GME&size=100&after=234d\n",
      "Querying from: https://api.pushshift.io/reddit/search/submission?subreddit=GME&size=100&after=236d\n",
      "Querying from: https://api.pushshift.io/reddit/search/submission?subreddit=GME&size=100&after=238d\n",
      "Querying from: https://api.pushshift.io/reddit/search/submission?subreddit=GME&size=100&after=240d\n",
      "Querying from: https://api.pushshift.io/reddit/search/submission?subreddit=GME&size=100&after=242d\n",
      "Querying from: https://api.pushshift.io/reddit/search/submission?subreddit=GME&size=100&after=244d\n",
      "Querying from: https://api.pushshift.io/reddit/search/submission?subreddit=GME&size=100&after=246d\n",
      "Querying from: https://api.pushshift.io/reddit/search/submission?subreddit=GME&size=100&after=248d\n",
      "Querying from: https://api.pushshift.io/reddit/search/submission?subreddit=GME&size=100&after=250d\n",
      "Querying from: https://api.pushshift.io/reddit/search/submission?subreddit=GME&size=100&after=252d\n",
      "Querying from: https://api.pushshift.io/reddit/search/submission?subreddit=GME&size=100&after=254d\n",
      "Querying from: https://api.pushshift.io/reddit/search/submission?subreddit=GME&size=100&after=256d\n",
      "Querying from: https://api.pushshift.io/reddit/search/submission?subreddit=GME&size=100&after=258d\n",
      "Querying from: https://api.pushshift.io/reddit/search/submission?subreddit=GME&size=100&after=260d\n",
      "Querying from: https://api.pushshift.io/reddit/search/submission?subreddit=GME&size=100&after=262d\n",
      "Querying from: https://api.pushshift.io/reddit/search/submission?subreddit=GME&size=100&after=264d\n",
      "Querying from: https://api.pushshift.io/reddit/search/submission?subreddit=GME&size=100&after=266d\n",
      "Querying from: https://api.pushshift.io/reddit/search/submission?subreddit=GME&size=100&after=268d\n",
      "Querying from: https://api.pushshift.io/reddit/search/submission?subreddit=GME&size=100&after=270d\n",
      "Querying from: https://api.pushshift.io/reddit/search/submission?subreddit=GME&size=100&after=272d\n",
      "Querying from: https://api.pushshift.io/reddit/search/submission?subreddit=GME&size=100&after=274d\n",
      "Querying from: https://api.pushshift.io/reddit/search/submission?subreddit=GME&size=100&after=276d\n",
      "Querying from: https://api.pushshift.io/reddit/search/submission?subreddit=GME&size=100&after=278d\n",
      "Querying from: https://api.pushshift.io/reddit/search/submission?subreddit=GME&size=100&after=280d\n",
      "Querying from: https://api.pushshift.io/reddit/search/submission?subreddit=GME&size=100&after=282d\n",
      "Querying from: https://api.pushshift.io/reddit/search/submission?subreddit=GME&size=100&after=284d\n",
      "Querying from: https://api.pushshift.io/reddit/search/submission?subreddit=GME&size=100&after=286d\n",
      "Querying from: https://api.pushshift.io/reddit/search/submission?subreddit=GME&size=100&after=288d\n",
      "Querying from: https://api.pushshift.io/reddit/search/submission?subreddit=GME&size=100&after=290d\n",
      "Querying from: https://api.pushshift.io/reddit/search/submission?subreddit=GME&size=100&after=292d\n",
      "Querying from: https://api.pushshift.io/reddit/search/submission?subreddit=GME&size=100&after=294d\n",
      "Querying from: https://api.pushshift.io/reddit/search/submission?subreddit=GME&size=100&after=296d\n",
      "Querying from: https://api.pushshift.io/reddit/search/submission?subreddit=GME&size=100&after=298d\n",
      "Querying from: https://api.pushshift.io/reddit/search/submission?subreddit=GME&size=100&after=300d\n",
      "Querying from: https://api.pushshift.io/reddit/search/submission?subreddit=GME&size=100&after=302d\n",
      "Querying from: https://api.pushshift.io/reddit/search/submission?subreddit=GME&size=100&after=304d\n",
      "Querying from: https://api.pushshift.io/reddit/search/submission?subreddit=GME&size=100&after=306d\n",
      "Querying from: https://api.pushshift.io/reddit/search/submission?subreddit=GME&size=100&after=308d\n",
      "Querying from: https://api.pushshift.io/reddit/search/submission?subreddit=GME&size=100&after=310d\n",
      "Querying from: https://api.pushshift.io/reddit/search/submission?subreddit=GME&size=100&after=312d\n",
      "Querying from: https://api.pushshift.io/reddit/search/submission?subreddit=GME&size=100&after=314d\n",
      "Querying from: https://api.pushshift.io/reddit/search/submission?subreddit=GME&size=100&after=316d\n",
      "Querying from: https://api.pushshift.io/reddit/search/submission?subreddit=GME&size=100&after=318d\n",
      "Querying from: https://api.pushshift.io/reddit/search/submission?subreddit=GME&size=100&after=320d\n",
      "Querying from: https://api.pushshift.io/reddit/search/submission?subreddit=GME&size=100&after=322d\n",
      "Querying from: https://api.pushshift.io/reddit/search/submission?subreddit=GME&size=100&after=324d\n",
      "Querying from: https://api.pushshift.io/reddit/search/submission?subreddit=GME&size=100&after=326d\n",
      "Querying from: https://api.pushshift.io/reddit/search/submission?subreddit=GME&size=100&after=328d\n",
      "Querying from: https://api.pushshift.io/reddit/search/submission?subreddit=GME&size=100&after=330d\n",
      "Querying from: https://api.pushshift.io/reddit/search/submission?subreddit=GME&size=100&after=332d\n",
      "Querying from: https://api.pushshift.io/reddit/search/submission?subreddit=GME&size=100&after=334d\n"
     ]
    },
    {
     "name": "stdout",
     "output_type": "stream",
     "text": [
      "Querying from: https://api.pushshift.io/reddit/search/submission?subreddit=GME&size=100&after=336d\n",
      "Querying from: https://api.pushshift.io/reddit/search/submission?subreddit=GME&size=100&after=338d\n",
      "Querying from: https://api.pushshift.io/reddit/search/submission?subreddit=GME&size=100&after=340d\n",
      "Querying from: https://api.pushshift.io/reddit/search/submission?subreddit=GME&size=100&after=342d\n",
      "Querying from: https://api.pushshift.io/reddit/search/submission?subreddit=GME&size=100&after=344d\n",
      "Querying from: https://api.pushshift.io/reddit/search/submission?subreddit=GME&size=100&after=346d\n",
      "Querying from: https://api.pushshift.io/reddit/search/submission?subreddit=GME&size=100&after=348d\n",
      "Querying from: https://api.pushshift.io/reddit/search/submission?subreddit=GME&size=100&after=350d\n",
      "Querying from: https://api.pushshift.io/reddit/search/submission?subreddit=GME&size=100&after=352d\n",
      "Querying from: https://api.pushshift.io/reddit/search/submission?subreddit=GME&size=100&after=354d\n",
      "Querying from: https://api.pushshift.io/reddit/search/submission?subreddit=GME&size=100&after=356d\n",
      "Querying from: https://api.pushshift.io/reddit/search/submission?subreddit=GME&size=100&after=358d\n",
      "Querying from: https://api.pushshift.io/reddit/search/submission?subreddit=GME&size=100&after=360d\n",
      "Querying from: https://api.pushshift.io/reddit/search/submission?subreddit=GME&size=100&after=362d\n",
      "Querying from: https://api.pushshift.io/reddit/search/submission?subreddit=GME&size=100&after=364d\n",
      "Querying from: https://api.pushshift.io/reddit/search/submission?subreddit=GME&size=100&after=366d\n",
      "Querying from: https://api.pushshift.io/reddit/search/submission?subreddit=GME&size=100&after=368d\n",
      "Querying from: https://api.pushshift.io/reddit/search/submission?subreddit=GME&size=100&after=370d\n",
      "Querying from: https://api.pushshift.io/reddit/search/submission?subreddit=GME&size=100&after=372d\n",
      "Querying from: https://api.pushshift.io/reddit/search/submission?subreddit=GME&size=100&after=374d\n",
      "Querying from: https://api.pushshift.io/reddit/search/submission?subreddit=GME&size=100&after=376d\n",
      "Querying from: https://api.pushshift.io/reddit/search/submission?subreddit=GME&size=100&after=378d\n",
      "Querying from: https://api.pushshift.io/reddit/search/submission?subreddit=GME&size=100&after=380d\n",
      "Querying from: https://api.pushshift.io/reddit/search/submission?subreddit=GME&size=100&after=382d\n",
      "Querying from: https://api.pushshift.io/reddit/search/submission?subreddit=GME&size=100&after=384d\n",
      "Querying from: https://api.pushshift.io/reddit/search/submission?subreddit=GME&size=100&after=386d\n",
      "Querying from: https://api.pushshift.io/reddit/search/submission?subreddit=GME&size=100&after=388d\n",
      "Querying from: https://api.pushshift.io/reddit/search/submission?subreddit=GME&size=100&after=390d\n",
      "Querying from: https://api.pushshift.io/reddit/search/submission?subreddit=GME&size=100&after=392d\n",
      "Querying from: https://api.pushshift.io/reddit/search/submission?subreddit=GME&size=100&after=394d\n",
      "Querying from: https://api.pushshift.io/reddit/search/submission?subreddit=GME&size=100&after=396d\n",
      "Querying from: https://api.pushshift.io/reddit/search/submission?subreddit=GME&size=100&after=398d\n",
      "Querying from: https://api.pushshift.io/reddit/search/submission?subreddit=GME&size=100&after=400d\n",
      "Querying from: https://api.pushshift.io/reddit/search/submission?subreddit=GME&size=100&after=402d\n",
      "Querying from: https://api.pushshift.io/reddit/search/submission?subreddit=GME&size=100&after=404d\n",
      "Querying from: https://api.pushshift.io/reddit/search/submission?subreddit=GME&size=100&after=406d\n",
      "Querying from: https://api.pushshift.io/reddit/search/submission?subreddit=GME&size=100&after=408d\n",
      "Querying from: https://api.pushshift.io/reddit/search/submission?subreddit=GME&size=100&after=410d\n",
      "Querying from: https://api.pushshift.io/reddit/search/submission?subreddit=GME&size=100&after=412d\n",
      "Querying from: https://api.pushshift.io/reddit/search/submission?subreddit=GME&size=100&after=414d\n",
      "Querying from: https://api.pushshift.io/reddit/search/submission?subreddit=GME&size=100&after=416d\n",
      "Querying from: https://api.pushshift.io/reddit/search/submission?subreddit=GME&size=100&after=418d\n",
      "Querying from: https://api.pushshift.io/reddit/search/submission?subreddit=GME&size=100&after=420d\n",
      "Querying from: https://api.pushshift.io/reddit/search/submission?subreddit=GME&size=100&after=422d\n",
      "Querying from: https://api.pushshift.io/reddit/search/submission?subreddit=GME&size=100&after=424d\n",
      "Querying from: https://api.pushshift.io/reddit/search/submission?subreddit=GME&size=100&after=426d\n",
      "Querying from: https://api.pushshift.io/reddit/search/submission?subreddit=GME&size=100&after=428d\n",
      "Querying from: https://api.pushshift.io/reddit/search/submission?subreddit=GME&size=100&after=430d\n",
      "Querying from: https://api.pushshift.io/reddit/search/submission?subreddit=GME&size=100&after=432d\n",
      "Querying from: https://api.pushshift.io/reddit/search/submission?subreddit=GME&size=100&after=434d\n",
      "Querying from: https://api.pushshift.io/reddit/search/submission?subreddit=GME&size=100&after=436d\n",
      "Querying from: https://api.pushshift.io/reddit/search/submission?subreddit=GME&size=100&after=438d\n",
      "Querying from: https://api.pushshift.io/reddit/search/submission?subreddit=GME&size=100&after=440d\n",
      "Querying from: https://api.pushshift.io/reddit/search/submission?subreddit=GME&size=100&after=442d\n",
      "Querying from: https://api.pushshift.io/reddit/search/submission?subreddit=GME&size=100&after=444d\n",
      "Querying from: https://api.pushshift.io/reddit/search/submission?subreddit=GME&size=100&after=446d\n",
      "Querying from: https://api.pushshift.io/reddit/search/submission?subreddit=GME&size=100&after=448d\n",
      "Querying from: https://api.pushshift.io/reddit/search/submission?subreddit=GME&size=100&after=450d\n",
      "Querying from: https://api.pushshift.io/reddit/search/submission?subreddit=GME&size=100&after=452d\n",
      "Querying from: https://api.pushshift.io/reddit/search/submission?subreddit=GME&size=100&after=454d\n",
      "Querying from: https://api.pushshift.io/reddit/search/submission?subreddit=GME&size=100&after=456d\n",
      "Querying from: https://api.pushshift.io/reddit/search/submission?subreddit=GME&size=100&after=458d\n",
      "Querying from: https://api.pushshift.io/reddit/search/submission?subreddit=GME&size=100&after=460d\n",
      "Querying from: https://api.pushshift.io/reddit/search/submission?subreddit=GME&size=100&after=462d\n",
      "Querying from: https://api.pushshift.io/reddit/search/submission?subreddit=GME&size=100&after=464d\n",
      "Querying from: https://api.pushshift.io/reddit/search/submission?subreddit=GME&size=100&after=466d\n",
      "Querying from: https://api.pushshift.io/reddit/search/submission?subreddit=GME&size=100&after=468d\n",
      "Querying from: https://api.pushshift.io/reddit/search/submission?subreddit=GME&size=100&after=470d\n",
      "Querying from: https://api.pushshift.io/reddit/search/submission?subreddit=GME&size=100&after=472d\n",
      "Querying from: https://api.pushshift.io/reddit/search/submission?subreddit=GME&size=100&after=474d\n",
      "Querying from: https://api.pushshift.io/reddit/search/submission?subreddit=GME&size=100&after=476d\n",
      "Querying from: https://api.pushshift.io/reddit/search/submission?subreddit=GME&size=100&after=478d\n",
      "Querying from: https://api.pushshift.io/reddit/search/submission?subreddit=GME&size=100&after=480d\n",
      "Querying from: https://api.pushshift.io/reddit/search/submission?subreddit=GME&size=100&after=482d\n",
      "Querying from: https://api.pushshift.io/reddit/search/submission?subreddit=GME&size=100&after=484d\n",
      "Querying from: https://api.pushshift.io/reddit/search/submission?subreddit=GME&size=100&after=486d\n",
      "Querying from: https://api.pushshift.io/reddit/search/submission?subreddit=GME&size=100&after=488d\n",
      "Querying from: https://api.pushshift.io/reddit/search/submission?subreddit=GME&size=100&after=490d\n",
      "Querying from: https://api.pushshift.io/reddit/search/submission?subreddit=GME&size=100&after=492d\n",
      "Querying from: https://api.pushshift.io/reddit/search/submission?subreddit=GME&size=100&after=494d\n",
      "Querying from: https://api.pushshift.io/reddit/search/submission?subreddit=GME&size=100&after=496d\n",
      "Querying from: https://api.pushshift.io/reddit/search/submission?subreddit=GME&size=100&after=498d\n",
      "Querying from: https://api.pushshift.io/reddit/search/submission?subreddit=GME&size=100&after=500d\n"
     ]
    },
    {
     "name": "stdout",
     "output_type": "stream",
     "text": [
      "Querying from: https://api.pushshift.io/reddit/search/submission?subreddit=GME&size=100&after=502d\n",
      "Querying from: https://api.pushshift.io/reddit/search/submission?subreddit=GME&size=100&after=504d\n",
      "Querying from: https://api.pushshift.io/reddit/search/submission?subreddit=GME&size=100&after=506d\n",
      "Querying from: https://api.pushshift.io/reddit/search/submission?subreddit=GME&size=100&after=508d\n",
      "Querying from: https://api.pushshift.io/reddit/search/submission?subreddit=GME&size=100&after=510d\n",
      "Querying from: https://api.pushshift.io/reddit/search/submission?subreddit=GME&size=100&after=512d\n",
      "Querying from: https://api.pushshift.io/reddit/search/submission?subreddit=GME&size=100&after=514d\n",
      "Querying from: https://api.pushshift.io/reddit/search/submission?subreddit=GME&size=100&after=516d\n",
      "Querying from: https://api.pushshift.io/reddit/search/submission?subreddit=GME&size=100&after=518d\n",
      "Querying from: https://api.pushshift.io/reddit/search/submission?subreddit=GME&size=100&after=520d\n",
      "Querying from: https://api.pushshift.io/reddit/search/submission?subreddit=GME&size=100&after=522d\n",
      "Querying from: https://api.pushshift.io/reddit/search/submission?subreddit=GME&size=100&after=524d\n",
      "Querying from: https://api.pushshift.io/reddit/search/submission?subreddit=GME&size=100&after=526d\n",
      "Querying from: https://api.pushshift.io/reddit/search/submission?subreddit=GME&size=100&after=528d\n",
      "Querying from: https://api.pushshift.io/reddit/search/submission?subreddit=GME&size=100&after=530d\n",
      "Querying from: https://api.pushshift.io/reddit/search/submission?subreddit=GME&size=100&after=532d\n",
      "Querying from: https://api.pushshift.io/reddit/search/submission?subreddit=GME&size=100&after=534d\n",
      "Querying from: https://api.pushshift.io/reddit/search/submission?subreddit=GME&size=100&after=536d\n",
      "Querying from: https://api.pushshift.io/reddit/search/submission?subreddit=GME&size=100&after=538d\n",
      "Querying from: https://api.pushshift.io/reddit/search/submission?subreddit=GME&size=100&after=540d\n",
      "Querying from: https://api.pushshift.io/reddit/search/submission?subreddit=GME&size=100&after=542d\n",
      "Querying from: https://api.pushshift.io/reddit/search/submission?subreddit=GME&size=100&after=544d\n",
      "Querying from: https://api.pushshift.io/reddit/search/submission?subreddit=GME&size=100&after=546d\n",
      "Querying from: https://api.pushshift.io/reddit/search/submission?subreddit=GME&size=100&after=548d\n",
      "Querying from: https://api.pushshift.io/reddit/search/submission?subreddit=GME&size=100&after=550d\n",
      "Querying from: https://api.pushshift.io/reddit/search/submission?subreddit=GME&size=100&after=552d\n",
      "Querying from: https://api.pushshift.io/reddit/search/submission?subreddit=GME&size=100&after=554d\n",
      "Querying from: https://api.pushshift.io/reddit/search/submission?subreddit=GME&size=100&after=556d\n",
      "Querying from: https://api.pushshift.io/reddit/search/submission?subreddit=GME&size=100&after=558d\n",
      "Querying from: https://api.pushshift.io/reddit/search/submission?subreddit=GME&size=100&after=560d\n",
      "Querying from: https://api.pushshift.io/reddit/search/submission?subreddit=GME&size=100&after=562d\n",
      "Querying from: https://api.pushshift.io/reddit/search/submission?subreddit=GME&size=100&after=564d\n",
      "Querying from: https://api.pushshift.io/reddit/search/submission?subreddit=GME&size=100&after=566d\n",
      "Querying from: https://api.pushshift.io/reddit/search/submission?subreddit=GME&size=100&after=568d\n",
      "Querying from: https://api.pushshift.io/reddit/search/submission?subreddit=GME&size=100&after=570d\n",
      "Querying from: https://api.pushshift.io/reddit/search/submission?subreddit=GME&size=100&after=572d\n",
      "Querying from: https://api.pushshift.io/reddit/search/submission?subreddit=GME&size=100&after=574d\n",
      "Querying from: https://api.pushshift.io/reddit/search/submission?subreddit=GME&size=100&after=576d\n",
      "Querying from: https://api.pushshift.io/reddit/search/submission?subreddit=GME&size=100&after=578d\n",
      "Querying from: https://api.pushshift.io/reddit/search/submission?subreddit=GME&size=100&after=580d\n",
      "Querying from: https://api.pushshift.io/reddit/search/submission?subreddit=GME&size=100&after=582d\n",
      "Querying from: https://api.pushshift.io/reddit/search/submission?subreddit=GME&size=100&after=584d\n",
      "Querying from: https://api.pushshift.io/reddit/search/submission?subreddit=GME&size=100&after=586d\n",
      "Querying from: https://api.pushshift.io/reddit/search/submission?subreddit=GME&size=100&after=588d\n",
      "Querying from: https://api.pushshift.io/reddit/search/submission?subreddit=GME&size=100&after=590d\n",
      "Querying from: https://api.pushshift.io/reddit/search/submission?subreddit=GME&size=100&after=592d\n",
      "Querying from: https://api.pushshift.io/reddit/search/submission?subreddit=GME&size=100&after=594d\n",
      "Querying from: https://api.pushshift.io/reddit/search/submission?subreddit=GME&size=100&after=596d\n",
      "Querying from: https://api.pushshift.io/reddit/search/submission?subreddit=GME&size=100&after=598d\n",
      "Querying from: https://api.pushshift.io/reddit/search/submission?subreddit=GME&size=100&after=600d\n",
      "Querying from: https://api.pushshift.io/reddit/search/submission?subreddit=GME&size=100&after=602d\n",
      "Querying from: https://api.pushshift.io/reddit/search/submission?subreddit=GME&size=100&after=604d\n",
      "Querying from: https://api.pushshift.io/reddit/search/submission?subreddit=GME&size=100&after=606d\n",
      "Querying from: https://api.pushshift.io/reddit/search/submission?subreddit=GME&size=100&after=608d\n",
      "Querying from: https://api.pushshift.io/reddit/search/submission?subreddit=GME&size=100&after=610d\n",
      "Querying from: https://api.pushshift.io/reddit/search/submission?subreddit=GME&size=100&after=612d\n",
      "Querying from: https://api.pushshift.io/reddit/search/submission?subreddit=GME&size=100&after=614d\n",
      "Querying from: https://api.pushshift.io/reddit/search/submission?subreddit=GME&size=100&after=616d\n",
      "Querying from: https://api.pushshift.io/reddit/search/submission?subreddit=GME&size=100&after=618d\n",
      "Querying from: https://api.pushshift.io/reddit/search/submission?subreddit=GME&size=100&after=620d\n",
      "Querying from: https://api.pushshift.io/reddit/search/submission?subreddit=GME&size=100&after=622d\n",
      "Querying from: https://api.pushshift.io/reddit/search/submission?subreddit=GME&size=100&after=624d\n",
      "Querying from: https://api.pushshift.io/reddit/search/submission?subreddit=GME&size=100&after=626d\n",
      "Querying from: https://api.pushshift.io/reddit/search/submission?subreddit=GME&size=100&after=628d\n",
      "Querying from: https://api.pushshift.io/reddit/search/submission?subreddit=GME&size=100&after=630d\n",
      "Querying from: https://api.pushshift.io/reddit/search/submission?subreddit=GME&size=100&after=632d\n",
      "Querying from: https://api.pushshift.io/reddit/search/submission?subreddit=GME&size=100&after=634d\n",
      "Querying from: https://api.pushshift.io/reddit/search/submission?subreddit=GME&size=100&after=636d\n",
      "Querying from: https://api.pushshift.io/reddit/search/submission?subreddit=GME&size=100&after=638d\n",
      "Querying from: https://api.pushshift.io/reddit/search/submission?subreddit=GME&size=100&after=640d\n",
      "Querying from: https://api.pushshift.io/reddit/search/submission?subreddit=GME&size=100&after=642d\n",
      "Querying from: https://api.pushshift.io/reddit/search/submission?subreddit=GME&size=100&after=644d\n",
      "Querying from: https://api.pushshift.io/reddit/search/submission?subreddit=GME&size=100&after=646d\n",
      "Querying from: https://api.pushshift.io/reddit/search/submission?subreddit=GME&size=100&after=648d\n",
      "Querying from: https://api.pushshift.io/reddit/search/submission?subreddit=GME&size=100&after=650d\n",
      "Querying from: https://api.pushshift.io/reddit/search/submission?subreddit=GME&size=100&after=652d\n",
      "Querying from: https://api.pushshift.io/reddit/search/submission?subreddit=GME&size=100&after=654d\n",
      "Querying from: https://api.pushshift.io/reddit/search/submission?subreddit=GME&size=100&after=656d\n",
      "Querying from: https://api.pushshift.io/reddit/search/submission?subreddit=GME&size=100&after=658d\n",
      "Querying from: https://api.pushshift.io/reddit/search/submission?subreddit=GME&size=100&after=660d\n",
      "Querying from: https://api.pushshift.io/reddit/search/submission?subreddit=GME&size=100&after=662d\n",
      "Querying from: https://api.pushshift.io/reddit/search/submission?subreddit=GME&size=100&after=664d\n",
      "Querying from: https://api.pushshift.io/reddit/search/submission?subreddit=GME&size=100&after=666d\n"
     ]
    },
    {
     "name": "stdout",
     "output_type": "stream",
     "text": [
      "Querying from: https://api.pushshift.io/reddit/search/submission?subreddit=GME&size=100&after=668d\n",
      "Querying from: https://api.pushshift.io/reddit/search/submission?subreddit=GME&size=100&after=670d\n",
      "Querying from: https://api.pushshift.io/reddit/search/submission?subreddit=GME&size=100&after=672d\n",
      "Querying from: https://api.pushshift.io/reddit/search/submission?subreddit=GME&size=100&after=674d\n",
      "Querying from: https://api.pushshift.io/reddit/search/submission?subreddit=GME&size=100&after=676d\n",
      "Querying from: https://api.pushshift.io/reddit/search/submission?subreddit=GME&size=100&after=678d\n",
      "Querying from: https://api.pushshift.io/reddit/search/submission?subreddit=GME&size=100&after=680d\n",
      "Querying from: https://api.pushshift.io/reddit/search/submission?subreddit=GME&size=100&after=682d\n",
      "Querying from: https://api.pushshift.io/reddit/search/submission?subreddit=GME&size=100&after=684d\n",
      "Querying from: https://api.pushshift.io/reddit/search/submission?subreddit=GME&size=100&after=686d\n",
      "Querying from: https://api.pushshift.io/reddit/search/submission?subreddit=GME&size=100&after=688d\n",
      "Querying from: https://api.pushshift.io/reddit/search/submission?subreddit=GME&size=100&after=690d\n",
      "Querying from: https://api.pushshift.io/reddit/search/submission?subreddit=GME&size=100&after=692d\n",
      "Querying from: https://api.pushshift.io/reddit/search/submission?subreddit=GME&size=100&after=694d\n",
      "Querying from: https://api.pushshift.io/reddit/search/submission?subreddit=GME&size=100&after=696d\n",
      "Querying from: https://api.pushshift.io/reddit/search/submission?subreddit=GME&size=100&after=698d\n",
      "Querying from: https://api.pushshift.io/reddit/search/submission?subreddit=GME&size=100&after=700d\n",
      "Querying from: https://api.pushshift.io/reddit/search/submission?subreddit=GME&size=100&after=702d\n",
      "Querying from: https://api.pushshift.io/reddit/search/submission?subreddit=GME&size=100&after=704d\n",
      "Querying from: https://api.pushshift.io/reddit/search/submission?subreddit=GME&size=100&after=706d\n",
      "Querying from: https://api.pushshift.io/reddit/search/submission?subreddit=GME&size=100&after=708d\n",
      "Querying from: https://api.pushshift.io/reddit/search/submission?subreddit=GME&size=100&after=710d\n",
      "Querying from: https://api.pushshift.io/reddit/search/submission?subreddit=GME&size=100&after=712d\n",
      "Querying from: https://api.pushshift.io/reddit/search/submission?subreddit=GME&size=100&after=714d\n",
      "Querying from: https://api.pushshift.io/reddit/search/submission?subreddit=GME&size=100&after=716d\n",
      "Querying from: https://api.pushshift.io/reddit/search/submission?subreddit=GME&size=100&after=718d\n",
      "Querying from: https://api.pushshift.io/reddit/search/submission?subreddit=GME&size=100&after=720d\n",
      "Querying from: https://api.pushshift.io/reddit/search/submission?subreddit=GME&size=100&after=722d\n",
      "Querying from: https://api.pushshift.io/reddit/search/submission?subreddit=GME&size=100&after=724d\n",
      "Querying from: https://api.pushshift.io/reddit/search/submission?subreddit=GME&size=100&after=726d\n",
      "Querying from: https://api.pushshift.io/reddit/search/submission?subreddit=GME&size=100&after=728d\n",
      "Querying from: https://api.pushshift.io/reddit/search/submission?subreddit=GME&size=100&after=730d\n",
      "Querying from: https://api.pushshift.io/reddit/search/submission?subreddit=GME&size=100&after=732d\n",
      "Querying from: https://api.pushshift.io/reddit/search/submission?subreddit=GME&size=100&after=734d\n",
      "Querying from: https://api.pushshift.io/reddit/search/submission?subreddit=GME&size=100&after=736d\n",
      "Querying from: https://api.pushshift.io/reddit/search/submission?subreddit=GME&size=100&after=738d\n",
      "Querying from: https://api.pushshift.io/reddit/search/submission?subreddit=GME&size=100&after=740d\n",
      "Querying from: https://api.pushshift.io/reddit/search/submission?subreddit=GME&size=100&after=742d\n",
      "Querying from: https://api.pushshift.io/reddit/search/submission?subreddit=GME&size=100&after=744d\n",
      "Querying from: https://api.pushshift.io/reddit/search/submission?subreddit=GME&size=100&after=746d\n",
      "Querying from: https://api.pushshift.io/reddit/search/submission?subreddit=GME&size=100&after=748d\n",
      "Querying from: https://api.pushshift.io/reddit/search/submission?subreddit=GME&size=100&after=750d\n",
      "Querying from: https://api.pushshift.io/reddit/search/submission?subreddit=GME&size=100&after=752d\n",
      "Querying from: https://api.pushshift.io/reddit/search/submission?subreddit=GME&size=100&after=754d\n",
      "Querying from: https://api.pushshift.io/reddit/search/submission?subreddit=GME&size=100&after=756d\n",
      "Querying from: https://api.pushshift.io/reddit/search/submission?subreddit=GME&size=100&after=758d\n",
      "Querying from: https://api.pushshift.io/reddit/search/submission?subreddit=GME&size=100&after=760d\n",
      "Querying from: https://api.pushshift.io/reddit/search/submission?subreddit=GME&size=100&after=762d\n",
      "Querying from: https://api.pushshift.io/reddit/search/submission?subreddit=GME&size=100&after=764d\n",
      "Querying from: https://api.pushshift.io/reddit/search/submission?subreddit=GME&size=100&after=766d\n",
      "Querying from: https://api.pushshift.io/reddit/search/submission?subreddit=GME&size=100&after=768d\n",
      "Querying from: https://api.pushshift.io/reddit/search/submission?subreddit=GME&size=100&after=770d\n",
      "Querying from: https://api.pushshift.io/reddit/search/submission?subreddit=GME&size=100&after=772d\n",
      "Querying from: https://api.pushshift.io/reddit/search/submission?subreddit=GME&size=100&after=774d\n",
      "Querying from: https://api.pushshift.io/reddit/search/submission?subreddit=GME&size=100&after=776d\n",
      "Querying from: https://api.pushshift.io/reddit/search/submission?subreddit=GME&size=100&after=778d\n",
      "Querying from: https://api.pushshift.io/reddit/search/submission?subreddit=GME&size=100&after=780d\n",
      "Querying from: https://api.pushshift.io/reddit/search/submission?subreddit=GME&size=100&after=782d\n",
      "Querying from: https://api.pushshift.io/reddit/search/submission?subreddit=GME&size=100&after=784d\n",
      "Querying from: https://api.pushshift.io/reddit/search/submission?subreddit=GME&size=100&after=786d\n",
      "Querying from: https://api.pushshift.io/reddit/search/submission?subreddit=GME&size=100&after=788d\n",
      "Querying from: https://api.pushshift.io/reddit/search/submission?subreddit=GME&size=100&after=790d\n",
      "Querying from: https://api.pushshift.io/reddit/search/submission?subreddit=GME&size=100&after=792d\n",
      "Querying from: https://api.pushshift.io/reddit/search/submission?subreddit=GME&size=100&after=794d\n",
      "Querying from: https://api.pushshift.io/reddit/search/submission?subreddit=GME&size=100&after=796d\n",
      "Querying from: https://api.pushshift.io/reddit/search/submission?subreddit=GME&size=100&after=798d\n",
      "Querying from: https://api.pushshift.io/reddit/search/submission?subreddit=GME&size=100&after=800d\n",
      "Querying from: https://api.pushshift.io/reddit/search/submission?subreddit=GME&size=100&after=802d\n",
      "Querying from: https://api.pushshift.io/reddit/search/submission?subreddit=GME&size=100&after=804d\n",
      "Querying from: https://api.pushshift.io/reddit/search/submission?subreddit=GME&size=100&after=806d\n",
      "Querying from: https://api.pushshift.io/reddit/search/submission?subreddit=GME&size=100&after=808d\n",
      "Querying from: https://api.pushshift.io/reddit/search/submission?subreddit=GME&size=100&after=810d\n",
      "Querying from: https://api.pushshift.io/reddit/search/submission?subreddit=GME&size=100&after=812d\n",
      "Querying from: https://api.pushshift.io/reddit/search/submission?subreddit=GME&size=100&after=814d\n",
      "Querying from: https://api.pushshift.io/reddit/search/submission?subreddit=GME&size=100&after=816d\n",
      "Querying from: https://api.pushshift.io/reddit/search/submission?subreddit=GME&size=100&after=818d\n",
      "Querying from: https://api.pushshift.io/reddit/search/submission?subreddit=GME&size=100&after=820d\n",
      "Querying from: https://api.pushshift.io/reddit/search/submission?subreddit=GME&size=100&after=822d\n",
      "Querying from: https://api.pushshift.io/reddit/search/submission?subreddit=GME&size=100&after=824d\n",
      "Querying from: https://api.pushshift.io/reddit/search/submission?subreddit=GME&size=100&after=826d\n",
      "Querying from: https://api.pushshift.io/reddit/search/submission?subreddit=GME&size=100&after=828d\n",
      "Querying from: https://api.pushshift.io/reddit/search/submission?subreddit=GME&size=100&after=830d\n",
      "Querying from: https://api.pushshift.io/reddit/search/submission?subreddit=GME&size=100&after=832d\n"
     ]
    },
    {
     "name": "stdout",
     "output_type": "stream",
     "text": [
      "Querying from: https://api.pushshift.io/reddit/search/submission?subreddit=GME&size=100&after=834d\n",
      "Querying from: https://api.pushshift.io/reddit/search/submission?subreddit=GME&size=100&after=836d\n",
      "Querying from: https://api.pushshift.io/reddit/search/submission?subreddit=GME&size=100&after=838d\n",
      "Querying from: https://api.pushshift.io/reddit/search/submission?subreddit=GME&size=100&after=840d\n",
      "Querying from: https://api.pushshift.io/reddit/search/submission?subreddit=GME&size=100&after=842d\n",
      "Querying from: https://api.pushshift.io/reddit/search/submission?subreddit=GME&size=100&after=844d\n",
      "Querying from: https://api.pushshift.io/reddit/search/submission?subreddit=GME&size=100&after=846d\n",
      "Querying from: https://api.pushshift.io/reddit/search/submission?subreddit=GME&size=100&after=848d\n",
      "Querying from: https://api.pushshift.io/reddit/search/submission?subreddit=GME&size=100&after=850d\n",
      "Querying from: https://api.pushshift.io/reddit/search/submission?subreddit=GME&size=100&after=852d\n",
      "Querying from: https://api.pushshift.io/reddit/search/submission?subreddit=GME&size=100&after=854d\n",
      "Querying from: https://api.pushshift.io/reddit/search/submission?subreddit=GME&size=100&after=856d\n",
      "Querying from: https://api.pushshift.io/reddit/search/submission?subreddit=GME&size=100&after=858d\n",
      "Querying from: https://api.pushshift.io/reddit/search/submission?subreddit=GME&size=100&after=860d\n",
      "Querying from: https://api.pushshift.io/reddit/search/submission?subreddit=GME&size=100&after=862d\n",
      "Querying from: https://api.pushshift.io/reddit/search/submission?subreddit=GME&size=100&after=864d\n",
      "Querying from: https://api.pushshift.io/reddit/search/submission?subreddit=GME&size=100&after=866d\n",
      "Querying from: https://api.pushshift.io/reddit/search/submission?subreddit=GME&size=100&after=868d\n",
      "Querying from: https://api.pushshift.io/reddit/search/submission?subreddit=GME&size=100&after=870d\n",
      "Querying from: https://api.pushshift.io/reddit/search/submission?subreddit=GME&size=100&after=872d\n",
      "Querying from: https://api.pushshift.io/reddit/search/submission?subreddit=GME&size=100&after=874d\n",
      "Querying from: https://api.pushshift.io/reddit/search/submission?subreddit=GME&size=100&after=876d\n",
      "Querying from: https://api.pushshift.io/reddit/search/submission?subreddit=GME&size=100&after=878d\n",
      "Querying from: https://api.pushshift.io/reddit/search/submission?subreddit=GME&size=100&after=880d\n",
      "Querying from: https://api.pushshift.io/reddit/search/submission?subreddit=GME&size=100&after=882d\n",
      "Querying from: https://api.pushshift.io/reddit/search/submission?subreddit=GME&size=100&after=884d\n",
      "Querying from: https://api.pushshift.io/reddit/search/submission?subreddit=GME&size=100&after=886d\n",
      "Querying from: https://api.pushshift.io/reddit/search/submission?subreddit=GME&size=100&after=888d\n",
      "Querying from: https://api.pushshift.io/reddit/search/submission?subreddit=GME&size=100&after=890d\n",
      "Querying from: https://api.pushshift.io/reddit/search/submission?subreddit=GME&size=100&after=892d\n",
      "Querying from: https://api.pushshift.io/reddit/search/submission?subreddit=GME&size=100&after=894d\n",
      "Querying from: https://api.pushshift.io/reddit/search/submission?subreddit=GME&size=100&after=896d\n",
      "Querying from: https://api.pushshift.io/reddit/search/submission?subreddit=GME&size=100&after=898d\n",
      "Querying from: https://api.pushshift.io/reddit/search/submission?subreddit=GME&size=100&after=900d\n",
      "Querying from: https://api.pushshift.io/reddit/search/submission?subreddit=GME&size=100&after=902d\n",
      "Querying from: https://api.pushshift.io/reddit/search/submission?subreddit=GME&size=100&after=904d\n",
      "Querying from: https://api.pushshift.io/reddit/search/submission?subreddit=GME&size=100&after=906d\n",
      "Querying from: https://api.pushshift.io/reddit/search/submission?subreddit=GME&size=100&after=908d\n",
      "Querying from: https://api.pushshift.io/reddit/search/submission?subreddit=GME&size=100&after=910d\n",
      "Querying from: https://api.pushshift.io/reddit/search/submission?subreddit=GME&size=100&after=912d\n",
      "Querying from: https://api.pushshift.io/reddit/search/submission?subreddit=GME&size=100&after=914d\n",
      "Querying from: https://api.pushshift.io/reddit/search/submission?subreddit=GME&size=100&after=916d\n",
      "Querying from: https://api.pushshift.io/reddit/search/submission?subreddit=GME&size=100&after=918d\n",
      "Querying from: https://api.pushshift.io/reddit/search/submission?subreddit=GME&size=100&after=920d\n",
      "Querying from: https://api.pushshift.io/reddit/search/submission?subreddit=GME&size=100&after=922d\n",
      "Querying from: https://api.pushshift.io/reddit/search/submission?subreddit=GME&size=100&after=924d\n",
      "Querying from: https://api.pushshift.io/reddit/search/submission?subreddit=GME&size=100&after=926d\n",
      "Querying from: https://api.pushshift.io/reddit/search/submission?subreddit=GME&size=100&after=928d\n",
      "Querying from: https://api.pushshift.io/reddit/search/submission?subreddit=GME&size=100&after=930d\n",
      "Querying from: https://api.pushshift.io/reddit/search/submission?subreddit=GME&size=100&after=932d\n",
      "Querying from: https://api.pushshift.io/reddit/search/submission?subreddit=GME&size=100&after=934d\n",
      "Querying from: https://api.pushshift.io/reddit/search/submission?subreddit=GME&size=100&after=936d\n",
      "Querying from: https://api.pushshift.io/reddit/search/submission?subreddit=GME&size=100&after=938d\n",
      "Querying from: https://api.pushshift.io/reddit/search/submission?subreddit=GME&size=100&after=940d\n",
      "Querying from: https://api.pushshift.io/reddit/search/submission?subreddit=GME&size=100&after=942d\n",
      "Querying from: https://api.pushshift.io/reddit/search/submission?subreddit=GME&size=100&after=944d\n",
      "Querying from: https://api.pushshift.io/reddit/search/submission?subreddit=GME&size=100&after=946d\n",
      "Querying from: https://api.pushshift.io/reddit/search/submission?subreddit=GME&size=100&after=948d\n",
      "Querying from: https://api.pushshift.io/reddit/search/submission?subreddit=GME&size=100&after=950d\n",
      "Querying from: https://api.pushshift.io/reddit/search/submission?subreddit=GME&size=100&after=952d\n",
      "Querying from: https://api.pushshift.io/reddit/search/submission?subreddit=GME&size=100&after=954d\n",
      "Querying from: https://api.pushshift.io/reddit/search/submission?subreddit=GME&size=100&after=956d\n",
      "Querying from: https://api.pushshift.io/reddit/search/submission?subreddit=GME&size=100&after=958d\n",
      "Querying from: https://api.pushshift.io/reddit/search/submission?subreddit=GME&size=100&after=960d\n",
      "Querying from: https://api.pushshift.io/reddit/search/submission?subreddit=GME&size=100&after=962d\n",
      "Querying from: https://api.pushshift.io/reddit/search/submission?subreddit=GME&size=100&after=964d\n",
      "Querying from: https://api.pushshift.io/reddit/search/submission?subreddit=GME&size=100&after=966d\n",
      "Querying from: https://api.pushshift.io/reddit/search/submission?subreddit=GME&size=100&after=968d\n",
      "Querying from: https://api.pushshift.io/reddit/search/submission?subreddit=GME&size=100&after=970d\n",
      "Querying from: https://api.pushshift.io/reddit/search/submission?subreddit=GME&size=100&after=972d\n",
      "Querying from: https://api.pushshift.io/reddit/search/submission?subreddit=GME&size=100&after=974d\n",
      "Querying from: https://api.pushshift.io/reddit/search/submission?subreddit=GME&size=100&after=976d\n",
      "Querying from: https://api.pushshift.io/reddit/search/submission?subreddit=GME&size=100&after=978d\n",
      "Querying from: https://api.pushshift.io/reddit/search/submission?subreddit=GME&size=100&after=980d\n",
      "Querying from: https://api.pushshift.io/reddit/search/submission?subreddit=GME&size=100&after=982d\n",
      "Querying from: https://api.pushshift.io/reddit/search/submission?subreddit=GME&size=100&after=984d\n",
      "Querying from: https://api.pushshift.io/reddit/search/submission?subreddit=GME&size=100&after=986d\n",
      "Querying from: https://api.pushshift.io/reddit/search/submission?subreddit=GME&size=100&after=988d\n",
      "Querying from: https://api.pushshift.io/reddit/search/submission?subreddit=GME&size=100&after=990d\n",
      "Querying from: https://api.pushshift.io/reddit/search/submission?subreddit=GME&size=100&after=992d\n",
      "Querying from: https://api.pushshift.io/reddit/search/submission?subreddit=GME&size=100&after=994d\n",
      "Querying from: https://api.pushshift.io/reddit/search/submission?subreddit=GME&size=100&after=996d\n",
      "Querying from: https://api.pushshift.io/reddit/search/submission?subreddit=GME&size=100&after=998d\n"
     ]
    },
    {
     "name": "stdout",
     "output_type": "stream",
     "text": [
      "Querying from: https://api.pushshift.io/reddit/search/submission?subreddit=GME&size=100&after=1000d\n",
      "Querying from: https://api.pushshift.io/reddit/search/submission?subreddit=GME&size=100&after=1002d\n",
      "Querying from: https://api.pushshift.io/reddit/search/submission?subreddit=GME&size=100&after=1004d\n",
      "Querying from: https://api.pushshift.io/reddit/search/submission?subreddit=GME&size=100&after=1006d\n",
      "Querying from: https://api.pushshift.io/reddit/search/submission?subreddit=GME&size=100&after=1008d\n",
      "Querying from: https://api.pushshift.io/reddit/search/submission?subreddit=GME&size=100&after=1010d\n",
      "Querying from: https://api.pushshift.io/reddit/search/submission?subreddit=GME&size=100&after=1012d\n",
      "Querying from: https://api.pushshift.io/reddit/search/submission?subreddit=GME&size=100&after=1014d\n",
      "Querying from: https://api.pushshift.io/reddit/search/submission?subreddit=GME&size=100&after=1016d\n",
      "Querying from: https://api.pushshift.io/reddit/search/submission?subreddit=GME&size=100&after=1018d\n",
      "Querying from: https://api.pushshift.io/reddit/search/submission?subreddit=GME&size=100&after=1020d\n",
      "Querying from: https://api.pushshift.io/reddit/search/submission?subreddit=GME&size=100&after=1022d\n",
      "Querying from: https://api.pushshift.io/reddit/search/submission?subreddit=GME&size=100&after=1024d\n",
      "Querying from: https://api.pushshift.io/reddit/search/submission?subreddit=GME&size=100&after=1026d\n",
      "Querying from: https://api.pushshift.io/reddit/search/submission?subreddit=GME&size=100&after=1028d\n",
      "Querying from: https://api.pushshift.io/reddit/search/submission?subreddit=GME&size=100&after=1030d\n",
      "Querying from: https://api.pushshift.io/reddit/search/submission?subreddit=GME&size=100&after=1032d\n",
      "Querying from: https://api.pushshift.io/reddit/search/submission?subreddit=GME&size=100&after=1034d\n",
      "Querying from: https://api.pushshift.io/reddit/search/submission?subreddit=GME&size=100&after=1036d\n",
      "Querying from: https://api.pushshift.io/reddit/search/submission?subreddit=GME&size=100&after=1038d\n",
      "Querying from: https://api.pushshift.io/reddit/search/submission?subreddit=GME&size=100&after=1040d\n",
      "Querying from: https://api.pushshift.io/reddit/search/submission?subreddit=GME&size=100&after=1042d\n",
      "Querying from: https://api.pushshift.io/reddit/search/submission?subreddit=GME&size=100&after=1044d\n",
      "Querying from: https://api.pushshift.io/reddit/search/submission?subreddit=GME&size=100&after=1046d\n",
      "Querying from: https://api.pushshift.io/reddit/search/submission?subreddit=GME&size=100&after=1048d\n",
      "Querying from: https://api.pushshift.io/reddit/search/submission?subreddit=GME&size=100&after=1050d\n",
      "Querying from: https://api.pushshift.io/reddit/search/submission?subreddit=GME&size=100&after=1052d\n",
      "Querying from: https://api.pushshift.io/reddit/search/submission?subreddit=GME&size=100&after=1054d\n",
      "Querying from: https://api.pushshift.io/reddit/search/submission?subreddit=GME&size=100&after=1056d\n",
      "Querying from: https://api.pushshift.io/reddit/search/submission?subreddit=GME&size=100&after=1058d\n",
      "Querying from: https://api.pushshift.io/reddit/search/submission?subreddit=GME&size=100&after=1060d\n",
      "Querying from: https://api.pushshift.io/reddit/search/submission?subreddit=GME&size=100&after=1062d\n",
      "Querying from: https://api.pushshift.io/reddit/search/submission?subreddit=GME&size=100&after=1064d\n",
      "Querying from: https://api.pushshift.io/reddit/search/submission?subreddit=GME&size=100&after=1066d\n",
      "Querying from: https://api.pushshift.io/reddit/search/submission?subreddit=GME&size=100&after=1068d\n",
      "Querying from: https://api.pushshift.io/reddit/search/submission?subreddit=GME&size=100&after=1070d\n",
      "Querying from: https://api.pushshift.io/reddit/search/submission?subreddit=GME&size=100&after=1072d\n",
      "Querying from: https://api.pushshift.io/reddit/search/submission?subreddit=GME&size=100&after=1074d\n",
      "Querying from: https://api.pushshift.io/reddit/search/submission?subreddit=GME&size=100&after=1076d\n",
      "Querying from: https://api.pushshift.io/reddit/search/submission?subreddit=GME&size=100&after=1078d\n",
      "Querying from: https://api.pushshift.io/reddit/search/submission?subreddit=GME&size=100&after=1080d\n",
      "Querying from: https://api.pushshift.io/reddit/search/submission?subreddit=GME&size=100&after=1082d\n",
      "Querying from: https://api.pushshift.io/reddit/search/submission?subreddit=GME&size=100&after=1084d\n",
      "Querying from: https://api.pushshift.io/reddit/search/submission?subreddit=GME&size=100&after=1086d\n",
      "Querying from: https://api.pushshift.io/reddit/search/submission?subreddit=GME&size=100&after=1088d\n",
      "Querying from: https://api.pushshift.io/reddit/search/submission?subreddit=GME&size=100&after=1090d\n",
      "Querying from: https://api.pushshift.io/reddit/search/submission?subreddit=GME&size=100&after=1092d\n",
      "Querying from: https://api.pushshift.io/reddit/search/submission?subreddit=GME&size=100&after=1094d\n",
      "Querying from: https://api.pushshift.io/reddit/search/submission?subreddit=GME&size=100&after=1096d\n",
      "Querying from: https://api.pushshift.io/reddit/search/submission?subreddit=GME&size=100&after=1098d\n",
      "Querying from: https://api.pushshift.io/reddit/search/submission?subreddit=GME&size=100&after=1100d\n",
      "Querying from: https://api.pushshift.io/reddit/search/submission?subreddit=GME&size=100&after=1102d\n",
      "Querying from: https://api.pushshift.io/reddit/search/submission?subreddit=GME&size=100&after=1104d\n",
      "Querying from: https://api.pushshift.io/reddit/search/submission?subreddit=GME&size=100&after=1106d\n",
      "Querying from: https://api.pushshift.io/reddit/search/submission?subreddit=GME&size=100&after=1108d\n",
      "Querying from: https://api.pushshift.io/reddit/search/submission?subreddit=GME&size=100&after=1110d\n",
      "Querying from: https://api.pushshift.io/reddit/search/submission?subreddit=GME&size=100&after=1112d\n",
      "Querying from: https://api.pushshift.io/reddit/search/submission?subreddit=GME&size=100&after=1114d\n",
      "Querying from: https://api.pushshift.io/reddit/search/submission?subreddit=GME&size=100&after=1116d\n",
      "Querying from: https://api.pushshift.io/reddit/search/submission?subreddit=GME&size=100&after=1118d\n",
      "Querying from: https://api.pushshift.io/reddit/search/submission?subreddit=GME&size=100&after=1120d\n",
      "Querying from: https://api.pushshift.io/reddit/search/submission?subreddit=GME&size=100&after=1122d\n",
      "Querying from: https://api.pushshift.io/reddit/search/submission?subreddit=GME&size=100&after=1124d\n",
      "Querying from: https://api.pushshift.io/reddit/search/submission?subreddit=GME&size=100&after=1126d\n",
      "Querying from: https://api.pushshift.io/reddit/search/submission?subreddit=GME&size=100&after=1128d\n",
      "Querying from: https://api.pushshift.io/reddit/search/submission?subreddit=GME&size=100&after=1130d\n",
      "Querying from: https://api.pushshift.io/reddit/search/submission?subreddit=GME&size=100&after=1132d\n",
      "Querying from: https://api.pushshift.io/reddit/search/submission?subreddit=GME&size=100&after=1134d\n",
      "Querying from: https://api.pushshift.io/reddit/search/submission?subreddit=GME&size=100&after=1136d\n",
      "Querying from: https://api.pushshift.io/reddit/search/submission?subreddit=GME&size=100&after=1138d\n",
      "Querying from: https://api.pushshift.io/reddit/search/submission?subreddit=GME&size=100&after=1140d\n",
      "Querying from: https://api.pushshift.io/reddit/search/submission?subreddit=GME&size=100&after=1142d\n",
      "Querying from: https://api.pushshift.io/reddit/search/submission?subreddit=GME&size=100&after=1144d\n",
      "Querying from: https://api.pushshift.io/reddit/search/submission?subreddit=GME&size=100&after=1146d\n",
      "Querying from: https://api.pushshift.io/reddit/search/submission?subreddit=GME&size=100&after=1148d\n",
      "Querying from: https://api.pushshift.io/reddit/search/submission?subreddit=GME&size=100&after=1150d\n",
      "Querying from: https://api.pushshift.io/reddit/search/submission?subreddit=GME&size=100&after=1152d\n",
      "Querying from: https://api.pushshift.io/reddit/search/submission?subreddit=GME&size=100&after=1154d\n",
      "Querying from: https://api.pushshift.io/reddit/search/submission?subreddit=GME&size=100&after=1156d\n",
      "Querying from: https://api.pushshift.io/reddit/search/submission?subreddit=GME&size=100&after=1158d\n",
      "Querying from: https://api.pushshift.io/reddit/search/submission?subreddit=GME&size=100&after=1160d\n",
      "Querying from: https://api.pushshift.io/reddit/search/submission?subreddit=GME&size=100&after=1162d\n"
     ]
    },
    {
     "name": "stdout",
     "output_type": "stream",
     "text": [
      "Querying from: https://api.pushshift.io/reddit/search/submission?subreddit=GME&size=100&after=1164d\n",
      "Querying from: https://api.pushshift.io/reddit/search/submission?subreddit=GME&size=100&after=1166d\n",
      "Querying from: https://api.pushshift.io/reddit/search/submission?subreddit=GME&size=100&after=1168d\n",
      "Querying from: https://api.pushshift.io/reddit/search/submission?subreddit=GME&size=100&after=1170d\n",
      "Querying from: https://api.pushshift.io/reddit/search/submission?subreddit=GME&size=100&after=1172d\n",
      "Querying from: https://api.pushshift.io/reddit/search/submission?subreddit=GME&size=100&after=1174d\n",
      "Querying from: https://api.pushshift.io/reddit/search/submission?subreddit=GME&size=100&after=1176d\n",
      "Querying from: https://api.pushshift.io/reddit/search/submission?subreddit=GME&size=100&after=1178d\n",
      "Querying from: https://api.pushshift.io/reddit/search/submission?subreddit=GME&size=100&after=1180d\n",
      "Querying from: https://api.pushshift.io/reddit/search/submission?subreddit=GME&size=100&after=1182d\n",
      "Querying from: https://api.pushshift.io/reddit/search/submission?subreddit=GME&size=100&after=1184d\n",
      "Querying from: https://api.pushshift.io/reddit/search/submission?subreddit=GME&size=100&after=1186d\n",
      "Querying from: https://api.pushshift.io/reddit/search/submission?subreddit=GME&size=100&after=1188d\n",
      "Querying from: https://api.pushshift.io/reddit/search/submission?subreddit=GME&size=100&after=1190d\n",
      "Querying from: https://api.pushshift.io/reddit/search/submission?subreddit=GME&size=100&after=1192d\n",
      "Querying from: https://api.pushshift.io/reddit/search/submission?subreddit=GME&size=100&after=1194d\n",
      "Querying from: https://api.pushshift.io/reddit/search/submission?subreddit=GME&size=100&after=1196d\n",
      "Querying from: https://api.pushshift.io/reddit/search/submission?subreddit=GME&size=100&after=1198d\n",
      "Querying from: https://api.pushshift.io/reddit/search/submission?subreddit=GME&size=100&after=1200d\n",
      "Querying from: https://api.pushshift.io/reddit/search/submission?subreddit=GME&size=100&after=1202d\n",
      "Querying from: https://api.pushshift.io/reddit/search/submission?subreddit=GME&size=100&after=1204d\n",
      "Querying from: https://api.pushshift.io/reddit/search/submission?subreddit=GME&size=100&after=1206d\n",
      "Querying from: https://api.pushshift.io/reddit/search/submission?subreddit=GME&size=100&after=1208d\n",
      "Querying from: https://api.pushshift.io/reddit/search/submission?subreddit=GME&size=100&after=1210d\n",
      "Querying from: https://api.pushshift.io/reddit/search/submission?subreddit=GME&size=100&after=1212d\n",
      "Querying from: https://api.pushshift.io/reddit/search/submission?subreddit=GME&size=100&after=1214d\n",
      "Querying from: https://api.pushshift.io/reddit/search/submission?subreddit=GME&size=100&after=1216d\n",
      "Querying from: https://api.pushshift.io/reddit/search/submission?subreddit=GME&size=100&after=1218d\n",
      "Querying from: https://api.pushshift.io/reddit/search/submission?subreddit=GME&size=100&after=1220d\n",
      "Querying from: https://api.pushshift.io/reddit/search/submission?subreddit=GME&size=100&after=1222d\n",
      "Querying from: https://api.pushshift.io/reddit/search/submission?subreddit=GME&size=100&after=1224d\n",
      "Querying from: https://api.pushshift.io/reddit/search/submission?subreddit=GME&size=100&after=1226d\n",
      "Querying from: https://api.pushshift.io/reddit/search/submission?subreddit=GME&size=100&after=1228d\n",
      "Querying from: https://api.pushshift.io/reddit/search/submission?subreddit=GME&size=100&after=1230d\n",
      "Querying from: https://api.pushshift.io/reddit/search/submission?subreddit=GME&size=100&after=1232d\n",
      "Querying from: https://api.pushshift.io/reddit/search/submission?subreddit=GME&size=100&after=1234d\n",
      "Querying from: https://api.pushshift.io/reddit/search/submission?subreddit=GME&size=100&after=1236d\n",
      "Querying from: https://api.pushshift.io/reddit/search/submission?subreddit=GME&size=100&after=1238d\n",
      "Querying from: https://api.pushshift.io/reddit/search/submission?subreddit=GME&size=100&after=1240d\n",
      "Querying from: https://api.pushshift.io/reddit/search/submission?subreddit=GME&size=100&after=1242d\n",
      "Querying from: https://api.pushshift.io/reddit/search/submission?subreddit=GME&size=100&after=1244d\n",
      "Querying from: https://api.pushshift.io/reddit/search/submission?subreddit=GME&size=100&after=1246d\n",
      "Querying from: https://api.pushshift.io/reddit/search/submission?subreddit=GME&size=100&after=1248d\n",
      "Querying from: https://api.pushshift.io/reddit/search/submission?subreddit=GME&size=100&after=1250d\n",
      "Querying from: https://api.pushshift.io/reddit/search/submission?subreddit=GME&size=100&after=1252d\n",
      "Querying from: https://api.pushshift.io/reddit/search/submission?subreddit=GME&size=100&after=1254d\n",
      "Querying from: https://api.pushshift.io/reddit/search/submission?subreddit=GME&size=100&after=1256d\n",
      "Querying from: https://api.pushshift.io/reddit/search/submission?subreddit=GME&size=100&after=1258d\n",
      "Querying from: https://api.pushshift.io/reddit/search/submission?subreddit=GME&size=100&after=1260d\n",
      "Querying from: https://api.pushshift.io/reddit/search/submission?subreddit=GME&size=100&after=1262d\n",
      "Querying from: https://api.pushshift.io/reddit/search/submission?subreddit=GME&size=100&after=1264d\n",
      "Querying from: https://api.pushshift.io/reddit/search/submission?subreddit=GME&size=100&after=1266d\n",
      "Querying from: https://api.pushshift.io/reddit/search/submission?subreddit=GME&size=100&after=1268d\n",
      "Querying from: https://api.pushshift.io/reddit/search/submission?subreddit=GME&size=100&after=1270d\n",
      "Querying from: https://api.pushshift.io/reddit/search/submission?subreddit=GME&size=100&after=1272d\n",
      "Querying from: https://api.pushshift.io/reddit/search/submission?subreddit=GME&size=100&after=1274d\n",
      "Querying from: https://api.pushshift.io/reddit/search/submission?subreddit=GME&size=100&after=1276d\n",
      "Querying from: https://api.pushshift.io/reddit/search/submission?subreddit=GME&size=100&after=1278d\n",
      "Querying from: https://api.pushshift.io/reddit/search/submission?subreddit=GME&size=100&after=1280d\n",
      "Querying from: https://api.pushshift.io/reddit/search/submission?subreddit=GME&size=100&after=1282d\n",
      "Querying from: https://api.pushshift.io/reddit/search/submission?subreddit=GME&size=100&after=1284d\n",
      "Querying from: https://api.pushshift.io/reddit/search/submission?subreddit=GME&size=100&after=1286d\n",
      "Querying from: https://api.pushshift.io/reddit/search/submission?subreddit=GME&size=100&after=1288d\n",
      "Querying from: https://api.pushshift.io/reddit/search/submission?subreddit=GME&size=100&after=1290d\n",
      "Querying from: https://api.pushshift.io/reddit/search/submission?subreddit=GME&size=100&after=1292d\n",
      "Querying from: https://api.pushshift.io/reddit/search/submission?subreddit=GME&size=100&after=1294d\n",
      "Querying from: https://api.pushshift.io/reddit/search/submission?subreddit=GME&size=100&after=1296d\n",
      "Querying from: https://api.pushshift.io/reddit/search/submission?subreddit=GME&size=100&after=1298d\n",
      "Querying from: https://api.pushshift.io/reddit/search/submission?subreddit=GME&size=100&after=1300d\n",
      "Querying from: https://api.pushshift.io/reddit/search/submission?subreddit=GME&size=100&after=1302d\n",
      "Querying from: https://api.pushshift.io/reddit/search/submission?subreddit=GME&size=100&after=1304d\n",
      "Querying from: https://api.pushshift.io/reddit/search/submission?subreddit=GME&size=100&after=1306d\n",
      "Querying from: https://api.pushshift.io/reddit/search/submission?subreddit=GME&size=100&after=1308d\n",
      "Querying from: https://api.pushshift.io/reddit/search/submission?subreddit=GME&size=100&after=1310d\n",
      "Querying from: https://api.pushshift.io/reddit/search/submission?subreddit=GME&size=100&after=1312d\n",
      "Querying from: https://api.pushshift.io/reddit/search/submission?subreddit=GME&size=100&after=1314d\n",
      "Querying from: https://api.pushshift.io/reddit/search/submission?subreddit=GME&size=100&after=1316d\n",
      "Querying from: https://api.pushshift.io/reddit/search/submission?subreddit=GME&size=100&after=1318d\n",
      "Querying from: https://api.pushshift.io/reddit/search/submission?subreddit=GME&size=100&after=1320d\n",
      "Querying from: https://api.pushshift.io/reddit/search/submission?subreddit=GME&size=100&after=1322d\n",
      "Querying from: https://api.pushshift.io/reddit/search/submission?subreddit=GME&size=100&after=1324d\n",
      "Querying from: https://api.pushshift.io/reddit/search/submission?subreddit=GME&size=100&after=1326d\n"
     ]
    },
    {
     "name": "stdout",
     "output_type": "stream",
     "text": [
      "Querying from: https://api.pushshift.io/reddit/search/submission?subreddit=GME&size=100&after=1328d\n",
      "Querying from: https://api.pushshift.io/reddit/search/submission?subreddit=GME&size=100&after=1330d\n",
      "Querying from: https://api.pushshift.io/reddit/search/submission?subreddit=GME&size=100&after=1332d\n",
      "Querying from: https://api.pushshift.io/reddit/search/submission?subreddit=GME&size=100&after=1334d\n",
      "Querying from: https://api.pushshift.io/reddit/search/submission?subreddit=GME&size=100&after=1336d\n",
      "Querying from: https://api.pushshift.io/reddit/search/submission?subreddit=GME&size=100&after=1338d\n",
      "Querying from: https://api.pushshift.io/reddit/search/submission?subreddit=GME&size=100&after=1340d\n",
      "Querying from: https://api.pushshift.io/reddit/search/submission?subreddit=GME&size=100&after=1342d\n",
      "Querying from: https://api.pushshift.io/reddit/search/submission?subreddit=GME&size=100&after=1344d\n",
      "Querying from: https://api.pushshift.io/reddit/search/submission?subreddit=GME&size=100&after=1346d\n",
      "Querying from: https://api.pushshift.io/reddit/search/submission?subreddit=GME&size=100&after=1348d\n",
      "Querying from: https://api.pushshift.io/reddit/search/submission?subreddit=GME&size=100&after=1350d\n",
      "Querying from: https://api.pushshift.io/reddit/search/submission?subreddit=GME&size=100&after=1352d\n",
      "Querying from: https://api.pushshift.io/reddit/search/submission?subreddit=GME&size=100&after=1354d\n",
      "Querying from: https://api.pushshift.io/reddit/search/submission?subreddit=GME&size=100&after=1356d\n",
      "Querying from: https://api.pushshift.io/reddit/search/submission?subreddit=GME&size=100&after=1358d\n",
      "Querying from: https://api.pushshift.io/reddit/search/submission?subreddit=GME&size=100&after=1360d\n",
      "Querying from: https://api.pushshift.io/reddit/search/submission?subreddit=GME&size=100&after=1362d\n",
      "Querying from: https://api.pushshift.io/reddit/search/submission?subreddit=GME&size=100&after=1364d\n",
      "Querying from: https://api.pushshift.io/reddit/search/submission?subreddit=GME&size=100&after=1366d\n",
      "Querying from: https://api.pushshift.io/reddit/search/submission?subreddit=GME&size=100&after=1368d\n",
      "Querying from: https://api.pushshift.io/reddit/search/submission?subreddit=GME&size=100&after=1370d\n",
      "Querying from: https://api.pushshift.io/reddit/search/submission?subreddit=GME&size=100&after=1372d\n",
      "Querying from: https://api.pushshift.io/reddit/search/submission?subreddit=GME&size=100&after=1374d\n",
      "Querying from: https://api.pushshift.io/reddit/search/submission?subreddit=GME&size=100&after=1376d\n",
      "Querying from: https://api.pushshift.io/reddit/search/submission?subreddit=GME&size=100&after=1378d\n",
      "Querying from: https://api.pushshift.io/reddit/search/submission?subreddit=GME&size=100&after=1380d\n",
      "Querying from: https://api.pushshift.io/reddit/search/submission?subreddit=GME&size=100&after=1382d\n",
      "Querying from: https://api.pushshift.io/reddit/search/submission?subreddit=GME&size=100&after=1384d\n",
      "Querying from: https://api.pushshift.io/reddit/search/submission?subreddit=GME&size=100&after=1386d\n",
      "Querying from: https://api.pushshift.io/reddit/search/submission?subreddit=GME&size=100&after=1388d\n",
      "Querying from: https://api.pushshift.io/reddit/search/submission?subreddit=GME&size=100&after=1390d\n",
      "Querying from: https://api.pushshift.io/reddit/search/submission?subreddit=GME&size=100&after=1392d\n",
      "Querying from: https://api.pushshift.io/reddit/search/submission?subreddit=GME&size=100&after=1394d\n",
      "Querying from: https://api.pushshift.io/reddit/search/submission?subreddit=GME&size=100&after=1396d\n",
      "Querying from: https://api.pushshift.io/reddit/search/submission?subreddit=GME&size=100&after=1398d\n",
      "Querying from: https://api.pushshift.io/reddit/search/submission?subreddit=GME&size=100&after=1400d\n",
      "Querying from: https://api.pushshift.io/reddit/search/submission?subreddit=GME&size=100&after=1402d\n",
      "Querying from: https://api.pushshift.io/reddit/search/submission?subreddit=GME&size=100&after=1404d\n",
      "Querying from: https://api.pushshift.io/reddit/search/submission?subreddit=GME&size=100&after=1406d\n",
      "Querying from: https://api.pushshift.io/reddit/search/submission?subreddit=GME&size=100&after=1408d\n",
      "Querying from: https://api.pushshift.io/reddit/search/submission?subreddit=GME&size=100&after=1410d\n",
      "Querying from: https://api.pushshift.io/reddit/search/submission?subreddit=GME&size=100&after=1412d\n",
      "Querying from: https://api.pushshift.io/reddit/search/submission?subreddit=GME&size=100&after=1414d\n",
      "Querying from: https://api.pushshift.io/reddit/search/submission?subreddit=GME&size=100&after=1416d\n",
      "Querying from: https://api.pushshift.io/reddit/search/submission?subreddit=GME&size=100&after=1418d\n",
      "Querying from: https://api.pushshift.io/reddit/search/submission?subreddit=GME&size=100&after=1420d\n",
      "Querying from: https://api.pushshift.io/reddit/search/submission?subreddit=GME&size=100&after=1422d\n",
      "Querying from: https://api.pushshift.io/reddit/search/submission?subreddit=GME&size=100&after=1424d\n",
      "Querying from: https://api.pushshift.io/reddit/search/submission?subreddit=GME&size=100&after=1426d\n",
      "Querying from: https://api.pushshift.io/reddit/search/submission?subreddit=GME&size=100&after=1428d\n",
      "Querying from: https://api.pushshift.io/reddit/search/submission?subreddit=GME&size=100&after=1430d\n",
      "Querying from: https://api.pushshift.io/reddit/search/submission?subreddit=GME&size=100&after=1432d\n",
      "Querying from: https://api.pushshift.io/reddit/search/submission?subreddit=GME&size=100&after=1434d\n",
      "Querying from: https://api.pushshift.io/reddit/search/submission?subreddit=GME&size=100&after=1436d\n",
      "Querying from: https://api.pushshift.io/reddit/search/submission?subreddit=GME&size=100&after=1438d\n",
      "Querying from: https://api.pushshift.io/reddit/search/submission?subreddit=GME&size=100&after=1440d\n",
      "Querying from: https://api.pushshift.io/reddit/search/submission?subreddit=GME&size=100&after=1442d\n",
      "Querying from: https://api.pushshift.io/reddit/search/submission?subreddit=GME&size=100&after=1444d\n",
      "Querying from: https://api.pushshift.io/reddit/search/submission?subreddit=GME&size=100&after=1446d\n",
      "Querying from: https://api.pushshift.io/reddit/search/submission?subreddit=GME&size=100&after=1448d\n",
      "Querying from: https://api.pushshift.io/reddit/search/submission?subreddit=GME&size=100&after=1450d\n",
      "Querying from: https://api.pushshift.io/reddit/search/submission?subreddit=GME&size=100&after=1452d\n",
      "Querying from: https://api.pushshift.io/reddit/search/submission?subreddit=GME&size=100&after=1454d\n",
      "Querying from: https://api.pushshift.io/reddit/search/submission?subreddit=GME&size=100&after=1456d\n",
      "Querying from: https://api.pushshift.io/reddit/search/submission?subreddit=GME&size=100&after=1458d\n",
      "Querying from: https://api.pushshift.io/reddit/search/submission?subreddit=GME&size=100&after=1460d\n",
      "Querying from: https://api.pushshift.io/reddit/search/submission?subreddit=GME&size=100&after=1462d\n",
      "Querying from: https://api.pushshift.io/reddit/search/submission?subreddit=GME&size=100&after=1464d\n",
      "Querying from: https://api.pushshift.io/reddit/search/submission?subreddit=GME&size=100&after=1466d\n",
      "Querying from: https://api.pushshift.io/reddit/search/submission?subreddit=GME&size=100&after=1468d\n",
      "Querying from: https://api.pushshift.io/reddit/search/submission?subreddit=GME&size=100&after=1470d\n",
      "Querying from: https://api.pushshift.io/reddit/search/submission?subreddit=GME&size=100&after=1472d\n",
      "Querying from: https://api.pushshift.io/reddit/search/submission?subreddit=GME&size=100&after=1474d\n",
      "Querying from: https://api.pushshift.io/reddit/search/submission?subreddit=GME&size=100&after=1476d\n",
      "Querying from: https://api.pushshift.io/reddit/search/submission?subreddit=GME&size=100&after=1478d\n",
      "Querying from: https://api.pushshift.io/reddit/search/submission?subreddit=GME&size=100&after=1480d\n",
      "Querying from: https://api.pushshift.io/reddit/search/submission?subreddit=GME&size=100&after=1482d\n",
      "Querying from: https://api.pushshift.io/reddit/search/submission?subreddit=GME&size=100&after=1484d\n",
      "Querying from: https://api.pushshift.io/reddit/search/submission?subreddit=GME&size=100&after=1486d\n",
      "Querying from: https://api.pushshift.io/reddit/search/submission?subreddit=GME&size=100&after=1488d\n",
      "Querying from: https://api.pushshift.io/reddit/search/submission?subreddit=GME&size=100&after=1490d\n"
     ]
    },
    {
     "name": "stdout",
     "output_type": "stream",
     "text": [
      "Querying from: https://api.pushshift.io/reddit/search/submission?subreddit=GME&size=100&after=1492d\n",
      "Querying from: https://api.pushshift.io/reddit/search/submission?subreddit=GME&size=100&after=1494d\n",
      "Querying from: https://api.pushshift.io/reddit/search/submission?subreddit=GME&size=100&after=1496d\n",
      "Querying from: https://api.pushshift.io/reddit/search/submission?subreddit=GME&size=100&after=1498d\n",
      "Querying from: https://api.pushshift.io/reddit/search/submission?subreddit=GME&size=100&after=1500d\n",
      "Querying from: https://api.pushshift.io/reddit/search/submission?subreddit=GME&size=100&after=1502d\n",
      "Querying from: https://api.pushshift.io/reddit/search/submission?subreddit=GME&size=100&after=1504d\n",
      "Querying from: https://api.pushshift.io/reddit/search/submission?subreddit=GME&size=100&after=1506d\n",
      "Querying from: https://api.pushshift.io/reddit/search/submission?subreddit=GME&size=100&after=1508d\n",
      "Querying from: https://api.pushshift.io/reddit/search/submission?subreddit=GME&size=100&after=1510d\n",
      "Querying from: https://api.pushshift.io/reddit/search/submission?subreddit=GME&size=100&after=1512d\n",
      "Querying from: https://api.pushshift.io/reddit/search/submission?subreddit=GME&size=100&after=1514d\n",
      "Querying from: https://api.pushshift.io/reddit/search/submission?subreddit=GME&size=100&after=1516d\n",
      "Querying from: https://api.pushshift.io/reddit/search/submission?subreddit=GME&size=100&after=1518d\n",
      "Querying from: https://api.pushshift.io/reddit/search/submission?subreddit=GME&size=100&after=1520d\n",
      "Querying from: https://api.pushshift.io/reddit/search/submission?subreddit=GME&size=100&after=1522d\n",
      "Querying from: https://api.pushshift.io/reddit/search/submission?subreddit=GME&size=100&after=1524d\n",
      "Querying from: https://api.pushshift.io/reddit/search/submission?subreddit=GME&size=100&after=1526d\n",
      "Querying from: https://api.pushshift.io/reddit/search/submission?subreddit=GME&size=100&after=1528d\n",
      "Querying from: https://api.pushshift.io/reddit/search/submission?subreddit=GME&size=100&after=1530d\n",
      "Querying from: https://api.pushshift.io/reddit/search/submission?subreddit=GME&size=100&after=1532d\n",
      "Querying from: https://api.pushshift.io/reddit/search/submission?subreddit=GME&size=100&after=1534d\n",
      "Querying from: https://api.pushshift.io/reddit/search/submission?subreddit=GME&size=100&after=1536d\n",
      "Querying from: https://api.pushshift.io/reddit/search/submission?subreddit=GME&size=100&after=1538d\n",
      "Querying from: https://api.pushshift.io/reddit/search/submission?subreddit=GME&size=100&after=1540d\n",
      "Querying from: https://api.pushshift.io/reddit/search/submission?subreddit=GME&size=100&after=1542d\n",
      "Querying from: https://api.pushshift.io/reddit/search/submission?subreddit=GME&size=100&after=1544d\n",
      "Querying from: https://api.pushshift.io/reddit/search/submission?subreddit=GME&size=100&after=1546d\n",
      "Querying from: https://api.pushshift.io/reddit/search/submission?subreddit=GME&size=100&after=1548d\n",
      "Querying from: https://api.pushshift.io/reddit/search/submission?subreddit=GME&size=100&after=1550d\n",
      "Querying from: https://api.pushshift.io/reddit/search/submission?subreddit=GME&size=100&after=1552d\n",
      "Querying from: https://api.pushshift.io/reddit/search/submission?subreddit=GME&size=100&after=1554d\n",
      "Querying from: https://api.pushshift.io/reddit/search/submission?subreddit=GME&size=100&after=1556d\n",
      "Querying from: https://api.pushshift.io/reddit/search/submission?subreddit=GME&size=100&after=1558d\n",
      "Querying from: https://api.pushshift.io/reddit/search/submission?subreddit=GME&size=100&after=1560d\n",
      "Querying from: https://api.pushshift.io/reddit/search/submission?subreddit=GME&size=100&after=1562d\n",
      "Querying from: https://api.pushshift.io/reddit/search/submission?subreddit=GME&size=100&after=1564d\n",
      "Querying from: https://api.pushshift.io/reddit/search/submission?subreddit=GME&size=100&after=1566d\n",
      "Querying from: https://api.pushshift.io/reddit/search/submission?subreddit=GME&size=100&after=1568d\n",
      "Querying from: https://api.pushshift.io/reddit/search/submission?subreddit=GME&size=100&after=1570d\n",
      "Querying from: https://api.pushshift.io/reddit/search/submission?subreddit=GME&size=100&after=1572d\n",
      "Querying from: https://api.pushshift.io/reddit/search/submission?subreddit=GME&size=100&after=1574d\n",
      "Querying from: https://api.pushshift.io/reddit/search/submission?subreddit=GME&size=100&after=1576d\n",
      "Querying from: https://api.pushshift.io/reddit/search/submission?subreddit=GME&size=100&after=1578d\n",
      "Querying from: https://api.pushshift.io/reddit/search/submission?subreddit=GME&size=100&after=1580d\n",
      "Querying from: https://api.pushshift.io/reddit/search/submission?subreddit=GME&size=100&after=1582d\n",
      "Querying from: https://api.pushshift.io/reddit/search/submission?subreddit=GME&size=100&after=1584d\n",
      "Querying from: https://api.pushshift.io/reddit/search/submission?subreddit=GME&size=100&after=1586d\n",
      "Querying from: https://api.pushshift.io/reddit/search/submission?subreddit=GME&size=100&after=1588d\n",
      "Querying from: https://api.pushshift.io/reddit/search/submission?subreddit=GME&size=100&after=1590d\n",
      "Querying from: https://api.pushshift.io/reddit/search/submission?subreddit=GME&size=100&after=1592d\n",
      "Querying from: https://api.pushshift.io/reddit/search/submission?subreddit=GME&size=100&after=1594d\n",
      "Querying from: https://api.pushshift.io/reddit/search/submission?subreddit=GME&size=100&after=1596d\n",
      "Querying from: https://api.pushshift.io/reddit/search/submission?subreddit=GME&size=100&after=1598d\n",
      "Querying from: https://api.pushshift.io/reddit/search/submission?subreddit=GME&size=100&after=1600d\n",
      "Querying from: https://api.pushshift.io/reddit/search/submission?subreddit=GME&size=100&after=1602d\n",
      "Querying from: https://api.pushshift.io/reddit/search/submission?subreddit=GME&size=100&after=1604d\n",
      "Querying from: https://api.pushshift.io/reddit/search/submission?subreddit=GME&size=100&after=1606d\n",
      "Querying from: https://api.pushshift.io/reddit/search/submission?subreddit=GME&size=100&after=1608d\n",
      "Querying from: https://api.pushshift.io/reddit/search/submission?subreddit=GME&size=100&after=1610d\n",
      "Querying from: https://api.pushshift.io/reddit/search/submission?subreddit=GME&size=100&after=1612d\n",
      "Querying from: https://api.pushshift.io/reddit/search/submission?subreddit=GME&size=100&after=1614d\n",
      "Querying from: https://api.pushshift.io/reddit/search/submission?subreddit=GME&size=100&after=1616d\n",
      "Querying from: https://api.pushshift.io/reddit/search/submission?subreddit=GME&size=100&after=1618d\n",
      "Querying from: https://api.pushshift.io/reddit/search/submission?subreddit=GME&size=100&after=1620d\n",
      "Querying from: https://api.pushshift.io/reddit/search/submission?subreddit=GME&size=100&after=1622d\n",
      "Querying from: https://api.pushshift.io/reddit/search/submission?subreddit=GME&size=100&after=1624d\n",
      "Querying from: https://api.pushshift.io/reddit/search/submission?subreddit=GME&size=100&after=1626d\n",
      "Querying from: https://api.pushshift.io/reddit/search/submission?subreddit=GME&size=100&after=1628d\n",
      "Querying from: https://api.pushshift.io/reddit/search/submission?subreddit=GME&size=100&after=1630d\n",
      "Querying from: https://api.pushshift.io/reddit/search/submission?subreddit=GME&size=100&after=1632d\n",
      "Querying from: https://api.pushshift.io/reddit/search/submission?subreddit=GME&size=100&after=1634d\n",
      "Querying from: https://api.pushshift.io/reddit/search/submission?subreddit=GME&size=100&after=1636d\n",
      "Querying from: https://api.pushshift.io/reddit/search/submission?subreddit=GME&size=100&after=1638d\n",
      "Querying from: https://api.pushshift.io/reddit/search/submission?subreddit=GME&size=100&after=1640d\n",
      "Querying from: https://api.pushshift.io/reddit/search/submission?subreddit=GME&size=100&after=1642d\n",
      "Querying from: https://api.pushshift.io/reddit/search/submission?subreddit=GME&size=100&after=1644d\n",
      "Querying from: https://api.pushshift.io/reddit/search/submission?subreddit=GME&size=100&after=1646d\n",
      "Querying from: https://api.pushshift.io/reddit/search/submission?subreddit=GME&size=100&after=1648d\n",
      "Querying from: https://api.pushshift.io/reddit/search/submission?subreddit=GME&size=100&after=1650d\n",
      "Querying from: https://api.pushshift.io/reddit/search/submission?subreddit=GME&size=100&after=1652d\n",
      "Querying from: https://api.pushshift.io/reddit/search/submission?subreddit=GME&size=100&after=1654d\n"
     ]
    },
    {
     "name": "stdout",
     "output_type": "stream",
     "text": [
      "Querying from: https://api.pushshift.io/reddit/search/submission?subreddit=GME&size=100&after=1656d\n",
      "Querying from: https://api.pushshift.io/reddit/search/submission?subreddit=GME&size=100&after=1658d\n",
      "Querying from: https://api.pushshift.io/reddit/search/submission?subreddit=GME&size=100&after=1660d\n",
      "Querying from: https://api.pushshift.io/reddit/search/submission?subreddit=GME&size=100&after=1662d\n",
      "Querying from: https://api.pushshift.io/reddit/search/submission?subreddit=GME&size=100&after=1664d\n",
      "Querying from: https://api.pushshift.io/reddit/search/submission?subreddit=GME&size=100&after=1666d\n",
      "Querying from: https://api.pushshift.io/reddit/search/submission?subreddit=GME&size=100&after=1668d\n",
      "Querying from: https://api.pushshift.io/reddit/search/submission?subreddit=GME&size=100&after=1670d\n",
      "Querying from: https://api.pushshift.io/reddit/search/submission?subreddit=GME&size=100&after=1672d\n",
      "Querying from: https://api.pushshift.io/reddit/search/submission?subreddit=GME&size=100&after=1674d\n",
      "Querying from: https://api.pushshift.io/reddit/search/submission?subreddit=GME&size=100&after=1676d\n",
      "Querying from: https://api.pushshift.io/reddit/search/submission?subreddit=GME&size=100&after=1678d\n",
      "Querying from: https://api.pushshift.io/reddit/search/submission?subreddit=GME&size=100&after=1680d\n",
      "Querying from: https://api.pushshift.io/reddit/search/submission?subreddit=GME&size=100&after=1682d\n",
      "Querying from: https://api.pushshift.io/reddit/search/submission?subreddit=GME&size=100&after=1684d\n",
      "Querying from: https://api.pushshift.io/reddit/search/submission?subreddit=GME&size=100&after=1686d\n",
      "Querying from: https://api.pushshift.io/reddit/search/submission?subreddit=GME&size=100&after=1688d\n",
      "Querying from: https://api.pushshift.io/reddit/search/submission?subreddit=GME&size=100&after=1690d\n",
      "Querying from: https://api.pushshift.io/reddit/search/submission?subreddit=GME&size=100&after=1692d\n",
      "Querying from: https://api.pushshift.io/reddit/search/submission?subreddit=GME&size=100&after=1694d\n",
      "Querying from: https://api.pushshift.io/reddit/search/submission?subreddit=GME&size=100&after=1696d\n",
      "Querying from: https://api.pushshift.io/reddit/search/submission?subreddit=GME&size=100&after=1698d\n",
      "Querying from: https://api.pushshift.io/reddit/search/submission?subreddit=GME&size=100&after=1700d\n",
      "Querying from: https://api.pushshift.io/reddit/search/submission?subreddit=GME&size=100&after=1702d\n",
      "Querying from: https://api.pushshift.io/reddit/search/submission?subreddit=GME&size=100&after=1704d\n",
      "Querying from: https://api.pushshift.io/reddit/search/submission?subreddit=GME&size=100&after=1706d\n",
      "Querying from: https://api.pushshift.io/reddit/search/submission?subreddit=GME&size=100&after=1708d\n",
      "Querying from: https://api.pushshift.io/reddit/search/submission?subreddit=GME&size=100&after=1710d\n",
      "Querying from: https://api.pushshift.io/reddit/search/submission?subreddit=GME&size=100&after=1712d\n",
      "Querying from: https://api.pushshift.io/reddit/search/submission?subreddit=GME&size=100&after=1714d\n",
      "Querying from: https://api.pushshift.io/reddit/search/submission?subreddit=GME&size=100&after=1716d\n",
      "Querying from: https://api.pushshift.io/reddit/search/submission?subreddit=GME&size=100&after=1718d\n",
      "Querying from: https://api.pushshift.io/reddit/search/submission?subreddit=GME&size=100&after=1720d\n",
      "Querying from: https://api.pushshift.io/reddit/search/submission?subreddit=GME&size=100&after=1722d\n",
      "Querying from: https://api.pushshift.io/reddit/search/submission?subreddit=GME&size=100&after=1724d\n",
      "Querying from: https://api.pushshift.io/reddit/search/submission?subreddit=GME&size=100&after=1726d\n",
      "Querying from: https://api.pushshift.io/reddit/search/submission?subreddit=GME&size=100&after=1728d\n",
      "Querying from: https://api.pushshift.io/reddit/search/submission?subreddit=GME&size=100&after=1730d\n",
      "Querying from: https://api.pushshift.io/reddit/search/submission?subreddit=GME&size=100&after=1732d\n",
      "Querying from: https://api.pushshift.io/reddit/search/submission?subreddit=GME&size=100&after=1734d\n",
      "Querying from: https://api.pushshift.io/reddit/search/submission?subreddit=GME&size=100&after=1736d\n",
      "Querying from: https://api.pushshift.io/reddit/search/submission?subreddit=GME&size=100&after=1738d\n",
      "Querying from: https://api.pushshift.io/reddit/search/submission?subreddit=GME&size=100&after=1740d\n",
      "Querying from: https://api.pushshift.io/reddit/search/submission?subreddit=GME&size=100&after=1742d\n",
      "Querying from: https://api.pushshift.io/reddit/search/submission?subreddit=GME&size=100&after=1744d\n",
      "Querying from: https://api.pushshift.io/reddit/search/submission?subreddit=GME&size=100&after=1746d\n",
      "Querying from: https://api.pushshift.io/reddit/search/submission?subreddit=GME&size=100&after=1748d\n",
      "Querying from: https://api.pushshift.io/reddit/search/submission?subreddit=GME&size=100&after=1750d\n",
      "Querying from: https://api.pushshift.io/reddit/search/submission?subreddit=GME&size=100&after=1752d\n",
      "Querying from: https://api.pushshift.io/reddit/search/submission?subreddit=GME&size=100&after=1754d\n",
      "Querying from: https://api.pushshift.io/reddit/search/submission?subreddit=GME&size=100&after=1756d\n",
      "Querying from: https://api.pushshift.io/reddit/search/submission?subreddit=GME&size=100&after=1758d\n",
      "Querying from: https://api.pushshift.io/reddit/search/submission?subreddit=GME&size=100&after=1760d\n",
      "Querying from: https://api.pushshift.io/reddit/search/submission?subreddit=GME&size=100&after=1762d\n",
      "Querying from: https://api.pushshift.io/reddit/search/submission?subreddit=GME&size=100&after=1764d\n",
      "Querying from: https://api.pushshift.io/reddit/search/submission?subreddit=GME&size=100&after=1766d\n",
      "Querying from: https://api.pushshift.io/reddit/search/submission?subreddit=GME&size=100&after=1768d\n",
      "Querying from: https://api.pushshift.io/reddit/search/submission?subreddit=GME&size=100&after=1770d\n",
      "Querying from: https://api.pushshift.io/reddit/search/submission?subreddit=GME&size=100&after=1772d\n",
      "Querying from: https://api.pushshift.io/reddit/search/submission?subreddit=GME&size=100&after=1774d\n",
      "Querying from: https://api.pushshift.io/reddit/search/submission?subreddit=GME&size=100&after=1776d\n",
      "Querying from: https://api.pushshift.io/reddit/search/submission?subreddit=GME&size=100&after=1778d\n",
      "Querying from: https://api.pushshift.io/reddit/search/submission?subreddit=GME&size=100&after=1780d\n",
      "Querying from: https://api.pushshift.io/reddit/search/submission?subreddit=GME&size=100&after=1782d\n",
      "Querying from: https://api.pushshift.io/reddit/search/submission?subreddit=GME&size=100&after=1784d\n",
      "Querying from: https://api.pushshift.io/reddit/search/submission?subreddit=GME&size=100&after=1786d\n",
      "Querying from: https://api.pushshift.io/reddit/search/submission?subreddit=GME&size=100&after=1788d\n",
      "Querying from: https://api.pushshift.io/reddit/search/submission?subreddit=GME&size=100&after=1790d\n",
      "Querying from: https://api.pushshift.io/reddit/search/submission?subreddit=GME&size=100&after=1792d\n",
      "Querying from: https://api.pushshift.io/reddit/search/submission?subreddit=GME&size=100&after=1794d\n",
      "Querying from: https://api.pushshift.io/reddit/search/submission?subreddit=GME&size=100&after=1796d\n",
      "Querying from: https://api.pushshift.io/reddit/search/submission?subreddit=GME&size=100&after=1798d\n",
      "Querying from: https://api.pushshift.io/reddit/search/submission?subreddit=GME&size=100&after=1800d\n",
      "Querying from: https://api.pushshift.io/reddit/search/submission?subreddit=GME&size=100&after=1802d\n",
      "Querying from: https://api.pushshift.io/reddit/search/submission?subreddit=GME&size=100&after=1804d\n",
      "Querying from: https://api.pushshift.io/reddit/search/submission?subreddit=GME&size=100&after=1806d\n",
      "Querying from: https://api.pushshift.io/reddit/search/submission?subreddit=GME&size=100&after=1808d\n",
      "Querying from: https://api.pushshift.io/reddit/search/submission?subreddit=GME&size=100&after=1810d\n",
      "Querying from: https://api.pushshift.io/reddit/search/submission?subreddit=GME&size=100&after=1812d\n",
      "Querying from: https://api.pushshift.io/reddit/search/submission?subreddit=GME&size=100&after=1814d\n",
      "Querying from: https://api.pushshift.io/reddit/search/submission?subreddit=GME&size=100&after=1816d\n",
      "Querying from: https://api.pushshift.io/reddit/search/submission?subreddit=GME&size=100&after=1818d\n"
     ]
    },
    {
     "name": "stdout",
     "output_type": "stream",
     "text": [
      "Querying from: https://api.pushshift.io/reddit/search/submission?subreddit=GME&size=100&after=1820d\n",
      "Querying from: https://api.pushshift.io/reddit/search/submission?subreddit=GME&size=100&after=1822d\n",
      "Querying from: https://api.pushshift.io/reddit/search/submission?subreddit=GME&size=100&after=1824d\n",
      "Querying from: https://api.pushshift.io/reddit/search/submission?subreddit=GME&size=100&after=1826d\n",
      "Querying from: https://api.pushshift.io/reddit/search/submission?subreddit=GME&size=100&after=1828d\n",
      "Querying from: https://api.pushshift.io/reddit/search/submission?subreddit=GME&size=100&after=1830d\n",
      "Querying from: https://api.pushshift.io/reddit/search/submission?subreddit=GME&size=100&after=1832d\n",
      "Querying from: https://api.pushshift.io/reddit/search/submission?subreddit=GME&size=100&after=1834d\n",
      "Querying from: https://api.pushshift.io/reddit/search/submission?subreddit=GME&size=100&after=1836d\n",
      "Querying from: https://api.pushshift.io/reddit/search/submission?subreddit=GME&size=100&after=1838d\n",
      "Querying from: https://api.pushshift.io/reddit/search/submission?subreddit=GME&size=100&after=1840d\n",
      "Querying from: https://api.pushshift.io/reddit/search/submission?subreddit=GME&size=100&after=1842d\n",
      "Querying from: https://api.pushshift.io/reddit/search/submission?subreddit=GME&size=100&after=1844d\n",
      "Querying from: https://api.pushshift.io/reddit/search/submission?subreddit=GME&size=100&after=1846d\n",
      "Querying from: https://api.pushshift.io/reddit/search/submission?subreddit=GME&size=100&after=1848d\n",
      "Querying from: https://api.pushshift.io/reddit/search/submission?subreddit=GME&size=100&after=1850d\n",
      "Querying from: https://api.pushshift.io/reddit/search/submission?subreddit=GME&size=100&after=1852d\n",
      "Querying from: https://api.pushshift.io/reddit/search/submission?subreddit=GME&size=100&after=1854d\n",
      "Querying from: https://api.pushshift.io/reddit/search/submission?subreddit=GME&size=100&after=1856d\n",
      "Querying from: https://api.pushshift.io/reddit/search/submission?subreddit=GME&size=100&after=1858d\n",
      "Querying from: https://api.pushshift.io/reddit/search/submission?subreddit=GME&size=100&after=1860d\n",
      "Querying from: https://api.pushshift.io/reddit/search/submission?subreddit=GME&size=100&after=1862d\n",
      "Querying from: https://api.pushshift.io/reddit/search/submission?subreddit=GME&size=100&after=1864d\n",
      "Querying from: https://api.pushshift.io/reddit/search/submission?subreddit=GME&size=100&after=1866d\n",
      "Querying from: https://api.pushshift.io/reddit/search/submission?subreddit=GME&size=100&after=1868d\n",
      "Querying from: https://api.pushshift.io/reddit/search/submission?subreddit=GME&size=100&after=1870d\n",
      "Querying from: https://api.pushshift.io/reddit/search/submission?subreddit=GME&size=100&after=1872d\n",
      "Querying from: https://api.pushshift.io/reddit/search/submission?subreddit=GME&size=100&after=1874d\n",
      "Querying from: https://api.pushshift.io/reddit/search/submission?subreddit=GME&size=100&after=1876d\n",
      "Querying from: https://api.pushshift.io/reddit/search/submission?subreddit=GME&size=100&after=1878d\n",
      "Querying from: https://api.pushshift.io/reddit/search/submission?subreddit=GME&size=100&after=1880d\n",
      "Querying from: https://api.pushshift.io/reddit/search/submission?subreddit=GME&size=100&after=1882d\n",
      "Querying from: https://api.pushshift.io/reddit/search/submission?subreddit=GME&size=100&after=1884d\n",
      "Querying from: https://api.pushshift.io/reddit/search/submission?subreddit=GME&size=100&after=1886d\n",
      "Querying from: https://api.pushshift.io/reddit/search/submission?subreddit=GME&size=100&after=1888d\n",
      "Querying from: https://api.pushshift.io/reddit/search/submission?subreddit=GME&size=100&after=1890d\n",
      "Querying from: https://api.pushshift.io/reddit/search/submission?subreddit=GME&size=100&after=1892d\n",
      "Querying from: https://api.pushshift.io/reddit/search/submission?subreddit=GME&size=100&after=1894d\n",
      "Querying from: https://api.pushshift.io/reddit/search/submission?subreddit=GME&size=100&after=1896d\n",
      "Querying from: https://api.pushshift.io/reddit/search/submission?subreddit=GME&size=100&after=1898d\n",
      "Querying from: https://api.pushshift.io/reddit/search/submission?subreddit=GME&size=100&after=1900d\n",
      "Querying from: https://api.pushshift.io/reddit/search/submission?subreddit=GME&size=100&after=1902d\n",
      "Querying from: https://api.pushshift.io/reddit/search/submission?subreddit=GME&size=100&after=1904d\n",
      "Querying from: https://api.pushshift.io/reddit/search/submission?subreddit=GME&size=100&after=1906d\n",
      "Querying from: https://api.pushshift.io/reddit/search/submission?subreddit=GME&size=100&after=1908d\n",
      "Querying from: https://api.pushshift.io/reddit/search/submission?subreddit=GME&size=100&after=1910d\n",
      "Querying from: https://api.pushshift.io/reddit/search/submission?subreddit=GME&size=100&after=1912d\n",
      "Querying from: https://api.pushshift.io/reddit/search/submission?subreddit=GME&size=100&after=1914d\n",
      "Querying from: https://api.pushshift.io/reddit/search/submission?subreddit=GME&size=100&after=1916d\n",
      "Querying from: https://api.pushshift.io/reddit/search/submission?subreddit=GME&size=100&after=1918d\n",
      "Querying from: https://api.pushshift.io/reddit/search/submission?subreddit=GME&size=100&after=1920d\n",
      "Querying from: https://api.pushshift.io/reddit/search/submission?subreddit=GME&size=100&after=1922d\n",
      "Querying from: https://api.pushshift.io/reddit/search/submission?subreddit=GME&size=100&after=1924d\n",
      "Querying from: https://api.pushshift.io/reddit/search/submission?subreddit=GME&size=100&after=1926d\n",
      "Querying from: https://api.pushshift.io/reddit/search/submission?subreddit=GME&size=100&after=1928d\n",
      "Querying from: https://api.pushshift.io/reddit/search/submission?subreddit=GME&size=100&after=1930d\n",
      "Querying from: https://api.pushshift.io/reddit/search/submission?subreddit=GME&size=100&after=1932d\n",
      "Querying from: https://api.pushshift.io/reddit/search/submission?subreddit=GME&size=100&after=1934d\n",
      "Querying from: https://api.pushshift.io/reddit/search/submission?subreddit=GME&size=100&after=1936d\n",
      "Querying from: https://api.pushshift.io/reddit/search/submission?subreddit=GME&size=100&after=1938d\n",
      "Querying from: https://api.pushshift.io/reddit/search/submission?subreddit=GME&size=100&after=1940d\n",
      "Querying from: https://api.pushshift.io/reddit/search/submission?subreddit=GME&size=100&after=1942d\n",
      "Querying from: https://api.pushshift.io/reddit/search/submission?subreddit=GME&size=100&after=1944d\n",
      "Querying from: https://api.pushshift.io/reddit/search/submission?subreddit=GME&size=100&after=1946d\n",
      "Querying from: https://api.pushshift.io/reddit/search/submission?subreddit=GME&size=100&after=1948d\n",
      "Querying from: https://api.pushshift.io/reddit/search/submission?subreddit=GME&size=100&after=1950d\n",
      "Querying from: https://api.pushshift.io/reddit/search/submission?subreddit=GME&size=100&after=1952d\n",
      "Querying from: https://api.pushshift.io/reddit/search/submission?subreddit=GME&size=100&after=1954d\n",
      "Querying from: https://api.pushshift.io/reddit/search/submission?subreddit=GME&size=100&after=1956d\n",
      "Querying from: https://api.pushshift.io/reddit/search/submission?subreddit=GME&size=100&after=1958d\n",
      "Querying from: https://api.pushshift.io/reddit/search/submission?subreddit=GME&size=100&after=1960d\n",
      "Querying from: https://api.pushshift.io/reddit/search/submission?subreddit=GME&size=100&after=1962d\n",
      "Querying from: https://api.pushshift.io/reddit/search/submission?subreddit=GME&size=100&after=1964d\n",
      "Querying from: https://api.pushshift.io/reddit/search/submission?subreddit=GME&size=100&after=1966d\n",
      "Querying from: https://api.pushshift.io/reddit/search/submission?subreddit=GME&size=100&after=1968d\n",
      "Querying from: https://api.pushshift.io/reddit/search/submission?subreddit=GME&size=100&after=1970d\n",
      "Querying from: https://api.pushshift.io/reddit/search/submission?subreddit=GME&size=100&after=1972d\n",
      "Querying from: https://api.pushshift.io/reddit/search/submission?subreddit=GME&size=100&after=1974d\n",
      "Querying from: https://api.pushshift.io/reddit/search/submission?subreddit=GME&size=100&after=1976d\n",
      "Querying from: https://api.pushshift.io/reddit/search/submission?subreddit=GME&size=100&after=1978d\n",
      "Querying from: https://api.pushshift.io/reddit/search/submission?subreddit=GME&size=100&after=1980d\n",
      "Querying from: https://api.pushshift.io/reddit/search/submission?subreddit=GME&size=100&after=1982d\n"
     ]
    },
    {
     "name": "stdout",
     "output_type": "stream",
     "text": [
      "Querying from: https://api.pushshift.io/reddit/search/submission?subreddit=GME&size=100&after=1984d\n",
      "Querying from: https://api.pushshift.io/reddit/search/submission?subreddit=GME&size=100&after=1986d\n",
      "Querying from: https://api.pushshift.io/reddit/search/submission?subreddit=GME&size=100&after=1988d\n",
      "Querying from: https://api.pushshift.io/reddit/search/submission?subreddit=GME&size=100&after=1990d\n",
      "Querying from: https://api.pushshift.io/reddit/search/submission?subreddit=GME&size=100&after=1992d\n",
      "Querying from: https://api.pushshift.io/reddit/search/submission?subreddit=GME&size=100&after=1994d\n",
      "Querying from: https://api.pushshift.io/reddit/search/submission?subreddit=GME&size=100&after=1996d\n",
      "Querying from: https://api.pushshift.io/reddit/search/submission?subreddit=GME&size=100&after=1998d\n",
      "Querying from: https://api.pushshift.io/reddit/search/submission?subreddit=GME&size=100&after=2000d\n",
      "Querying from: https://api.pushshift.io/reddit/search/submission?subreddit=GME&size=100&after=2002d\n",
      "Querying from: https://api.pushshift.io/reddit/search/submission?subreddit=GME&size=100&after=2004d\n",
      "Querying from: https://api.pushshift.io/reddit/search/submission?subreddit=GME&size=100&after=2006d\n",
      "Querying from: https://api.pushshift.io/reddit/search/submission?subreddit=GME&size=100&after=2008d\n",
      "Querying from: https://api.pushshift.io/reddit/search/submission?subreddit=GME&size=100&after=2010d\n",
      "Querying from: https://api.pushshift.io/reddit/search/submission?subreddit=GME&size=100&after=2012d\n",
      "Querying from: https://api.pushshift.io/reddit/search/submission?subreddit=GME&size=100&after=2014d\n",
      "Querying from: https://api.pushshift.io/reddit/search/submission?subreddit=GME&size=100&after=2016d\n",
      "Querying from: https://api.pushshift.io/reddit/search/submission?subreddit=GME&size=100&after=2018d\n",
      "Querying from: https://api.pushshift.io/reddit/search/submission?subreddit=GME&size=100&after=2020d\n",
      "Querying from: https://api.pushshift.io/reddit/search/submission?subreddit=GME&size=100&after=2022d\n",
      "Querying from: https://api.pushshift.io/reddit/search/submission?subreddit=GME&size=100&after=2024d\n",
      "Querying from: https://api.pushshift.io/reddit/search/submission?subreddit=GME&size=100&after=2026d\n",
      "Querying from: https://api.pushshift.io/reddit/search/submission?subreddit=GME&size=100&after=2028d\n",
      "Querying from: https://api.pushshift.io/reddit/search/submission?subreddit=GME&size=100&after=2030d\n",
      "Querying from: https://api.pushshift.io/reddit/search/submission?subreddit=GME&size=100&after=2032d\n",
      "Querying from: https://api.pushshift.io/reddit/search/submission?subreddit=GME&size=100&after=2034d\n",
      "Querying from: https://api.pushshift.io/reddit/search/submission?subreddit=GME&size=100&after=2036d\n",
      "Querying from: https://api.pushshift.io/reddit/search/submission?subreddit=GME&size=100&after=2038d\n",
      "Querying from: https://api.pushshift.io/reddit/search/submission?subreddit=GME&size=100&after=2040d\n",
      "Querying from: https://api.pushshift.io/reddit/search/submission?subreddit=GME&size=100&after=2042d\n",
      "Querying from: https://api.pushshift.io/reddit/search/submission?subreddit=GME&size=100&after=2044d\n",
      "Querying from: https://api.pushshift.io/reddit/search/submission?subreddit=GME&size=100&after=2046d\n",
      "Querying from: https://api.pushshift.io/reddit/search/submission?subreddit=GME&size=100&after=2048d\n",
      "Querying from: https://api.pushshift.io/reddit/search/submission?subreddit=GME&size=100&after=2050d\n",
      "Querying from: https://api.pushshift.io/reddit/search/submission?subreddit=GME&size=100&after=2052d\n",
      "Querying from: https://api.pushshift.io/reddit/search/submission?subreddit=GME&size=100&after=2054d\n",
      "Querying from: https://api.pushshift.io/reddit/search/submission?subreddit=GME&size=100&after=2056d\n",
      "Querying from: https://api.pushshift.io/reddit/search/submission?subreddit=GME&size=100&after=2058d\n",
      "Querying from: https://api.pushshift.io/reddit/search/submission?subreddit=GME&size=100&after=2060d\n",
      "Querying from: https://api.pushshift.io/reddit/search/submission?subreddit=GME&size=100&after=2062d\n",
      "Querying from: https://api.pushshift.io/reddit/search/submission?subreddit=GME&size=100&after=2064d\n",
      "Querying from: https://api.pushshift.io/reddit/search/submission?subreddit=GME&size=100&after=2066d\n",
      "Querying from: https://api.pushshift.io/reddit/search/submission?subreddit=GME&size=100&after=2068d\n",
      "Querying from: https://api.pushshift.io/reddit/search/submission?subreddit=GME&size=100&after=2070d\n",
      "Querying from: https://api.pushshift.io/reddit/search/submission?subreddit=GME&size=100&after=2072d\n",
      "Querying from: https://api.pushshift.io/reddit/search/submission?subreddit=GME&size=100&after=2074d\n",
      "Querying from: https://api.pushshift.io/reddit/search/submission?subreddit=GME&size=100&after=2076d\n",
      "Querying from: https://api.pushshift.io/reddit/search/submission?subreddit=GME&size=100&after=2078d\n",
      "Querying from: https://api.pushshift.io/reddit/search/submission?subreddit=GME&size=100&after=2080d\n",
      "Querying from: https://api.pushshift.io/reddit/search/submission?subreddit=GME&size=100&after=2082d\n",
      "Querying from: https://api.pushshift.io/reddit/search/submission?subreddit=GME&size=100&after=2084d\n",
      "Querying from: https://api.pushshift.io/reddit/search/submission?subreddit=GME&size=100&after=2086d\n",
      "Querying from: https://api.pushshift.io/reddit/search/submission?subreddit=GME&size=100&after=2088d\n",
      "Querying from: https://api.pushshift.io/reddit/search/submission?subreddit=GME&size=100&after=2090d\n",
      "Querying from: https://api.pushshift.io/reddit/search/submission?subreddit=GME&size=100&after=2092d\n",
      "Querying from: https://api.pushshift.io/reddit/search/submission?subreddit=GME&size=100&after=2094d\n",
      "Querying from: https://api.pushshift.io/reddit/search/submission?subreddit=GME&size=100&after=2096d\n",
      "Querying from: https://api.pushshift.io/reddit/search/submission?subreddit=GME&size=100&after=2098d\n",
      "Querying from: https://api.pushshift.io/reddit/search/submission?subreddit=GME&size=100&after=2100d\n",
      "Querying from: https://api.pushshift.io/reddit/search/submission?subreddit=GME&size=100&after=2102d\n",
      "Querying from: https://api.pushshift.io/reddit/search/submission?subreddit=GME&size=100&after=2104d\n",
      "Querying from: https://api.pushshift.io/reddit/search/submission?subreddit=GME&size=100&after=2106d\n",
      "Querying from: https://api.pushshift.io/reddit/search/submission?subreddit=GME&size=100&after=2108d\n",
      "Querying from: https://api.pushshift.io/reddit/search/submission?subreddit=GME&size=100&after=2110d\n",
      "Querying from: https://api.pushshift.io/reddit/search/submission?subreddit=GME&size=100&after=2112d\n",
      "Querying from: https://api.pushshift.io/reddit/search/submission?subreddit=GME&size=100&after=2114d\n",
      "Querying from: https://api.pushshift.io/reddit/search/submission?subreddit=GME&size=100&after=2116d\n",
      "Querying from: https://api.pushshift.io/reddit/search/submission?subreddit=GME&size=100&after=2118d\n",
      "Querying from: https://api.pushshift.io/reddit/search/submission?subreddit=GME&size=100&after=2120d\n",
      "Querying from: https://api.pushshift.io/reddit/search/submission?subreddit=GME&size=100&after=2122d\n",
      "Querying from: https://api.pushshift.io/reddit/search/submission?subreddit=GME&size=100&after=2124d\n",
      "Querying from: https://api.pushshift.io/reddit/search/submission?subreddit=GME&size=100&after=2126d\n",
      "Querying from: https://api.pushshift.io/reddit/search/submission?subreddit=GME&size=100&after=2128d\n",
      "Querying from: https://api.pushshift.io/reddit/search/submission?subreddit=GME&size=100&after=2130d\n",
      "Querying from: https://api.pushshift.io/reddit/search/submission?subreddit=GME&size=100&after=2132d\n",
      "Querying from: https://api.pushshift.io/reddit/search/submission?subreddit=GME&size=100&after=2134d\n",
      "Querying from: https://api.pushshift.io/reddit/search/submission?subreddit=GME&size=100&after=2136d\n",
      "Querying from: https://api.pushshift.io/reddit/search/submission?subreddit=GME&size=100&after=2138d\n",
      "Querying from: https://api.pushshift.io/reddit/search/submission?subreddit=GME&size=100&after=2140d\n",
      "Querying from: https://api.pushshift.io/reddit/search/submission?subreddit=GME&size=100&after=2142d\n",
      "Querying from: https://api.pushshift.io/reddit/search/submission?subreddit=GME&size=100&after=2144d\n",
      "Querying from: https://api.pushshift.io/reddit/search/submission?subreddit=GME&size=100&after=2146d\n"
     ]
    },
    {
     "name": "stdout",
     "output_type": "stream",
     "text": [
      "Querying from: https://api.pushshift.io/reddit/search/submission?subreddit=GME&size=100&after=2148d\n",
      "Querying from: https://api.pushshift.io/reddit/search/submission?subreddit=GME&size=100&after=2150d\n",
      "Querying from: https://api.pushshift.io/reddit/search/submission?subreddit=GME&size=100&after=2152d\n",
      "Querying from: https://api.pushshift.io/reddit/search/submission?subreddit=GME&size=100&after=2154d\n",
      "Querying from: https://api.pushshift.io/reddit/search/submission?subreddit=GME&size=100&after=2156d\n",
      "Querying from: https://api.pushshift.io/reddit/search/submission?subreddit=GME&size=100&after=2158d\n",
      "Querying from: https://api.pushshift.io/reddit/search/submission?subreddit=GME&size=100&after=2160d\n",
      "Querying from: https://api.pushshift.io/reddit/search/submission?subreddit=GME&size=100&after=2162d\n",
      "Querying from: https://api.pushshift.io/reddit/search/submission?subreddit=GME&size=100&after=2164d\n",
      "Querying from: https://api.pushshift.io/reddit/search/submission?subreddit=GME&size=100&after=2166d\n",
      "Querying from: https://api.pushshift.io/reddit/search/submission?subreddit=GME&size=100&after=2168d\n",
      "Querying from: https://api.pushshift.io/reddit/search/submission?subreddit=GME&size=100&after=2170d\n",
      "Querying from: https://api.pushshift.io/reddit/search/submission?subreddit=GME&size=100&after=2172d\n",
      "Querying from: https://api.pushshift.io/reddit/search/submission?subreddit=GME&size=100&after=2174d\n",
      "Querying from: https://api.pushshift.io/reddit/search/submission?subreddit=GME&size=100&after=2176d\n",
      "Querying from: https://api.pushshift.io/reddit/search/submission?subreddit=GME&size=100&after=2178d\n",
      "Querying from: https://api.pushshift.io/reddit/search/submission?subreddit=GME&size=100&after=2180d\n",
      "Querying from: https://api.pushshift.io/reddit/search/submission?subreddit=GME&size=100&after=2182d\n",
      "Querying from: https://api.pushshift.io/reddit/search/submission?subreddit=GME&size=100&after=2184d\n",
      "Querying from: https://api.pushshift.io/reddit/search/submission?subreddit=GME&size=100&after=2186d\n",
      "Querying from: https://api.pushshift.io/reddit/search/submission?subreddit=GME&size=100&after=2188d\n",
      "Querying from: https://api.pushshift.io/reddit/search/submission?subreddit=GME&size=100&after=2190d\n",
      "Querying from: https://api.pushshift.io/reddit/search/submission?subreddit=GME&size=100&after=2192d\n",
      "Querying from: https://api.pushshift.io/reddit/search/submission?subreddit=GME&size=100&after=2194d\n",
      "Querying from: https://api.pushshift.io/reddit/search/submission?subreddit=GME&size=100&after=2196d\n",
      "Querying from: https://api.pushshift.io/reddit/search/submission?subreddit=GME&size=100&after=2198d\n",
      "Querying from: https://api.pushshift.io/reddit/search/submission?subreddit=GME&size=100&after=2200d\n",
      "Querying from: https://api.pushshift.io/reddit/search/submission?subreddit=GME&size=100&after=2202d\n",
      "Querying from: https://api.pushshift.io/reddit/search/submission?subreddit=GME&size=100&after=2204d\n",
      "Querying from: https://api.pushshift.io/reddit/search/submission?subreddit=GME&size=100&after=2206d\n",
      "Querying from: https://api.pushshift.io/reddit/search/submission?subreddit=GME&size=100&after=2208d\n",
      "Querying from: https://api.pushshift.io/reddit/search/submission?subreddit=GME&size=100&after=2210d\n",
      "Querying from: https://api.pushshift.io/reddit/search/submission?subreddit=GME&size=100&after=2212d\n",
      "Querying from: https://api.pushshift.io/reddit/search/submission?subreddit=GME&size=100&after=2214d\n",
      "Querying from: https://api.pushshift.io/reddit/search/submission?subreddit=GME&size=100&after=2216d\n",
      "Querying from: https://api.pushshift.io/reddit/search/submission?subreddit=GME&size=100&after=2218d\n",
      "Querying from: https://api.pushshift.io/reddit/search/submission?subreddit=GME&size=100&after=2220d\n",
      "Querying from: https://api.pushshift.io/reddit/search/submission?subreddit=GME&size=100&after=2222d\n",
      "Querying from: https://api.pushshift.io/reddit/search/submission?subreddit=GME&size=100&after=2224d\n",
      "Querying from: https://api.pushshift.io/reddit/search/submission?subreddit=GME&size=100&after=2226d\n",
      "Querying from: https://api.pushshift.io/reddit/search/submission?subreddit=GME&size=100&after=2228d\n",
      "Querying from: https://api.pushshift.io/reddit/search/submission?subreddit=GME&size=100&after=2230d\n",
      "Querying from: https://api.pushshift.io/reddit/search/submission?subreddit=GME&size=100&after=2232d\n",
      "Querying from: https://api.pushshift.io/reddit/search/submission?subreddit=GME&size=100&after=2234d\n",
      "Querying from: https://api.pushshift.io/reddit/search/submission?subreddit=GME&size=100&after=2236d\n",
      "Querying from: https://api.pushshift.io/reddit/search/submission?subreddit=GME&size=100&after=2238d\n",
      "Querying from: https://api.pushshift.io/reddit/search/submission?subreddit=GME&size=100&after=2240d\n",
      "Querying from: https://api.pushshift.io/reddit/search/submission?subreddit=GME&size=100&after=2242d\n",
      "Querying from: https://api.pushshift.io/reddit/search/submission?subreddit=GME&size=100&after=2244d\n",
      "Querying from: https://api.pushshift.io/reddit/search/submission?subreddit=GME&size=100&after=2246d\n",
      "Querying from: https://api.pushshift.io/reddit/search/submission?subreddit=GME&size=100&after=2248d\n",
      "Querying from: https://api.pushshift.io/reddit/search/submission?subreddit=GME&size=100&after=2250d\n",
      "Querying from: https://api.pushshift.io/reddit/search/submission?subreddit=GME&size=100&after=2252d\n",
      "Querying from: https://api.pushshift.io/reddit/search/submission?subreddit=GME&size=100&after=2254d\n",
      "Querying from: https://api.pushshift.io/reddit/search/submission?subreddit=GME&size=100&after=2256d\n",
      "Querying from: https://api.pushshift.io/reddit/search/submission?subreddit=GME&size=100&after=2258d\n",
      "Querying from: https://api.pushshift.io/reddit/search/submission?subreddit=GME&size=100&after=2260d\n",
      "Querying from: https://api.pushshift.io/reddit/search/submission?subreddit=GME&size=100&after=2262d\n",
      "Querying from: https://api.pushshift.io/reddit/search/submission?subreddit=GME&size=100&after=2264d\n",
      "Querying from: https://api.pushshift.io/reddit/search/submission?subreddit=GME&size=100&after=2266d\n",
      "Querying from: https://api.pushshift.io/reddit/search/submission?subreddit=GME&size=100&after=2268d\n",
      "Querying from: https://api.pushshift.io/reddit/search/submission?subreddit=GME&size=100&after=2270d\n",
      "Querying from: https://api.pushshift.io/reddit/search/submission?subreddit=GME&size=100&after=2272d\n",
      "Querying from: https://api.pushshift.io/reddit/search/submission?subreddit=GME&size=100&after=2274d\n",
      "Querying from: https://api.pushshift.io/reddit/search/submission?subreddit=GME&size=100&after=2276d\n",
      "Querying from: https://api.pushshift.io/reddit/search/submission?subreddit=GME&size=100&after=2278d\n",
      "Querying from: https://api.pushshift.io/reddit/search/submission?subreddit=GME&size=100&after=2280d\n",
      "Querying from: https://api.pushshift.io/reddit/search/submission?subreddit=GME&size=100&after=2282d\n",
      "Querying from: https://api.pushshift.io/reddit/search/submission?subreddit=GME&size=100&after=2284d\n",
      "Querying from: https://api.pushshift.io/reddit/search/submission?subreddit=GME&size=100&after=2286d\n",
      "Querying from: https://api.pushshift.io/reddit/search/submission?subreddit=GME&size=100&after=2288d\n",
      "Querying from: https://api.pushshift.io/reddit/search/submission?subreddit=GME&size=100&after=2290d\n",
      "Querying from: https://api.pushshift.io/reddit/search/submission?subreddit=GME&size=100&after=2292d\n",
      "Querying from: https://api.pushshift.io/reddit/search/submission?subreddit=GME&size=100&after=2294d\n",
      "Querying from: https://api.pushshift.io/reddit/search/submission?subreddit=GME&size=100&after=2296d\n",
      "Querying from: https://api.pushshift.io/reddit/search/submission?subreddit=GME&size=100&after=2298d\n",
      "Querying from: https://api.pushshift.io/reddit/search/submission?subreddit=GME&size=100&after=2300d\n",
      "Querying from: https://api.pushshift.io/reddit/search/submission?subreddit=GME&size=100&after=2302d\n",
      "Querying from: https://api.pushshift.io/reddit/search/submission?subreddit=GME&size=100&after=2304d\n",
      "Querying from: https://api.pushshift.io/reddit/search/submission?subreddit=GME&size=100&after=2306d\n",
      "Querying from: https://api.pushshift.io/reddit/search/submission?subreddit=GME&size=100&after=2308d\n",
      "Querying from: https://api.pushshift.io/reddit/search/submission?subreddit=GME&size=100&after=2310d\n"
     ]
    },
    {
     "name": "stdout",
     "output_type": "stream",
     "text": [
      "Querying from: https://api.pushshift.io/reddit/search/submission?subreddit=GME&size=100&after=2312d\n",
      "Querying from: https://api.pushshift.io/reddit/search/submission?subreddit=GME&size=100&after=2314d\n",
      "Querying from: https://api.pushshift.io/reddit/search/submission?subreddit=GME&size=100&after=2316d\n",
      "Querying from: https://api.pushshift.io/reddit/search/submission?subreddit=GME&size=100&after=2318d\n",
      "Querying from: https://api.pushshift.io/reddit/search/submission?subreddit=GME&size=100&after=2320d\n",
      "Querying from: https://api.pushshift.io/reddit/search/submission?subreddit=GME&size=100&after=2322d\n",
      "Querying from: https://api.pushshift.io/reddit/search/submission?subreddit=GME&size=100&after=2324d\n",
      "Querying from: https://api.pushshift.io/reddit/search/submission?subreddit=GME&size=100&after=2326d\n",
      "Querying from: https://api.pushshift.io/reddit/search/submission?subreddit=GME&size=100&after=2328d\n",
      "Querying from: https://api.pushshift.io/reddit/search/submission?subreddit=GME&size=100&after=2330d\n",
      "Querying from: https://api.pushshift.io/reddit/search/submission?subreddit=GME&size=100&after=2332d\n",
      "Querying from: https://api.pushshift.io/reddit/search/submission?subreddit=GME&size=100&after=2334d\n",
      "Querying from: https://api.pushshift.io/reddit/search/submission?subreddit=GME&size=100&after=2336d\n",
      "Querying from: https://api.pushshift.io/reddit/search/submission?subreddit=GME&size=100&after=2338d\n",
      "Querying from: https://api.pushshift.io/reddit/search/submission?subreddit=GME&size=100&after=2340d\n",
      "Querying from: https://api.pushshift.io/reddit/search/submission?subreddit=GME&size=100&after=2342d\n",
      "Querying from: https://api.pushshift.io/reddit/search/submission?subreddit=GME&size=100&after=2344d\n",
      "Querying from: https://api.pushshift.io/reddit/search/submission?subreddit=GME&size=100&after=2346d\n",
      "Querying from: https://api.pushshift.io/reddit/search/submission?subreddit=GME&size=100&after=2348d\n",
      "Querying from: https://api.pushshift.io/reddit/search/submission?subreddit=GME&size=100&after=2350d\n",
      "Querying from: https://api.pushshift.io/reddit/search/submission?subreddit=GME&size=100&after=2352d\n",
      "Querying from: https://api.pushshift.io/reddit/search/submission?subreddit=GME&size=100&after=2354d\n",
      "Querying from: https://api.pushshift.io/reddit/search/submission?subreddit=GME&size=100&after=2356d\n",
      "Querying from: https://api.pushshift.io/reddit/search/submission?subreddit=GME&size=100&after=2358d\n",
      "Querying from: https://api.pushshift.io/reddit/search/submission?subreddit=GME&size=100&after=2360d\n",
      "Querying from: https://api.pushshift.io/reddit/search/submission?subreddit=GME&size=100&after=2362d\n",
      "Querying from: https://api.pushshift.io/reddit/search/submission?subreddit=GME&size=100&after=2364d\n",
      "Querying from: https://api.pushshift.io/reddit/search/submission?subreddit=GME&size=100&after=2366d\n",
      "Querying from: https://api.pushshift.io/reddit/search/submission?subreddit=GME&size=100&after=2368d\n",
      "Querying from: https://api.pushshift.io/reddit/search/submission?subreddit=GME&size=100&after=2370d\n",
      "Querying from: https://api.pushshift.io/reddit/search/submission?subreddit=GME&size=100&after=2372d\n",
      "Querying from: https://api.pushshift.io/reddit/search/submission?subreddit=GME&size=100&after=2374d\n",
      "Querying from: https://api.pushshift.io/reddit/search/submission?subreddit=GME&size=100&after=2376d\n",
      "Querying from: https://api.pushshift.io/reddit/search/submission?subreddit=GME&size=100&after=2378d\n",
      "Querying from: https://api.pushshift.io/reddit/search/submission?subreddit=GME&size=100&after=2380d\n",
      "Querying from: https://api.pushshift.io/reddit/search/submission?subreddit=GME&size=100&after=2382d\n",
      "Querying from: https://api.pushshift.io/reddit/search/submission?subreddit=GME&size=100&after=2384d\n",
      "Querying from: https://api.pushshift.io/reddit/search/submission?subreddit=GME&size=100&after=2386d\n",
      "Querying from: https://api.pushshift.io/reddit/search/submission?subreddit=GME&size=100&after=2388d\n",
      "Querying from: https://api.pushshift.io/reddit/search/submission?subreddit=GME&size=100&after=2390d\n",
      "Querying from: https://api.pushshift.io/reddit/search/submission?subreddit=GME&size=100&after=2392d\n",
      "Querying from: https://api.pushshift.io/reddit/search/submission?subreddit=GME&size=100&after=2394d\n",
      "Querying from: https://api.pushshift.io/reddit/search/submission?subreddit=GME&size=100&after=2396d\n",
      "Querying from: https://api.pushshift.io/reddit/search/submission?subreddit=GME&size=100&after=2398d\n",
      "Querying from: https://api.pushshift.io/reddit/search/submission?subreddit=GME&size=100&after=2400d\n",
      "Querying from: https://api.pushshift.io/reddit/search/submission?subreddit=GME&size=100&after=2402d\n",
      "Querying from: https://api.pushshift.io/reddit/search/submission?subreddit=GME&size=100&after=2404d\n",
      "Querying from: https://api.pushshift.io/reddit/search/submission?subreddit=GME&size=100&after=2406d\n",
      "Querying from: https://api.pushshift.io/reddit/search/submission?subreddit=GME&size=100&after=2408d\n",
      "Querying from: https://api.pushshift.io/reddit/search/submission?subreddit=GME&size=100&after=2410d\n",
      "Querying from: https://api.pushshift.io/reddit/search/submission?subreddit=GME&size=100&after=2412d\n",
      "Querying from: https://api.pushshift.io/reddit/search/submission?subreddit=GME&size=100&after=2414d\n",
      "Querying from: https://api.pushshift.io/reddit/search/submission?subreddit=GME&size=100&after=2416d\n",
      "Querying from: https://api.pushshift.io/reddit/search/submission?subreddit=GME&size=100&after=2418d\n",
      "Querying from: https://api.pushshift.io/reddit/search/submission?subreddit=GME&size=100&after=2420d\n",
      "Querying from: https://api.pushshift.io/reddit/search/submission?subreddit=GME&size=100&after=2422d\n",
      "Querying from: https://api.pushshift.io/reddit/search/submission?subreddit=GME&size=100&after=2424d\n",
      "Querying from: https://api.pushshift.io/reddit/search/submission?subreddit=GME&size=100&after=2426d\n",
      "Querying from: https://api.pushshift.io/reddit/search/submission?subreddit=GME&size=100&after=2428d\n",
      "Querying from: https://api.pushshift.io/reddit/search/submission?subreddit=GME&size=100&after=2430d\n",
      "Querying from: https://api.pushshift.io/reddit/search/submission?subreddit=GME&size=100&after=2432d\n",
      "Querying from: https://api.pushshift.io/reddit/search/submission?subreddit=GME&size=100&after=2434d\n",
      "Querying from: https://api.pushshift.io/reddit/search/submission?subreddit=GME&size=100&after=2436d\n",
      "Querying from: https://api.pushshift.io/reddit/search/submission?subreddit=GME&size=100&after=2438d\n",
      "Querying from: https://api.pushshift.io/reddit/search/submission?subreddit=GME&size=100&after=2440d\n",
      "Querying from: https://api.pushshift.io/reddit/search/submission?subreddit=GME&size=100&after=2442d\n",
      "Querying from: https://api.pushshift.io/reddit/search/submission?subreddit=GME&size=100&after=2444d\n",
      "Querying from: https://api.pushshift.io/reddit/search/submission?subreddit=GME&size=100&after=2446d\n",
      "Querying from: https://api.pushshift.io/reddit/search/submission?subreddit=GME&size=100&after=2448d\n",
      "Querying from: https://api.pushshift.io/reddit/search/submission?subreddit=GME&size=100&after=2450d\n",
      "Querying from: https://api.pushshift.io/reddit/search/submission?subreddit=GME&size=100&after=2452d\n",
      "Querying from: https://api.pushshift.io/reddit/search/submission?subreddit=GME&size=100&after=2454d\n",
      "Querying from: https://api.pushshift.io/reddit/search/submission?subreddit=GME&size=100&after=2456d\n",
      "Querying from: https://api.pushshift.io/reddit/search/submission?subreddit=GME&size=100&after=2458d\n",
      "Querying from: https://api.pushshift.io/reddit/search/submission?subreddit=GME&size=100&after=2460d\n",
      "Querying from: https://api.pushshift.io/reddit/search/submission?subreddit=GME&size=100&after=2462d\n",
      "Querying from: https://api.pushshift.io/reddit/search/submission?subreddit=GME&size=100&after=2464d\n",
      "Querying from: https://api.pushshift.io/reddit/search/submission?subreddit=GME&size=100&after=2466d\n",
      "Querying from: https://api.pushshift.io/reddit/search/submission?subreddit=GME&size=100&after=2468d\n",
      "Querying from: https://api.pushshift.io/reddit/search/submission?subreddit=GME&size=100&after=2470d\n",
      "Querying from: https://api.pushshift.io/reddit/search/submission?subreddit=GME&size=100&after=2472d\n",
      "Querying from: https://api.pushshift.io/reddit/search/submission?subreddit=GME&size=100&after=2474d\n"
     ]
    },
    {
     "name": "stdout",
     "output_type": "stream",
     "text": [
      "Querying from: https://api.pushshift.io/reddit/search/submission?subreddit=GME&size=100&after=2476d\n",
      "Querying from: https://api.pushshift.io/reddit/search/submission?subreddit=GME&size=100&after=2478d\n",
      "Querying from: https://api.pushshift.io/reddit/search/submission?subreddit=GME&size=100&after=2480d\n",
      "Querying from: https://api.pushshift.io/reddit/search/submission?subreddit=GME&size=100&after=2482d\n",
      "Querying from: https://api.pushshift.io/reddit/search/submission?subreddit=GME&size=100&after=2484d\n",
      "Querying from: https://api.pushshift.io/reddit/search/submission?subreddit=GME&size=100&after=2486d\n",
      "Querying from: https://api.pushshift.io/reddit/search/submission?subreddit=GME&size=100&after=2488d\n",
      "Querying from: https://api.pushshift.io/reddit/search/submission?subreddit=GME&size=100&after=2490d\n",
      "Querying from: https://api.pushshift.io/reddit/search/submission?subreddit=GME&size=100&after=2492d\n",
      "Querying from: https://api.pushshift.io/reddit/search/submission?subreddit=GME&size=100&after=2494d\n",
      "Querying from: https://api.pushshift.io/reddit/search/submission?subreddit=GME&size=100&after=2496d\n",
      "Querying from: https://api.pushshift.io/reddit/search/submission?subreddit=GME&size=100&after=2498d\n",
      "Querying from: https://api.pushshift.io/reddit/search/submission?subreddit=GME&size=100&after=2500d\n",
      "Querying from: https://api.pushshift.io/reddit/search/submission?subreddit=GME&size=100&after=2502d\n",
      "Querying from: https://api.pushshift.io/reddit/search/submission?subreddit=GME&size=100&after=2504d\n",
      "Querying from: https://api.pushshift.io/reddit/search/submission?subreddit=GME&size=100&after=2506d\n",
      "Querying from: https://api.pushshift.io/reddit/search/submission?subreddit=GME&size=100&after=2508d\n",
      "Querying from: https://api.pushshift.io/reddit/search/submission?subreddit=GME&size=100&after=2510d\n",
      "Querying from: https://api.pushshift.io/reddit/search/submission?subreddit=GME&size=100&after=2512d\n",
      "Querying from: https://api.pushshift.io/reddit/search/submission?subreddit=GME&size=100&after=2514d\n",
      "Querying from: https://api.pushshift.io/reddit/search/submission?subreddit=GME&size=100&after=2516d\n",
      "Querying from: https://api.pushshift.io/reddit/search/submission?subreddit=GME&size=100&after=2518d\n",
      "Querying from: https://api.pushshift.io/reddit/search/submission?subreddit=GME&size=100&after=2520d\n",
      "Querying from: https://api.pushshift.io/reddit/search/submission?subreddit=GME&size=100&after=2522d\n",
      "Querying from: https://api.pushshift.io/reddit/search/submission?subreddit=GME&size=100&after=2524d\n",
      "Querying from: https://api.pushshift.io/reddit/search/submission?subreddit=GME&size=100&after=2526d\n",
      "Querying from: https://api.pushshift.io/reddit/search/submission?subreddit=GME&size=100&after=2528d\n",
      "Querying from: https://api.pushshift.io/reddit/search/submission?subreddit=GME&size=100&after=2530d\n",
      "Querying from: https://api.pushshift.io/reddit/search/submission?subreddit=GME&size=100&after=2532d\n",
      "Querying from: https://api.pushshift.io/reddit/search/submission?subreddit=GME&size=100&after=2534d\n",
      "Querying from: https://api.pushshift.io/reddit/search/submission?subreddit=GME&size=100&after=2536d\n",
      "Querying from: https://api.pushshift.io/reddit/search/submission?subreddit=GME&size=100&after=2538d\n",
      "Querying from: https://api.pushshift.io/reddit/search/submission?subreddit=GME&size=100&after=2540d\n",
      "Querying from: https://api.pushshift.io/reddit/search/submission?subreddit=GME&size=100&after=2542d\n",
      "Querying from: https://api.pushshift.io/reddit/search/submission?subreddit=GME&size=100&after=2544d\n",
      "Querying from: https://api.pushshift.io/reddit/search/submission?subreddit=GME&size=100&after=2546d\n",
      "Querying from: https://api.pushshift.io/reddit/search/submission?subreddit=GME&size=100&after=2548d\n",
      "Querying from: https://api.pushshift.io/reddit/search/submission?subreddit=GME&size=100&after=2550d\n",
      "Querying from: https://api.pushshift.io/reddit/search/submission?subreddit=GME&size=100&after=2552d\n",
      "Querying from: https://api.pushshift.io/reddit/search/submission?subreddit=GME&size=100&after=2554d\n",
      "Querying from: https://api.pushshift.io/reddit/search/submission?subreddit=GME&size=100&after=2556d\n",
      "Querying from: https://api.pushshift.io/reddit/search/submission?subreddit=GME&size=100&after=2558d\n",
      "Querying from: https://api.pushshift.io/reddit/search/submission?subreddit=GME&size=100&after=2560d\n",
      "Querying from: https://api.pushshift.io/reddit/search/submission?subreddit=GME&size=100&after=2562d\n",
      "Querying from: https://api.pushshift.io/reddit/search/submission?subreddit=GME&size=100&after=2564d\n",
      "Querying from: https://api.pushshift.io/reddit/search/submission?subreddit=GME&size=100&after=2566d\n",
      "Querying from: https://api.pushshift.io/reddit/search/submission?subreddit=GME&size=100&after=2568d\n",
      "Querying from: https://api.pushshift.io/reddit/search/submission?subreddit=GME&size=100&after=2570d\n",
      "Querying from: https://api.pushshift.io/reddit/search/submission?subreddit=GME&size=100&after=2572d\n",
      "Querying from: https://api.pushshift.io/reddit/search/submission?subreddit=GME&size=100&after=2574d\n",
      "Querying from: https://api.pushshift.io/reddit/search/submission?subreddit=GME&size=100&after=2576d\n",
      "Querying from: https://api.pushshift.io/reddit/search/submission?subreddit=GME&size=100&after=2578d\n",
      "Querying from: https://api.pushshift.io/reddit/search/submission?subreddit=GME&size=100&after=2580d\n",
      "Querying from: https://api.pushshift.io/reddit/search/submission?subreddit=GME&size=100&after=2582d\n",
      "Querying from: https://api.pushshift.io/reddit/search/submission?subreddit=GME&size=100&after=2584d\n",
      "Querying from: https://api.pushshift.io/reddit/search/submission?subreddit=GME&size=100&after=2586d\n",
      "Querying from: https://api.pushshift.io/reddit/search/submission?subreddit=GME&size=100&after=2588d\n",
      "Querying from: https://api.pushshift.io/reddit/search/submission?subreddit=GME&size=100&after=2590d\n",
      "Querying from: https://api.pushshift.io/reddit/search/submission?subreddit=GME&size=100&after=2592d\n",
      "Querying from: https://api.pushshift.io/reddit/search/submission?subreddit=GME&size=100&after=2594d\n",
      "Querying from: https://api.pushshift.io/reddit/search/submission?subreddit=GME&size=100&after=2596d\n",
      "Querying from: https://api.pushshift.io/reddit/search/submission?subreddit=GME&size=100&after=2598d\n",
      "Querying from: https://api.pushshift.io/reddit/search/submission?subreddit=GME&size=100&after=2600d\n",
      "Querying from: https://api.pushshift.io/reddit/search/submission?subreddit=GME&size=100&after=2602d\n",
      "Querying from: https://api.pushshift.io/reddit/search/submission?subreddit=GME&size=100&after=2604d\n",
      "Querying from: https://api.pushshift.io/reddit/search/submission?subreddit=GME&size=100&after=2606d\n",
      "Querying from: https://api.pushshift.io/reddit/search/submission?subreddit=GME&size=100&after=2608d\n",
      "Querying from: https://api.pushshift.io/reddit/search/submission?subreddit=GME&size=100&after=2610d\n",
      "Querying from: https://api.pushshift.io/reddit/search/submission?subreddit=GME&size=100&after=2612d\n",
      "Querying from: https://api.pushshift.io/reddit/search/submission?subreddit=GME&size=100&after=2614d\n",
      "Querying from: https://api.pushshift.io/reddit/search/submission?subreddit=GME&size=100&after=2616d\n",
      "Querying from: https://api.pushshift.io/reddit/search/submission?subreddit=GME&size=100&after=2618d\n",
      "Querying from: https://api.pushshift.io/reddit/search/submission?subreddit=GME&size=100&after=2620d\n",
      "Querying from: https://api.pushshift.io/reddit/search/submission?subreddit=GME&size=100&after=2622d\n",
      "Querying from: https://api.pushshift.io/reddit/search/submission?subreddit=GME&size=100&after=2624d\n",
      "Querying from: https://api.pushshift.io/reddit/search/submission?subreddit=GME&size=100&after=2626d\n",
      "Querying from: https://api.pushshift.io/reddit/search/submission?subreddit=GME&size=100&after=2628d\n",
      "Querying from: https://api.pushshift.io/reddit/search/submission?subreddit=GME&size=100&after=2630d\n",
      "Querying from: https://api.pushshift.io/reddit/search/submission?subreddit=GME&size=100&after=2632d\n",
      "Querying from: https://api.pushshift.io/reddit/search/submission?subreddit=GME&size=100&after=2634d\n",
      "Querying from: https://api.pushshift.io/reddit/search/submission?subreddit=GME&size=100&after=2636d\n",
      "Querying from: https://api.pushshift.io/reddit/search/submission?subreddit=GME&size=100&after=2638d\n"
     ]
    },
    {
     "name": "stdout",
     "output_type": "stream",
     "text": [
      "Querying from: https://api.pushshift.io/reddit/search/submission?subreddit=GME&size=100&after=2640d\n",
      "Querying from: https://api.pushshift.io/reddit/search/submission?subreddit=GME&size=100&after=2642d\n",
      "Querying from: https://api.pushshift.io/reddit/search/submission?subreddit=GME&size=100&after=2644d\n",
      "Querying from: https://api.pushshift.io/reddit/search/submission?subreddit=GME&size=100&after=2646d\n",
      "Querying from: https://api.pushshift.io/reddit/search/submission?subreddit=GME&size=100&after=2648d\n",
      "Querying from: https://api.pushshift.io/reddit/search/submission?subreddit=GME&size=100&after=2650d\n",
      "Querying from: https://api.pushshift.io/reddit/search/submission?subreddit=GME&size=100&after=2652d\n",
      "Querying from: https://api.pushshift.io/reddit/search/submission?subreddit=GME&size=100&after=2654d\n",
      "Querying from: https://api.pushshift.io/reddit/search/submission?subreddit=GME&size=100&after=2656d\n",
      "Querying from: https://api.pushshift.io/reddit/search/submission?subreddit=GME&size=100&after=2658d\n",
      "Querying from: https://api.pushshift.io/reddit/search/submission?subreddit=GME&size=100&after=2660d\n",
      "Querying from: https://api.pushshift.io/reddit/search/submission?subreddit=GME&size=100&after=2662d\n",
      "Querying from: https://api.pushshift.io/reddit/search/submission?subreddit=GME&size=100&after=2664d\n",
      "Querying from: https://api.pushshift.io/reddit/search/submission?subreddit=GME&size=100&after=2666d\n",
      "Querying from: https://api.pushshift.io/reddit/search/submission?subreddit=GME&size=100&after=2668d\n",
      "Querying from: https://api.pushshift.io/reddit/search/submission?subreddit=GME&size=100&after=2670d\n",
      "Querying from: https://api.pushshift.io/reddit/search/submission?subreddit=GME&size=100&after=2672d\n",
      "Querying from: https://api.pushshift.io/reddit/search/submission?subreddit=GME&size=100&after=2674d\n",
      "Querying from: https://api.pushshift.io/reddit/search/submission?subreddit=GME&size=100&after=2676d\n",
      "Querying from: https://api.pushshift.io/reddit/search/submission?subreddit=GME&size=100&after=2678d\n",
      "Querying from: https://api.pushshift.io/reddit/search/submission?subreddit=GME&size=100&after=2680d\n",
      "Querying from: https://api.pushshift.io/reddit/search/submission?subreddit=GME&size=100&after=2682d\n",
      "Querying from: https://api.pushshift.io/reddit/search/submission?subreddit=GME&size=100&after=2684d\n",
      "Querying from: https://api.pushshift.io/reddit/search/submission?subreddit=GME&size=100&after=2686d\n",
      "Querying from: https://api.pushshift.io/reddit/search/submission?subreddit=GME&size=100&after=2688d\n",
      "Querying from: https://api.pushshift.io/reddit/search/submission?subreddit=GME&size=100&after=2690d\n",
      "Querying from: https://api.pushshift.io/reddit/search/submission?subreddit=GME&size=100&after=2692d\n",
      "Querying from: https://api.pushshift.io/reddit/search/submission?subreddit=GME&size=100&after=2694d\n",
      "Querying from: https://api.pushshift.io/reddit/search/submission?subreddit=GME&size=100&after=2696d\n",
      "Querying from: https://api.pushshift.io/reddit/search/submission?subreddit=GME&size=100&after=2698d\n",
      "Querying from: https://api.pushshift.io/reddit/search/submission?subreddit=GME&size=100&after=2700d\n",
      "Querying from: https://api.pushshift.io/reddit/search/submission?subreddit=GME&size=100&after=2702d\n",
      "Querying from: https://api.pushshift.io/reddit/search/submission?subreddit=GME&size=100&after=2704d\n",
      "Querying from: https://api.pushshift.io/reddit/search/submission?subreddit=GME&size=100&after=2706d\n",
      "Querying from: https://api.pushshift.io/reddit/search/submission?subreddit=GME&size=100&after=2708d\n",
      "Querying from: https://api.pushshift.io/reddit/search/submission?subreddit=GME&size=100&after=2710d\n",
      "Querying from: https://api.pushshift.io/reddit/search/submission?subreddit=GME&size=100&after=2712d\n",
      "Querying from: https://api.pushshift.io/reddit/search/submission?subreddit=GME&size=100&after=2714d\n",
      "Querying from: https://api.pushshift.io/reddit/search/submission?subreddit=GME&size=100&after=2716d\n",
      "Querying from: https://api.pushshift.io/reddit/search/submission?subreddit=GME&size=100&after=2718d\n",
      "Querying from: https://api.pushshift.io/reddit/search/submission?subreddit=GME&size=100&after=2720d\n",
      "Querying from: https://api.pushshift.io/reddit/search/submission?subreddit=GME&size=100&after=2722d\n",
      "Querying from: https://api.pushshift.io/reddit/search/submission?subreddit=GME&size=100&after=2724d\n",
      "Querying from: https://api.pushshift.io/reddit/search/submission?subreddit=GME&size=100&after=2726d\n",
      "Querying from: https://api.pushshift.io/reddit/search/submission?subreddit=GME&size=100&after=2728d\n",
      "Querying from: https://api.pushshift.io/reddit/search/submission?subreddit=GME&size=100&after=2730d\n",
      "Querying from: https://api.pushshift.io/reddit/search/submission?subreddit=GME&size=100&after=2732d\n",
      "Querying from: https://api.pushshift.io/reddit/search/submission?subreddit=GME&size=100&after=2734d\n",
      "Querying from: https://api.pushshift.io/reddit/search/submission?subreddit=GME&size=100&after=2736d\n",
      "Querying from: https://api.pushshift.io/reddit/search/submission?subreddit=GME&size=100&after=2738d\n",
      "Querying from: https://api.pushshift.io/reddit/search/submission?subreddit=GME&size=100&after=2740d\n",
      "Querying from: https://api.pushshift.io/reddit/search/submission?subreddit=GME&size=100&after=2742d\n",
      "Querying from: https://api.pushshift.io/reddit/search/submission?subreddit=GME&size=100&after=2744d\n",
      "Querying from: https://api.pushshift.io/reddit/search/submission?subreddit=GME&size=100&after=2746d\n",
      "Querying from: https://api.pushshift.io/reddit/search/submission?subreddit=GME&size=100&after=2748d\n",
      "Querying from: https://api.pushshift.io/reddit/search/submission?subreddit=GME&size=100&after=2750d\n",
      "Querying from: https://api.pushshift.io/reddit/search/submission?subreddit=GME&size=100&after=2752d\n",
      "Querying from: https://api.pushshift.io/reddit/search/submission?subreddit=GME&size=100&after=2754d\n",
      "Querying from: https://api.pushshift.io/reddit/search/submission?subreddit=GME&size=100&after=2756d\n",
      "Querying from: https://api.pushshift.io/reddit/search/submission?subreddit=GME&size=100&after=2758d\n",
      "Querying from: https://api.pushshift.io/reddit/search/submission?subreddit=GME&size=100&after=2760d\n",
      "Querying from: https://api.pushshift.io/reddit/search/submission?subreddit=GME&size=100&after=2762d\n",
      "Querying from: https://api.pushshift.io/reddit/search/submission?subreddit=GME&size=100&after=2764d\n",
      "Querying from: https://api.pushshift.io/reddit/search/submission?subreddit=GME&size=100&after=2766d\n",
      "Querying from: https://api.pushshift.io/reddit/search/submission?subreddit=GME&size=100&after=2768d\n",
      "Querying from: https://api.pushshift.io/reddit/search/submission?subreddit=GME&size=100&after=2770d\n",
      "Querying from: https://api.pushshift.io/reddit/search/submission?subreddit=GME&size=100&after=2772d\n",
      "Querying from: https://api.pushshift.io/reddit/search/submission?subreddit=GME&size=100&after=2774d\n",
      "Querying from: https://api.pushshift.io/reddit/search/submission?subreddit=GME&size=100&after=2776d\n",
      "Querying from: https://api.pushshift.io/reddit/search/submission?subreddit=GME&size=100&after=2778d\n",
      "Querying from: https://api.pushshift.io/reddit/search/submission?subreddit=GME&size=100&after=2780d\n",
      "Querying from: https://api.pushshift.io/reddit/search/submission?subreddit=GME&size=100&after=2782d\n",
      "Querying from: https://api.pushshift.io/reddit/search/submission?subreddit=GME&size=100&after=2784d\n",
      "Querying from: https://api.pushshift.io/reddit/search/submission?subreddit=GME&size=100&after=2786d\n",
      "Querying from: https://api.pushshift.io/reddit/search/submission?subreddit=GME&size=100&after=2788d\n",
      "Querying from: https://api.pushshift.io/reddit/search/submission?subreddit=GME&size=100&after=2790d\n",
      "Querying from: https://api.pushshift.io/reddit/search/submission?subreddit=GME&size=100&after=2792d\n",
      "Querying from: https://api.pushshift.io/reddit/search/submission?subreddit=GME&size=100&after=2794d\n",
      "Querying from: https://api.pushshift.io/reddit/search/submission?subreddit=GME&size=100&after=2796d\n",
      "Querying from: https://api.pushshift.io/reddit/search/submission?subreddit=GME&size=100&after=2798d\n",
      "Querying from: https://api.pushshift.io/reddit/search/submission?subreddit=GME&size=100&after=2800d\n",
      "Querying from: https://api.pushshift.io/reddit/search/submission?subreddit=GME&size=100&after=2802d\n"
     ]
    },
    {
     "name": "stdout",
     "output_type": "stream",
     "text": [
      "Querying from: https://api.pushshift.io/reddit/search/submission?subreddit=GME&size=100&after=2804d\n",
      "Querying from: https://api.pushshift.io/reddit/search/submission?subreddit=GME&size=100&after=2806d\n",
      "Querying from: https://api.pushshift.io/reddit/search/submission?subreddit=GME&size=100&after=2808d\n",
      "Querying from: https://api.pushshift.io/reddit/search/submission?subreddit=GME&size=100&after=2810d\n",
      "Querying from: https://api.pushshift.io/reddit/search/submission?subreddit=GME&size=100&after=2812d\n",
      "Querying from: https://api.pushshift.io/reddit/search/submission?subreddit=GME&size=100&after=2814d\n",
      "Querying from: https://api.pushshift.io/reddit/search/submission?subreddit=GME&size=100&after=2816d\n",
      "Querying from: https://api.pushshift.io/reddit/search/submission?subreddit=GME&size=100&after=2818d\n",
      "Querying from: https://api.pushshift.io/reddit/search/submission?subreddit=GME&size=100&after=2820d\n",
      "Querying from: https://api.pushshift.io/reddit/search/submission?subreddit=GME&size=100&after=2822d\n",
      "Querying from: https://api.pushshift.io/reddit/search/submission?subreddit=GME&size=100&after=2824d\n",
      "Querying from: https://api.pushshift.io/reddit/search/submission?subreddit=GME&size=100&after=2826d\n",
      "Querying from: https://api.pushshift.io/reddit/search/submission?subreddit=GME&size=100&after=2828d\n",
      "Querying from: https://api.pushshift.io/reddit/search/submission?subreddit=GME&size=100&after=2830d\n",
      "Querying from: https://api.pushshift.io/reddit/search/submission?subreddit=GME&size=100&after=2832d\n",
      "Querying from: https://api.pushshift.io/reddit/search/submission?subreddit=GME&size=100&after=2834d\n",
      "Querying from: https://api.pushshift.io/reddit/search/submission?subreddit=GME&size=100&after=2836d\n",
      "Querying from: https://api.pushshift.io/reddit/search/submission?subreddit=GME&size=100&after=2838d\n",
      "Querying from: https://api.pushshift.io/reddit/search/submission?subreddit=GME&size=100&after=2840d\n",
      "Querying from: https://api.pushshift.io/reddit/search/submission?subreddit=GME&size=100&after=2842d\n",
      "Querying from: https://api.pushshift.io/reddit/search/submission?subreddit=GME&size=100&after=2844d\n",
      "Querying from: https://api.pushshift.io/reddit/search/submission?subreddit=GME&size=100&after=2846d\n",
      "Querying from: https://api.pushshift.io/reddit/search/submission?subreddit=GME&size=100&after=2848d\n",
      "Querying from: https://api.pushshift.io/reddit/search/submission?subreddit=GME&size=100&after=2850d\n",
      "Querying from: https://api.pushshift.io/reddit/search/submission?subreddit=GME&size=100&after=2852d\n",
      "Querying from: https://api.pushshift.io/reddit/search/submission?subreddit=GME&size=100&after=2854d\n",
      "Querying from: https://api.pushshift.io/reddit/search/submission?subreddit=GME&size=100&after=2856d\n",
      "Querying from: https://api.pushshift.io/reddit/search/submission?subreddit=GME&size=100&after=2858d\n",
      "Querying from: https://api.pushshift.io/reddit/search/submission?subreddit=GME&size=100&after=2860d\n",
      "Querying from: https://api.pushshift.io/reddit/search/submission?subreddit=GME&size=100&after=2862d\n",
      "Querying from: https://api.pushshift.io/reddit/search/submission?subreddit=GME&size=100&after=2864d\n",
      "Querying from: https://api.pushshift.io/reddit/search/submission?subreddit=GME&size=100&after=2866d\n",
      "Querying from: https://api.pushshift.io/reddit/search/submission?subreddit=GME&size=100&after=2868d\n",
      "Querying from: https://api.pushshift.io/reddit/search/submission?subreddit=GME&size=100&after=2870d\n",
      "Querying from: https://api.pushshift.io/reddit/search/submission?subreddit=GME&size=100&after=2872d\n",
      "Querying from: https://api.pushshift.io/reddit/search/submission?subreddit=GME&size=100&after=2874d\n",
      "Querying from: https://api.pushshift.io/reddit/search/submission?subreddit=GME&size=100&after=2876d\n",
      "Querying from: https://api.pushshift.io/reddit/search/submission?subreddit=GME&size=100&after=2878d\n",
      "Querying from: https://api.pushshift.io/reddit/search/submission?subreddit=GME&size=100&after=2880d\n",
      "Querying from: https://api.pushshift.io/reddit/search/submission?subreddit=GME&size=100&after=2882d\n",
      "Querying from: https://api.pushshift.io/reddit/search/submission?subreddit=GME&size=100&after=2884d\n",
      "Querying from: https://api.pushshift.io/reddit/search/submission?subreddit=GME&size=100&after=2886d\n",
      "Querying from: https://api.pushshift.io/reddit/search/submission?subreddit=GME&size=100&after=2888d\n",
      "Querying from: https://api.pushshift.io/reddit/search/submission?subreddit=GME&size=100&after=2890d\n",
      "Querying from: https://api.pushshift.io/reddit/search/submission?subreddit=GME&size=100&after=2892d\n",
      "Querying from: https://api.pushshift.io/reddit/search/submission?subreddit=GME&size=100&after=2894d\n",
      "Querying from: https://api.pushshift.io/reddit/search/submission?subreddit=GME&size=100&after=2896d\n",
      "Querying from: https://api.pushshift.io/reddit/search/submission?subreddit=GME&size=100&after=2898d\n",
      "Querying from: https://api.pushshift.io/reddit/search/submission?subreddit=GME&size=100&after=2900d\n",
      "Querying from: https://api.pushshift.io/reddit/search/submission?subreddit=GME&size=100&after=2902d\n",
      "Querying from: https://api.pushshift.io/reddit/search/submission?subreddit=GME&size=100&after=2904d\n",
      "Querying from: https://api.pushshift.io/reddit/search/submission?subreddit=GME&size=100&after=2906d\n",
      "Querying from: https://api.pushshift.io/reddit/search/submission?subreddit=GME&size=100&after=2908d\n",
      "Querying from: https://api.pushshift.io/reddit/search/submission?subreddit=GME&size=100&after=2910d\n",
      "Querying from: https://api.pushshift.io/reddit/search/submission?subreddit=GME&size=100&after=2912d\n",
      "Querying from: https://api.pushshift.io/reddit/search/submission?subreddit=GME&size=100&after=2914d\n",
      "Querying from: https://api.pushshift.io/reddit/search/submission?subreddit=GME&size=100&after=2916d\n",
      "Querying from: https://api.pushshift.io/reddit/search/submission?subreddit=GME&size=100&after=2918d\n",
      "Querying from: https://api.pushshift.io/reddit/search/submission?subreddit=GME&size=100&after=2920d\n",
      "Querying from: https://api.pushshift.io/reddit/search/submission?subreddit=GME&size=100&after=2922d\n",
      "Querying from: https://api.pushshift.io/reddit/search/submission?subreddit=GME&size=100&after=2924d\n",
      "Querying from: https://api.pushshift.io/reddit/search/submission?subreddit=GME&size=100&after=2926d\n",
      "Querying from: https://api.pushshift.io/reddit/search/submission?subreddit=GME&size=100&after=2928d\n",
      "Querying from: https://api.pushshift.io/reddit/search/submission?subreddit=GME&size=100&after=2930d\n",
      "Querying from: https://api.pushshift.io/reddit/search/submission?subreddit=GME&size=100&after=2932d\n",
      "Querying from: https://api.pushshift.io/reddit/search/submission?subreddit=GME&size=100&after=2934d\n",
      "Querying from: https://api.pushshift.io/reddit/search/submission?subreddit=GME&size=100&after=2936d\n",
      "Querying from: https://api.pushshift.io/reddit/search/submission?subreddit=GME&size=100&after=2938d\n",
      "Querying from: https://api.pushshift.io/reddit/search/submission?subreddit=GME&size=100&after=2940d\n",
      "Querying from: https://api.pushshift.io/reddit/search/submission?subreddit=GME&size=100&after=2942d\n",
      "Querying from: https://api.pushshift.io/reddit/search/submission?subreddit=GME&size=100&after=2944d\n",
      "Querying from: https://api.pushshift.io/reddit/search/submission?subreddit=GME&size=100&after=2946d\n",
      "Querying from: https://api.pushshift.io/reddit/search/submission?subreddit=GME&size=100&after=2948d\n",
      "Querying from: https://api.pushshift.io/reddit/search/submission?subreddit=GME&size=100&after=2950d\n",
      "Querying from: https://api.pushshift.io/reddit/search/submission?subreddit=GME&size=100&after=2952d\n",
      "Querying from: https://api.pushshift.io/reddit/search/submission?subreddit=GME&size=100&after=2954d\n",
      "Querying from: https://api.pushshift.io/reddit/search/submission?subreddit=GME&size=100&after=2956d\n",
      "Querying from: https://api.pushshift.io/reddit/search/submission?subreddit=GME&size=100&after=2958d\n",
      "Querying from: https://api.pushshift.io/reddit/search/submission?subreddit=GME&size=100&after=2960d\n",
      "Querying from: https://api.pushshift.io/reddit/search/submission?subreddit=GME&size=100&after=2962d\n",
      "Querying from: https://api.pushshift.io/reddit/search/submission?subreddit=GME&size=100&after=2964d\n",
      "Querying from: https://api.pushshift.io/reddit/search/submission?subreddit=GME&size=100&after=2966d\n"
     ]
    },
    {
     "name": "stdout",
     "output_type": "stream",
     "text": [
      "Querying from: https://api.pushshift.io/reddit/search/submission?subreddit=GME&size=100&after=2968d\n",
      "Querying from: https://api.pushshift.io/reddit/search/submission?subreddit=GME&size=100&after=2970d\n",
      "Querying from: https://api.pushshift.io/reddit/search/submission?subreddit=GME&size=100&after=2972d\n",
      "Querying from: https://api.pushshift.io/reddit/search/submission?subreddit=GME&size=100&after=2974d\n",
      "Querying from: https://api.pushshift.io/reddit/search/submission?subreddit=GME&size=100&after=2976d\n",
      "Querying from: https://api.pushshift.io/reddit/search/submission?subreddit=GME&size=100&after=2978d\n",
      "Querying from: https://api.pushshift.io/reddit/search/submission?subreddit=GME&size=100&after=2980d\n",
      "Querying from: https://api.pushshift.io/reddit/search/submission?subreddit=GME&size=100&after=2982d\n",
      "Querying from: https://api.pushshift.io/reddit/search/submission?subreddit=GME&size=100&after=2984d\n",
      "Querying from: https://api.pushshift.io/reddit/search/submission?subreddit=GME&size=100&after=2986d\n",
      "Querying from: https://api.pushshift.io/reddit/search/submission?subreddit=GME&size=100&after=2988d\n",
      "Querying from: https://api.pushshift.io/reddit/search/submission?subreddit=GME&size=100&after=2990d\n",
      "Querying from: https://api.pushshift.io/reddit/search/submission?subreddit=GME&size=100&after=2992d\n",
      "Querying from: https://api.pushshift.io/reddit/search/submission?subreddit=GME&size=100&after=2994d\n",
      "Querying from: https://api.pushshift.io/reddit/search/submission?subreddit=GME&size=100&after=2996d\n",
      "Querying from: https://api.pushshift.io/reddit/search/submission?subreddit=GME&size=100&after=2998d\n",
      "Querying from: https://api.pushshift.io/reddit/search/submission?subreddit=GME&size=100&after=3000d\n",
      "Query Complete!\n",
      "CPU times: user 1min 15s, sys: 7.49 s, total: 1min 22s\n",
      "Wall time: 1h 29min 19s\n"
     ]
    }
   ],
   "source": [
    "%%time\n",
    "# investinggamestopsubmissions\n",
    "GMEsubmissions=query_pushshift_submissions(subreddit='GME', kind='submission', day_window=2, n=1500)\n",
    "# should take 35 minutes\n",
    "# took 1.75 hours\n",
    "# day window 2 / n = 1500 iterations took 1.5 hours / each iteration took 6 seconds\n"
   ]
  },
  {
   "cell_type": "raw",
   "metadata": {},
   "source": [
    "got 2000 days worth of mining data = 1711,9\n",
    "(1178, 11)\n"
   ]
  },
  {
   "cell_type": "code",
   "execution_count": 78,
   "metadata": {
    "ExecuteTime": {
     "end_time": "2021-03-15T22:45:05.540533Z",
     "start_time": "2021-03-15T22:45:05.506484Z"
    }
   },
   "outputs": [
    {
     "data": {
      "text/plain": [
       "(1659, 9)"
      ]
     },
     "execution_count": 78,
     "metadata": {},
     "output_type": "execute_result"
    }
   ],
   "source": [
    "GMEsubmissions.shape"
   ]
  },
  {
   "cell_type": "code",
   "execution_count": 79,
   "metadata": {
    "ExecuteTime": {
     "end_time": "2021-03-15T22:45:33.504673Z",
     "start_time": "2021-03-15T22:45:33.453846Z"
    }
   },
   "outputs": [],
   "source": [
    "# Save data set to csv in data folder\n",
    "GMEsubmissions.to_csv('./data/GMEsubmissions.csv', index = False)"
   ]
  },
  {
   "cell_type": "markdown",
   "metadata": {},
   "source": [
    "### Check quality of data before exporting to csv"
   ]
  },
  {
   "cell_type": "code",
   "execution_count": 81,
   "metadata": {
    "ExecuteTime": {
     "end_time": "2021-03-15T22:45:53.309918Z",
     "start_time": "2021-03-15T22:45:53.279066Z"
    }
   },
   "outputs": [],
   "source": [
    "GMEsubmissions = pd.read_csv('./Data/GMEsubmissions.csv')"
   ]
  },
  {
   "cell_type": "code",
   "execution_count": 82,
   "metadata": {
    "ExecuteTime": {
     "end_time": "2021-03-15T22:45:55.233472Z",
     "start_time": "2021-03-15T22:45:55.221547Z"
    }
   },
   "outputs": [
    {
     "data": {
      "text/plain": [
       "(1659, 9)"
      ]
     },
     "execution_count": 82,
     "metadata": {},
     "output_type": "execute_result"
    }
   ],
   "source": [
    "GMEsubmissions.shape"
   ]
  },
  {
   "cell_type": "code",
   "execution_count": 83,
   "metadata": {
    "ExecuteTime": {
     "end_time": "2021-03-15T22:45:57.926276Z",
     "start_time": "2021-03-15T22:45:57.897182Z"
    }
   },
   "outputs": [
    {
     "data": {
      "text/plain": [
       "title             0\n",
       "selftext        227\n",
       "subreddit         0\n",
       "created_utc       0\n",
       "author            0\n",
       "num_comments      0\n",
       "score             0\n",
       "is_self           0\n",
       "timestamp         0\n",
       "dtype: int64"
      ]
     },
     "execution_count": 83,
     "metadata": {},
     "output_type": "execute_result"
    }
   ],
   "source": [
    "GMEsubmissions.isnull().sum()"
   ]
  },
  {
   "cell_type": "code",
   "execution_count": 84,
   "metadata": {
    "ExecuteTime": {
     "end_time": "2021-03-15T22:46:00.842783Z",
     "start_time": "2021-03-15T22:46:00.836395Z"
    }
   },
   "outputs": [],
   "source": [
    "substituteincolumn(GMEsubmissions, 'selftext')\n",
    "substituteincolumn(GMEsubmissions, 'author')"
   ]
  },
  {
   "cell_type": "code",
   "execution_count": 85,
   "metadata": {
    "ExecuteTime": {
     "end_time": "2021-03-15T22:46:03.535129Z",
     "start_time": "2021-03-15T22:46:03.520194Z"
    }
   },
   "outputs": [
    {
     "data": {
      "text/plain": [
       "title             0\n",
       "selftext        527\n",
       "subreddit         0\n",
       "created_utc       0\n",
       "author           68\n",
       "num_comments      0\n",
       "score             0\n",
       "is_self           0\n",
       "timestamp         0\n",
       "dtype: int64"
      ]
     },
     "execution_count": 85,
     "metadata": {},
     "output_type": "execute_result"
    }
   ],
   "source": [
    "GMEsubmissions.isnull().sum()"
   ]
  },
  {
   "cell_type": "code",
   "execution_count": 86,
   "metadata": {
    "ExecuteTime": {
     "end_time": "2021-03-15T22:47:15.167763Z",
     "start_time": "2021-03-15T22:47:15.157101Z"
    }
   },
   "outputs": [],
   "source": [
    "GMEsubmissions.dropna(inplace=True)"
   ]
  },
  {
   "cell_type": "code",
   "execution_count": 87,
   "metadata": {
    "ExecuteTime": {
     "end_time": "2021-03-15T22:47:18.972636Z",
     "start_time": "2021-03-15T22:47:18.456080Z"
    }
   },
   "outputs": [],
   "source": [
    "# Create new column called clean text with clean_strings function applied to selftext\n",
    "GMEsubmissions['cleantext'] = clean_strings(GMEsubmissions['selftext'], stopwords=combined_words)"
   ]
  },
  {
   "cell_type": "code",
   "execution_count": 88,
   "metadata": {
    "ExecuteTime": {
     "end_time": "2021-03-15T22:47:20.794500Z",
     "start_time": "2021-03-15T22:47:20.771831Z"
    }
   },
   "outputs": [],
   "source": [
    "# Add column with length of selftext\n",
    "GMEsubmissions['selftextwordcount'] = GMEsubmissions['selftext'].str.split().str.len()"
   ]
  },
  {
   "cell_type": "raw",
   "metadata": {
    "ExecuteTime": {
     "end_time": "2021-03-15T11:30:41.431940Z",
     "start_time": "2021-03-15T11:28:04.528Z"
    }
   },
   "source": [
    "# Consider Dropping Selftext before exporting to avoid issues"
   ]
  },
  {
   "cell_type": "code",
   "execution_count": 89,
   "metadata": {
    "ExecuteTime": {
     "end_time": "2021-03-15T22:47:25.973773Z",
     "start_time": "2021-03-15T22:47:25.949934Z"
    }
   },
   "outputs": [
    {
     "data": {
      "text/plain": [
       "title                0\n",
       "selftext             0\n",
       "subreddit            0\n",
       "created_utc          0\n",
       "author               0\n",
       "num_comments         0\n",
       "score                0\n",
       "is_self              0\n",
       "timestamp            0\n",
       "cleantext            0\n",
       "selftextwordcount    0\n",
       "dtype: int64"
      ]
     },
     "execution_count": 89,
     "metadata": {},
     "output_type": "execute_result"
    }
   ],
   "source": [
    "GMEsubmissions.isnull().sum()"
   ]
  },
  {
   "cell_type": "raw",
   "metadata": {
    "ExecuteTime": {
     "end_time": "2021-03-15T22:47:29.121180Z",
     "start_time": "2021-03-15T22:47:29.089415Z"
    }
   },
   "source": [
    "GMEsubmissions.head().append(GMEsubmissions.tail())"
   ]
  },
  {
   "cell_type": "code",
   "execution_count": 92,
   "metadata": {
    "ExecuteTime": {
     "end_time": "2021-03-15T22:48:39.206416Z",
     "start_time": "2021-03-15T22:48:39.120191Z"
    }
   },
   "outputs": [],
   "source": [
    "# Save data set to csv in data folder\n",
    "GMEsubmissions.to_csv('./data/GMEsubmissions.csv', index = False)"
   ]
  },
  {
   "cell_type": "code",
   "execution_count": 93,
   "metadata": {
    "ExecuteTime": {
     "end_time": "2021-03-15T22:49:12.926646Z",
     "start_time": "2021-03-15T22:49:12.914531Z"
    }
   },
   "outputs": [
    {
     "data": {
      "text/plain": [
       "(1130, 11)"
      ]
     },
     "execution_count": 93,
     "metadata": {},
     "output_type": "execute_result"
    }
   ],
   "source": [
    "GMEsubmissions.shape"
   ]
  },
  {
   "cell_type": "markdown",
   "metadata": {},
   "source": [
    "# WallStreetBets Submissions"
   ]
  },
  {
   "cell_type": "markdown",
   "metadata": {},
   "source": [
    "# ```https://www.reddit.com/r/wallstreetbets/```"
   ]
  },
  {
   "cell_type": "code",
   "execution_count": 106,
   "metadata": {
    "ExecuteTime": {
     "end_time": "2021-03-16T02:49:20.179391Z",
     "start_time": "2021-03-16T01:36:26.051989Z"
    },
    "scrolled": true
   },
   "outputs": [
    {
     "name": "stdout",
     "output_type": "stream",
     "text": [
      "Querying from: https://api.pushshift.io/reddit/search/submission?subreddit=wallstreetbets&size=100&after=3d\n",
      "Querying from: https://api.pushshift.io/reddit/search/submission?subreddit=wallstreetbets&size=100&after=6d\n",
      "Querying from: https://api.pushshift.io/reddit/search/submission?subreddit=wallstreetbets&size=100&after=9d\n",
      "Querying from: https://api.pushshift.io/reddit/search/submission?subreddit=wallstreetbets&size=100&after=12d\n",
      "Querying from: https://api.pushshift.io/reddit/search/submission?subreddit=wallstreetbets&size=100&after=15d\n",
      "Querying from: https://api.pushshift.io/reddit/search/submission?subreddit=wallstreetbets&size=100&after=18d\n",
      "Querying from: https://api.pushshift.io/reddit/search/submission?subreddit=wallstreetbets&size=100&after=21d\n",
      "Querying from: https://api.pushshift.io/reddit/search/submission?subreddit=wallstreetbets&size=100&after=24d\n",
      "Querying from: https://api.pushshift.io/reddit/search/submission?subreddit=wallstreetbets&size=100&after=27d\n",
      "Querying from: https://api.pushshift.io/reddit/search/submission?subreddit=wallstreetbets&size=100&after=30d\n",
      "Querying from: https://api.pushshift.io/reddit/search/submission?subreddit=wallstreetbets&size=100&after=33d\n",
      "Querying from: https://api.pushshift.io/reddit/search/submission?subreddit=wallstreetbets&size=100&after=36d\n",
      "Querying from: https://api.pushshift.io/reddit/search/submission?subreddit=wallstreetbets&size=100&after=39d\n",
      "Querying from: https://api.pushshift.io/reddit/search/submission?subreddit=wallstreetbets&size=100&after=42d\n",
      "Querying from: https://api.pushshift.io/reddit/search/submission?subreddit=wallstreetbets&size=100&after=45d\n",
      "Querying from: https://api.pushshift.io/reddit/search/submission?subreddit=wallstreetbets&size=100&after=48d\n",
      "Querying from: https://api.pushshift.io/reddit/search/submission?subreddit=wallstreetbets&size=100&after=51d\n",
      "Querying from: https://api.pushshift.io/reddit/search/submission?subreddit=wallstreetbets&size=100&after=54d\n",
      "Querying from: https://api.pushshift.io/reddit/search/submission?subreddit=wallstreetbets&size=100&after=57d\n",
      "Querying from: https://api.pushshift.io/reddit/search/submission?subreddit=wallstreetbets&size=100&after=60d\n",
      "Querying from: https://api.pushshift.io/reddit/search/submission?subreddit=wallstreetbets&size=100&after=63d\n",
      "Querying from: https://api.pushshift.io/reddit/search/submission?subreddit=wallstreetbets&size=100&after=66d\n",
      "Querying from: https://api.pushshift.io/reddit/search/submission?subreddit=wallstreetbets&size=100&after=69d\n",
      "Querying from: https://api.pushshift.io/reddit/search/submission?subreddit=wallstreetbets&size=100&after=72d\n",
      "Querying from: https://api.pushshift.io/reddit/search/submission?subreddit=wallstreetbets&size=100&after=75d\n",
      "Querying from: https://api.pushshift.io/reddit/search/submission?subreddit=wallstreetbets&size=100&after=78d\n",
      "Querying from: https://api.pushshift.io/reddit/search/submission?subreddit=wallstreetbets&size=100&after=81d\n",
      "Querying from: https://api.pushshift.io/reddit/search/submission?subreddit=wallstreetbets&size=100&after=84d\n",
      "Querying from: https://api.pushshift.io/reddit/search/submission?subreddit=wallstreetbets&size=100&after=87d\n",
      "Querying from: https://api.pushshift.io/reddit/search/submission?subreddit=wallstreetbets&size=100&after=90d\n",
      "Querying from: https://api.pushshift.io/reddit/search/submission?subreddit=wallstreetbets&size=100&after=93d\n",
      "Querying from: https://api.pushshift.io/reddit/search/submission?subreddit=wallstreetbets&size=100&after=96d\n",
      "Querying from: https://api.pushshift.io/reddit/search/submission?subreddit=wallstreetbets&size=100&after=99d\n",
      "Querying from: https://api.pushshift.io/reddit/search/submission?subreddit=wallstreetbets&size=100&after=102d\n",
      "Querying from: https://api.pushshift.io/reddit/search/submission?subreddit=wallstreetbets&size=100&after=105d\n",
      "Querying from: https://api.pushshift.io/reddit/search/submission?subreddit=wallstreetbets&size=100&after=108d\n",
      "Querying from: https://api.pushshift.io/reddit/search/submission?subreddit=wallstreetbets&size=100&after=111d\n",
      "Querying from: https://api.pushshift.io/reddit/search/submission?subreddit=wallstreetbets&size=100&after=114d\n",
      "Querying from: https://api.pushshift.io/reddit/search/submission?subreddit=wallstreetbets&size=100&after=117d\n",
      "Querying from: https://api.pushshift.io/reddit/search/submission?subreddit=wallstreetbets&size=100&after=120d\n",
      "Querying from: https://api.pushshift.io/reddit/search/submission?subreddit=wallstreetbets&size=100&after=123d\n",
      "Querying from: https://api.pushshift.io/reddit/search/submission?subreddit=wallstreetbets&size=100&after=126d\n",
      "Querying from: https://api.pushshift.io/reddit/search/submission?subreddit=wallstreetbets&size=100&after=129d\n",
      "Querying from: https://api.pushshift.io/reddit/search/submission?subreddit=wallstreetbets&size=100&after=132d\n",
      "Querying from: https://api.pushshift.io/reddit/search/submission?subreddit=wallstreetbets&size=100&after=135d\n",
      "Querying from: https://api.pushshift.io/reddit/search/submission?subreddit=wallstreetbets&size=100&after=138d\n",
      "Querying from: https://api.pushshift.io/reddit/search/submission?subreddit=wallstreetbets&size=100&after=141d\n",
      "Querying from: https://api.pushshift.io/reddit/search/submission?subreddit=wallstreetbets&size=100&after=144d\n",
      "Querying from: https://api.pushshift.io/reddit/search/submission?subreddit=wallstreetbets&size=100&after=147d\n",
      "Querying from: https://api.pushshift.io/reddit/search/submission?subreddit=wallstreetbets&size=100&after=150d\n",
      "Querying from: https://api.pushshift.io/reddit/search/submission?subreddit=wallstreetbets&size=100&after=153d\n",
      "Querying from: https://api.pushshift.io/reddit/search/submission?subreddit=wallstreetbets&size=100&after=156d\n",
      "Querying from: https://api.pushshift.io/reddit/search/submission?subreddit=wallstreetbets&size=100&after=159d\n",
      "Querying from: https://api.pushshift.io/reddit/search/submission?subreddit=wallstreetbets&size=100&after=162d\n",
      "Querying from: https://api.pushshift.io/reddit/search/submission?subreddit=wallstreetbets&size=100&after=165d\n",
      "Querying from: https://api.pushshift.io/reddit/search/submission?subreddit=wallstreetbets&size=100&after=168d\n",
      "Querying from: https://api.pushshift.io/reddit/search/submission?subreddit=wallstreetbets&size=100&after=171d\n",
      "Querying from: https://api.pushshift.io/reddit/search/submission?subreddit=wallstreetbets&size=100&after=174d\n",
      "Querying from: https://api.pushshift.io/reddit/search/submission?subreddit=wallstreetbets&size=100&after=177d\n",
      "Querying from: https://api.pushshift.io/reddit/search/submission?subreddit=wallstreetbets&size=100&after=180d\n",
      "Querying from: https://api.pushshift.io/reddit/search/submission?subreddit=wallstreetbets&size=100&after=183d\n",
      "Querying from: https://api.pushshift.io/reddit/search/submission?subreddit=wallstreetbets&size=100&after=186d\n",
      "Querying from: https://api.pushshift.io/reddit/search/submission?subreddit=wallstreetbets&size=100&after=189d\n",
      "Querying from: https://api.pushshift.io/reddit/search/submission?subreddit=wallstreetbets&size=100&after=192d\n",
      "Querying from: https://api.pushshift.io/reddit/search/submission?subreddit=wallstreetbets&size=100&after=195d\n",
      "Querying from: https://api.pushshift.io/reddit/search/submission?subreddit=wallstreetbets&size=100&after=198d\n",
      "Querying from: https://api.pushshift.io/reddit/search/submission?subreddit=wallstreetbets&size=100&after=201d\n",
      "Querying from: https://api.pushshift.io/reddit/search/submission?subreddit=wallstreetbets&size=100&after=204d\n",
      "Querying from: https://api.pushshift.io/reddit/search/submission?subreddit=wallstreetbets&size=100&after=207d\n",
      "Querying from: https://api.pushshift.io/reddit/search/submission?subreddit=wallstreetbets&size=100&after=210d\n",
      "Querying from: https://api.pushshift.io/reddit/search/submission?subreddit=wallstreetbets&size=100&after=213d\n",
      "Querying from: https://api.pushshift.io/reddit/search/submission?subreddit=wallstreetbets&size=100&after=216d\n",
      "Querying from: https://api.pushshift.io/reddit/search/submission?subreddit=wallstreetbets&size=100&after=219d\n",
      "Querying from: https://api.pushshift.io/reddit/search/submission?subreddit=wallstreetbets&size=100&after=222d\n",
      "Querying from: https://api.pushshift.io/reddit/search/submission?subreddit=wallstreetbets&size=100&after=225d\n"
     ]
    },
    {
     "name": "stdout",
     "output_type": "stream",
     "text": [
      "Querying from: https://api.pushshift.io/reddit/search/submission?subreddit=wallstreetbets&size=100&after=228d\n",
      "Querying from: https://api.pushshift.io/reddit/search/submission?subreddit=wallstreetbets&size=100&after=231d\n",
      "Querying from: https://api.pushshift.io/reddit/search/submission?subreddit=wallstreetbets&size=100&after=234d\n",
      "Querying from: https://api.pushshift.io/reddit/search/submission?subreddit=wallstreetbets&size=100&after=237d\n",
      "Querying from: https://api.pushshift.io/reddit/search/submission?subreddit=wallstreetbets&size=100&after=240d\n",
      "Querying from: https://api.pushshift.io/reddit/search/submission?subreddit=wallstreetbets&size=100&after=243d\n",
      "Querying from: https://api.pushshift.io/reddit/search/submission?subreddit=wallstreetbets&size=100&after=246d\n",
      "Querying from: https://api.pushshift.io/reddit/search/submission?subreddit=wallstreetbets&size=100&after=249d\n",
      "Querying from: https://api.pushshift.io/reddit/search/submission?subreddit=wallstreetbets&size=100&after=252d\n",
      "Querying from: https://api.pushshift.io/reddit/search/submission?subreddit=wallstreetbets&size=100&after=255d\n",
      "Querying from: https://api.pushshift.io/reddit/search/submission?subreddit=wallstreetbets&size=100&after=258d\n",
      "Querying from: https://api.pushshift.io/reddit/search/submission?subreddit=wallstreetbets&size=100&after=261d\n",
      "Querying from: https://api.pushshift.io/reddit/search/submission?subreddit=wallstreetbets&size=100&after=264d\n",
      "Querying from: https://api.pushshift.io/reddit/search/submission?subreddit=wallstreetbets&size=100&after=267d\n",
      "Querying from: https://api.pushshift.io/reddit/search/submission?subreddit=wallstreetbets&size=100&after=270d\n",
      "Querying from: https://api.pushshift.io/reddit/search/submission?subreddit=wallstreetbets&size=100&after=273d\n",
      "Querying from: https://api.pushshift.io/reddit/search/submission?subreddit=wallstreetbets&size=100&after=276d\n",
      "Querying from: https://api.pushshift.io/reddit/search/submission?subreddit=wallstreetbets&size=100&after=279d\n",
      "Querying from: https://api.pushshift.io/reddit/search/submission?subreddit=wallstreetbets&size=100&after=282d\n",
      "Querying from: https://api.pushshift.io/reddit/search/submission?subreddit=wallstreetbets&size=100&after=285d\n",
      "Querying from: https://api.pushshift.io/reddit/search/submission?subreddit=wallstreetbets&size=100&after=288d\n",
      "Querying from: https://api.pushshift.io/reddit/search/submission?subreddit=wallstreetbets&size=100&after=291d\n",
      "Querying from: https://api.pushshift.io/reddit/search/submission?subreddit=wallstreetbets&size=100&after=294d\n",
      "Querying from: https://api.pushshift.io/reddit/search/submission?subreddit=wallstreetbets&size=100&after=297d\n",
      "Querying from: https://api.pushshift.io/reddit/search/submission?subreddit=wallstreetbets&size=100&after=300d\n",
      "Querying from: https://api.pushshift.io/reddit/search/submission?subreddit=wallstreetbets&size=100&after=303d\n",
      "Querying from: https://api.pushshift.io/reddit/search/submission?subreddit=wallstreetbets&size=100&after=306d\n",
      "Querying from: https://api.pushshift.io/reddit/search/submission?subreddit=wallstreetbets&size=100&after=309d\n",
      "Querying from: https://api.pushshift.io/reddit/search/submission?subreddit=wallstreetbets&size=100&after=312d\n",
      "Querying from: https://api.pushshift.io/reddit/search/submission?subreddit=wallstreetbets&size=100&after=315d\n",
      "Querying from: https://api.pushshift.io/reddit/search/submission?subreddit=wallstreetbets&size=100&after=318d\n",
      "Querying from: https://api.pushshift.io/reddit/search/submission?subreddit=wallstreetbets&size=100&after=321d\n",
      "Querying from: https://api.pushshift.io/reddit/search/submission?subreddit=wallstreetbets&size=100&after=324d\n",
      "Querying from: https://api.pushshift.io/reddit/search/submission?subreddit=wallstreetbets&size=100&after=327d\n",
      "Querying from: https://api.pushshift.io/reddit/search/submission?subreddit=wallstreetbets&size=100&after=330d\n",
      "Querying from: https://api.pushshift.io/reddit/search/submission?subreddit=wallstreetbets&size=100&after=333d\n",
      "Querying from: https://api.pushshift.io/reddit/search/submission?subreddit=wallstreetbets&size=100&after=336d\n",
      "Querying from: https://api.pushshift.io/reddit/search/submission?subreddit=wallstreetbets&size=100&after=339d\n",
      "Querying from: https://api.pushshift.io/reddit/search/submission?subreddit=wallstreetbets&size=100&after=342d\n",
      "Querying from: https://api.pushshift.io/reddit/search/submission?subreddit=wallstreetbets&size=100&after=345d\n",
      "Querying from: https://api.pushshift.io/reddit/search/submission?subreddit=wallstreetbets&size=100&after=348d\n",
      "Querying from: https://api.pushshift.io/reddit/search/submission?subreddit=wallstreetbets&size=100&after=351d\n",
      "Querying from: https://api.pushshift.io/reddit/search/submission?subreddit=wallstreetbets&size=100&after=354d\n",
      "Querying from: https://api.pushshift.io/reddit/search/submission?subreddit=wallstreetbets&size=100&after=357d\n",
      "Querying from: https://api.pushshift.io/reddit/search/submission?subreddit=wallstreetbets&size=100&after=360d\n",
      "Querying from: https://api.pushshift.io/reddit/search/submission?subreddit=wallstreetbets&size=100&after=363d\n",
      "Querying from: https://api.pushshift.io/reddit/search/submission?subreddit=wallstreetbets&size=100&after=366d\n",
      "Querying from: https://api.pushshift.io/reddit/search/submission?subreddit=wallstreetbets&size=100&after=369d\n",
      "Querying from: https://api.pushshift.io/reddit/search/submission?subreddit=wallstreetbets&size=100&after=372d\n",
      "Querying from: https://api.pushshift.io/reddit/search/submission?subreddit=wallstreetbets&size=100&after=375d\n",
      "Querying from: https://api.pushshift.io/reddit/search/submission?subreddit=wallstreetbets&size=100&after=378d\n",
      "Querying from: https://api.pushshift.io/reddit/search/submission?subreddit=wallstreetbets&size=100&after=381d\n",
      "Querying from: https://api.pushshift.io/reddit/search/submission?subreddit=wallstreetbets&size=100&after=384d\n",
      "Querying from: https://api.pushshift.io/reddit/search/submission?subreddit=wallstreetbets&size=100&after=387d\n",
      "Querying from: https://api.pushshift.io/reddit/search/submission?subreddit=wallstreetbets&size=100&after=390d\n",
      "Querying from: https://api.pushshift.io/reddit/search/submission?subreddit=wallstreetbets&size=100&after=393d\n",
      "Querying from: https://api.pushshift.io/reddit/search/submission?subreddit=wallstreetbets&size=100&after=396d\n",
      "Querying from: https://api.pushshift.io/reddit/search/submission?subreddit=wallstreetbets&size=100&after=399d\n",
      "Querying from: https://api.pushshift.io/reddit/search/submission?subreddit=wallstreetbets&size=100&after=402d\n",
      "Querying from: https://api.pushshift.io/reddit/search/submission?subreddit=wallstreetbets&size=100&after=405d\n",
      "Querying from: https://api.pushshift.io/reddit/search/submission?subreddit=wallstreetbets&size=100&after=408d\n",
      "Querying from: https://api.pushshift.io/reddit/search/submission?subreddit=wallstreetbets&size=100&after=411d\n",
      "Querying from: https://api.pushshift.io/reddit/search/submission?subreddit=wallstreetbets&size=100&after=414d\n",
      "Querying from: https://api.pushshift.io/reddit/search/submission?subreddit=wallstreetbets&size=100&after=417d\n",
      "Querying from: https://api.pushshift.io/reddit/search/submission?subreddit=wallstreetbets&size=100&after=420d\n",
      "Querying from: https://api.pushshift.io/reddit/search/submission?subreddit=wallstreetbets&size=100&after=423d\n",
      "Querying from: https://api.pushshift.io/reddit/search/submission?subreddit=wallstreetbets&size=100&after=426d\n",
      "Querying from: https://api.pushshift.io/reddit/search/submission?subreddit=wallstreetbets&size=100&after=429d\n",
      "Querying from: https://api.pushshift.io/reddit/search/submission?subreddit=wallstreetbets&size=100&after=432d\n",
      "Querying from: https://api.pushshift.io/reddit/search/submission?subreddit=wallstreetbets&size=100&after=435d\n",
      "Querying from: https://api.pushshift.io/reddit/search/submission?subreddit=wallstreetbets&size=100&after=438d\n",
      "Querying from: https://api.pushshift.io/reddit/search/submission?subreddit=wallstreetbets&size=100&after=441d\n",
      "Querying from: https://api.pushshift.io/reddit/search/submission?subreddit=wallstreetbets&size=100&after=444d\n",
      "Querying from: https://api.pushshift.io/reddit/search/submission?subreddit=wallstreetbets&size=100&after=447d\n",
      "Querying from: https://api.pushshift.io/reddit/search/submission?subreddit=wallstreetbets&size=100&after=450d\n"
     ]
    },
    {
     "name": "stdout",
     "output_type": "stream",
     "text": [
      "Querying from: https://api.pushshift.io/reddit/search/submission?subreddit=wallstreetbets&size=100&after=453d\n",
      "Querying from: https://api.pushshift.io/reddit/search/submission?subreddit=wallstreetbets&size=100&after=456d\n",
      "Querying from: https://api.pushshift.io/reddit/search/submission?subreddit=wallstreetbets&size=100&after=459d\n",
      "Querying from: https://api.pushshift.io/reddit/search/submission?subreddit=wallstreetbets&size=100&after=462d\n",
      "Querying from: https://api.pushshift.io/reddit/search/submission?subreddit=wallstreetbets&size=100&after=465d\n",
      "Querying from: https://api.pushshift.io/reddit/search/submission?subreddit=wallstreetbets&size=100&after=468d\n",
      "Querying from: https://api.pushshift.io/reddit/search/submission?subreddit=wallstreetbets&size=100&after=471d\n",
      "Querying from: https://api.pushshift.io/reddit/search/submission?subreddit=wallstreetbets&size=100&after=474d\n",
      "Querying from: https://api.pushshift.io/reddit/search/submission?subreddit=wallstreetbets&size=100&after=477d\n",
      "Querying from: https://api.pushshift.io/reddit/search/submission?subreddit=wallstreetbets&size=100&after=480d\n",
      "Querying from: https://api.pushshift.io/reddit/search/submission?subreddit=wallstreetbets&size=100&after=483d\n",
      "Querying from: https://api.pushshift.io/reddit/search/submission?subreddit=wallstreetbets&size=100&after=486d\n",
      "Querying from: https://api.pushshift.io/reddit/search/submission?subreddit=wallstreetbets&size=100&after=489d\n",
      "Querying from: https://api.pushshift.io/reddit/search/submission?subreddit=wallstreetbets&size=100&after=492d\n",
      "Querying from: https://api.pushshift.io/reddit/search/submission?subreddit=wallstreetbets&size=100&after=495d\n",
      "Querying from: https://api.pushshift.io/reddit/search/submission?subreddit=wallstreetbets&size=100&after=498d\n",
      "Querying from: https://api.pushshift.io/reddit/search/submission?subreddit=wallstreetbets&size=100&after=501d\n",
      "Querying from: https://api.pushshift.io/reddit/search/submission?subreddit=wallstreetbets&size=100&after=504d\n",
      "Querying from: https://api.pushshift.io/reddit/search/submission?subreddit=wallstreetbets&size=100&after=507d\n",
      "Querying from: https://api.pushshift.io/reddit/search/submission?subreddit=wallstreetbets&size=100&after=510d\n",
      "Querying from: https://api.pushshift.io/reddit/search/submission?subreddit=wallstreetbets&size=100&after=513d\n",
      "Querying from: https://api.pushshift.io/reddit/search/submission?subreddit=wallstreetbets&size=100&after=516d\n",
      "Querying from: https://api.pushshift.io/reddit/search/submission?subreddit=wallstreetbets&size=100&after=519d\n",
      "Querying from: https://api.pushshift.io/reddit/search/submission?subreddit=wallstreetbets&size=100&after=522d\n",
      "Querying from: https://api.pushshift.io/reddit/search/submission?subreddit=wallstreetbets&size=100&after=525d\n",
      "Querying from: https://api.pushshift.io/reddit/search/submission?subreddit=wallstreetbets&size=100&after=528d\n",
      "Querying from: https://api.pushshift.io/reddit/search/submission?subreddit=wallstreetbets&size=100&after=531d\n",
      "Querying from: https://api.pushshift.io/reddit/search/submission?subreddit=wallstreetbets&size=100&after=534d\n",
      "Querying from: https://api.pushshift.io/reddit/search/submission?subreddit=wallstreetbets&size=100&after=537d\n",
      "Querying from: https://api.pushshift.io/reddit/search/submission?subreddit=wallstreetbets&size=100&after=540d\n",
      "Querying from: https://api.pushshift.io/reddit/search/submission?subreddit=wallstreetbets&size=100&after=543d\n",
      "Querying from: https://api.pushshift.io/reddit/search/submission?subreddit=wallstreetbets&size=100&after=546d\n",
      "Querying from: https://api.pushshift.io/reddit/search/submission?subreddit=wallstreetbets&size=100&after=549d\n",
      "Querying from: https://api.pushshift.io/reddit/search/submission?subreddit=wallstreetbets&size=100&after=552d\n",
      "Querying from: https://api.pushshift.io/reddit/search/submission?subreddit=wallstreetbets&size=100&after=555d\n",
      "Querying from: https://api.pushshift.io/reddit/search/submission?subreddit=wallstreetbets&size=100&after=558d\n",
      "Querying from: https://api.pushshift.io/reddit/search/submission?subreddit=wallstreetbets&size=100&after=561d\n",
      "Querying from: https://api.pushshift.io/reddit/search/submission?subreddit=wallstreetbets&size=100&after=564d\n",
      "Querying from: https://api.pushshift.io/reddit/search/submission?subreddit=wallstreetbets&size=100&after=567d\n",
      "Querying from: https://api.pushshift.io/reddit/search/submission?subreddit=wallstreetbets&size=100&after=570d\n",
      "Querying from: https://api.pushshift.io/reddit/search/submission?subreddit=wallstreetbets&size=100&after=573d\n",
      "Querying from: https://api.pushshift.io/reddit/search/submission?subreddit=wallstreetbets&size=100&after=576d\n",
      "Querying from: https://api.pushshift.io/reddit/search/submission?subreddit=wallstreetbets&size=100&after=579d\n",
      "Querying from: https://api.pushshift.io/reddit/search/submission?subreddit=wallstreetbets&size=100&after=582d\n",
      "Querying from: https://api.pushshift.io/reddit/search/submission?subreddit=wallstreetbets&size=100&after=585d\n",
      "Querying from: https://api.pushshift.io/reddit/search/submission?subreddit=wallstreetbets&size=100&after=588d\n",
      "Querying from: https://api.pushshift.io/reddit/search/submission?subreddit=wallstreetbets&size=100&after=591d\n",
      "Querying from: https://api.pushshift.io/reddit/search/submission?subreddit=wallstreetbets&size=100&after=594d\n",
      "Querying from: https://api.pushshift.io/reddit/search/submission?subreddit=wallstreetbets&size=100&after=597d\n",
      "Querying from: https://api.pushshift.io/reddit/search/submission?subreddit=wallstreetbets&size=100&after=600d\n",
      "Querying from: https://api.pushshift.io/reddit/search/submission?subreddit=wallstreetbets&size=100&after=603d\n",
      "Querying from: https://api.pushshift.io/reddit/search/submission?subreddit=wallstreetbets&size=100&after=606d\n",
      "Querying from: https://api.pushshift.io/reddit/search/submission?subreddit=wallstreetbets&size=100&after=609d\n",
      "Querying from: https://api.pushshift.io/reddit/search/submission?subreddit=wallstreetbets&size=100&after=612d\n",
      "Querying from: https://api.pushshift.io/reddit/search/submission?subreddit=wallstreetbets&size=100&after=615d\n",
      "Querying from: https://api.pushshift.io/reddit/search/submission?subreddit=wallstreetbets&size=100&after=618d\n",
      "Querying from: https://api.pushshift.io/reddit/search/submission?subreddit=wallstreetbets&size=100&after=621d\n",
      "Querying from: https://api.pushshift.io/reddit/search/submission?subreddit=wallstreetbets&size=100&after=624d\n",
      "Querying from: https://api.pushshift.io/reddit/search/submission?subreddit=wallstreetbets&size=100&after=627d\n",
      "Querying from: https://api.pushshift.io/reddit/search/submission?subreddit=wallstreetbets&size=100&after=630d\n",
      "Querying from: https://api.pushshift.io/reddit/search/submission?subreddit=wallstreetbets&size=100&after=633d\n",
      "Querying from: https://api.pushshift.io/reddit/search/submission?subreddit=wallstreetbets&size=100&after=636d\n",
      "Querying from: https://api.pushshift.io/reddit/search/submission?subreddit=wallstreetbets&size=100&after=639d\n",
      "Querying from: https://api.pushshift.io/reddit/search/submission?subreddit=wallstreetbets&size=100&after=642d\n",
      "Querying from: https://api.pushshift.io/reddit/search/submission?subreddit=wallstreetbets&size=100&after=645d\n",
      "Querying from: https://api.pushshift.io/reddit/search/submission?subreddit=wallstreetbets&size=100&after=648d\n",
      "Querying from: https://api.pushshift.io/reddit/search/submission?subreddit=wallstreetbets&size=100&after=651d\n",
      "Querying from: https://api.pushshift.io/reddit/search/submission?subreddit=wallstreetbets&size=100&after=654d\n",
      "Querying from: https://api.pushshift.io/reddit/search/submission?subreddit=wallstreetbets&size=100&after=657d\n",
      "Querying from: https://api.pushshift.io/reddit/search/submission?subreddit=wallstreetbets&size=100&after=660d\n",
      "Querying from: https://api.pushshift.io/reddit/search/submission?subreddit=wallstreetbets&size=100&after=663d\n",
      "Querying from: https://api.pushshift.io/reddit/search/submission?subreddit=wallstreetbets&size=100&after=666d\n",
      "Querying from: https://api.pushshift.io/reddit/search/submission?subreddit=wallstreetbets&size=100&after=669d\n",
      "Querying from: https://api.pushshift.io/reddit/search/submission?subreddit=wallstreetbets&size=100&after=672d\n",
      "Querying from: https://api.pushshift.io/reddit/search/submission?subreddit=wallstreetbets&size=100&after=675d\n"
     ]
    },
    {
     "name": "stdout",
     "output_type": "stream",
     "text": [
      "Querying from: https://api.pushshift.io/reddit/search/submission?subreddit=wallstreetbets&size=100&after=678d\n",
      "Querying from: https://api.pushshift.io/reddit/search/submission?subreddit=wallstreetbets&size=100&after=681d\n",
      "Querying from: https://api.pushshift.io/reddit/search/submission?subreddit=wallstreetbets&size=100&after=684d\n",
      "Querying from: https://api.pushshift.io/reddit/search/submission?subreddit=wallstreetbets&size=100&after=687d\n",
      "Querying from: https://api.pushshift.io/reddit/search/submission?subreddit=wallstreetbets&size=100&after=690d\n",
      "Querying from: https://api.pushshift.io/reddit/search/submission?subreddit=wallstreetbets&size=100&after=693d\n",
      "Querying from: https://api.pushshift.io/reddit/search/submission?subreddit=wallstreetbets&size=100&after=696d\n",
      "Querying from: https://api.pushshift.io/reddit/search/submission?subreddit=wallstreetbets&size=100&after=699d\n",
      "Querying from: https://api.pushshift.io/reddit/search/submission?subreddit=wallstreetbets&size=100&after=702d\n",
      "Querying from: https://api.pushshift.io/reddit/search/submission?subreddit=wallstreetbets&size=100&after=705d\n",
      "Querying from: https://api.pushshift.io/reddit/search/submission?subreddit=wallstreetbets&size=100&after=708d\n",
      "Querying from: https://api.pushshift.io/reddit/search/submission?subreddit=wallstreetbets&size=100&after=711d\n",
      "Querying from: https://api.pushshift.io/reddit/search/submission?subreddit=wallstreetbets&size=100&after=714d\n",
      "Querying from: https://api.pushshift.io/reddit/search/submission?subreddit=wallstreetbets&size=100&after=717d\n",
      "Querying from: https://api.pushshift.io/reddit/search/submission?subreddit=wallstreetbets&size=100&after=720d\n",
      "Querying from: https://api.pushshift.io/reddit/search/submission?subreddit=wallstreetbets&size=100&after=723d\n",
      "Querying from: https://api.pushshift.io/reddit/search/submission?subreddit=wallstreetbets&size=100&after=726d\n",
      "Querying from: https://api.pushshift.io/reddit/search/submission?subreddit=wallstreetbets&size=100&after=729d\n",
      "Querying from: https://api.pushshift.io/reddit/search/submission?subreddit=wallstreetbets&size=100&after=732d\n",
      "Querying from: https://api.pushshift.io/reddit/search/submission?subreddit=wallstreetbets&size=100&after=735d\n",
      "Querying from: https://api.pushshift.io/reddit/search/submission?subreddit=wallstreetbets&size=100&after=738d\n",
      "Querying from: https://api.pushshift.io/reddit/search/submission?subreddit=wallstreetbets&size=100&after=741d\n",
      "Querying from: https://api.pushshift.io/reddit/search/submission?subreddit=wallstreetbets&size=100&after=744d\n",
      "Querying from: https://api.pushshift.io/reddit/search/submission?subreddit=wallstreetbets&size=100&after=747d\n",
      "Querying from: https://api.pushshift.io/reddit/search/submission?subreddit=wallstreetbets&size=100&after=750d\n",
      "Querying from: https://api.pushshift.io/reddit/search/submission?subreddit=wallstreetbets&size=100&after=753d\n",
      "Querying from: https://api.pushshift.io/reddit/search/submission?subreddit=wallstreetbets&size=100&after=756d\n",
      "Querying from: https://api.pushshift.io/reddit/search/submission?subreddit=wallstreetbets&size=100&after=759d\n",
      "Querying from: https://api.pushshift.io/reddit/search/submission?subreddit=wallstreetbets&size=100&after=762d\n",
      "Querying from: https://api.pushshift.io/reddit/search/submission?subreddit=wallstreetbets&size=100&after=765d\n",
      "Querying from: https://api.pushshift.io/reddit/search/submission?subreddit=wallstreetbets&size=100&after=768d\n",
      "Querying from: https://api.pushshift.io/reddit/search/submission?subreddit=wallstreetbets&size=100&after=771d\n",
      "Querying from: https://api.pushshift.io/reddit/search/submission?subreddit=wallstreetbets&size=100&after=774d\n",
      "Querying from: https://api.pushshift.io/reddit/search/submission?subreddit=wallstreetbets&size=100&after=777d\n",
      "Querying from: https://api.pushshift.io/reddit/search/submission?subreddit=wallstreetbets&size=100&after=780d\n",
      "Querying from: https://api.pushshift.io/reddit/search/submission?subreddit=wallstreetbets&size=100&after=783d\n",
      "Querying from: https://api.pushshift.io/reddit/search/submission?subreddit=wallstreetbets&size=100&after=786d\n",
      "Querying from: https://api.pushshift.io/reddit/search/submission?subreddit=wallstreetbets&size=100&after=789d\n",
      "Querying from: https://api.pushshift.io/reddit/search/submission?subreddit=wallstreetbets&size=100&after=792d\n",
      "Querying from: https://api.pushshift.io/reddit/search/submission?subreddit=wallstreetbets&size=100&after=795d\n",
      "Querying from: https://api.pushshift.io/reddit/search/submission?subreddit=wallstreetbets&size=100&after=798d\n",
      "Querying from: https://api.pushshift.io/reddit/search/submission?subreddit=wallstreetbets&size=100&after=801d\n",
      "Querying from: https://api.pushshift.io/reddit/search/submission?subreddit=wallstreetbets&size=100&after=804d\n",
      "Querying from: https://api.pushshift.io/reddit/search/submission?subreddit=wallstreetbets&size=100&after=807d\n",
      "Querying from: https://api.pushshift.io/reddit/search/submission?subreddit=wallstreetbets&size=100&after=810d\n",
      "Querying from: https://api.pushshift.io/reddit/search/submission?subreddit=wallstreetbets&size=100&after=813d\n",
      "Querying from: https://api.pushshift.io/reddit/search/submission?subreddit=wallstreetbets&size=100&after=816d\n",
      "Querying from: https://api.pushshift.io/reddit/search/submission?subreddit=wallstreetbets&size=100&after=819d\n",
      "Querying from: https://api.pushshift.io/reddit/search/submission?subreddit=wallstreetbets&size=100&after=822d\n",
      "Querying from: https://api.pushshift.io/reddit/search/submission?subreddit=wallstreetbets&size=100&after=825d\n",
      "Querying from: https://api.pushshift.io/reddit/search/submission?subreddit=wallstreetbets&size=100&after=828d\n",
      "Querying from: https://api.pushshift.io/reddit/search/submission?subreddit=wallstreetbets&size=100&after=831d\n",
      "Querying from: https://api.pushshift.io/reddit/search/submission?subreddit=wallstreetbets&size=100&after=834d\n",
      "Querying from: https://api.pushshift.io/reddit/search/submission?subreddit=wallstreetbets&size=100&after=837d\n",
      "Querying from: https://api.pushshift.io/reddit/search/submission?subreddit=wallstreetbets&size=100&after=840d\n",
      "Querying from: https://api.pushshift.io/reddit/search/submission?subreddit=wallstreetbets&size=100&after=843d\n",
      "Querying from: https://api.pushshift.io/reddit/search/submission?subreddit=wallstreetbets&size=100&after=846d\n",
      "Querying from: https://api.pushshift.io/reddit/search/submission?subreddit=wallstreetbets&size=100&after=849d\n",
      "Querying from: https://api.pushshift.io/reddit/search/submission?subreddit=wallstreetbets&size=100&after=852d\n",
      "Querying from: https://api.pushshift.io/reddit/search/submission?subreddit=wallstreetbets&size=100&after=855d\n",
      "Querying from: https://api.pushshift.io/reddit/search/submission?subreddit=wallstreetbets&size=100&after=858d\n",
      "Querying from: https://api.pushshift.io/reddit/search/submission?subreddit=wallstreetbets&size=100&after=861d\n",
      "Querying from: https://api.pushshift.io/reddit/search/submission?subreddit=wallstreetbets&size=100&after=864d\n",
      "Querying from: https://api.pushshift.io/reddit/search/submission?subreddit=wallstreetbets&size=100&after=867d\n",
      "Querying from: https://api.pushshift.io/reddit/search/submission?subreddit=wallstreetbets&size=100&after=870d\n",
      "Querying from: https://api.pushshift.io/reddit/search/submission?subreddit=wallstreetbets&size=100&after=873d\n",
      "Querying from: https://api.pushshift.io/reddit/search/submission?subreddit=wallstreetbets&size=100&after=876d\n",
      "Querying from: https://api.pushshift.io/reddit/search/submission?subreddit=wallstreetbets&size=100&after=879d\n",
      "Querying from: https://api.pushshift.io/reddit/search/submission?subreddit=wallstreetbets&size=100&after=882d\n",
      "Querying from: https://api.pushshift.io/reddit/search/submission?subreddit=wallstreetbets&size=100&after=885d\n",
      "Querying from: https://api.pushshift.io/reddit/search/submission?subreddit=wallstreetbets&size=100&after=888d\n",
      "Querying from: https://api.pushshift.io/reddit/search/submission?subreddit=wallstreetbets&size=100&after=891d\n",
      "Querying from: https://api.pushshift.io/reddit/search/submission?subreddit=wallstreetbets&size=100&after=894d\n",
      "Querying from: https://api.pushshift.io/reddit/search/submission?subreddit=wallstreetbets&size=100&after=897d\n",
      "Querying from: https://api.pushshift.io/reddit/search/submission?subreddit=wallstreetbets&size=100&after=900d\n"
     ]
    },
    {
     "name": "stdout",
     "output_type": "stream",
     "text": [
      "Querying from: https://api.pushshift.io/reddit/search/submission?subreddit=wallstreetbets&size=100&after=903d\n",
      "Querying from: https://api.pushshift.io/reddit/search/submission?subreddit=wallstreetbets&size=100&after=906d\n",
      "Querying from: https://api.pushshift.io/reddit/search/submission?subreddit=wallstreetbets&size=100&after=909d\n",
      "Querying from: https://api.pushshift.io/reddit/search/submission?subreddit=wallstreetbets&size=100&after=912d\n",
      "Querying from: https://api.pushshift.io/reddit/search/submission?subreddit=wallstreetbets&size=100&after=915d\n",
      "Querying from: https://api.pushshift.io/reddit/search/submission?subreddit=wallstreetbets&size=100&after=918d\n",
      "Querying from: https://api.pushshift.io/reddit/search/submission?subreddit=wallstreetbets&size=100&after=921d\n",
      "Querying from: https://api.pushshift.io/reddit/search/submission?subreddit=wallstreetbets&size=100&after=924d\n",
      "Querying from: https://api.pushshift.io/reddit/search/submission?subreddit=wallstreetbets&size=100&after=927d\n",
      "Querying from: https://api.pushshift.io/reddit/search/submission?subreddit=wallstreetbets&size=100&after=930d\n",
      "Querying from: https://api.pushshift.io/reddit/search/submission?subreddit=wallstreetbets&size=100&after=933d\n",
      "Querying from: https://api.pushshift.io/reddit/search/submission?subreddit=wallstreetbets&size=100&after=936d\n",
      "Querying from: https://api.pushshift.io/reddit/search/submission?subreddit=wallstreetbets&size=100&after=939d\n",
      "Querying from: https://api.pushshift.io/reddit/search/submission?subreddit=wallstreetbets&size=100&after=942d\n",
      "Querying from: https://api.pushshift.io/reddit/search/submission?subreddit=wallstreetbets&size=100&after=945d\n",
      "Querying from: https://api.pushshift.io/reddit/search/submission?subreddit=wallstreetbets&size=100&after=948d\n",
      "Querying from: https://api.pushshift.io/reddit/search/submission?subreddit=wallstreetbets&size=100&after=951d\n",
      "Querying from: https://api.pushshift.io/reddit/search/submission?subreddit=wallstreetbets&size=100&after=954d\n",
      "Querying from: https://api.pushshift.io/reddit/search/submission?subreddit=wallstreetbets&size=100&after=957d\n",
      "Querying from: https://api.pushshift.io/reddit/search/submission?subreddit=wallstreetbets&size=100&after=960d\n",
      "Querying from: https://api.pushshift.io/reddit/search/submission?subreddit=wallstreetbets&size=100&after=963d\n",
      "Querying from: https://api.pushshift.io/reddit/search/submission?subreddit=wallstreetbets&size=100&after=966d\n",
      "Querying from: https://api.pushshift.io/reddit/search/submission?subreddit=wallstreetbets&size=100&after=969d\n",
      "Querying from: https://api.pushshift.io/reddit/search/submission?subreddit=wallstreetbets&size=100&after=972d\n",
      "Querying from: https://api.pushshift.io/reddit/search/submission?subreddit=wallstreetbets&size=100&after=975d\n",
      "Querying from: https://api.pushshift.io/reddit/search/submission?subreddit=wallstreetbets&size=100&after=978d\n",
      "Querying from: https://api.pushshift.io/reddit/search/submission?subreddit=wallstreetbets&size=100&after=981d\n",
      "Querying from: https://api.pushshift.io/reddit/search/submission?subreddit=wallstreetbets&size=100&after=984d\n",
      "Querying from: https://api.pushshift.io/reddit/search/submission?subreddit=wallstreetbets&size=100&after=987d\n",
      "Querying from: https://api.pushshift.io/reddit/search/submission?subreddit=wallstreetbets&size=100&after=990d\n",
      "Querying from: https://api.pushshift.io/reddit/search/submission?subreddit=wallstreetbets&size=100&after=993d\n",
      "Querying from: https://api.pushshift.io/reddit/search/submission?subreddit=wallstreetbets&size=100&after=996d\n",
      "Querying from: https://api.pushshift.io/reddit/search/submission?subreddit=wallstreetbets&size=100&after=999d\n",
      "Querying from: https://api.pushshift.io/reddit/search/submission?subreddit=wallstreetbets&size=100&after=1002d\n",
      "Querying from: https://api.pushshift.io/reddit/search/submission?subreddit=wallstreetbets&size=100&after=1005d\n",
      "Querying from: https://api.pushshift.io/reddit/search/submission?subreddit=wallstreetbets&size=100&after=1008d\n",
      "Querying from: https://api.pushshift.io/reddit/search/submission?subreddit=wallstreetbets&size=100&after=1011d\n",
      "Querying from: https://api.pushshift.io/reddit/search/submission?subreddit=wallstreetbets&size=100&after=1014d\n",
      "Querying from: https://api.pushshift.io/reddit/search/submission?subreddit=wallstreetbets&size=100&after=1017d\n",
      "Querying from: https://api.pushshift.io/reddit/search/submission?subreddit=wallstreetbets&size=100&after=1020d\n",
      "Querying from: https://api.pushshift.io/reddit/search/submission?subreddit=wallstreetbets&size=100&after=1023d\n",
      "Querying from: https://api.pushshift.io/reddit/search/submission?subreddit=wallstreetbets&size=100&after=1026d\n",
      "Querying from: https://api.pushshift.io/reddit/search/submission?subreddit=wallstreetbets&size=100&after=1029d\n",
      "Querying from: https://api.pushshift.io/reddit/search/submission?subreddit=wallstreetbets&size=100&after=1032d\n",
      "Querying from: https://api.pushshift.io/reddit/search/submission?subreddit=wallstreetbets&size=100&after=1035d\n",
      "Querying from: https://api.pushshift.io/reddit/search/submission?subreddit=wallstreetbets&size=100&after=1038d\n",
      "Querying from: https://api.pushshift.io/reddit/search/submission?subreddit=wallstreetbets&size=100&after=1041d\n",
      "Querying from: https://api.pushshift.io/reddit/search/submission?subreddit=wallstreetbets&size=100&after=1044d\n",
      "Querying from: https://api.pushshift.io/reddit/search/submission?subreddit=wallstreetbets&size=100&after=1047d\n",
      "Querying from: https://api.pushshift.io/reddit/search/submission?subreddit=wallstreetbets&size=100&after=1050d\n",
      "Querying from: https://api.pushshift.io/reddit/search/submission?subreddit=wallstreetbets&size=100&after=1053d\n",
      "Querying from: https://api.pushshift.io/reddit/search/submission?subreddit=wallstreetbets&size=100&after=1056d\n",
      "Querying from: https://api.pushshift.io/reddit/search/submission?subreddit=wallstreetbets&size=100&after=1059d\n",
      "Querying from: https://api.pushshift.io/reddit/search/submission?subreddit=wallstreetbets&size=100&after=1062d\n",
      "Querying from: https://api.pushshift.io/reddit/search/submission?subreddit=wallstreetbets&size=100&after=1065d\n",
      "Querying from: https://api.pushshift.io/reddit/search/submission?subreddit=wallstreetbets&size=100&after=1068d\n",
      "Querying from: https://api.pushshift.io/reddit/search/submission?subreddit=wallstreetbets&size=100&after=1071d\n",
      "Querying from: https://api.pushshift.io/reddit/search/submission?subreddit=wallstreetbets&size=100&after=1074d\n",
      "Querying from: https://api.pushshift.io/reddit/search/submission?subreddit=wallstreetbets&size=100&after=1077d\n",
      "Querying from: https://api.pushshift.io/reddit/search/submission?subreddit=wallstreetbets&size=100&after=1080d\n",
      "Querying from: https://api.pushshift.io/reddit/search/submission?subreddit=wallstreetbets&size=100&after=1083d\n",
      "Querying from: https://api.pushshift.io/reddit/search/submission?subreddit=wallstreetbets&size=100&after=1086d\n",
      "Querying from: https://api.pushshift.io/reddit/search/submission?subreddit=wallstreetbets&size=100&after=1089d\n",
      "Querying from: https://api.pushshift.io/reddit/search/submission?subreddit=wallstreetbets&size=100&after=1092d\n",
      "Querying from: https://api.pushshift.io/reddit/search/submission?subreddit=wallstreetbets&size=100&after=1095d\n",
      "Querying from: https://api.pushshift.io/reddit/search/submission?subreddit=wallstreetbets&size=100&after=1098d\n",
      "Querying from: https://api.pushshift.io/reddit/search/submission?subreddit=wallstreetbets&size=100&after=1101d\n",
      "Querying from: https://api.pushshift.io/reddit/search/submission?subreddit=wallstreetbets&size=100&after=1104d\n",
      "Querying from: https://api.pushshift.io/reddit/search/submission?subreddit=wallstreetbets&size=100&after=1107d\n",
      "Querying from: https://api.pushshift.io/reddit/search/submission?subreddit=wallstreetbets&size=100&after=1110d\n",
      "Querying from: https://api.pushshift.io/reddit/search/submission?subreddit=wallstreetbets&size=100&after=1113d\n",
      "Querying from: https://api.pushshift.io/reddit/search/submission?subreddit=wallstreetbets&size=100&after=1116d\n",
      "Querying from: https://api.pushshift.io/reddit/search/submission?subreddit=wallstreetbets&size=100&after=1119d\n",
      "Querying from: https://api.pushshift.io/reddit/search/submission?subreddit=wallstreetbets&size=100&after=1122d\n",
      "Querying from: https://api.pushshift.io/reddit/search/submission?subreddit=wallstreetbets&size=100&after=1125d\n"
     ]
    },
    {
     "name": "stdout",
     "output_type": "stream",
     "text": [
      "Querying from: https://api.pushshift.io/reddit/search/submission?subreddit=wallstreetbets&size=100&after=1128d\n",
      "Querying from: https://api.pushshift.io/reddit/search/submission?subreddit=wallstreetbets&size=100&after=1131d\n",
      "Querying from: https://api.pushshift.io/reddit/search/submission?subreddit=wallstreetbets&size=100&after=1134d\n",
      "Querying from: https://api.pushshift.io/reddit/search/submission?subreddit=wallstreetbets&size=100&after=1137d\n",
      "Querying from: https://api.pushshift.io/reddit/search/submission?subreddit=wallstreetbets&size=100&after=1140d\n",
      "Querying from: https://api.pushshift.io/reddit/search/submission?subreddit=wallstreetbets&size=100&after=1143d\n",
      "Querying from: https://api.pushshift.io/reddit/search/submission?subreddit=wallstreetbets&size=100&after=1146d\n",
      "Querying from: https://api.pushshift.io/reddit/search/submission?subreddit=wallstreetbets&size=100&after=1149d\n",
      "Querying from: https://api.pushshift.io/reddit/search/submission?subreddit=wallstreetbets&size=100&after=1152d\n",
      "Querying from: https://api.pushshift.io/reddit/search/submission?subreddit=wallstreetbets&size=100&after=1155d\n",
      "Querying from: https://api.pushshift.io/reddit/search/submission?subreddit=wallstreetbets&size=100&after=1158d\n",
      "Querying from: https://api.pushshift.io/reddit/search/submission?subreddit=wallstreetbets&size=100&after=1161d\n",
      "Querying from: https://api.pushshift.io/reddit/search/submission?subreddit=wallstreetbets&size=100&after=1164d\n",
      "Querying from: https://api.pushshift.io/reddit/search/submission?subreddit=wallstreetbets&size=100&after=1167d\n",
      "Querying from: https://api.pushshift.io/reddit/search/submission?subreddit=wallstreetbets&size=100&after=1170d\n",
      "Querying from: https://api.pushshift.io/reddit/search/submission?subreddit=wallstreetbets&size=100&after=1173d\n",
      "Querying from: https://api.pushshift.io/reddit/search/submission?subreddit=wallstreetbets&size=100&after=1176d\n",
      "Querying from: https://api.pushshift.io/reddit/search/submission?subreddit=wallstreetbets&size=100&after=1179d\n",
      "Querying from: https://api.pushshift.io/reddit/search/submission?subreddit=wallstreetbets&size=100&after=1182d\n",
      "Querying from: https://api.pushshift.io/reddit/search/submission?subreddit=wallstreetbets&size=100&after=1185d\n",
      "Querying from: https://api.pushshift.io/reddit/search/submission?subreddit=wallstreetbets&size=100&after=1188d\n",
      "Querying from: https://api.pushshift.io/reddit/search/submission?subreddit=wallstreetbets&size=100&after=1191d\n",
      "Querying from: https://api.pushshift.io/reddit/search/submission?subreddit=wallstreetbets&size=100&after=1194d\n",
      "Querying from: https://api.pushshift.io/reddit/search/submission?subreddit=wallstreetbets&size=100&after=1197d\n",
      "Querying from: https://api.pushshift.io/reddit/search/submission?subreddit=wallstreetbets&size=100&after=1200d\n",
      "Querying from: https://api.pushshift.io/reddit/search/submission?subreddit=wallstreetbets&size=100&after=1203d\n",
      "Querying from: https://api.pushshift.io/reddit/search/submission?subreddit=wallstreetbets&size=100&after=1206d\n",
      "Querying from: https://api.pushshift.io/reddit/search/submission?subreddit=wallstreetbets&size=100&after=1209d\n",
      "Querying from: https://api.pushshift.io/reddit/search/submission?subreddit=wallstreetbets&size=100&after=1212d\n",
      "Querying from: https://api.pushshift.io/reddit/search/submission?subreddit=wallstreetbets&size=100&after=1215d\n",
      "Querying from: https://api.pushshift.io/reddit/search/submission?subreddit=wallstreetbets&size=100&after=1218d\n",
      "Querying from: https://api.pushshift.io/reddit/search/submission?subreddit=wallstreetbets&size=100&after=1221d\n",
      "Querying from: https://api.pushshift.io/reddit/search/submission?subreddit=wallstreetbets&size=100&after=1224d\n",
      "Querying from: https://api.pushshift.io/reddit/search/submission?subreddit=wallstreetbets&size=100&after=1227d\n",
      "Querying from: https://api.pushshift.io/reddit/search/submission?subreddit=wallstreetbets&size=100&after=1230d\n",
      "Querying from: https://api.pushshift.io/reddit/search/submission?subreddit=wallstreetbets&size=100&after=1233d\n",
      "Querying from: https://api.pushshift.io/reddit/search/submission?subreddit=wallstreetbets&size=100&after=1236d\n",
      "Querying from: https://api.pushshift.io/reddit/search/submission?subreddit=wallstreetbets&size=100&after=1239d\n",
      "Querying from: https://api.pushshift.io/reddit/search/submission?subreddit=wallstreetbets&size=100&after=1242d\n",
      "Querying from: https://api.pushshift.io/reddit/search/submission?subreddit=wallstreetbets&size=100&after=1245d\n",
      "Querying from: https://api.pushshift.io/reddit/search/submission?subreddit=wallstreetbets&size=100&after=1248d\n",
      "Querying from: https://api.pushshift.io/reddit/search/submission?subreddit=wallstreetbets&size=100&after=1251d\n",
      "Querying from: https://api.pushshift.io/reddit/search/submission?subreddit=wallstreetbets&size=100&after=1254d\n",
      "Querying from: https://api.pushshift.io/reddit/search/submission?subreddit=wallstreetbets&size=100&after=1257d\n",
      "Querying from: https://api.pushshift.io/reddit/search/submission?subreddit=wallstreetbets&size=100&after=1260d\n",
      "Querying from: https://api.pushshift.io/reddit/search/submission?subreddit=wallstreetbets&size=100&after=1263d\n",
      "Querying from: https://api.pushshift.io/reddit/search/submission?subreddit=wallstreetbets&size=100&after=1266d\n",
      "Querying from: https://api.pushshift.io/reddit/search/submission?subreddit=wallstreetbets&size=100&after=1269d\n",
      "Querying from: https://api.pushshift.io/reddit/search/submission?subreddit=wallstreetbets&size=100&after=1272d\n",
      "Querying from: https://api.pushshift.io/reddit/search/submission?subreddit=wallstreetbets&size=100&after=1275d\n",
      "Querying from: https://api.pushshift.io/reddit/search/submission?subreddit=wallstreetbets&size=100&after=1278d\n",
      "Querying from: https://api.pushshift.io/reddit/search/submission?subreddit=wallstreetbets&size=100&after=1281d\n",
      "Querying from: https://api.pushshift.io/reddit/search/submission?subreddit=wallstreetbets&size=100&after=1284d\n",
      "Querying from: https://api.pushshift.io/reddit/search/submission?subreddit=wallstreetbets&size=100&after=1287d\n",
      "Querying from: https://api.pushshift.io/reddit/search/submission?subreddit=wallstreetbets&size=100&after=1290d\n",
      "Querying from: https://api.pushshift.io/reddit/search/submission?subreddit=wallstreetbets&size=100&after=1293d\n",
      "Querying from: https://api.pushshift.io/reddit/search/submission?subreddit=wallstreetbets&size=100&after=1296d\n",
      "Querying from: https://api.pushshift.io/reddit/search/submission?subreddit=wallstreetbets&size=100&after=1299d\n",
      "Querying from: https://api.pushshift.io/reddit/search/submission?subreddit=wallstreetbets&size=100&after=1302d\n",
      "Querying from: https://api.pushshift.io/reddit/search/submission?subreddit=wallstreetbets&size=100&after=1305d\n",
      "Querying from: https://api.pushshift.io/reddit/search/submission?subreddit=wallstreetbets&size=100&after=1308d\n",
      "Querying from: https://api.pushshift.io/reddit/search/submission?subreddit=wallstreetbets&size=100&after=1311d\n",
      "Querying from: https://api.pushshift.io/reddit/search/submission?subreddit=wallstreetbets&size=100&after=1314d\n",
      "Querying from: https://api.pushshift.io/reddit/search/submission?subreddit=wallstreetbets&size=100&after=1317d\n",
      "Querying from: https://api.pushshift.io/reddit/search/submission?subreddit=wallstreetbets&size=100&after=1320d\n",
      "Querying from: https://api.pushshift.io/reddit/search/submission?subreddit=wallstreetbets&size=100&after=1323d\n",
      "Querying from: https://api.pushshift.io/reddit/search/submission?subreddit=wallstreetbets&size=100&after=1326d\n",
      "Querying from: https://api.pushshift.io/reddit/search/submission?subreddit=wallstreetbets&size=100&after=1329d\n",
      "Querying from: https://api.pushshift.io/reddit/search/submission?subreddit=wallstreetbets&size=100&after=1332d\n",
      "Querying from: https://api.pushshift.io/reddit/search/submission?subreddit=wallstreetbets&size=100&after=1335d\n",
      "Querying from: https://api.pushshift.io/reddit/search/submission?subreddit=wallstreetbets&size=100&after=1338d\n",
      "Querying from: https://api.pushshift.io/reddit/search/submission?subreddit=wallstreetbets&size=100&after=1341d\n",
      "Querying from: https://api.pushshift.io/reddit/search/submission?subreddit=wallstreetbets&size=100&after=1344d\n",
      "Querying from: https://api.pushshift.io/reddit/search/submission?subreddit=wallstreetbets&size=100&after=1347d\n"
     ]
    },
    {
     "name": "stdout",
     "output_type": "stream",
     "text": [
      "Querying from: https://api.pushshift.io/reddit/search/submission?subreddit=wallstreetbets&size=100&after=1350d\n",
      "Querying from: https://api.pushshift.io/reddit/search/submission?subreddit=wallstreetbets&size=100&after=1353d\n",
      "Querying from: https://api.pushshift.io/reddit/search/submission?subreddit=wallstreetbets&size=100&after=1356d\n",
      "Querying from: https://api.pushshift.io/reddit/search/submission?subreddit=wallstreetbets&size=100&after=1359d\n",
      "Querying from: https://api.pushshift.io/reddit/search/submission?subreddit=wallstreetbets&size=100&after=1362d\n",
      "Querying from: https://api.pushshift.io/reddit/search/submission?subreddit=wallstreetbets&size=100&after=1365d\n",
      "Querying from: https://api.pushshift.io/reddit/search/submission?subreddit=wallstreetbets&size=100&after=1368d\n",
      "Querying from: https://api.pushshift.io/reddit/search/submission?subreddit=wallstreetbets&size=100&after=1371d\n",
      "Querying from: https://api.pushshift.io/reddit/search/submission?subreddit=wallstreetbets&size=100&after=1374d\n",
      "Querying from: https://api.pushshift.io/reddit/search/submission?subreddit=wallstreetbets&size=100&after=1377d\n",
      "Querying from: https://api.pushshift.io/reddit/search/submission?subreddit=wallstreetbets&size=100&after=1380d\n",
      "Querying from: https://api.pushshift.io/reddit/search/submission?subreddit=wallstreetbets&size=100&after=1383d\n",
      "Querying from: https://api.pushshift.io/reddit/search/submission?subreddit=wallstreetbets&size=100&after=1386d\n",
      "Querying from: https://api.pushshift.io/reddit/search/submission?subreddit=wallstreetbets&size=100&after=1389d\n",
      "Querying from: https://api.pushshift.io/reddit/search/submission?subreddit=wallstreetbets&size=100&after=1392d\n",
      "Querying from: https://api.pushshift.io/reddit/search/submission?subreddit=wallstreetbets&size=100&after=1395d\n",
      "Querying from: https://api.pushshift.io/reddit/search/submission?subreddit=wallstreetbets&size=100&after=1398d\n",
      "Querying from: https://api.pushshift.io/reddit/search/submission?subreddit=wallstreetbets&size=100&after=1401d\n",
      "Querying from: https://api.pushshift.io/reddit/search/submission?subreddit=wallstreetbets&size=100&after=1404d\n",
      "Querying from: https://api.pushshift.io/reddit/search/submission?subreddit=wallstreetbets&size=100&after=1407d\n",
      "Querying from: https://api.pushshift.io/reddit/search/submission?subreddit=wallstreetbets&size=100&after=1410d\n",
      "Querying from: https://api.pushshift.io/reddit/search/submission?subreddit=wallstreetbets&size=100&after=1413d\n",
      "Querying from: https://api.pushshift.io/reddit/search/submission?subreddit=wallstreetbets&size=100&after=1416d\n",
      "Querying from: https://api.pushshift.io/reddit/search/submission?subreddit=wallstreetbets&size=100&after=1419d\n",
      "Querying from: https://api.pushshift.io/reddit/search/submission?subreddit=wallstreetbets&size=100&after=1422d\n",
      "Querying from: https://api.pushshift.io/reddit/search/submission?subreddit=wallstreetbets&size=100&after=1425d\n",
      "Querying from: https://api.pushshift.io/reddit/search/submission?subreddit=wallstreetbets&size=100&after=1428d\n",
      "Querying from: https://api.pushshift.io/reddit/search/submission?subreddit=wallstreetbets&size=100&after=1431d\n",
      "Querying from: https://api.pushshift.io/reddit/search/submission?subreddit=wallstreetbets&size=100&after=1434d\n",
      "Querying from: https://api.pushshift.io/reddit/search/submission?subreddit=wallstreetbets&size=100&after=1437d\n",
      "Querying from: https://api.pushshift.io/reddit/search/submission?subreddit=wallstreetbets&size=100&after=1440d\n",
      "Querying from: https://api.pushshift.io/reddit/search/submission?subreddit=wallstreetbets&size=100&after=1443d\n",
      "Querying from: https://api.pushshift.io/reddit/search/submission?subreddit=wallstreetbets&size=100&after=1446d\n",
      "Querying from: https://api.pushshift.io/reddit/search/submission?subreddit=wallstreetbets&size=100&after=1449d\n",
      "Querying from: https://api.pushshift.io/reddit/search/submission?subreddit=wallstreetbets&size=100&after=1452d\n",
      "Querying from: https://api.pushshift.io/reddit/search/submission?subreddit=wallstreetbets&size=100&after=1455d\n",
      "Querying from: https://api.pushshift.io/reddit/search/submission?subreddit=wallstreetbets&size=100&after=1458d\n",
      "Querying from: https://api.pushshift.io/reddit/search/submission?subreddit=wallstreetbets&size=100&after=1461d\n",
      "Querying from: https://api.pushshift.io/reddit/search/submission?subreddit=wallstreetbets&size=100&after=1464d\n",
      "Querying from: https://api.pushshift.io/reddit/search/submission?subreddit=wallstreetbets&size=100&after=1467d\n",
      "Querying from: https://api.pushshift.io/reddit/search/submission?subreddit=wallstreetbets&size=100&after=1470d\n",
      "Querying from: https://api.pushshift.io/reddit/search/submission?subreddit=wallstreetbets&size=100&after=1473d\n",
      "Querying from: https://api.pushshift.io/reddit/search/submission?subreddit=wallstreetbets&size=100&after=1476d\n",
      "Querying from: https://api.pushshift.io/reddit/search/submission?subreddit=wallstreetbets&size=100&after=1479d\n",
      "Querying from: https://api.pushshift.io/reddit/search/submission?subreddit=wallstreetbets&size=100&after=1482d\n",
      "Querying from: https://api.pushshift.io/reddit/search/submission?subreddit=wallstreetbets&size=100&after=1485d\n",
      "Querying from: https://api.pushshift.io/reddit/search/submission?subreddit=wallstreetbets&size=100&after=1488d\n",
      "Querying from: https://api.pushshift.io/reddit/search/submission?subreddit=wallstreetbets&size=100&after=1491d\n",
      "Querying from: https://api.pushshift.io/reddit/search/submission?subreddit=wallstreetbets&size=100&after=1494d\n",
      "Querying from: https://api.pushshift.io/reddit/search/submission?subreddit=wallstreetbets&size=100&after=1497d\n",
      "Querying from: https://api.pushshift.io/reddit/search/submission?subreddit=wallstreetbets&size=100&after=1500d\n",
      "Querying from: https://api.pushshift.io/reddit/search/submission?subreddit=wallstreetbets&size=100&after=1503d\n",
      "Querying from: https://api.pushshift.io/reddit/search/submission?subreddit=wallstreetbets&size=100&after=1506d\n",
      "Querying from: https://api.pushshift.io/reddit/search/submission?subreddit=wallstreetbets&size=100&after=1509d\n",
      "Querying from: https://api.pushshift.io/reddit/search/submission?subreddit=wallstreetbets&size=100&after=1512d\n",
      "Querying from: https://api.pushshift.io/reddit/search/submission?subreddit=wallstreetbets&size=100&after=1515d\n",
      "Querying from: https://api.pushshift.io/reddit/search/submission?subreddit=wallstreetbets&size=100&after=1518d\n",
      "Querying from: https://api.pushshift.io/reddit/search/submission?subreddit=wallstreetbets&size=100&after=1521d\n",
      "Querying from: https://api.pushshift.io/reddit/search/submission?subreddit=wallstreetbets&size=100&after=1524d\n",
      "Querying from: https://api.pushshift.io/reddit/search/submission?subreddit=wallstreetbets&size=100&after=1527d\n",
      "Querying from: https://api.pushshift.io/reddit/search/submission?subreddit=wallstreetbets&size=100&after=1530d\n",
      "Querying from: https://api.pushshift.io/reddit/search/submission?subreddit=wallstreetbets&size=100&after=1533d\n",
      "Querying from: https://api.pushshift.io/reddit/search/submission?subreddit=wallstreetbets&size=100&after=1536d\n",
      "Querying from: https://api.pushshift.io/reddit/search/submission?subreddit=wallstreetbets&size=100&after=1539d\n",
      "Querying from: https://api.pushshift.io/reddit/search/submission?subreddit=wallstreetbets&size=100&after=1542d\n",
      "Querying from: https://api.pushshift.io/reddit/search/submission?subreddit=wallstreetbets&size=100&after=1545d\n",
      "Querying from: https://api.pushshift.io/reddit/search/submission?subreddit=wallstreetbets&size=100&after=1548d\n",
      "Querying from: https://api.pushshift.io/reddit/search/submission?subreddit=wallstreetbets&size=100&after=1551d\n",
      "Querying from: https://api.pushshift.io/reddit/search/submission?subreddit=wallstreetbets&size=100&after=1554d\n",
      "Querying from: https://api.pushshift.io/reddit/search/submission?subreddit=wallstreetbets&size=100&after=1557d\n",
      "Querying from: https://api.pushshift.io/reddit/search/submission?subreddit=wallstreetbets&size=100&after=1560d\n",
      "Querying from: https://api.pushshift.io/reddit/search/submission?subreddit=wallstreetbets&size=100&after=1563d\n",
      "Querying from: https://api.pushshift.io/reddit/search/submission?subreddit=wallstreetbets&size=100&after=1566d\n",
      "Querying from: https://api.pushshift.io/reddit/search/submission?subreddit=wallstreetbets&size=100&after=1569d\n"
     ]
    },
    {
     "name": "stdout",
     "output_type": "stream",
     "text": [
      "Querying from: https://api.pushshift.io/reddit/search/submission?subreddit=wallstreetbets&size=100&after=1572d\n",
      "Querying from: https://api.pushshift.io/reddit/search/submission?subreddit=wallstreetbets&size=100&after=1575d\n",
      "Querying from: https://api.pushshift.io/reddit/search/submission?subreddit=wallstreetbets&size=100&after=1578d\n",
      "Querying from: https://api.pushshift.io/reddit/search/submission?subreddit=wallstreetbets&size=100&after=1581d\n",
      "Querying from: https://api.pushshift.io/reddit/search/submission?subreddit=wallstreetbets&size=100&after=1584d\n",
      "Querying from: https://api.pushshift.io/reddit/search/submission?subreddit=wallstreetbets&size=100&after=1587d\n",
      "Querying from: https://api.pushshift.io/reddit/search/submission?subreddit=wallstreetbets&size=100&after=1590d\n",
      "Querying from: https://api.pushshift.io/reddit/search/submission?subreddit=wallstreetbets&size=100&after=1593d\n",
      "Querying from: https://api.pushshift.io/reddit/search/submission?subreddit=wallstreetbets&size=100&after=1596d\n",
      "Querying from: https://api.pushshift.io/reddit/search/submission?subreddit=wallstreetbets&size=100&after=1599d\n",
      "Querying from: https://api.pushshift.io/reddit/search/submission?subreddit=wallstreetbets&size=100&after=1602d\n",
      "Querying from: https://api.pushshift.io/reddit/search/submission?subreddit=wallstreetbets&size=100&after=1605d\n",
      "Querying from: https://api.pushshift.io/reddit/search/submission?subreddit=wallstreetbets&size=100&after=1608d\n",
      "Querying from: https://api.pushshift.io/reddit/search/submission?subreddit=wallstreetbets&size=100&after=1611d\n",
      "Querying from: https://api.pushshift.io/reddit/search/submission?subreddit=wallstreetbets&size=100&after=1614d\n",
      "Querying from: https://api.pushshift.io/reddit/search/submission?subreddit=wallstreetbets&size=100&after=1617d\n",
      "Querying from: https://api.pushshift.io/reddit/search/submission?subreddit=wallstreetbets&size=100&after=1620d\n",
      "Querying from: https://api.pushshift.io/reddit/search/submission?subreddit=wallstreetbets&size=100&after=1623d\n",
      "Querying from: https://api.pushshift.io/reddit/search/submission?subreddit=wallstreetbets&size=100&after=1626d\n",
      "Querying from: https://api.pushshift.io/reddit/search/submission?subreddit=wallstreetbets&size=100&after=1629d\n",
      "Querying from: https://api.pushshift.io/reddit/search/submission?subreddit=wallstreetbets&size=100&after=1632d\n",
      "Querying from: https://api.pushshift.io/reddit/search/submission?subreddit=wallstreetbets&size=100&after=1635d\n",
      "Querying from: https://api.pushshift.io/reddit/search/submission?subreddit=wallstreetbets&size=100&after=1638d\n",
      "Querying from: https://api.pushshift.io/reddit/search/submission?subreddit=wallstreetbets&size=100&after=1641d\n",
      "Querying from: https://api.pushshift.io/reddit/search/submission?subreddit=wallstreetbets&size=100&after=1644d\n",
      "Querying from: https://api.pushshift.io/reddit/search/submission?subreddit=wallstreetbets&size=100&after=1647d\n",
      "Querying from: https://api.pushshift.io/reddit/search/submission?subreddit=wallstreetbets&size=100&after=1650d\n",
      "Querying from: https://api.pushshift.io/reddit/search/submission?subreddit=wallstreetbets&size=100&after=1653d\n",
      "Querying from: https://api.pushshift.io/reddit/search/submission?subreddit=wallstreetbets&size=100&after=1656d\n",
      "Querying from: https://api.pushshift.io/reddit/search/submission?subreddit=wallstreetbets&size=100&after=1659d\n",
      "Querying from: https://api.pushshift.io/reddit/search/submission?subreddit=wallstreetbets&size=100&after=1662d\n",
      "Querying from: https://api.pushshift.io/reddit/search/submission?subreddit=wallstreetbets&size=100&after=1665d\n",
      "Querying from: https://api.pushshift.io/reddit/search/submission?subreddit=wallstreetbets&size=100&after=1668d\n",
      "Querying from: https://api.pushshift.io/reddit/search/submission?subreddit=wallstreetbets&size=100&after=1671d\n",
      "Querying from: https://api.pushshift.io/reddit/search/submission?subreddit=wallstreetbets&size=100&after=1674d\n",
      "Querying from: https://api.pushshift.io/reddit/search/submission?subreddit=wallstreetbets&size=100&after=1677d\n",
      "Querying from: https://api.pushshift.io/reddit/search/submission?subreddit=wallstreetbets&size=100&after=1680d\n",
      "Querying from: https://api.pushshift.io/reddit/search/submission?subreddit=wallstreetbets&size=100&after=1683d\n",
      "Querying from: https://api.pushshift.io/reddit/search/submission?subreddit=wallstreetbets&size=100&after=1686d\n",
      "Querying from: https://api.pushshift.io/reddit/search/submission?subreddit=wallstreetbets&size=100&after=1689d\n",
      "Querying from: https://api.pushshift.io/reddit/search/submission?subreddit=wallstreetbets&size=100&after=1692d\n",
      "Querying from: https://api.pushshift.io/reddit/search/submission?subreddit=wallstreetbets&size=100&after=1695d\n",
      "Querying from: https://api.pushshift.io/reddit/search/submission?subreddit=wallstreetbets&size=100&after=1698d\n",
      "Querying from: https://api.pushshift.io/reddit/search/submission?subreddit=wallstreetbets&size=100&after=1701d\n",
      "Querying from: https://api.pushshift.io/reddit/search/submission?subreddit=wallstreetbets&size=100&after=1704d\n",
      "Querying from: https://api.pushshift.io/reddit/search/submission?subreddit=wallstreetbets&size=100&after=1707d\n",
      "Querying from: https://api.pushshift.io/reddit/search/submission?subreddit=wallstreetbets&size=100&after=1710d\n",
      "Querying from: https://api.pushshift.io/reddit/search/submission?subreddit=wallstreetbets&size=100&after=1713d\n",
      "Querying from: https://api.pushshift.io/reddit/search/submission?subreddit=wallstreetbets&size=100&after=1716d\n",
      "Querying from: https://api.pushshift.io/reddit/search/submission?subreddit=wallstreetbets&size=100&after=1719d\n",
      "Querying from: https://api.pushshift.io/reddit/search/submission?subreddit=wallstreetbets&size=100&after=1722d\n",
      "Querying from: https://api.pushshift.io/reddit/search/submission?subreddit=wallstreetbets&size=100&after=1725d\n",
      "Querying from: https://api.pushshift.io/reddit/search/submission?subreddit=wallstreetbets&size=100&after=1728d\n",
      "Querying from: https://api.pushshift.io/reddit/search/submission?subreddit=wallstreetbets&size=100&after=1731d\n",
      "Querying from: https://api.pushshift.io/reddit/search/submission?subreddit=wallstreetbets&size=100&after=1734d\n",
      "Querying from: https://api.pushshift.io/reddit/search/submission?subreddit=wallstreetbets&size=100&after=1737d\n",
      "Querying from: https://api.pushshift.io/reddit/search/submission?subreddit=wallstreetbets&size=100&after=1740d\n",
      "Querying from: https://api.pushshift.io/reddit/search/submission?subreddit=wallstreetbets&size=100&after=1743d\n",
      "Querying from: https://api.pushshift.io/reddit/search/submission?subreddit=wallstreetbets&size=100&after=1746d\n",
      "Querying from: https://api.pushshift.io/reddit/search/submission?subreddit=wallstreetbets&size=100&after=1749d\n",
      "Querying from: https://api.pushshift.io/reddit/search/submission?subreddit=wallstreetbets&size=100&after=1752d\n",
      "Querying from: https://api.pushshift.io/reddit/search/submission?subreddit=wallstreetbets&size=100&after=1755d\n",
      "Querying from: https://api.pushshift.io/reddit/search/submission?subreddit=wallstreetbets&size=100&after=1758d\n",
      "Querying from: https://api.pushshift.io/reddit/search/submission?subreddit=wallstreetbets&size=100&after=1761d\n",
      "Querying from: https://api.pushshift.io/reddit/search/submission?subreddit=wallstreetbets&size=100&after=1764d\n",
      "Querying from: https://api.pushshift.io/reddit/search/submission?subreddit=wallstreetbets&size=100&after=1767d\n",
      "Querying from: https://api.pushshift.io/reddit/search/submission?subreddit=wallstreetbets&size=100&after=1770d\n",
      "Querying from: https://api.pushshift.io/reddit/search/submission?subreddit=wallstreetbets&size=100&after=1773d\n",
      "Querying from: https://api.pushshift.io/reddit/search/submission?subreddit=wallstreetbets&size=100&after=1776d\n",
      "Querying from: https://api.pushshift.io/reddit/search/submission?subreddit=wallstreetbets&size=100&after=1779d\n",
      "Querying from: https://api.pushshift.io/reddit/search/submission?subreddit=wallstreetbets&size=100&after=1782d\n",
      "Querying from: https://api.pushshift.io/reddit/search/submission?subreddit=wallstreetbets&size=100&after=1785d\n",
      "Querying from: https://api.pushshift.io/reddit/search/submission?subreddit=wallstreetbets&size=100&after=1788d\n",
      "Querying from: https://api.pushshift.io/reddit/search/submission?subreddit=wallstreetbets&size=100&after=1791d\n"
     ]
    },
    {
     "name": "stdout",
     "output_type": "stream",
     "text": [
      "Querying from: https://api.pushshift.io/reddit/search/submission?subreddit=wallstreetbets&size=100&after=1794d\n",
      "Querying from: https://api.pushshift.io/reddit/search/submission?subreddit=wallstreetbets&size=100&after=1797d\n",
      "Querying from: https://api.pushshift.io/reddit/search/submission?subreddit=wallstreetbets&size=100&after=1800d\n",
      "Querying from: https://api.pushshift.io/reddit/search/submission?subreddit=wallstreetbets&size=100&after=1803d\n",
      "Querying from: https://api.pushshift.io/reddit/search/submission?subreddit=wallstreetbets&size=100&after=1806d\n",
      "Querying from: https://api.pushshift.io/reddit/search/submission?subreddit=wallstreetbets&size=100&after=1809d\n",
      "Querying from: https://api.pushshift.io/reddit/search/submission?subreddit=wallstreetbets&size=100&after=1812d\n",
      "Querying from: https://api.pushshift.io/reddit/search/submission?subreddit=wallstreetbets&size=100&after=1815d\n",
      "Querying from: https://api.pushshift.io/reddit/search/submission?subreddit=wallstreetbets&size=100&after=1818d\n",
      "Querying from: https://api.pushshift.io/reddit/search/submission?subreddit=wallstreetbets&size=100&after=1821d\n",
      "Querying from: https://api.pushshift.io/reddit/search/submission?subreddit=wallstreetbets&size=100&after=1824d\n",
      "Querying from: https://api.pushshift.io/reddit/search/submission?subreddit=wallstreetbets&size=100&after=1827d\n",
      "Querying from: https://api.pushshift.io/reddit/search/submission?subreddit=wallstreetbets&size=100&after=1830d\n",
      "Querying from: https://api.pushshift.io/reddit/search/submission?subreddit=wallstreetbets&size=100&after=1833d\n",
      "Querying from: https://api.pushshift.io/reddit/search/submission?subreddit=wallstreetbets&size=100&after=1836d\n",
      "Querying from: https://api.pushshift.io/reddit/search/submission?subreddit=wallstreetbets&size=100&after=1839d\n",
      "Querying from: https://api.pushshift.io/reddit/search/submission?subreddit=wallstreetbets&size=100&after=1842d\n",
      "Querying from: https://api.pushshift.io/reddit/search/submission?subreddit=wallstreetbets&size=100&after=1845d\n",
      "Querying from: https://api.pushshift.io/reddit/search/submission?subreddit=wallstreetbets&size=100&after=1848d\n",
      "Querying from: https://api.pushshift.io/reddit/search/submission?subreddit=wallstreetbets&size=100&after=1851d\n",
      "Querying from: https://api.pushshift.io/reddit/search/submission?subreddit=wallstreetbets&size=100&after=1854d\n",
      "Querying from: https://api.pushshift.io/reddit/search/submission?subreddit=wallstreetbets&size=100&after=1857d\n",
      "Querying from: https://api.pushshift.io/reddit/search/submission?subreddit=wallstreetbets&size=100&after=1860d\n",
      "Querying from: https://api.pushshift.io/reddit/search/submission?subreddit=wallstreetbets&size=100&after=1863d\n",
      "Querying from: https://api.pushshift.io/reddit/search/submission?subreddit=wallstreetbets&size=100&after=1866d\n",
      "Querying from: https://api.pushshift.io/reddit/search/submission?subreddit=wallstreetbets&size=100&after=1869d\n",
      "Querying from: https://api.pushshift.io/reddit/search/submission?subreddit=wallstreetbets&size=100&after=1872d\n",
      "Querying from: https://api.pushshift.io/reddit/search/submission?subreddit=wallstreetbets&size=100&after=1875d\n",
      "Querying from: https://api.pushshift.io/reddit/search/submission?subreddit=wallstreetbets&size=100&after=1878d\n",
      "Querying from: https://api.pushshift.io/reddit/search/submission?subreddit=wallstreetbets&size=100&after=1881d\n",
      "Querying from: https://api.pushshift.io/reddit/search/submission?subreddit=wallstreetbets&size=100&after=1884d\n",
      "Querying from: https://api.pushshift.io/reddit/search/submission?subreddit=wallstreetbets&size=100&after=1887d\n",
      "Querying from: https://api.pushshift.io/reddit/search/submission?subreddit=wallstreetbets&size=100&after=1890d\n",
      "Querying from: https://api.pushshift.io/reddit/search/submission?subreddit=wallstreetbets&size=100&after=1893d\n",
      "Querying from: https://api.pushshift.io/reddit/search/submission?subreddit=wallstreetbets&size=100&after=1896d\n",
      "Querying from: https://api.pushshift.io/reddit/search/submission?subreddit=wallstreetbets&size=100&after=1899d\n",
      "Querying from: https://api.pushshift.io/reddit/search/submission?subreddit=wallstreetbets&size=100&after=1902d\n",
      "Querying from: https://api.pushshift.io/reddit/search/submission?subreddit=wallstreetbets&size=100&after=1905d\n",
      "Querying from: https://api.pushshift.io/reddit/search/submission?subreddit=wallstreetbets&size=100&after=1908d\n",
      "Querying from: https://api.pushshift.io/reddit/search/submission?subreddit=wallstreetbets&size=100&after=1911d\n",
      "Querying from: https://api.pushshift.io/reddit/search/submission?subreddit=wallstreetbets&size=100&after=1914d\n",
      "Querying from: https://api.pushshift.io/reddit/search/submission?subreddit=wallstreetbets&size=100&after=1917d\n",
      "Querying from: https://api.pushshift.io/reddit/search/submission?subreddit=wallstreetbets&size=100&after=1920d\n",
      "Querying from: https://api.pushshift.io/reddit/search/submission?subreddit=wallstreetbets&size=100&after=1923d\n",
      "Querying from: https://api.pushshift.io/reddit/search/submission?subreddit=wallstreetbets&size=100&after=1926d\n",
      "Querying from: https://api.pushshift.io/reddit/search/submission?subreddit=wallstreetbets&size=100&after=1929d\n",
      "Querying from: https://api.pushshift.io/reddit/search/submission?subreddit=wallstreetbets&size=100&after=1932d\n",
      "Querying from: https://api.pushshift.io/reddit/search/submission?subreddit=wallstreetbets&size=100&after=1935d\n",
      "Querying from: https://api.pushshift.io/reddit/search/submission?subreddit=wallstreetbets&size=100&after=1938d\n",
      "Querying from: https://api.pushshift.io/reddit/search/submission?subreddit=wallstreetbets&size=100&after=1941d\n",
      "Querying from: https://api.pushshift.io/reddit/search/submission?subreddit=wallstreetbets&size=100&after=1944d\n",
      "Querying from: https://api.pushshift.io/reddit/search/submission?subreddit=wallstreetbets&size=100&after=1947d\n",
      "Querying from: https://api.pushshift.io/reddit/search/submission?subreddit=wallstreetbets&size=100&after=1950d\n",
      "Querying from: https://api.pushshift.io/reddit/search/submission?subreddit=wallstreetbets&size=100&after=1953d\n",
      "Querying from: https://api.pushshift.io/reddit/search/submission?subreddit=wallstreetbets&size=100&after=1956d\n",
      "Querying from: https://api.pushshift.io/reddit/search/submission?subreddit=wallstreetbets&size=100&after=1959d\n",
      "Querying from: https://api.pushshift.io/reddit/search/submission?subreddit=wallstreetbets&size=100&after=1962d\n",
      "Querying from: https://api.pushshift.io/reddit/search/submission?subreddit=wallstreetbets&size=100&after=1965d\n",
      "Querying from: https://api.pushshift.io/reddit/search/submission?subreddit=wallstreetbets&size=100&after=1968d\n",
      "Querying from: https://api.pushshift.io/reddit/search/submission?subreddit=wallstreetbets&size=100&after=1971d\n",
      "Querying from: https://api.pushshift.io/reddit/search/submission?subreddit=wallstreetbets&size=100&after=1974d\n",
      "Querying from: https://api.pushshift.io/reddit/search/submission?subreddit=wallstreetbets&size=100&after=1977d\n",
      "Querying from: https://api.pushshift.io/reddit/search/submission?subreddit=wallstreetbets&size=100&after=1980d\n",
      "Querying from: https://api.pushshift.io/reddit/search/submission?subreddit=wallstreetbets&size=100&after=1983d\n",
      "Querying from: https://api.pushshift.io/reddit/search/submission?subreddit=wallstreetbets&size=100&after=1986d\n",
      "Querying from: https://api.pushshift.io/reddit/search/submission?subreddit=wallstreetbets&size=100&after=1989d\n",
      "Querying from: https://api.pushshift.io/reddit/search/submission?subreddit=wallstreetbets&size=100&after=1992d\n",
      "Querying from: https://api.pushshift.io/reddit/search/submission?subreddit=wallstreetbets&size=100&after=1995d\n",
      "Querying from: https://api.pushshift.io/reddit/search/submission?subreddit=wallstreetbets&size=100&after=1998d\n",
      "Querying from: https://api.pushshift.io/reddit/search/submission?subreddit=wallstreetbets&size=100&after=2001d\n",
      "Querying from: https://api.pushshift.io/reddit/search/submission?subreddit=wallstreetbets&size=100&after=2004d\n",
      "Querying from: https://api.pushshift.io/reddit/search/submission?subreddit=wallstreetbets&size=100&after=2007d\n",
      "Querying from: https://api.pushshift.io/reddit/search/submission?subreddit=wallstreetbets&size=100&after=2010d\n",
      "Querying from: https://api.pushshift.io/reddit/search/submission?subreddit=wallstreetbets&size=100&after=2013d\n"
     ]
    },
    {
     "name": "stdout",
     "output_type": "stream",
     "text": [
      "Querying from: https://api.pushshift.io/reddit/search/submission?subreddit=wallstreetbets&size=100&after=2016d\n",
      "Querying from: https://api.pushshift.io/reddit/search/submission?subreddit=wallstreetbets&size=100&after=2019d\n",
      "Querying from: https://api.pushshift.io/reddit/search/submission?subreddit=wallstreetbets&size=100&after=2022d\n",
      "Querying from: https://api.pushshift.io/reddit/search/submission?subreddit=wallstreetbets&size=100&after=2025d\n",
      "Querying from: https://api.pushshift.io/reddit/search/submission?subreddit=wallstreetbets&size=100&after=2028d\n",
      "Querying from: https://api.pushshift.io/reddit/search/submission?subreddit=wallstreetbets&size=100&after=2031d\n",
      "Querying from: https://api.pushshift.io/reddit/search/submission?subreddit=wallstreetbets&size=100&after=2034d\n",
      "Querying from: https://api.pushshift.io/reddit/search/submission?subreddit=wallstreetbets&size=100&after=2037d\n",
      "Querying from: https://api.pushshift.io/reddit/search/submission?subreddit=wallstreetbets&size=100&after=2040d\n",
      "Querying from: https://api.pushshift.io/reddit/search/submission?subreddit=wallstreetbets&size=100&after=2043d\n",
      "Querying from: https://api.pushshift.io/reddit/search/submission?subreddit=wallstreetbets&size=100&after=2046d\n",
      "Querying from: https://api.pushshift.io/reddit/search/submission?subreddit=wallstreetbets&size=100&after=2049d\n",
      "Querying from: https://api.pushshift.io/reddit/search/submission?subreddit=wallstreetbets&size=100&after=2052d\n",
      "Querying from: https://api.pushshift.io/reddit/search/submission?subreddit=wallstreetbets&size=100&after=2055d\n",
      "Querying from: https://api.pushshift.io/reddit/search/submission?subreddit=wallstreetbets&size=100&after=2058d\n",
      "Querying from: https://api.pushshift.io/reddit/search/submission?subreddit=wallstreetbets&size=100&after=2061d\n",
      "Querying from: https://api.pushshift.io/reddit/search/submission?subreddit=wallstreetbets&size=100&after=2064d\n",
      "Querying from: https://api.pushshift.io/reddit/search/submission?subreddit=wallstreetbets&size=100&after=2067d\n",
      "Querying from: https://api.pushshift.io/reddit/search/submission?subreddit=wallstreetbets&size=100&after=2070d\n",
      "Querying from: https://api.pushshift.io/reddit/search/submission?subreddit=wallstreetbets&size=100&after=2073d\n",
      "Querying from: https://api.pushshift.io/reddit/search/submission?subreddit=wallstreetbets&size=100&after=2076d\n",
      "Querying from: https://api.pushshift.io/reddit/search/submission?subreddit=wallstreetbets&size=100&after=2079d\n",
      "Querying from: https://api.pushshift.io/reddit/search/submission?subreddit=wallstreetbets&size=100&after=2082d\n",
      "Querying from: https://api.pushshift.io/reddit/search/submission?subreddit=wallstreetbets&size=100&after=2085d\n",
      "Querying from: https://api.pushshift.io/reddit/search/submission?subreddit=wallstreetbets&size=100&after=2088d\n",
      "Querying from: https://api.pushshift.io/reddit/search/submission?subreddit=wallstreetbets&size=100&after=2091d\n",
      "Querying from: https://api.pushshift.io/reddit/search/submission?subreddit=wallstreetbets&size=100&after=2094d\n",
      "Querying from: https://api.pushshift.io/reddit/search/submission?subreddit=wallstreetbets&size=100&after=2097d\n",
      "Querying from: https://api.pushshift.io/reddit/search/submission?subreddit=wallstreetbets&size=100&after=2100d\n",
      "Querying from: https://api.pushshift.io/reddit/search/submission?subreddit=wallstreetbets&size=100&after=2103d\n",
      "Querying from: https://api.pushshift.io/reddit/search/submission?subreddit=wallstreetbets&size=100&after=2106d\n",
      "Querying from: https://api.pushshift.io/reddit/search/submission?subreddit=wallstreetbets&size=100&after=2109d\n",
      "Querying from: https://api.pushshift.io/reddit/search/submission?subreddit=wallstreetbets&size=100&after=2112d\n",
      "Querying from: https://api.pushshift.io/reddit/search/submission?subreddit=wallstreetbets&size=100&after=2115d\n",
      "Querying from: https://api.pushshift.io/reddit/search/submission?subreddit=wallstreetbets&size=100&after=2118d\n",
      "Querying from: https://api.pushshift.io/reddit/search/submission?subreddit=wallstreetbets&size=100&after=2121d\n",
      "Querying from: https://api.pushshift.io/reddit/search/submission?subreddit=wallstreetbets&size=100&after=2124d\n",
      "Querying from: https://api.pushshift.io/reddit/search/submission?subreddit=wallstreetbets&size=100&after=2127d\n",
      "Querying from: https://api.pushshift.io/reddit/search/submission?subreddit=wallstreetbets&size=100&after=2130d\n",
      "Querying from: https://api.pushshift.io/reddit/search/submission?subreddit=wallstreetbets&size=100&after=2133d\n",
      "Querying from: https://api.pushshift.io/reddit/search/submission?subreddit=wallstreetbets&size=100&after=2136d\n",
      "Querying from: https://api.pushshift.io/reddit/search/submission?subreddit=wallstreetbets&size=100&after=2139d\n",
      "Querying from: https://api.pushshift.io/reddit/search/submission?subreddit=wallstreetbets&size=100&after=2142d\n",
      "Querying from: https://api.pushshift.io/reddit/search/submission?subreddit=wallstreetbets&size=100&after=2145d\n",
      "Querying from: https://api.pushshift.io/reddit/search/submission?subreddit=wallstreetbets&size=100&after=2148d\n",
      "Querying from: https://api.pushshift.io/reddit/search/submission?subreddit=wallstreetbets&size=100&after=2151d\n",
      "Querying from: https://api.pushshift.io/reddit/search/submission?subreddit=wallstreetbets&size=100&after=2154d\n",
      "Querying from: https://api.pushshift.io/reddit/search/submission?subreddit=wallstreetbets&size=100&after=2157d\n",
      "Querying from: https://api.pushshift.io/reddit/search/submission?subreddit=wallstreetbets&size=100&after=2160d\n",
      "Querying from: https://api.pushshift.io/reddit/search/submission?subreddit=wallstreetbets&size=100&after=2163d\n",
      "Querying from: https://api.pushshift.io/reddit/search/submission?subreddit=wallstreetbets&size=100&after=2166d\n",
      "Querying from: https://api.pushshift.io/reddit/search/submission?subreddit=wallstreetbets&size=100&after=2169d\n",
      "Querying from: https://api.pushshift.io/reddit/search/submission?subreddit=wallstreetbets&size=100&after=2172d\n",
      "Querying from: https://api.pushshift.io/reddit/search/submission?subreddit=wallstreetbets&size=100&after=2175d\n",
      "Querying from: https://api.pushshift.io/reddit/search/submission?subreddit=wallstreetbets&size=100&after=2178d\n",
      "Querying from: https://api.pushshift.io/reddit/search/submission?subreddit=wallstreetbets&size=100&after=2181d\n",
      "Querying from: https://api.pushshift.io/reddit/search/submission?subreddit=wallstreetbets&size=100&after=2184d\n",
      "Querying from: https://api.pushshift.io/reddit/search/submission?subreddit=wallstreetbets&size=100&after=2187d\n",
      "Querying from: https://api.pushshift.io/reddit/search/submission?subreddit=wallstreetbets&size=100&after=2190d\n",
      "Querying from: https://api.pushshift.io/reddit/search/submission?subreddit=wallstreetbets&size=100&after=2193d\n",
      "Querying from: https://api.pushshift.io/reddit/search/submission?subreddit=wallstreetbets&size=100&after=2196d\n",
      "Querying from: https://api.pushshift.io/reddit/search/submission?subreddit=wallstreetbets&size=100&after=2199d\n",
      "Querying from: https://api.pushshift.io/reddit/search/submission?subreddit=wallstreetbets&size=100&after=2202d\n",
      "Querying from: https://api.pushshift.io/reddit/search/submission?subreddit=wallstreetbets&size=100&after=2205d\n",
      "Querying from: https://api.pushshift.io/reddit/search/submission?subreddit=wallstreetbets&size=100&after=2208d\n",
      "Querying from: https://api.pushshift.io/reddit/search/submission?subreddit=wallstreetbets&size=100&after=2211d\n",
      "Querying from: https://api.pushshift.io/reddit/search/submission?subreddit=wallstreetbets&size=100&after=2214d\n",
      "Querying from: https://api.pushshift.io/reddit/search/submission?subreddit=wallstreetbets&size=100&after=2217d\n",
      "Querying from: https://api.pushshift.io/reddit/search/submission?subreddit=wallstreetbets&size=100&after=2220d\n",
      "Querying from: https://api.pushshift.io/reddit/search/submission?subreddit=wallstreetbets&size=100&after=2223d\n",
      "Querying from: https://api.pushshift.io/reddit/search/submission?subreddit=wallstreetbets&size=100&after=2226d\n",
      "Querying from: https://api.pushshift.io/reddit/search/submission?subreddit=wallstreetbets&size=100&after=2229d\n",
      "Querying from: https://api.pushshift.io/reddit/search/submission?subreddit=wallstreetbets&size=100&after=2232d\n",
      "Querying from: https://api.pushshift.io/reddit/search/submission?subreddit=wallstreetbets&size=100&after=2235d\n"
     ]
    },
    {
     "name": "stdout",
     "output_type": "stream",
     "text": [
      "Querying from: https://api.pushshift.io/reddit/search/submission?subreddit=wallstreetbets&size=100&after=2238d\n",
      "Querying from: https://api.pushshift.io/reddit/search/submission?subreddit=wallstreetbets&size=100&after=2241d\n",
      "Querying from: https://api.pushshift.io/reddit/search/submission?subreddit=wallstreetbets&size=100&after=2244d\n",
      "Querying from: https://api.pushshift.io/reddit/search/submission?subreddit=wallstreetbets&size=100&after=2247d\n",
      "Querying from: https://api.pushshift.io/reddit/search/submission?subreddit=wallstreetbets&size=100&after=2250d\n",
      "Querying from: https://api.pushshift.io/reddit/search/submission?subreddit=wallstreetbets&size=100&after=2253d\n",
      "Querying from: https://api.pushshift.io/reddit/search/submission?subreddit=wallstreetbets&size=100&after=2256d\n",
      "Querying from: https://api.pushshift.io/reddit/search/submission?subreddit=wallstreetbets&size=100&after=2259d\n",
      "Querying from: https://api.pushshift.io/reddit/search/submission?subreddit=wallstreetbets&size=100&after=2262d\n",
      "Querying from: https://api.pushshift.io/reddit/search/submission?subreddit=wallstreetbets&size=100&after=2265d\n",
      "Querying from: https://api.pushshift.io/reddit/search/submission?subreddit=wallstreetbets&size=100&after=2268d\n",
      "Querying from: https://api.pushshift.io/reddit/search/submission?subreddit=wallstreetbets&size=100&after=2271d\n",
      "Querying from: https://api.pushshift.io/reddit/search/submission?subreddit=wallstreetbets&size=100&after=2274d\n",
      "Querying from: https://api.pushshift.io/reddit/search/submission?subreddit=wallstreetbets&size=100&after=2277d\n",
      "Querying from: https://api.pushshift.io/reddit/search/submission?subreddit=wallstreetbets&size=100&after=2280d\n",
      "Querying from: https://api.pushshift.io/reddit/search/submission?subreddit=wallstreetbets&size=100&after=2283d\n",
      "Querying from: https://api.pushshift.io/reddit/search/submission?subreddit=wallstreetbets&size=100&after=2286d\n",
      "Querying from: https://api.pushshift.io/reddit/search/submission?subreddit=wallstreetbets&size=100&after=2289d\n",
      "Querying from: https://api.pushshift.io/reddit/search/submission?subreddit=wallstreetbets&size=100&after=2292d\n",
      "Querying from: https://api.pushshift.io/reddit/search/submission?subreddit=wallstreetbets&size=100&after=2295d\n",
      "Querying from: https://api.pushshift.io/reddit/search/submission?subreddit=wallstreetbets&size=100&after=2298d\n",
      "Querying from: https://api.pushshift.io/reddit/search/submission?subreddit=wallstreetbets&size=100&after=2301d\n",
      "Querying from: https://api.pushshift.io/reddit/search/submission?subreddit=wallstreetbets&size=100&after=2304d\n",
      "Querying from: https://api.pushshift.io/reddit/search/submission?subreddit=wallstreetbets&size=100&after=2307d\n",
      "Querying from: https://api.pushshift.io/reddit/search/submission?subreddit=wallstreetbets&size=100&after=2310d\n",
      "Querying from: https://api.pushshift.io/reddit/search/submission?subreddit=wallstreetbets&size=100&after=2313d\n",
      "Querying from: https://api.pushshift.io/reddit/search/submission?subreddit=wallstreetbets&size=100&after=2316d\n",
      "Querying from: https://api.pushshift.io/reddit/search/submission?subreddit=wallstreetbets&size=100&after=2319d\n",
      "Querying from: https://api.pushshift.io/reddit/search/submission?subreddit=wallstreetbets&size=100&after=2322d\n",
      "Querying from: https://api.pushshift.io/reddit/search/submission?subreddit=wallstreetbets&size=100&after=2325d\n",
      "Querying from: https://api.pushshift.io/reddit/search/submission?subreddit=wallstreetbets&size=100&after=2328d\n",
      "Querying from: https://api.pushshift.io/reddit/search/submission?subreddit=wallstreetbets&size=100&after=2331d\n",
      "Querying from: https://api.pushshift.io/reddit/search/submission?subreddit=wallstreetbets&size=100&after=2334d\n",
      "Querying from: https://api.pushshift.io/reddit/search/submission?subreddit=wallstreetbets&size=100&after=2337d\n",
      "Querying from: https://api.pushshift.io/reddit/search/submission?subreddit=wallstreetbets&size=100&after=2340d\n",
      "Querying from: https://api.pushshift.io/reddit/search/submission?subreddit=wallstreetbets&size=100&after=2343d\n",
      "Querying from: https://api.pushshift.io/reddit/search/submission?subreddit=wallstreetbets&size=100&after=2346d\n",
      "Querying from: https://api.pushshift.io/reddit/search/submission?subreddit=wallstreetbets&size=100&after=2349d\n",
      "Querying from: https://api.pushshift.io/reddit/search/submission?subreddit=wallstreetbets&size=100&after=2352d\n",
      "Querying from: https://api.pushshift.io/reddit/search/submission?subreddit=wallstreetbets&size=100&after=2355d\n",
      "Querying from: https://api.pushshift.io/reddit/search/submission?subreddit=wallstreetbets&size=100&after=2358d\n",
      "Querying from: https://api.pushshift.io/reddit/search/submission?subreddit=wallstreetbets&size=100&after=2361d\n",
      "Querying from: https://api.pushshift.io/reddit/search/submission?subreddit=wallstreetbets&size=100&after=2364d\n",
      "Querying from: https://api.pushshift.io/reddit/search/submission?subreddit=wallstreetbets&size=100&after=2367d\n",
      "Querying from: https://api.pushshift.io/reddit/search/submission?subreddit=wallstreetbets&size=100&after=2370d\n",
      "Querying from: https://api.pushshift.io/reddit/search/submission?subreddit=wallstreetbets&size=100&after=2373d\n",
      "Querying from: https://api.pushshift.io/reddit/search/submission?subreddit=wallstreetbets&size=100&after=2376d\n",
      "Querying from: https://api.pushshift.io/reddit/search/submission?subreddit=wallstreetbets&size=100&after=2379d\n",
      "Querying from: https://api.pushshift.io/reddit/search/submission?subreddit=wallstreetbets&size=100&after=2382d\n",
      "Querying from: https://api.pushshift.io/reddit/search/submission?subreddit=wallstreetbets&size=100&after=2385d\n",
      "Querying from: https://api.pushshift.io/reddit/search/submission?subreddit=wallstreetbets&size=100&after=2388d\n",
      "Querying from: https://api.pushshift.io/reddit/search/submission?subreddit=wallstreetbets&size=100&after=2391d\n",
      "Querying from: https://api.pushshift.io/reddit/search/submission?subreddit=wallstreetbets&size=100&after=2394d\n",
      "Querying from: https://api.pushshift.io/reddit/search/submission?subreddit=wallstreetbets&size=100&after=2397d\n",
      "Querying from: https://api.pushshift.io/reddit/search/submission?subreddit=wallstreetbets&size=100&after=2400d\n",
      "Query Complete!\n"
     ]
    }
   ],
   "source": [
    "# investinggamestopsubmissions\n",
    "wsbsubmissions=query_pushshift_submissions(subreddit='wallstreetbets', kind='submission', day_window=3, n=800)"
   ]
  },
  {
   "cell_type": "markdown",
   "metadata": {},
   "source": [
    "### Check quality of data before exporting to csv"
   ]
  },
  {
   "cell_type": "code",
   "execution_count": 107,
   "metadata": {
    "ExecuteTime": {
     "end_time": "2021-03-16T02:55:30.263779Z",
     "start_time": "2021-03-16T02:55:30.242795Z"
    }
   },
   "outputs": [
    {
     "data": {
      "text/plain": [
       "(43125, 9)"
      ]
     },
     "execution_count": 107,
     "metadata": {},
     "output_type": "execute_result"
    }
   ],
   "source": [
    "wsbsubmissions.shape"
   ]
  },
  {
   "cell_type": "code",
   "execution_count": 108,
   "metadata": {
    "ExecuteTime": {
     "end_time": "2021-03-16T02:55:32.464607Z",
     "start_time": "2021-03-16T02:55:32.411051Z"
    }
   },
   "outputs": [
    {
     "data": {
      "text/plain": [
       "title             0\n",
       "selftext        367\n",
       "subreddit         0\n",
       "created_utc       0\n",
       "author            0\n",
       "num_comments      0\n",
       "score             0\n",
       "is_self           0\n",
       "timestamp         0\n",
       "dtype: int64"
      ]
     },
     "execution_count": 108,
     "metadata": {},
     "output_type": "execute_result"
    }
   ],
   "source": [
    "wsbsubmissions.isnull().sum()"
   ]
  },
  {
   "cell_type": "code",
   "execution_count": 113,
   "metadata": {
    "ExecuteTime": {
     "end_time": "2021-03-16T02:57:13.504485Z",
     "start_time": "2021-03-16T02:57:13.464786Z"
    },
    "scrolled": true
   },
   "outputs": [
    {
     "data": {
      "text/plain": [
       "title           0\n",
       "selftext        0\n",
       "subreddit       0\n",
       "created_utc     0\n",
       "author          0\n",
       "num_comments    0\n",
       "score           0\n",
       "is_self         0\n",
       "timestamp       0\n",
       "dtype: int64"
      ]
     },
     "execution_count": 113,
     "metadata": {},
     "output_type": "execute_result"
    }
   ],
   "source": [
    "wsbsubmissions.isnull().sum()"
   ]
  },
  {
   "cell_type": "code",
   "execution_count": 115,
   "metadata": {
    "ExecuteTime": {
     "end_time": "2021-03-16T02:58:01.213285Z",
     "start_time": "2021-03-16T02:58:01.199655Z"
    },
    "scrolled": true
   },
   "outputs": [
    {
     "data": {
      "text/plain": [
       "(42758, 9)"
      ]
     },
     "execution_count": 115,
     "metadata": {},
     "output_type": "execute_result"
    }
   ],
   "source": [
    "wsbsubmissions.shape"
   ]
  },
  {
   "cell_type": "code",
   "execution_count": 116,
   "metadata": {
    "ExecuteTime": {
     "end_time": "2021-03-16T02:58:22.199127Z",
     "start_time": "2021-03-16T02:58:22.159503Z"
    }
   },
   "outputs": [],
   "source": [
    "substituteincolumn(wsbsubmissions, 'selftext')\n",
    "substituteincolumn(wsbsubmissions, 'author')"
   ]
  },
  {
   "cell_type": "code",
   "execution_count": 117,
   "metadata": {
    "ExecuteTime": {
     "end_time": "2021-03-16T02:58:25.768630Z",
     "start_time": "2021-03-16T02:58:25.724168Z"
    },
    "scrolled": true
   },
   "outputs": [
    {
     "data": {
      "text/plain": [
       "title               0\n",
       "selftext        13116\n",
       "subreddit           0\n",
       "created_utc         0\n",
       "author           4297\n",
       "num_comments        0\n",
       "score               0\n",
       "is_self             0\n",
       "timestamp           0\n",
       "dtype: int64"
      ]
     },
     "execution_count": 117,
     "metadata": {},
     "output_type": "execute_result"
    }
   ],
   "source": [
    "wsbsubmissions.isnull().sum()"
   ]
  },
  {
   "cell_type": "code",
   "execution_count": 123,
   "metadata": {
    "ExecuteTime": {
     "end_time": "2021-03-16T03:00:19.171486Z",
     "start_time": "2021-03-16T03:00:19.115931Z"
    }
   },
   "outputs": [],
   "source": [
    "wsbsubmissions=wsbsubmissions.dropna(axis=0,subset=['selftext','author'])"
   ]
  },
  {
   "cell_type": "code",
   "execution_count": 124,
   "metadata": {
    "ExecuteTime": {
     "end_time": "2021-03-16T03:00:23.236690Z",
     "start_time": "2021-03-16T03:00:23.188428Z"
    },
    "scrolled": false
   },
   "outputs": [
    {
     "data": {
      "text/plain": [
       "title           0\n",
       "selftext        0\n",
       "subreddit       0\n",
       "created_utc     0\n",
       "author          0\n",
       "num_comments    0\n",
       "score           0\n",
       "is_self         0\n",
       "timestamp       0\n",
       "dtype: int64"
      ]
     },
     "execution_count": 124,
     "metadata": {},
     "output_type": "execute_result"
    }
   ],
   "source": [
    "wsbsubmissions.isnull().sum()"
   ]
  },
  {
   "cell_type": "code",
   "execution_count": 125,
   "metadata": {
    "ExecuteTime": {
     "end_time": "2021-03-16T03:00:28.153392Z",
     "start_time": "2021-03-16T03:00:28.140388Z"
    }
   },
   "outputs": [
    {
     "data": {
      "text/plain": [
       "(28814, 9)"
      ]
     },
     "execution_count": 125,
     "metadata": {},
     "output_type": "execute_result"
    }
   ],
   "source": [
    "wsbsubmissions.shape"
   ]
  },
  {
   "cell_type": "code",
   "execution_count": 126,
   "metadata": {
    "ExecuteTime": {
     "end_time": "2021-03-16T03:00:31.556035Z",
     "start_time": "2021-03-16T03:00:31.526776Z"
    }
   },
   "outputs": [
    {
     "data": {
      "text/plain": [
       "title           0\n",
       "selftext        0\n",
       "subreddit       0\n",
       "created_utc     0\n",
       "author          0\n",
       "num_comments    0\n",
       "score           0\n",
       "is_self         0\n",
       "timestamp       0\n",
       "dtype: int64"
      ]
     },
     "execution_count": 126,
     "metadata": {},
     "output_type": "execute_result"
    }
   ],
   "source": [
    "wsbsubmissions.isnull().sum()"
   ]
  },
  {
   "cell_type": "code",
   "execution_count": 127,
   "metadata": {
    "ExecuteTime": {
     "end_time": "2021-03-16T03:00:51.973992Z",
     "start_time": "2021-03-16T03:00:40.390864Z"
    }
   },
   "outputs": [
    {
     "name": "stderr",
     "output_type": "stream",
     "text": [
      "<ipython-input-127-d1c66d8f78fc>:2: SettingWithCopyWarning: \n",
      "A value is trying to be set on a copy of a slice from a DataFrame.\n",
      "Try using .loc[row_indexer,col_indexer] = value instead\n",
      "\n",
      "See the caveats in the documentation: https://pandas.pydata.org/pandas-docs/stable/user_guide/indexing.html#returning-a-view-versus-a-copy\n",
      "  wsbsubmissions['cleantext'] = clean_strings(wsbsubmissions['selftext'], stopwords=combined_words)\n"
     ]
    }
   ],
   "source": [
    "# Create new column called clean text with clean_strings function applied to selftext\n",
    "wsbsubmissions['cleantext'] = clean_strings(wsbsubmissions['selftext'], stopwords=combined_words)"
   ]
  },
  {
   "cell_type": "code",
   "execution_count": 128,
   "metadata": {
    "ExecuteTime": {
     "end_time": "2021-03-16T03:01:07.914220Z",
     "start_time": "2021-03-16T03:01:07.565268Z"
    },
    "scrolled": true
   },
   "outputs": [
    {
     "name": "stderr",
     "output_type": "stream",
     "text": [
      "<ipython-input-128-6b67e7366208>:2: SettingWithCopyWarning: \n",
      "A value is trying to be set on a copy of a slice from a DataFrame.\n",
      "Try using .loc[row_indexer,col_indexer] = value instead\n",
      "\n",
      "See the caveats in the documentation: https://pandas.pydata.org/pandas-docs/stable/user_guide/indexing.html#returning-a-view-versus-a-copy\n",
      "  wsbsubmissions['selftextwordcount'] = wsbsubmissions['selftext'].str.split().str.len()\n"
     ]
    }
   ],
   "source": [
    "# Add column with length of selftext\n",
    "wsbsubmissions['selftextwordcount'] = wsbsubmissions['selftext'].str.split().str.len()"
   ]
  },
  {
   "cell_type": "code",
   "execution_count": 411,
   "metadata": {
    "ExecuteTime": {
     "end_time": "2021-03-16T21:01:48.951314Z",
     "start_time": "2021-03-16T21:01:48.922870Z"
    }
   },
   "outputs": [
    {
     "data": {
      "text/html": [
       "<div>\n",
       "<style scoped>\n",
       "    .dataframe tbody tr th:only-of-type {\n",
       "        vertical-align: middle;\n",
       "    }\n",
       "\n",
       "    .dataframe tbody tr th {\n",
       "        vertical-align: top;\n",
       "    }\n",
       "\n",
       "    .dataframe thead th {\n",
       "        text-align: right;\n",
       "    }\n",
       "</style>\n",
       "<table border=\"1\" class=\"dataframe\">\n",
       "  <thead>\n",
       "    <tr style=\"text-align: right;\">\n",
       "      <th></th>\n",
       "      <th>title</th>\n",
       "      <th>selftext</th>\n",
       "      <th>subreddit</th>\n",
       "      <th>author</th>\n",
       "      <th>num_comments</th>\n",
       "      <th>score</th>\n",
       "      <th>timestamp</th>\n",
       "      <th>cleantext</th>\n",
       "      <th>selftextwordcount</th>\n",
       "    </tr>\n",
       "  </thead>\n",
       "  <tbody>\n",
       "    <tr>\n",
       "      <th>1</th>\n",
       "      <td>Gme📈📈📈📈📈📈📈📈📈📈</td>\n",
       "      <td></td>\n",
       "      <td>wallstreetbets</td>\n",
       "      <td>Greedy-Obligation-36</td>\n",
       "      <td>2</td>\n",
       "      <td>1</td>\n",
       "      <td>2021-03-12</td>\n",
       "      <td></td>\n",
       "      <td>0</td>\n",
       "    </tr>\n",
       "  </tbody>\n",
       "</table>\n",
       "</div>"
      ],
      "text/plain": [
       "           title selftext       subreddit                author  num_comments  \\\n",
       "1  Gme📈📈📈📈📈📈📈📈📈📈           wallstreetbets  Greedy-Obligation-36             2   \n",
       "\n",
       "   score   timestamp cleantext  selftextwordcount  \n",
       "1      1  2021-03-12                            0  "
      ]
     },
     "execution_count": 411,
     "metadata": {},
     "output_type": "execute_result"
    }
   ],
   "source": [
    "wsbsubmissions.head(1)"
   ]
  },
  {
   "cell_type": "code",
   "execution_count": null,
   "metadata": {},
   "outputs": [],
   "source": [
    "# Consider Dropping Selftext before exporting to avoid issues"
   ]
  },
  {
   "cell_type": "code",
   "execution_count": 262,
   "metadata": {
    "ExecuteTime": {
     "end_time": "2021-03-16T09:22:14.275561Z",
     "start_time": "2021-03-16T09:22:14.049535Z"
    }
   },
   "outputs": [
    {
     "data": {
      "text/plain": [
       "title                0\n",
       "selftext             0\n",
       "subreddit            0\n",
       "created_utc          0\n",
       "author               0\n",
       "num_comments         0\n",
       "score                0\n",
       "is_self              0\n",
       "timestamp            0\n",
       "cleantext            0\n",
       "selftextwordcount    0\n",
       "dtype: int64"
      ]
     },
     "execution_count": 262,
     "metadata": {},
     "output_type": "execute_result"
    }
   ],
   "source": [
    "wsbsubmissions.isnull().sum()"
   ]
  },
  {
   "cell_type": "raw",
   "metadata": {
    "ExecuteTime": {
     "end_time": "2021-03-16T03:02:26.818930Z",
     "start_time": "2021-03-16T03:02:26.798392Z"
    }
   },
   "source": [
    "wsbsubmissions.head().append(wsbsubmissions.tail())"
   ]
  },
  {
   "cell_type": "code",
   "execution_count": 133,
   "metadata": {
    "ExecuteTime": {
     "end_time": "2021-03-16T03:02:41.092480Z",
     "start_time": "2021-03-16T03:02:40.319056Z"
    }
   },
   "outputs": [],
   "source": [
    "# Save data set to csv in data folder\n",
    "wsbsubmissions.to_csv('./data/wsbsubmissions.csv', index = False)"
   ]
  },
  {
   "cell_type": "markdown",
   "metadata": {},
   "source": [
    "# Security Analysis Submissions"
   ]
  },
  {
   "cell_type": "markdown",
   "metadata": {},
   "source": [
    "# ```https://www.reddit.com/r/SecurityAnalysis/```"
   ]
  },
  {
   "cell_type": "code",
   "execution_count": 179,
   "metadata": {
    "ExecuteTime": {
     "end_time": "2021-03-16T08:28:31.334411Z",
     "start_time": "2021-03-16T07:42:01.355788Z"
    },
    "scrolled": true
   },
   "outputs": [
    {
     "name": "stdout",
     "output_type": "stream",
     "text": [
      "Querying from: https://api.pushshift.io/reddit/search/submission?subreddit=SecurityAnalysis&size=100&after=4d\n",
      "Querying from: https://api.pushshift.io/reddit/search/submission?subreddit=SecurityAnalysis&size=100&after=8d\n",
      "Querying from: https://api.pushshift.io/reddit/search/submission?subreddit=SecurityAnalysis&size=100&after=12d\n",
      "Querying from: https://api.pushshift.io/reddit/search/submission?subreddit=SecurityAnalysis&size=100&after=16d\n",
      "Querying from: https://api.pushshift.io/reddit/search/submission?subreddit=SecurityAnalysis&size=100&after=20d\n",
      "Querying from: https://api.pushshift.io/reddit/search/submission?subreddit=SecurityAnalysis&size=100&after=24d\n",
      "Querying from: https://api.pushshift.io/reddit/search/submission?subreddit=SecurityAnalysis&size=100&after=28d\n",
      "Querying from: https://api.pushshift.io/reddit/search/submission?subreddit=SecurityAnalysis&size=100&after=32d\n",
      "Querying from: https://api.pushshift.io/reddit/search/submission?subreddit=SecurityAnalysis&size=100&after=36d\n",
      "Querying from: https://api.pushshift.io/reddit/search/submission?subreddit=SecurityAnalysis&size=100&after=40d\n",
      "Querying from: https://api.pushshift.io/reddit/search/submission?subreddit=SecurityAnalysis&size=100&after=44d\n",
      "Querying from: https://api.pushshift.io/reddit/search/submission?subreddit=SecurityAnalysis&size=100&after=48d\n",
      "Querying from: https://api.pushshift.io/reddit/search/submission?subreddit=SecurityAnalysis&size=100&after=52d\n",
      "Querying from: https://api.pushshift.io/reddit/search/submission?subreddit=SecurityAnalysis&size=100&after=56d\n",
      "Querying from: https://api.pushshift.io/reddit/search/submission?subreddit=SecurityAnalysis&size=100&after=60d\n",
      "Querying from: https://api.pushshift.io/reddit/search/submission?subreddit=SecurityAnalysis&size=100&after=64d\n",
      "Querying from: https://api.pushshift.io/reddit/search/submission?subreddit=SecurityAnalysis&size=100&after=68d\n",
      "Querying from: https://api.pushshift.io/reddit/search/submission?subreddit=SecurityAnalysis&size=100&after=72d\n",
      "Querying from: https://api.pushshift.io/reddit/search/submission?subreddit=SecurityAnalysis&size=100&after=76d\n",
      "Querying from: https://api.pushshift.io/reddit/search/submission?subreddit=SecurityAnalysis&size=100&after=80d\n",
      "Querying from: https://api.pushshift.io/reddit/search/submission?subreddit=SecurityAnalysis&size=100&after=84d\n",
      "Querying from: https://api.pushshift.io/reddit/search/submission?subreddit=SecurityAnalysis&size=100&after=88d\n",
      "Querying from: https://api.pushshift.io/reddit/search/submission?subreddit=SecurityAnalysis&size=100&after=92d\n",
      "Querying from: https://api.pushshift.io/reddit/search/submission?subreddit=SecurityAnalysis&size=100&after=96d\n",
      "Querying from: https://api.pushshift.io/reddit/search/submission?subreddit=SecurityAnalysis&size=100&after=100d\n",
      "Querying from: https://api.pushshift.io/reddit/search/submission?subreddit=SecurityAnalysis&size=100&after=104d\n",
      "Querying from: https://api.pushshift.io/reddit/search/submission?subreddit=SecurityAnalysis&size=100&after=108d\n",
      "Querying from: https://api.pushshift.io/reddit/search/submission?subreddit=SecurityAnalysis&size=100&after=112d\n",
      "Querying from: https://api.pushshift.io/reddit/search/submission?subreddit=SecurityAnalysis&size=100&after=116d\n",
      "Querying from: https://api.pushshift.io/reddit/search/submission?subreddit=SecurityAnalysis&size=100&after=120d\n",
      "Querying from: https://api.pushshift.io/reddit/search/submission?subreddit=SecurityAnalysis&size=100&after=124d\n",
      "Querying from: https://api.pushshift.io/reddit/search/submission?subreddit=SecurityAnalysis&size=100&after=128d\n",
      "Querying from: https://api.pushshift.io/reddit/search/submission?subreddit=SecurityAnalysis&size=100&after=132d\n",
      "Querying from: https://api.pushshift.io/reddit/search/submission?subreddit=SecurityAnalysis&size=100&after=136d\n",
      "Querying from: https://api.pushshift.io/reddit/search/submission?subreddit=SecurityAnalysis&size=100&after=140d\n",
      "Querying from: https://api.pushshift.io/reddit/search/submission?subreddit=SecurityAnalysis&size=100&after=144d\n",
      "Querying from: https://api.pushshift.io/reddit/search/submission?subreddit=SecurityAnalysis&size=100&after=148d\n",
      "Querying from: https://api.pushshift.io/reddit/search/submission?subreddit=SecurityAnalysis&size=100&after=152d\n",
      "Querying from: https://api.pushshift.io/reddit/search/submission?subreddit=SecurityAnalysis&size=100&after=156d\n",
      "Querying from: https://api.pushshift.io/reddit/search/submission?subreddit=SecurityAnalysis&size=100&after=160d\n",
      "Querying from: https://api.pushshift.io/reddit/search/submission?subreddit=SecurityAnalysis&size=100&after=164d\n",
      "Querying from: https://api.pushshift.io/reddit/search/submission?subreddit=SecurityAnalysis&size=100&after=168d\n",
      "Querying from: https://api.pushshift.io/reddit/search/submission?subreddit=SecurityAnalysis&size=100&after=172d\n",
      "Querying from: https://api.pushshift.io/reddit/search/submission?subreddit=SecurityAnalysis&size=100&after=176d\n",
      "Querying from: https://api.pushshift.io/reddit/search/submission?subreddit=SecurityAnalysis&size=100&after=180d\n",
      "Querying from: https://api.pushshift.io/reddit/search/submission?subreddit=SecurityAnalysis&size=100&after=184d\n",
      "Querying from: https://api.pushshift.io/reddit/search/submission?subreddit=SecurityAnalysis&size=100&after=188d\n",
      "Querying from: https://api.pushshift.io/reddit/search/submission?subreddit=SecurityAnalysis&size=100&after=192d\n",
      "Querying from: https://api.pushshift.io/reddit/search/submission?subreddit=SecurityAnalysis&size=100&after=196d\n",
      "Querying from: https://api.pushshift.io/reddit/search/submission?subreddit=SecurityAnalysis&size=100&after=200d\n",
      "Querying from: https://api.pushshift.io/reddit/search/submission?subreddit=SecurityAnalysis&size=100&after=204d\n",
      "Querying from: https://api.pushshift.io/reddit/search/submission?subreddit=SecurityAnalysis&size=100&after=208d\n",
      "Querying from: https://api.pushshift.io/reddit/search/submission?subreddit=SecurityAnalysis&size=100&after=212d\n",
      "Querying from: https://api.pushshift.io/reddit/search/submission?subreddit=SecurityAnalysis&size=100&after=216d\n",
      "Querying from: https://api.pushshift.io/reddit/search/submission?subreddit=SecurityAnalysis&size=100&after=220d\n",
      "Querying from: https://api.pushshift.io/reddit/search/submission?subreddit=SecurityAnalysis&size=100&after=224d\n",
      "Querying from: https://api.pushshift.io/reddit/search/submission?subreddit=SecurityAnalysis&size=100&after=228d\n",
      "Querying from: https://api.pushshift.io/reddit/search/submission?subreddit=SecurityAnalysis&size=100&after=232d\n",
      "Querying from: https://api.pushshift.io/reddit/search/submission?subreddit=SecurityAnalysis&size=100&after=236d\n",
      "Querying from: https://api.pushshift.io/reddit/search/submission?subreddit=SecurityAnalysis&size=100&after=240d\n",
      "Querying from: https://api.pushshift.io/reddit/search/submission?subreddit=SecurityAnalysis&size=100&after=244d\n",
      "Querying from: https://api.pushshift.io/reddit/search/submission?subreddit=SecurityAnalysis&size=100&after=248d\n",
      "Querying from: https://api.pushshift.io/reddit/search/submission?subreddit=SecurityAnalysis&size=100&after=252d\n",
      "Querying from: https://api.pushshift.io/reddit/search/submission?subreddit=SecurityAnalysis&size=100&after=256d\n",
      "Querying from: https://api.pushshift.io/reddit/search/submission?subreddit=SecurityAnalysis&size=100&after=260d\n",
      "Querying from: https://api.pushshift.io/reddit/search/submission?subreddit=SecurityAnalysis&size=100&after=264d\n",
      "Querying from: https://api.pushshift.io/reddit/search/submission?subreddit=SecurityAnalysis&size=100&after=268d\n",
      "Querying from: https://api.pushshift.io/reddit/search/submission?subreddit=SecurityAnalysis&size=100&after=272d\n",
      "Querying from: https://api.pushshift.io/reddit/search/submission?subreddit=SecurityAnalysis&size=100&after=276d\n",
      "Querying from: https://api.pushshift.io/reddit/search/submission?subreddit=SecurityAnalysis&size=100&after=280d\n",
      "Querying from: https://api.pushshift.io/reddit/search/submission?subreddit=SecurityAnalysis&size=100&after=284d\n",
      "Querying from: https://api.pushshift.io/reddit/search/submission?subreddit=SecurityAnalysis&size=100&after=288d\n",
      "Querying from: https://api.pushshift.io/reddit/search/submission?subreddit=SecurityAnalysis&size=100&after=292d\n",
      "Querying from: https://api.pushshift.io/reddit/search/submission?subreddit=SecurityAnalysis&size=100&after=296d\n"
     ]
    },
    {
     "name": "stdout",
     "output_type": "stream",
     "text": [
      "Querying from: https://api.pushshift.io/reddit/search/submission?subreddit=SecurityAnalysis&size=100&after=300d\n",
      "Querying from: https://api.pushshift.io/reddit/search/submission?subreddit=SecurityAnalysis&size=100&after=304d\n",
      "Querying from: https://api.pushshift.io/reddit/search/submission?subreddit=SecurityAnalysis&size=100&after=308d\n",
      "Querying from: https://api.pushshift.io/reddit/search/submission?subreddit=SecurityAnalysis&size=100&after=312d\n",
      "Querying from: https://api.pushshift.io/reddit/search/submission?subreddit=SecurityAnalysis&size=100&after=316d\n",
      "Querying from: https://api.pushshift.io/reddit/search/submission?subreddit=SecurityAnalysis&size=100&after=320d\n",
      "Querying from: https://api.pushshift.io/reddit/search/submission?subreddit=SecurityAnalysis&size=100&after=324d\n",
      "Querying from: https://api.pushshift.io/reddit/search/submission?subreddit=SecurityAnalysis&size=100&after=328d\n",
      "Querying from: https://api.pushshift.io/reddit/search/submission?subreddit=SecurityAnalysis&size=100&after=332d\n",
      "Querying from: https://api.pushshift.io/reddit/search/submission?subreddit=SecurityAnalysis&size=100&after=336d\n",
      "Querying from: https://api.pushshift.io/reddit/search/submission?subreddit=SecurityAnalysis&size=100&after=340d\n",
      "Querying from: https://api.pushshift.io/reddit/search/submission?subreddit=SecurityAnalysis&size=100&after=344d\n",
      "Querying from: https://api.pushshift.io/reddit/search/submission?subreddit=SecurityAnalysis&size=100&after=348d\n",
      "Querying from: https://api.pushshift.io/reddit/search/submission?subreddit=SecurityAnalysis&size=100&after=352d\n",
      "Querying from: https://api.pushshift.io/reddit/search/submission?subreddit=SecurityAnalysis&size=100&after=356d\n",
      "Querying from: https://api.pushshift.io/reddit/search/submission?subreddit=SecurityAnalysis&size=100&after=360d\n",
      "Querying from: https://api.pushshift.io/reddit/search/submission?subreddit=SecurityAnalysis&size=100&after=364d\n",
      "Querying from: https://api.pushshift.io/reddit/search/submission?subreddit=SecurityAnalysis&size=100&after=368d\n",
      "Querying from: https://api.pushshift.io/reddit/search/submission?subreddit=SecurityAnalysis&size=100&after=372d\n",
      "Querying from: https://api.pushshift.io/reddit/search/submission?subreddit=SecurityAnalysis&size=100&after=376d\n",
      "Querying from: https://api.pushshift.io/reddit/search/submission?subreddit=SecurityAnalysis&size=100&after=380d\n",
      "Querying from: https://api.pushshift.io/reddit/search/submission?subreddit=SecurityAnalysis&size=100&after=384d\n",
      "Querying from: https://api.pushshift.io/reddit/search/submission?subreddit=SecurityAnalysis&size=100&after=388d\n",
      "Querying from: https://api.pushshift.io/reddit/search/submission?subreddit=SecurityAnalysis&size=100&after=392d\n",
      "Querying from: https://api.pushshift.io/reddit/search/submission?subreddit=SecurityAnalysis&size=100&after=396d\n",
      "Querying from: https://api.pushshift.io/reddit/search/submission?subreddit=SecurityAnalysis&size=100&after=400d\n",
      "Querying from: https://api.pushshift.io/reddit/search/submission?subreddit=SecurityAnalysis&size=100&after=404d\n",
      "Querying from: https://api.pushshift.io/reddit/search/submission?subreddit=SecurityAnalysis&size=100&after=408d\n",
      "Querying from: https://api.pushshift.io/reddit/search/submission?subreddit=SecurityAnalysis&size=100&after=412d\n",
      "Querying from: https://api.pushshift.io/reddit/search/submission?subreddit=SecurityAnalysis&size=100&after=416d\n",
      "Querying from: https://api.pushshift.io/reddit/search/submission?subreddit=SecurityAnalysis&size=100&after=420d\n",
      "Querying from: https://api.pushshift.io/reddit/search/submission?subreddit=SecurityAnalysis&size=100&after=424d\n",
      "Querying from: https://api.pushshift.io/reddit/search/submission?subreddit=SecurityAnalysis&size=100&after=428d\n",
      "Querying from: https://api.pushshift.io/reddit/search/submission?subreddit=SecurityAnalysis&size=100&after=432d\n",
      "Querying from: https://api.pushshift.io/reddit/search/submission?subreddit=SecurityAnalysis&size=100&after=436d\n",
      "Querying from: https://api.pushshift.io/reddit/search/submission?subreddit=SecurityAnalysis&size=100&after=440d\n",
      "Querying from: https://api.pushshift.io/reddit/search/submission?subreddit=SecurityAnalysis&size=100&after=444d\n",
      "Querying from: https://api.pushshift.io/reddit/search/submission?subreddit=SecurityAnalysis&size=100&after=448d\n",
      "Querying from: https://api.pushshift.io/reddit/search/submission?subreddit=SecurityAnalysis&size=100&after=452d\n",
      "Querying from: https://api.pushshift.io/reddit/search/submission?subreddit=SecurityAnalysis&size=100&after=456d\n",
      "Querying from: https://api.pushshift.io/reddit/search/submission?subreddit=SecurityAnalysis&size=100&after=460d\n",
      "Querying from: https://api.pushshift.io/reddit/search/submission?subreddit=SecurityAnalysis&size=100&after=464d\n",
      "Querying from: https://api.pushshift.io/reddit/search/submission?subreddit=SecurityAnalysis&size=100&after=468d\n",
      "Querying from: https://api.pushshift.io/reddit/search/submission?subreddit=SecurityAnalysis&size=100&after=472d\n",
      "Querying from: https://api.pushshift.io/reddit/search/submission?subreddit=SecurityAnalysis&size=100&after=476d\n",
      "Querying from: https://api.pushshift.io/reddit/search/submission?subreddit=SecurityAnalysis&size=100&after=480d\n",
      "Querying from: https://api.pushshift.io/reddit/search/submission?subreddit=SecurityAnalysis&size=100&after=484d\n",
      "Querying from: https://api.pushshift.io/reddit/search/submission?subreddit=SecurityAnalysis&size=100&after=488d\n",
      "Querying from: https://api.pushshift.io/reddit/search/submission?subreddit=SecurityAnalysis&size=100&after=492d\n",
      "Querying from: https://api.pushshift.io/reddit/search/submission?subreddit=SecurityAnalysis&size=100&after=496d\n",
      "Querying from: https://api.pushshift.io/reddit/search/submission?subreddit=SecurityAnalysis&size=100&after=500d\n",
      "Querying from: https://api.pushshift.io/reddit/search/submission?subreddit=SecurityAnalysis&size=100&after=504d\n",
      "Querying from: https://api.pushshift.io/reddit/search/submission?subreddit=SecurityAnalysis&size=100&after=508d\n",
      "Querying from: https://api.pushshift.io/reddit/search/submission?subreddit=SecurityAnalysis&size=100&after=512d\n",
      "Querying from: https://api.pushshift.io/reddit/search/submission?subreddit=SecurityAnalysis&size=100&after=516d\n",
      "Querying from: https://api.pushshift.io/reddit/search/submission?subreddit=SecurityAnalysis&size=100&after=520d\n",
      "Querying from: https://api.pushshift.io/reddit/search/submission?subreddit=SecurityAnalysis&size=100&after=524d\n",
      "Querying from: https://api.pushshift.io/reddit/search/submission?subreddit=SecurityAnalysis&size=100&after=528d\n",
      "Querying from: https://api.pushshift.io/reddit/search/submission?subreddit=SecurityAnalysis&size=100&after=532d\n",
      "Querying from: https://api.pushshift.io/reddit/search/submission?subreddit=SecurityAnalysis&size=100&after=536d\n",
      "Querying from: https://api.pushshift.io/reddit/search/submission?subreddit=SecurityAnalysis&size=100&after=540d\n",
      "Querying from: https://api.pushshift.io/reddit/search/submission?subreddit=SecurityAnalysis&size=100&after=544d\n",
      "Querying from: https://api.pushshift.io/reddit/search/submission?subreddit=SecurityAnalysis&size=100&after=548d\n",
      "Querying from: https://api.pushshift.io/reddit/search/submission?subreddit=SecurityAnalysis&size=100&after=552d\n",
      "Querying from: https://api.pushshift.io/reddit/search/submission?subreddit=SecurityAnalysis&size=100&after=556d\n",
      "Querying from: https://api.pushshift.io/reddit/search/submission?subreddit=SecurityAnalysis&size=100&after=560d\n",
      "Querying from: https://api.pushshift.io/reddit/search/submission?subreddit=SecurityAnalysis&size=100&after=564d\n",
      "Querying from: https://api.pushshift.io/reddit/search/submission?subreddit=SecurityAnalysis&size=100&after=568d\n",
      "Querying from: https://api.pushshift.io/reddit/search/submission?subreddit=SecurityAnalysis&size=100&after=572d\n",
      "Querying from: https://api.pushshift.io/reddit/search/submission?subreddit=SecurityAnalysis&size=100&after=576d\n",
      "Querying from: https://api.pushshift.io/reddit/search/submission?subreddit=SecurityAnalysis&size=100&after=580d\n",
      "Querying from: https://api.pushshift.io/reddit/search/submission?subreddit=SecurityAnalysis&size=100&after=584d\n",
      "Querying from: https://api.pushshift.io/reddit/search/submission?subreddit=SecurityAnalysis&size=100&after=588d\n",
      "Querying from: https://api.pushshift.io/reddit/search/submission?subreddit=SecurityAnalysis&size=100&after=592d\n"
     ]
    },
    {
     "name": "stdout",
     "output_type": "stream",
     "text": [
      "Querying from: https://api.pushshift.io/reddit/search/submission?subreddit=SecurityAnalysis&size=100&after=596d\n",
      "Querying from: https://api.pushshift.io/reddit/search/submission?subreddit=SecurityAnalysis&size=100&after=600d\n",
      "Querying from: https://api.pushshift.io/reddit/search/submission?subreddit=SecurityAnalysis&size=100&after=604d\n",
      "Querying from: https://api.pushshift.io/reddit/search/submission?subreddit=SecurityAnalysis&size=100&after=608d\n",
      "Querying from: https://api.pushshift.io/reddit/search/submission?subreddit=SecurityAnalysis&size=100&after=612d\n",
      "Querying from: https://api.pushshift.io/reddit/search/submission?subreddit=SecurityAnalysis&size=100&after=616d\n",
      "Querying from: https://api.pushshift.io/reddit/search/submission?subreddit=SecurityAnalysis&size=100&after=620d\n",
      "Querying from: https://api.pushshift.io/reddit/search/submission?subreddit=SecurityAnalysis&size=100&after=624d\n",
      "Querying from: https://api.pushshift.io/reddit/search/submission?subreddit=SecurityAnalysis&size=100&after=628d\n",
      "Querying from: https://api.pushshift.io/reddit/search/submission?subreddit=SecurityAnalysis&size=100&after=632d\n",
      "Querying from: https://api.pushshift.io/reddit/search/submission?subreddit=SecurityAnalysis&size=100&after=636d\n",
      "Querying from: https://api.pushshift.io/reddit/search/submission?subreddit=SecurityAnalysis&size=100&after=640d\n",
      "Querying from: https://api.pushshift.io/reddit/search/submission?subreddit=SecurityAnalysis&size=100&after=644d\n",
      "Querying from: https://api.pushshift.io/reddit/search/submission?subreddit=SecurityAnalysis&size=100&after=648d\n",
      "Querying from: https://api.pushshift.io/reddit/search/submission?subreddit=SecurityAnalysis&size=100&after=652d\n",
      "Querying from: https://api.pushshift.io/reddit/search/submission?subreddit=SecurityAnalysis&size=100&after=656d\n",
      "Querying from: https://api.pushshift.io/reddit/search/submission?subreddit=SecurityAnalysis&size=100&after=660d\n",
      "Querying from: https://api.pushshift.io/reddit/search/submission?subreddit=SecurityAnalysis&size=100&after=664d\n",
      "Querying from: https://api.pushshift.io/reddit/search/submission?subreddit=SecurityAnalysis&size=100&after=668d\n",
      "Querying from: https://api.pushshift.io/reddit/search/submission?subreddit=SecurityAnalysis&size=100&after=672d\n",
      "Querying from: https://api.pushshift.io/reddit/search/submission?subreddit=SecurityAnalysis&size=100&after=676d\n",
      "Querying from: https://api.pushshift.io/reddit/search/submission?subreddit=SecurityAnalysis&size=100&after=680d\n",
      "Querying from: https://api.pushshift.io/reddit/search/submission?subreddit=SecurityAnalysis&size=100&after=684d\n",
      "Querying from: https://api.pushshift.io/reddit/search/submission?subreddit=SecurityAnalysis&size=100&after=688d\n",
      "Querying from: https://api.pushshift.io/reddit/search/submission?subreddit=SecurityAnalysis&size=100&after=692d\n",
      "Querying from: https://api.pushshift.io/reddit/search/submission?subreddit=SecurityAnalysis&size=100&after=696d\n",
      "Querying from: https://api.pushshift.io/reddit/search/submission?subreddit=SecurityAnalysis&size=100&after=700d\n",
      "Querying from: https://api.pushshift.io/reddit/search/submission?subreddit=SecurityAnalysis&size=100&after=704d\n",
      "Querying from: https://api.pushshift.io/reddit/search/submission?subreddit=SecurityAnalysis&size=100&after=708d\n",
      "Querying from: https://api.pushshift.io/reddit/search/submission?subreddit=SecurityAnalysis&size=100&after=712d\n",
      "Querying from: https://api.pushshift.io/reddit/search/submission?subreddit=SecurityAnalysis&size=100&after=716d\n",
      "Querying from: https://api.pushshift.io/reddit/search/submission?subreddit=SecurityAnalysis&size=100&after=720d\n",
      "Querying from: https://api.pushshift.io/reddit/search/submission?subreddit=SecurityAnalysis&size=100&after=724d\n",
      "Querying from: https://api.pushshift.io/reddit/search/submission?subreddit=SecurityAnalysis&size=100&after=728d\n",
      "Querying from: https://api.pushshift.io/reddit/search/submission?subreddit=SecurityAnalysis&size=100&after=732d\n",
      "Querying from: https://api.pushshift.io/reddit/search/submission?subreddit=SecurityAnalysis&size=100&after=736d\n",
      "Querying from: https://api.pushshift.io/reddit/search/submission?subreddit=SecurityAnalysis&size=100&after=740d\n",
      "Querying from: https://api.pushshift.io/reddit/search/submission?subreddit=SecurityAnalysis&size=100&after=744d\n",
      "Querying from: https://api.pushshift.io/reddit/search/submission?subreddit=SecurityAnalysis&size=100&after=748d\n",
      "Querying from: https://api.pushshift.io/reddit/search/submission?subreddit=SecurityAnalysis&size=100&after=752d\n",
      "Querying from: https://api.pushshift.io/reddit/search/submission?subreddit=SecurityAnalysis&size=100&after=756d\n",
      "Querying from: https://api.pushshift.io/reddit/search/submission?subreddit=SecurityAnalysis&size=100&after=760d\n",
      "Querying from: https://api.pushshift.io/reddit/search/submission?subreddit=SecurityAnalysis&size=100&after=764d\n",
      "Querying from: https://api.pushshift.io/reddit/search/submission?subreddit=SecurityAnalysis&size=100&after=768d\n",
      "Querying from: https://api.pushshift.io/reddit/search/submission?subreddit=SecurityAnalysis&size=100&after=772d\n",
      "Querying from: https://api.pushshift.io/reddit/search/submission?subreddit=SecurityAnalysis&size=100&after=776d\n",
      "Querying from: https://api.pushshift.io/reddit/search/submission?subreddit=SecurityAnalysis&size=100&after=780d\n",
      "Querying from: https://api.pushshift.io/reddit/search/submission?subreddit=SecurityAnalysis&size=100&after=784d\n",
      "Querying from: https://api.pushshift.io/reddit/search/submission?subreddit=SecurityAnalysis&size=100&after=788d\n",
      "Querying from: https://api.pushshift.io/reddit/search/submission?subreddit=SecurityAnalysis&size=100&after=792d\n",
      "Querying from: https://api.pushshift.io/reddit/search/submission?subreddit=SecurityAnalysis&size=100&after=796d\n",
      "Querying from: https://api.pushshift.io/reddit/search/submission?subreddit=SecurityAnalysis&size=100&after=800d\n",
      "Querying from: https://api.pushshift.io/reddit/search/submission?subreddit=SecurityAnalysis&size=100&after=804d\n",
      "Querying from: https://api.pushshift.io/reddit/search/submission?subreddit=SecurityAnalysis&size=100&after=808d\n",
      "Querying from: https://api.pushshift.io/reddit/search/submission?subreddit=SecurityAnalysis&size=100&after=812d\n",
      "Querying from: https://api.pushshift.io/reddit/search/submission?subreddit=SecurityAnalysis&size=100&after=816d\n",
      "Querying from: https://api.pushshift.io/reddit/search/submission?subreddit=SecurityAnalysis&size=100&after=820d\n",
      "Querying from: https://api.pushshift.io/reddit/search/submission?subreddit=SecurityAnalysis&size=100&after=824d\n",
      "Querying from: https://api.pushshift.io/reddit/search/submission?subreddit=SecurityAnalysis&size=100&after=828d\n",
      "Querying from: https://api.pushshift.io/reddit/search/submission?subreddit=SecurityAnalysis&size=100&after=832d\n",
      "Querying from: https://api.pushshift.io/reddit/search/submission?subreddit=SecurityAnalysis&size=100&after=836d\n",
      "Querying from: https://api.pushshift.io/reddit/search/submission?subreddit=SecurityAnalysis&size=100&after=840d\n",
      "Querying from: https://api.pushshift.io/reddit/search/submission?subreddit=SecurityAnalysis&size=100&after=844d\n",
      "Querying from: https://api.pushshift.io/reddit/search/submission?subreddit=SecurityAnalysis&size=100&after=848d\n",
      "Querying from: https://api.pushshift.io/reddit/search/submission?subreddit=SecurityAnalysis&size=100&after=852d\n",
      "Querying from: https://api.pushshift.io/reddit/search/submission?subreddit=SecurityAnalysis&size=100&after=856d\n",
      "Querying from: https://api.pushshift.io/reddit/search/submission?subreddit=SecurityAnalysis&size=100&after=860d\n",
      "Querying from: https://api.pushshift.io/reddit/search/submission?subreddit=SecurityAnalysis&size=100&after=864d\n",
      "Querying from: https://api.pushshift.io/reddit/search/submission?subreddit=SecurityAnalysis&size=100&after=868d\n",
      "Querying from: https://api.pushshift.io/reddit/search/submission?subreddit=SecurityAnalysis&size=100&after=872d\n",
      "Querying from: https://api.pushshift.io/reddit/search/submission?subreddit=SecurityAnalysis&size=100&after=876d\n",
      "Querying from: https://api.pushshift.io/reddit/search/submission?subreddit=SecurityAnalysis&size=100&after=880d\n",
      "Querying from: https://api.pushshift.io/reddit/search/submission?subreddit=SecurityAnalysis&size=100&after=884d\n",
      "Querying from: https://api.pushshift.io/reddit/search/submission?subreddit=SecurityAnalysis&size=100&after=888d\n"
     ]
    },
    {
     "name": "stdout",
     "output_type": "stream",
     "text": [
      "Querying from: https://api.pushshift.io/reddit/search/submission?subreddit=SecurityAnalysis&size=100&after=892d\n",
      "Querying from: https://api.pushshift.io/reddit/search/submission?subreddit=SecurityAnalysis&size=100&after=896d\n",
      "Querying from: https://api.pushshift.io/reddit/search/submission?subreddit=SecurityAnalysis&size=100&after=900d\n",
      "Querying from: https://api.pushshift.io/reddit/search/submission?subreddit=SecurityAnalysis&size=100&after=904d\n",
      "Querying from: https://api.pushshift.io/reddit/search/submission?subreddit=SecurityAnalysis&size=100&after=908d\n",
      "Querying from: https://api.pushshift.io/reddit/search/submission?subreddit=SecurityAnalysis&size=100&after=912d\n",
      "Querying from: https://api.pushshift.io/reddit/search/submission?subreddit=SecurityAnalysis&size=100&after=916d\n",
      "Querying from: https://api.pushshift.io/reddit/search/submission?subreddit=SecurityAnalysis&size=100&after=920d\n",
      "Querying from: https://api.pushshift.io/reddit/search/submission?subreddit=SecurityAnalysis&size=100&after=924d\n",
      "Querying from: https://api.pushshift.io/reddit/search/submission?subreddit=SecurityAnalysis&size=100&after=928d\n",
      "Querying from: https://api.pushshift.io/reddit/search/submission?subreddit=SecurityAnalysis&size=100&after=932d\n",
      "Querying from: https://api.pushshift.io/reddit/search/submission?subreddit=SecurityAnalysis&size=100&after=936d\n",
      "Querying from: https://api.pushshift.io/reddit/search/submission?subreddit=SecurityAnalysis&size=100&after=940d\n",
      "Querying from: https://api.pushshift.io/reddit/search/submission?subreddit=SecurityAnalysis&size=100&after=944d\n",
      "Querying from: https://api.pushshift.io/reddit/search/submission?subreddit=SecurityAnalysis&size=100&after=948d\n",
      "Querying from: https://api.pushshift.io/reddit/search/submission?subreddit=SecurityAnalysis&size=100&after=952d\n",
      "Querying from: https://api.pushshift.io/reddit/search/submission?subreddit=SecurityAnalysis&size=100&after=956d\n",
      "Querying from: https://api.pushshift.io/reddit/search/submission?subreddit=SecurityAnalysis&size=100&after=960d\n",
      "Querying from: https://api.pushshift.io/reddit/search/submission?subreddit=SecurityAnalysis&size=100&after=964d\n",
      "Querying from: https://api.pushshift.io/reddit/search/submission?subreddit=SecurityAnalysis&size=100&after=968d\n",
      "Querying from: https://api.pushshift.io/reddit/search/submission?subreddit=SecurityAnalysis&size=100&after=972d\n",
      "Querying from: https://api.pushshift.io/reddit/search/submission?subreddit=SecurityAnalysis&size=100&after=976d\n",
      "Querying from: https://api.pushshift.io/reddit/search/submission?subreddit=SecurityAnalysis&size=100&after=980d\n",
      "Querying from: https://api.pushshift.io/reddit/search/submission?subreddit=SecurityAnalysis&size=100&after=984d\n",
      "Querying from: https://api.pushshift.io/reddit/search/submission?subreddit=SecurityAnalysis&size=100&after=988d\n",
      "Querying from: https://api.pushshift.io/reddit/search/submission?subreddit=SecurityAnalysis&size=100&after=992d\n",
      "Querying from: https://api.pushshift.io/reddit/search/submission?subreddit=SecurityAnalysis&size=100&after=996d\n",
      "Querying from: https://api.pushshift.io/reddit/search/submission?subreddit=SecurityAnalysis&size=100&after=1000d\n",
      "Querying from: https://api.pushshift.io/reddit/search/submission?subreddit=SecurityAnalysis&size=100&after=1004d\n",
      "Querying from: https://api.pushshift.io/reddit/search/submission?subreddit=SecurityAnalysis&size=100&after=1008d\n",
      "Querying from: https://api.pushshift.io/reddit/search/submission?subreddit=SecurityAnalysis&size=100&after=1012d\n",
      "Querying from: https://api.pushshift.io/reddit/search/submission?subreddit=SecurityAnalysis&size=100&after=1016d\n",
      "Querying from: https://api.pushshift.io/reddit/search/submission?subreddit=SecurityAnalysis&size=100&after=1020d\n",
      "Querying from: https://api.pushshift.io/reddit/search/submission?subreddit=SecurityAnalysis&size=100&after=1024d\n",
      "Querying from: https://api.pushshift.io/reddit/search/submission?subreddit=SecurityAnalysis&size=100&after=1028d\n",
      "Querying from: https://api.pushshift.io/reddit/search/submission?subreddit=SecurityAnalysis&size=100&after=1032d\n",
      "Querying from: https://api.pushshift.io/reddit/search/submission?subreddit=SecurityAnalysis&size=100&after=1036d\n",
      "Querying from: https://api.pushshift.io/reddit/search/submission?subreddit=SecurityAnalysis&size=100&after=1040d\n",
      "Querying from: https://api.pushshift.io/reddit/search/submission?subreddit=SecurityAnalysis&size=100&after=1044d\n",
      "Querying from: https://api.pushshift.io/reddit/search/submission?subreddit=SecurityAnalysis&size=100&after=1048d\n",
      "Querying from: https://api.pushshift.io/reddit/search/submission?subreddit=SecurityAnalysis&size=100&after=1052d\n",
      "Querying from: https://api.pushshift.io/reddit/search/submission?subreddit=SecurityAnalysis&size=100&after=1056d\n",
      "Querying from: https://api.pushshift.io/reddit/search/submission?subreddit=SecurityAnalysis&size=100&after=1060d\n",
      "Querying from: https://api.pushshift.io/reddit/search/submission?subreddit=SecurityAnalysis&size=100&after=1064d\n",
      "Querying from: https://api.pushshift.io/reddit/search/submission?subreddit=SecurityAnalysis&size=100&after=1068d\n",
      "Querying from: https://api.pushshift.io/reddit/search/submission?subreddit=SecurityAnalysis&size=100&after=1072d\n",
      "Querying from: https://api.pushshift.io/reddit/search/submission?subreddit=SecurityAnalysis&size=100&after=1076d\n",
      "Querying from: https://api.pushshift.io/reddit/search/submission?subreddit=SecurityAnalysis&size=100&after=1080d\n",
      "Querying from: https://api.pushshift.io/reddit/search/submission?subreddit=SecurityAnalysis&size=100&after=1084d\n",
      "Querying from: https://api.pushshift.io/reddit/search/submission?subreddit=SecurityAnalysis&size=100&after=1088d\n",
      "Querying from: https://api.pushshift.io/reddit/search/submission?subreddit=SecurityAnalysis&size=100&after=1092d\n",
      "Querying from: https://api.pushshift.io/reddit/search/submission?subreddit=SecurityAnalysis&size=100&after=1096d\n",
      "Querying from: https://api.pushshift.io/reddit/search/submission?subreddit=SecurityAnalysis&size=100&after=1100d\n",
      "Querying from: https://api.pushshift.io/reddit/search/submission?subreddit=SecurityAnalysis&size=100&after=1104d\n",
      "Querying from: https://api.pushshift.io/reddit/search/submission?subreddit=SecurityAnalysis&size=100&after=1108d\n",
      "Querying from: https://api.pushshift.io/reddit/search/submission?subreddit=SecurityAnalysis&size=100&after=1112d\n",
      "Querying from: https://api.pushshift.io/reddit/search/submission?subreddit=SecurityAnalysis&size=100&after=1116d\n",
      "Querying from: https://api.pushshift.io/reddit/search/submission?subreddit=SecurityAnalysis&size=100&after=1120d\n",
      "Querying from: https://api.pushshift.io/reddit/search/submission?subreddit=SecurityAnalysis&size=100&after=1124d\n",
      "Querying from: https://api.pushshift.io/reddit/search/submission?subreddit=SecurityAnalysis&size=100&after=1128d\n",
      "Querying from: https://api.pushshift.io/reddit/search/submission?subreddit=SecurityAnalysis&size=100&after=1132d\n",
      "Querying from: https://api.pushshift.io/reddit/search/submission?subreddit=SecurityAnalysis&size=100&after=1136d\n",
      "Querying from: https://api.pushshift.io/reddit/search/submission?subreddit=SecurityAnalysis&size=100&after=1140d\n",
      "Querying from: https://api.pushshift.io/reddit/search/submission?subreddit=SecurityAnalysis&size=100&after=1144d\n",
      "Querying from: https://api.pushshift.io/reddit/search/submission?subreddit=SecurityAnalysis&size=100&after=1148d\n",
      "Querying from: https://api.pushshift.io/reddit/search/submission?subreddit=SecurityAnalysis&size=100&after=1152d\n",
      "Querying from: https://api.pushshift.io/reddit/search/submission?subreddit=SecurityAnalysis&size=100&after=1156d\n",
      "Querying from: https://api.pushshift.io/reddit/search/submission?subreddit=SecurityAnalysis&size=100&after=1160d\n",
      "Querying from: https://api.pushshift.io/reddit/search/submission?subreddit=SecurityAnalysis&size=100&after=1164d\n",
      "Querying from: https://api.pushshift.io/reddit/search/submission?subreddit=SecurityAnalysis&size=100&after=1168d\n",
      "Querying from: https://api.pushshift.io/reddit/search/submission?subreddit=SecurityAnalysis&size=100&after=1172d\n",
      "Querying from: https://api.pushshift.io/reddit/search/submission?subreddit=SecurityAnalysis&size=100&after=1176d\n",
      "Querying from: https://api.pushshift.io/reddit/search/submission?subreddit=SecurityAnalysis&size=100&after=1180d\n"
     ]
    },
    {
     "name": "stdout",
     "output_type": "stream",
     "text": [
      "Querying from: https://api.pushshift.io/reddit/search/submission?subreddit=SecurityAnalysis&size=100&after=1184d\n",
      "Querying from: https://api.pushshift.io/reddit/search/submission?subreddit=SecurityAnalysis&size=100&after=1188d\n",
      "Querying from: https://api.pushshift.io/reddit/search/submission?subreddit=SecurityAnalysis&size=100&after=1192d\n",
      "Querying from: https://api.pushshift.io/reddit/search/submission?subreddit=SecurityAnalysis&size=100&after=1196d\n",
      "Querying from: https://api.pushshift.io/reddit/search/submission?subreddit=SecurityAnalysis&size=100&after=1200d\n",
      "Querying from: https://api.pushshift.io/reddit/search/submission?subreddit=SecurityAnalysis&size=100&after=1204d\n",
      "Querying from: https://api.pushshift.io/reddit/search/submission?subreddit=SecurityAnalysis&size=100&after=1208d\n",
      "Querying from: https://api.pushshift.io/reddit/search/submission?subreddit=SecurityAnalysis&size=100&after=1212d\n",
      "Querying from: https://api.pushshift.io/reddit/search/submission?subreddit=SecurityAnalysis&size=100&after=1216d\n",
      "Querying from: https://api.pushshift.io/reddit/search/submission?subreddit=SecurityAnalysis&size=100&after=1220d\n",
      "Querying from: https://api.pushshift.io/reddit/search/submission?subreddit=SecurityAnalysis&size=100&after=1224d\n",
      "Querying from: https://api.pushshift.io/reddit/search/submission?subreddit=SecurityAnalysis&size=100&after=1228d\n",
      "Querying from: https://api.pushshift.io/reddit/search/submission?subreddit=SecurityAnalysis&size=100&after=1232d\n",
      "Querying from: https://api.pushshift.io/reddit/search/submission?subreddit=SecurityAnalysis&size=100&after=1236d\n",
      "Querying from: https://api.pushshift.io/reddit/search/submission?subreddit=SecurityAnalysis&size=100&after=1240d\n",
      "Querying from: https://api.pushshift.io/reddit/search/submission?subreddit=SecurityAnalysis&size=100&after=1244d\n",
      "Querying from: https://api.pushshift.io/reddit/search/submission?subreddit=SecurityAnalysis&size=100&after=1248d\n",
      "Querying from: https://api.pushshift.io/reddit/search/submission?subreddit=SecurityAnalysis&size=100&after=1252d\n",
      "Querying from: https://api.pushshift.io/reddit/search/submission?subreddit=SecurityAnalysis&size=100&after=1256d\n",
      "Querying from: https://api.pushshift.io/reddit/search/submission?subreddit=SecurityAnalysis&size=100&after=1260d\n",
      "Querying from: https://api.pushshift.io/reddit/search/submission?subreddit=SecurityAnalysis&size=100&after=1264d\n",
      "Querying from: https://api.pushshift.io/reddit/search/submission?subreddit=SecurityAnalysis&size=100&after=1268d\n",
      "Querying from: https://api.pushshift.io/reddit/search/submission?subreddit=SecurityAnalysis&size=100&after=1272d\n",
      "Querying from: https://api.pushshift.io/reddit/search/submission?subreddit=SecurityAnalysis&size=100&after=1276d\n",
      "Querying from: https://api.pushshift.io/reddit/search/submission?subreddit=SecurityAnalysis&size=100&after=1280d\n",
      "Querying from: https://api.pushshift.io/reddit/search/submission?subreddit=SecurityAnalysis&size=100&after=1284d\n",
      "Querying from: https://api.pushshift.io/reddit/search/submission?subreddit=SecurityAnalysis&size=100&after=1288d\n",
      "Querying from: https://api.pushshift.io/reddit/search/submission?subreddit=SecurityAnalysis&size=100&after=1292d\n",
      "Querying from: https://api.pushshift.io/reddit/search/submission?subreddit=SecurityAnalysis&size=100&after=1296d\n",
      "Querying from: https://api.pushshift.io/reddit/search/submission?subreddit=SecurityAnalysis&size=100&after=1300d\n",
      "Querying from: https://api.pushshift.io/reddit/search/submission?subreddit=SecurityAnalysis&size=100&after=1304d\n",
      "Querying from: https://api.pushshift.io/reddit/search/submission?subreddit=SecurityAnalysis&size=100&after=1308d\n",
      "Querying from: https://api.pushshift.io/reddit/search/submission?subreddit=SecurityAnalysis&size=100&after=1312d\n",
      "Querying from: https://api.pushshift.io/reddit/search/submission?subreddit=SecurityAnalysis&size=100&after=1316d\n",
      "Querying from: https://api.pushshift.io/reddit/search/submission?subreddit=SecurityAnalysis&size=100&after=1320d\n",
      "Querying from: https://api.pushshift.io/reddit/search/submission?subreddit=SecurityAnalysis&size=100&after=1324d\n",
      "Querying from: https://api.pushshift.io/reddit/search/submission?subreddit=SecurityAnalysis&size=100&after=1328d\n",
      "Querying from: https://api.pushshift.io/reddit/search/submission?subreddit=SecurityAnalysis&size=100&after=1332d\n",
      "Querying from: https://api.pushshift.io/reddit/search/submission?subreddit=SecurityAnalysis&size=100&after=1336d\n",
      "Querying from: https://api.pushshift.io/reddit/search/submission?subreddit=SecurityAnalysis&size=100&after=1340d\n",
      "Querying from: https://api.pushshift.io/reddit/search/submission?subreddit=SecurityAnalysis&size=100&after=1344d\n",
      "Querying from: https://api.pushshift.io/reddit/search/submission?subreddit=SecurityAnalysis&size=100&after=1348d\n",
      "Querying from: https://api.pushshift.io/reddit/search/submission?subreddit=SecurityAnalysis&size=100&after=1352d\n",
      "Querying from: https://api.pushshift.io/reddit/search/submission?subreddit=SecurityAnalysis&size=100&after=1356d\n",
      "Querying from: https://api.pushshift.io/reddit/search/submission?subreddit=SecurityAnalysis&size=100&after=1360d\n",
      "Querying from: https://api.pushshift.io/reddit/search/submission?subreddit=SecurityAnalysis&size=100&after=1364d\n",
      "Querying from: https://api.pushshift.io/reddit/search/submission?subreddit=SecurityAnalysis&size=100&after=1368d\n",
      "Querying from: https://api.pushshift.io/reddit/search/submission?subreddit=SecurityAnalysis&size=100&after=1372d\n",
      "Querying from: https://api.pushshift.io/reddit/search/submission?subreddit=SecurityAnalysis&size=100&after=1376d\n",
      "Querying from: https://api.pushshift.io/reddit/search/submission?subreddit=SecurityAnalysis&size=100&after=1380d\n",
      "Querying from: https://api.pushshift.io/reddit/search/submission?subreddit=SecurityAnalysis&size=100&after=1384d\n",
      "Querying from: https://api.pushshift.io/reddit/search/submission?subreddit=SecurityAnalysis&size=100&after=1388d\n",
      "Querying from: https://api.pushshift.io/reddit/search/submission?subreddit=SecurityAnalysis&size=100&after=1392d\n",
      "Querying from: https://api.pushshift.io/reddit/search/submission?subreddit=SecurityAnalysis&size=100&after=1396d\n",
      "Querying from: https://api.pushshift.io/reddit/search/submission?subreddit=SecurityAnalysis&size=100&after=1400d\n",
      "Querying from: https://api.pushshift.io/reddit/search/submission?subreddit=SecurityAnalysis&size=100&after=1404d\n",
      "Querying from: https://api.pushshift.io/reddit/search/submission?subreddit=SecurityAnalysis&size=100&after=1408d\n",
      "Querying from: https://api.pushshift.io/reddit/search/submission?subreddit=SecurityAnalysis&size=100&after=1412d\n",
      "Querying from: https://api.pushshift.io/reddit/search/submission?subreddit=SecurityAnalysis&size=100&after=1416d\n",
      "Querying from: https://api.pushshift.io/reddit/search/submission?subreddit=SecurityAnalysis&size=100&after=1420d\n",
      "Querying from: https://api.pushshift.io/reddit/search/submission?subreddit=SecurityAnalysis&size=100&after=1424d\n",
      "Querying from: https://api.pushshift.io/reddit/search/submission?subreddit=SecurityAnalysis&size=100&after=1428d\n",
      "Querying from: https://api.pushshift.io/reddit/search/submission?subreddit=SecurityAnalysis&size=100&after=1432d\n",
      "Querying from: https://api.pushshift.io/reddit/search/submission?subreddit=SecurityAnalysis&size=100&after=1436d\n",
      "Querying from: https://api.pushshift.io/reddit/search/submission?subreddit=SecurityAnalysis&size=100&after=1440d\n",
      "Querying from: https://api.pushshift.io/reddit/search/submission?subreddit=SecurityAnalysis&size=100&after=1444d\n",
      "Querying from: https://api.pushshift.io/reddit/search/submission?subreddit=SecurityAnalysis&size=100&after=1448d\n",
      "Querying from: https://api.pushshift.io/reddit/search/submission?subreddit=SecurityAnalysis&size=100&after=1452d\n",
      "Querying from: https://api.pushshift.io/reddit/search/submission?subreddit=SecurityAnalysis&size=100&after=1456d\n",
      "Querying from: https://api.pushshift.io/reddit/search/submission?subreddit=SecurityAnalysis&size=100&after=1460d\n",
      "Querying from: https://api.pushshift.io/reddit/search/submission?subreddit=SecurityAnalysis&size=100&after=1464d\n",
      "Querying from: https://api.pushshift.io/reddit/search/submission?subreddit=SecurityAnalysis&size=100&after=1468d\n",
      "Querying from: https://api.pushshift.io/reddit/search/submission?subreddit=SecurityAnalysis&size=100&after=1472d\n"
     ]
    },
    {
     "name": "stdout",
     "output_type": "stream",
     "text": [
      "Querying from: https://api.pushshift.io/reddit/search/submission?subreddit=SecurityAnalysis&size=100&after=1476d\n",
      "Querying from: https://api.pushshift.io/reddit/search/submission?subreddit=SecurityAnalysis&size=100&after=1480d\n",
      "Querying from: https://api.pushshift.io/reddit/search/submission?subreddit=SecurityAnalysis&size=100&after=1484d\n",
      "Querying from: https://api.pushshift.io/reddit/search/submission?subreddit=SecurityAnalysis&size=100&after=1488d\n",
      "Querying from: https://api.pushshift.io/reddit/search/submission?subreddit=SecurityAnalysis&size=100&after=1492d\n",
      "Querying from: https://api.pushshift.io/reddit/search/submission?subreddit=SecurityAnalysis&size=100&after=1496d\n",
      "Querying from: https://api.pushshift.io/reddit/search/submission?subreddit=SecurityAnalysis&size=100&after=1500d\n",
      "Querying from: https://api.pushshift.io/reddit/search/submission?subreddit=SecurityAnalysis&size=100&after=1504d\n",
      "Querying from: https://api.pushshift.io/reddit/search/submission?subreddit=SecurityAnalysis&size=100&after=1508d\n",
      "Querying from: https://api.pushshift.io/reddit/search/submission?subreddit=SecurityAnalysis&size=100&after=1512d\n",
      "Querying from: https://api.pushshift.io/reddit/search/submission?subreddit=SecurityAnalysis&size=100&after=1516d\n",
      "Querying from: https://api.pushshift.io/reddit/search/submission?subreddit=SecurityAnalysis&size=100&after=1520d\n",
      "Querying from: https://api.pushshift.io/reddit/search/submission?subreddit=SecurityAnalysis&size=100&after=1524d\n",
      "Querying from: https://api.pushshift.io/reddit/search/submission?subreddit=SecurityAnalysis&size=100&after=1528d\n",
      "Querying from: https://api.pushshift.io/reddit/search/submission?subreddit=SecurityAnalysis&size=100&after=1532d\n",
      "Querying from: https://api.pushshift.io/reddit/search/submission?subreddit=SecurityAnalysis&size=100&after=1536d\n",
      "Querying from: https://api.pushshift.io/reddit/search/submission?subreddit=SecurityAnalysis&size=100&after=1540d\n",
      "Querying from: https://api.pushshift.io/reddit/search/submission?subreddit=SecurityAnalysis&size=100&after=1544d\n",
      "Querying from: https://api.pushshift.io/reddit/search/submission?subreddit=SecurityAnalysis&size=100&after=1548d\n",
      "Querying from: https://api.pushshift.io/reddit/search/submission?subreddit=SecurityAnalysis&size=100&after=1552d\n",
      "Querying from: https://api.pushshift.io/reddit/search/submission?subreddit=SecurityAnalysis&size=100&after=1556d\n",
      "Querying from: https://api.pushshift.io/reddit/search/submission?subreddit=SecurityAnalysis&size=100&after=1560d\n",
      "Querying from: https://api.pushshift.io/reddit/search/submission?subreddit=SecurityAnalysis&size=100&after=1564d\n",
      "Querying from: https://api.pushshift.io/reddit/search/submission?subreddit=SecurityAnalysis&size=100&after=1568d\n",
      "Querying from: https://api.pushshift.io/reddit/search/submission?subreddit=SecurityAnalysis&size=100&after=1572d\n",
      "Querying from: https://api.pushshift.io/reddit/search/submission?subreddit=SecurityAnalysis&size=100&after=1576d\n",
      "Querying from: https://api.pushshift.io/reddit/search/submission?subreddit=SecurityAnalysis&size=100&after=1580d\n",
      "Querying from: https://api.pushshift.io/reddit/search/submission?subreddit=SecurityAnalysis&size=100&after=1584d\n",
      "Querying from: https://api.pushshift.io/reddit/search/submission?subreddit=SecurityAnalysis&size=100&after=1588d\n",
      "Querying from: https://api.pushshift.io/reddit/search/submission?subreddit=SecurityAnalysis&size=100&after=1592d\n",
      "Querying from: https://api.pushshift.io/reddit/search/submission?subreddit=SecurityAnalysis&size=100&after=1596d\n",
      "Querying from: https://api.pushshift.io/reddit/search/submission?subreddit=SecurityAnalysis&size=100&after=1600d\n",
      "Querying from: https://api.pushshift.io/reddit/search/submission?subreddit=SecurityAnalysis&size=100&after=1604d\n",
      "Querying from: https://api.pushshift.io/reddit/search/submission?subreddit=SecurityAnalysis&size=100&after=1608d\n",
      "Querying from: https://api.pushshift.io/reddit/search/submission?subreddit=SecurityAnalysis&size=100&after=1612d\n",
      "Querying from: https://api.pushshift.io/reddit/search/submission?subreddit=SecurityAnalysis&size=100&after=1616d\n",
      "Querying from: https://api.pushshift.io/reddit/search/submission?subreddit=SecurityAnalysis&size=100&after=1620d\n",
      "Querying from: https://api.pushshift.io/reddit/search/submission?subreddit=SecurityAnalysis&size=100&after=1624d\n",
      "Querying from: https://api.pushshift.io/reddit/search/submission?subreddit=SecurityAnalysis&size=100&after=1628d\n",
      "Querying from: https://api.pushshift.io/reddit/search/submission?subreddit=SecurityAnalysis&size=100&after=1632d\n",
      "Querying from: https://api.pushshift.io/reddit/search/submission?subreddit=SecurityAnalysis&size=100&after=1636d\n",
      "Querying from: https://api.pushshift.io/reddit/search/submission?subreddit=SecurityAnalysis&size=100&after=1640d\n",
      "Querying from: https://api.pushshift.io/reddit/search/submission?subreddit=SecurityAnalysis&size=100&after=1644d\n",
      "Querying from: https://api.pushshift.io/reddit/search/submission?subreddit=SecurityAnalysis&size=100&after=1648d\n",
      "Querying from: https://api.pushshift.io/reddit/search/submission?subreddit=SecurityAnalysis&size=100&after=1652d\n",
      "Querying from: https://api.pushshift.io/reddit/search/submission?subreddit=SecurityAnalysis&size=100&after=1656d\n",
      "Querying from: https://api.pushshift.io/reddit/search/submission?subreddit=SecurityAnalysis&size=100&after=1660d\n",
      "Querying from: https://api.pushshift.io/reddit/search/submission?subreddit=SecurityAnalysis&size=100&after=1664d\n",
      "Querying from: https://api.pushshift.io/reddit/search/submission?subreddit=SecurityAnalysis&size=100&after=1668d\n",
      "Querying from: https://api.pushshift.io/reddit/search/submission?subreddit=SecurityAnalysis&size=100&after=1672d\n",
      "Querying from: https://api.pushshift.io/reddit/search/submission?subreddit=SecurityAnalysis&size=100&after=1676d\n",
      "Querying from: https://api.pushshift.io/reddit/search/submission?subreddit=SecurityAnalysis&size=100&after=1680d\n",
      "Querying from: https://api.pushshift.io/reddit/search/submission?subreddit=SecurityAnalysis&size=100&after=1684d\n",
      "Querying from: https://api.pushshift.io/reddit/search/submission?subreddit=SecurityAnalysis&size=100&after=1688d\n",
      "Querying from: https://api.pushshift.io/reddit/search/submission?subreddit=SecurityAnalysis&size=100&after=1692d\n",
      "Querying from: https://api.pushshift.io/reddit/search/submission?subreddit=SecurityAnalysis&size=100&after=1696d\n",
      "Querying from: https://api.pushshift.io/reddit/search/submission?subreddit=SecurityAnalysis&size=100&after=1700d\n",
      "Querying from: https://api.pushshift.io/reddit/search/submission?subreddit=SecurityAnalysis&size=100&after=1704d\n",
      "Querying from: https://api.pushshift.io/reddit/search/submission?subreddit=SecurityAnalysis&size=100&after=1708d\n",
      "Querying from: https://api.pushshift.io/reddit/search/submission?subreddit=SecurityAnalysis&size=100&after=1712d\n",
      "Querying from: https://api.pushshift.io/reddit/search/submission?subreddit=SecurityAnalysis&size=100&after=1716d\n",
      "Querying from: https://api.pushshift.io/reddit/search/submission?subreddit=SecurityAnalysis&size=100&after=1720d\n",
      "Querying from: https://api.pushshift.io/reddit/search/submission?subreddit=SecurityAnalysis&size=100&after=1724d\n",
      "Querying from: https://api.pushshift.io/reddit/search/submission?subreddit=SecurityAnalysis&size=100&after=1728d\n",
      "Querying from: https://api.pushshift.io/reddit/search/submission?subreddit=SecurityAnalysis&size=100&after=1732d\n",
      "Querying from: https://api.pushshift.io/reddit/search/submission?subreddit=SecurityAnalysis&size=100&after=1736d\n",
      "Querying from: https://api.pushshift.io/reddit/search/submission?subreddit=SecurityAnalysis&size=100&after=1740d\n",
      "Querying from: https://api.pushshift.io/reddit/search/submission?subreddit=SecurityAnalysis&size=100&after=1744d\n",
      "Querying from: https://api.pushshift.io/reddit/search/submission?subreddit=SecurityAnalysis&size=100&after=1748d\n",
      "Querying from: https://api.pushshift.io/reddit/search/submission?subreddit=SecurityAnalysis&size=100&after=1752d\n",
      "Querying from: https://api.pushshift.io/reddit/search/submission?subreddit=SecurityAnalysis&size=100&after=1756d\n",
      "Querying from: https://api.pushshift.io/reddit/search/submission?subreddit=SecurityAnalysis&size=100&after=1760d\n",
      "Querying from: https://api.pushshift.io/reddit/search/submission?subreddit=SecurityAnalysis&size=100&after=1764d\n"
     ]
    },
    {
     "name": "stdout",
     "output_type": "stream",
     "text": [
      "Querying from: https://api.pushshift.io/reddit/search/submission?subreddit=SecurityAnalysis&size=100&after=1768d\n",
      "Querying from: https://api.pushshift.io/reddit/search/submission?subreddit=SecurityAnalysis&size=100&after=1772d\n",
      "Querying from: https://api.pushshift.io/reddit/search/submission?subreddit=SecurityAnalysis&size=100&after=1776d\n",
      "Querying from: https://api.pushshift.io/reddit/search/submission?subreddit=SecurityAnalysis&size=100&after=1780d\n",
      "Querying from: https://api.pushshift.io/reddit/search/submission?subreddit=SecurityAnalysis&size=100&after=1784d\n",
      "Querying from: https://api.pushshift.io/reddit/search/submission?subreddit=SecurityAnalysis&size=100&after=1788d\n",
      "Querying from: https://api.pushshift.io/reddit/search/submission?subreddit=SecurityAnalysis&size=100&after=1792d\n",
      "Querying from: https://api.pushshift.io/reddit/search/submission?subreddit=SecurityAnalysis&size=100&after=1796d\n",
      "Querying from: https://api.pushshift.io/reddit/search/submission?subreddit=SecurityAnalysis&size=100&after=1800d\n",
      "Querying from: https://api.pushshift.io/reddit/search/submission?subreddit=SecurityAnalysis&size=100&after=1804d\n",
      "Querying from: https://api.pushshift.io/reddit/search/submission?subreddit=SecurityAnalysis&size=100&after=1808d\n",
      "Querying from: https://api.pushshift.io/reddit/search/submission?subreddit=SecurityAnalysis&size=100&after=1812d\n",
      "Querying from: https://api.pushshift.io/reddit/search/submission?subreddit=SecurityAnalysis&size=100&after=1816d\n",
      "Querying from: https://api.pushshift.io/reddit/search/submission?subreddit=SecurityAnalysis&size=100&after=1820d\n",
      "Querying from: https://api.pushshift.io/reddit/search/submission?subreddit=SecurityAnalysis&size=100&after=1824d\n",
      "Querying from: https://api.pushshift.io/reddit/search/submission?subreddit=SecurityAnalysis&size=100&after=1828d\n",
      "Querying from: https://api.pushshift.io/reddit/search/submission?subreddit=SecurityAnalysis&size=100&after=1832d\n",
      "Querying from: https://api.pushshift.io/reddit/search/submission?subreddit=SecurityAnalysis&size=100&after=1836d\n",
      "Querying from: https://api.pushshift.io/reddit/search/submission?subreddit=SecurityAnalysis&size=100&after=1840d\n",
      "Querying from: https://api.pushshift.io/reddit/search/submission?subreddit=SecurityAnalysis&size=100&after=1844d\n",
      "Querying from: https://api.pushshift.io/reddit/search/submission?subreddit=SecurityAnalysis&size=100&after=1848d\n",
      "Querying from: https://api.pushshift.io/reddit/search/submission?subreddit=SecurityAnalysis&size=100&after=1852d\n",
      "Querying from: https://api.pushshift.io/reddit/search/submission?subreddit=SecurityAnalysis&size=100&after=1856d\n",
      "Querying from: https://api.pushshift.io/reddit/search/submission?subreddit=SecurityAnalysis&size=100&after=1860d\n",
      "Querying from: https://api.pushshift.io/reddit/search/submission?subreddit=SecurityAnalysis&size=100&after=1864d\n",
      "Querying from: https://api.pushshift.io/reddit/search/submission?subreddit=SecurityAnalysis&size=100&after=1868d\n",
      "Querying from: https://api.pushshift.io/reddit/search/submission?subreddit=SecurityAnalysis&size=100&after=1872d\n",
      "Querying from: https://api.pushshift.io/reddit/search/submission?subreddit=SecurityAnalysis&size=100&after=1876d\n",
      "Querying from: https://api.pushshift.io/reddit/search/submission?subreddit=SecurityAnalysis&size=100&after=1880d\n",
      "Querying from: https://api.pushshift.io/reddit/search/submission?subreddit=SecurityAnalysis&size=100&after=1884d\n",
      "Querying from: https://api.pushshift.io/reddit/search/submission?subreddit=SecurityAnalysis&size=100&after=1888d\n",
      "Querying from: https://api.pushshift.io/reddit/search/submission?subreddit=SecurityAnalysis&size=100&after=1892d\n",
      "Querying from: https://api.pushshift.io/reddit/search/submission?subreddit=SecurityAnalysis&size=100&after=1896d\n",
      "Querying from: https://api.pushshift.io/reddit/search/submission?subreddit=SecurityAnalysis&size=100&after=1900d\n",
      "Querying from: https://api.pushshift.io/reddit/search/submission?subreddit=SecurityAnalysis&size=100&after=1904d\n",
      "Querying from: https://api.pushshift.io/reddit/search/submission?subreddit=SecurityAnalysis&size=100&after=1908d\n",
      "Querying from: https://api.pushshift.io/reddit/search/submission?subreddit=SecurityAnalysis&size=100&after=1912d\n",
      "Querying from: https://api.pushshift.io/reddit/search/submission?subreddit=SecurityAnalysis&size=100&after=1916d\n",
      "Querying from: https://api.pushshift.io/reddit/search/submission?subreddit=SecurityAnalysis&size=100&after=1920d\n",
      "Querying from: https://api.pushshift.io/reddit/search/submission?subreddit=SecurityAnalysis&size=100&after=1924d\n",
      "Querying from: https://api.pushshift.io/reddit/search/submission?subreddit=SecurityAnalysis&size=100&after=1928d\n",
      "Querying from: https://api.pushshift.io/reddit/search/submission?subreddit=SecurityAnalysis&size=100&after=1932d\n",
      "Querying from: https://api.pushshift.io/reddit/search/submission?subreddit=SecurityAnalysis&size=100&after=1936d\n",
      "Querying from: https://api.pushshift.io/reddit/search/submission?subreddit=SecurityAnalysis&size=100&after=1940d\n",
      "Querying from: https://api.pushshift.io/reddit/search/submission?subreddit=SecurityAnalysis&size=100&after=1944d\n",
      "Querying from: https://api.pushshift.io/reddit/search/submission?subreddit=SecurityAnalysis&size=100&after=1948d\n",
      "Querying from: https://api.pushshift.io/reddit/search/submission?subreddit=SecurityAnalysis&size=100&after=1952d\n",
      "Querying from: https://api.pushshift.io/reddit/search/submission?subreddit=SecurityAnalysis&size=100&after=1956d\n",
      "Querying from: https://api.pushshift.io/reddit/search/submission?subreddit=SecurityAnalysis&size=100&after=1960d\n",
      "Querying from: https://api.pushshift.io/reddit/search/submission?subreddit=SecurityAnalysis&size=100&after=1964d\n",
      "Querying from: https://api.pushshift.io/reddit/search/submission?subreddit=SecurityAnalysis&size=100&after=1968d\n",
      "Querying from: https://api.pushshift.io/reddit/search/submission?subreddit=SecurityAnalysis&size=100&after=1972d\n",
      "Querying from: https://api.pushshift.io/reddit/search/submission?subreddit=SecurityAnalysis&size=100&after=1976d\n",
      "Querying from: https://api.pushshift.io/reddit/search/submission?subreddit=SecurityAnalysis&size=100&after=1980d\n",
      "Querying from: https://api.pushshift.io/reddit/search/submission?subreddit=SecurityAnalysis&size=100&after=1984d\n",
      "Querying from: https://api.pushshift.io/reddit/search/submission?subreddit=SecurityAnalysis&size=100&after=1988d\n",
      "Querying from: https://api.pushshift.io/reddit/search/submission?subreddit=SecurityAnalysis&size=100&after=1992d\n",
      "Querying from: https://api.pushshift.io/reddit/search/submission?subreddit=SecurityAnalysis&size=100&after=1996d\n",
      "Querying from: https://api.pushshift.io/reddit/search/submission?subreddit=SecurityAnalysis&size=100&after=2000d\n",
      "Querying from: https://api.pushshift.io/reddit/search/submission?subreddit=SecurityAnalysis&size=100&after=2004d\n",
      "Querying from: https://api.pushshift.io/reddit/search/submission?subreddit=SecurityAnalysis&size=100&after=2008d\n",
      "Querying from: https://api.pushshift.io/reddit/search/submission?subreddit=SecurityAnalysis&size=100&after=2012d\n",
      "Querying from: https://api.pushshift.io/reddit/search/submission?subreddit=SecurityAnalysis&size=100&after=2016d\n",
      "Querying from: https://api.pushshift.io/reddit/search/submission?subreddit=SecurityAnalysis&size=100&after=2020d\n",
      "Querying from: https://api.pushshift.io/reddit/search/submission?subreddit=SecurityAnalysis&size=100&after=2024d\n",
      "Querying from: https://api.pushshift.io/reddit/search/submission?subreddit=SecurityAnalysis&size=100&after=2028d\n",
      "Querying from: https://api.pushshift.io/reddit/search/submission?subreddit=SecurityAnalysis&size=100&after=2032d\n",
      "Querying from: https://api.pushshift.io/reddit/search/submission?subreddit=SecurityAnalysis&size=100&after=2036d\n",
      "Querying from: https://api.pushshift.io/reddit/search/submission?subreddit=SecurityAnalysis&size=100&after=2040d\n",
      "Querying from: https://api.pushshift.io/reddit/search/submission?subreddit=SecurityAnalysis&size=100&after=2044d\n",
      "Querying from: https://api.pushshift.io/reddit/search/submission?subreddit=SecurityAnalysis&size=100&after=2048d\n",
      "Querying from: https://api.pushshift.io/reddit/search/submission?subreddit=SecurityAnalysis&size=100&after=2052d\n",
      "Querying from: https://api.pushshift.io/reddit/search/submission?subreddit=SecurityAnalysis&size=100&after=2056d\n"
     ]
    },
    {
     "name": "stdout",
     "output_type": "stream",
     "text": [
      "Querying from: https://api.pushshift.io/reddit/search/submission?subreddit=SecurityAnalysis&size=100&after=2060d\n",
      "Querying from: https://api.pushshift.io/reddit/search/submission?subreddit=SecurityAnalysis&size=100&after=2064d\n",
      "Querying from: https://api.pushshift.io/reddit/search/submission?subreddit=SecurityAnalysis&size=100&after=2068d\n",
      "Querying from: https://api.pushshift.io/reddit/search/submission?subreddit=SecurityAnalysis&size=100&after=2072d\n",
      "Querying from: https://api.pushshift.io/reddit/search/submission?subreddit=SecurityAnalysis&size=100&after=2076d\n",
      "Querying from: https://api.pushshift.io/reddit/search/submission?subreddit=SecurityAnalysis&size=100&after=2080d\n",
      "Querying from: https://api.pushshift.io/reddit/search/submission?subreddit=SecurityAnalysis&size=100&after=2084d\n",
      "Querying from: https://api.pushshift.io/reddit/search/submission?subreddit=SecurityAnalysis&size=100&after=2088d\n",
      "Querying from: https://api.pushshift.io/reddit/search/submission?subreddit=SecurityAnalysis&size=100&after=2092d\n",
      "Querying from: https://api.pushshift.io/reddit/search/submission?subreddit=SecurityAnalysis&size=100&after=2096d\n",
      "Querying from: https://api.pushshift.io/reddit/search/submission?subreddit=SecurityAnalysis&size=100&after=2100d\n",
      "Querying from: https://api.pushshift.io/reddit/search/submission?subreddit=SecurityAnalysis&size=100&after=2104d\n",
      "Querying from: https://api.pushshift.io/reddit/search/submission?subreddit=SecurityAnalysis&size=100&after=2108d\n",
      "Querying from: https://api.pushshift.io/reddit/search/submission?subreddit=SecurityAnalysis&size=100&after=2112d\n",
      "Querying from: https://api.pushshift.io/reddit/search/submission?subreddit=SecurityAnalysis&size=100&after=2116d\n",
      "Querying from: https://api.pushshift.io/reddit/search/submission?subreddit=SecurityAnalysis&size=100&after=2120d\n",
      "Querying from: https://api.pushshift.io/reddit/search/submission?subreddit=SecurityAnalysis&size=100&after=2124d\n",
      "Querying from: https://api.pushshift.io/reddit/search/submission?subreddit=SecurityAnalysis&size=100&after=2128d\n",
      "Querying from: https://api.pushshift.io/reddit/search/submission?subreddit=SecurityAnalysis&size=100&after=2132d\n",
      "Querying from: https://api.pushshift.io/reddit/search/submission?subreddit=SecurityAnalysis&size=100&after=2136d\n",
      "Querying from: https://api.pushshift.io/reddit/search/submission?subreddit=SecurityAnalysis&size=100&after=2140d\n",
      "Querying from: https://api.pushshift.io/reddit/search/submission?subreddit=SecurityAnalysis&size=100&after=2144d\n",
      "Querying from: https://api.pushshift.io/reddit/search/submission?subreddit=SecurityAnalysis&size=100&after=2148d\n",
      "Querying from: https://api.pushshift.io/reddit/search/submission?subreddit=SecurityAnalysis&size=100&after=2152d\n",
      "Querying from: https://api.pushshift.io/reddit/search/submission?subreddit=SecurityAnalysis&size=100&after=2156d\n",
      "Querying from: https://api.pushshift.io/reddit/search/submission?subreddit=SecurityAnalysis&size=100&after=2160d\n",
      "Querying from: https://api.pushshift.io/reddit/search/submission?subreddit=SecurityAnalysis&size=100&after=2164d\n",
      "Querying from: https://api.pushshift.io/reddit/search/submission?subreddit=SecurityAnalysis&size=100&after=2168d\n",
      "Querying from: https://api.pushshift.io/reddit/search/submission?subreddit=SecurityAnalysis&size=100&after=2172d\n",
      "Querying from: https://api.pushshift.io/reddit/search/submission?subreddit=SecurityAnalysis&size=100&after=2176d\n",
      "Querying from: https://api.pushshift.io/reddit/search/submission?subreddit=SecurityAnalysis&size=100&after=2180d\n",
      "Querying from: https://api.pushshift.io/reddit/search/submission?subreddit=SecurityAnalysis&size=100&after=2184d\n",
      "Querying from: https://api.pushshift.io/reddit/search/submission?subreddit=SecurityAnalysis&size=100&after=2188d\n",
      "Querying from: https://api.pushshift.io/reddit/search/submission?subreddit=SecurityAnalysis&size=100&after=2192d\n",
      "Querying from: https://api.pushshift.io/reddit/search/submission?subreddit=SecurityAnalysis&size=100&after=2196d\n",
      "Querying from: https://api.pushshift.io/reddit/search/submission?subreddit=SecurityAnalysis&size=100&after=2200d\n",
      "Querying from: https://api.pushshift.io/reddit/search/submission?subreddit=SecurityAnalysis&size=100&after=2204d\n",
      "Querying from: https://api.pushshift.io/reddit/search/submission?subreddit=SecurityAnalysis&size=100&after=2208d\n",
      "Querying from: https://api.pushshift.io/reddit/search/submission?subreddit=SecurityAnalysis&size=100&after=2212d\n",
      "Querying from: https://api.pushshift.io/reddit/search/submission?subreddit=SecurityAnalysis&size=100&after=2216d\n",
      "Querying from: https://api.pushshift.io/reddit/search/submission?subreddit=SecurityAnalysis&size=100&after=2220d\n",
      "Querying from: https://api.pushshift.io/reddit/search/submission?subreddit=SecurityAnalysis&size=100&after=2224d\n",
      "Querying from: https://api.pushshift.io/reddit/search/submission?subreddit=SecurityAnalysis&size=100&after=2228d\n",
      "Querying from: https://api.pushshift.io/reddit/search/submission?subreddit=SecurityAnalysis&size=100&after=2232d\n",
      "Querying from: https://api.pushshift.io/reddit/search/submission?subreddit=SecurityAnalysis&size=100&after=2236d\n",
      "Querying from: https://api.pushshift.io/reddit/search/submission?subreddit=SecurityAnalysis&size=100&after=2240d\n",
      "Querying from: https://api.pushshift.io/reddit/search/submission?subreddit=SecurityAnalysis&size=100&after=2244d\n",
      "Querying from: https://api.pushshift.io/reddit/search/submission?subreddit=SecurityAnalysis&size=100&after=2248d\n",
      "Querying from: https://api.pushshift.io/reddit/search/submission?subreddit=SecurityAnalysis&size=100&after=2252d\n",
      "Querying from: https://api.pushshift.io/reddit/search/submission?subreddit=SecurityAnalysis&size=100&after=2256d\n",
      "Querying from: https://api.pushshift.io/reddit/search/submission?subreddit=SecurityAnalysis&size=100&after=2260d\n",
      "Querying from: https://api.pushshift.io/reddit/search/submission?subreddit=SecurityAnalysis&size=100&after=2264d\n",
      "Querying from: https://api.pushshift.io/reddit/search/submission?subreddit=SecurityAnalysis&size=100&after=2268d\n",
      "Querying from: https://api.pushshift.io/reddit/search/submission?subreddit=SecurityAnalysis&size=100&after=2272d\n",
      "Querying from: https://api.pushshift.io/reddit/search/submission?subreddit=SecurityAnalysis&size=100&after=2276d\n",
      "Querying from: https://api.pushshift.io/reddit/search/submission?subreddit=SecurityAnalysis&size=100&after=2280d\n",
      "Querying from: https://api.pushshift.io/reddit/search/submission?subreddit=SecurityAnalysis&size=100&after=2284d\n",
      "Querying from: https://api.pushshift.io/reddit/search/submission?subreddit=SecurityAnalysis&size=100&after=2288d\n",
      "Querying from: https://api.pushshift.io/reddit/search/submission?subreddit=SecurityAnalysis&size=100&after=2292d\n",
      "Querying from: https://api.pushshift.io/reddit/search/submission?subreddit=SecurityAnalysis&size=100&after=2296d\n",
      "Querying from: https://api.pushshift.io/reddit/search/submission?subreddit=SecurityAnalysis&size=100&after=2300d\n",
      "Querying from: https://api.pushshift.io/reddit/search/submission?subreddit=SecurityAnalysis&size=100&after=2304d\n",
      "Querying from: https://api.pushshift.io/reddit/search/submission?subreddit=SecurityAnalysis&size=100&after=2308d\n",
      "Querying from: https://api.pushshift.io/reddit/search/submission?subreddit=SecurityAnalysis&size=100&after=2312d\n",
      "Querying from: https://api.pushshift.io/reddit/search/submission?subreddit=SecurityAnalysis&size=100&after=2316d\n",
      "Querying from: https://api.pushshift.io/reddit/search/submission?subreddit=SecurityAnalysis&size=100&after=2320d\n",
      "Querying from: https://api.pushshift.io/reddit/search/submission?subreddit=SecurityAnalysis&size=100&after=2324d\n",
      "Querying from: https://api.pushshift.io/reddit/search/submission?subreddit=SecurityAnalysis&size=100&after=2328d\n",
      "Querying from: https://api.pushshift.io/reddit/search/submission?subreddit=SecurityAnalysis&size=100&after=2332d\n",
      "Querying from: https://api.pushshift.io/reddit/search/submission?subreddit=SecurityAnalysis&size=100&after=2336d\n",
      "Querying from: https://api.pushshift.io/reddit/search/submission?subreddit=SecurityAnalysis&size=100&after=2340d\n",
      "Querying from: https://api.pushshift.io/reddit/search/submission?subreddit=SecurityAnalysis&size=100&after=2344d\n",
      "Querying from: https://api.pushshift.io/reddit/search/submission?subreddit=SecurityAnalysis&size=100&after=2348d\n"
     ]
    },
    {
     "name": "stdout",
     "output_type": "stream",
     "text": [
      "Querying from: https://api.pushshift.io/reddit/search/submission?subreddit=SecurityAnalysis&size=100&after=2352d\n",
      "Querying from: https://api.pushshift.io/reddit/search/submission?subreddit=SecurityAnalysis&size=100&after=2356d\n",
      "Querying from: https://api.pushshift.io/reddit/search/submission?subreddit=SecurityAnalysis&size=100&after=2360d\n",
      "Querying from: https://api.pushshift.io/reddit/search/submission?subreddit=SecurityAnalysis&size=100&after=2364d\n",
      "Querying from: https://api.pushshift.io/reddit/search/submission?subreddit=SecurityAnalysis&size=100&after=2368d\n",
      "Querying from: https://api.pushshift.io/reddit/search/submission?subreddit=SecurityAnalysis&size=100&after=2372d\n",
      "Querying from: https://api.pushshift.io/reddit/search/submission?subreddit=SecurityAnalysis&size=100&after=2376d\n",
      "Querying from: https://api.pushshift.io/reddit/search/submission?subreddit=SecurityAnalysis&size=100&after=2380d\n",
      "Querying from: https://api.pushshift.io/reddit/search/submission?subreddit=SecurityAnalysis&size=100&after=2384d\n",
      "Querying from: https://api.pushshift.io/reddit/search/submission?subreddit=SecurityAnalysis&size=100&after=2388d\n",
      "Querying from: https://api.pushshift.io/reddit/search/submission?subreddit=SecurityAnalysis&size=100&after=2392d\n",
      "Querying from: https://api.pushshift.io/reddit/search/submission?subreddit=SecurityAnalysis&size=100&after=2396d\n",
      "Querying from: https://api.pushshift.io/reddit/search/submission?subreddit=SecurityAnalysis&size=100&after=2400d\n",
      "Querying from: https://api.pushshift.io/reddit/search/submission?subreddit=SecurityAnalysis&size=100&after=2404d\n",
      "Querying from: https://api.pushshift.io/reddit/search/submission?subreddit=SecurityAnalysis&size=100&after=2408d\n",
      "Querying from: https://api.pushshift.io/reddit/search/submission?subreddit=SecurityAnalysis&size=100&after=2412d\n",
      "Querying from: https://api.pushshift.io/reddit/search/submission?subreddit=SecurityAnalysis&size=100&after=2416d\n",
      "Querying from: https://api.pushshift.io/reddit/search/submission?subreddit=SecurityAnalysis&size=100&after=2420d\n",
      "Querying from: https://api.pushshift.io/reddit/search/submission?subreddit=SecurityAnalysis&size=100&after=2424d\n",
      "Querying from: https://api.pushshift.io/reddit/search/submission?subreddit=SecurityAnalysis&size=100&after=2428d\n",
      "Querying from: https://api.pushshift.io/reddit/search/submission?subreddit=SecurityAnalysis&size=100&after=2432d\n",
      "Querying from: https://api.pushshift.io/reddit/search/submission?subreddit=SecurityAnalysis&size=100&after=2436d\n",
      "Querying from: https://api.pushshift.io/reddit/search/submission?subreddit=SecurityAnalysis&size=100&after=2440d\n",
      "Querying from: https://api.pushshift.io/reddit/search/submission?subreddit=SecurityAnalysis&size=100&after=2444d\n",
      "Querying from: https://api.pushshift.io/reddit/search/submission?subreddit=SecurityAnalysis&size=100&after=2448d\n",
      "Querying from: https://api.pushshift.io/reddit/search/submission?subreddit=SecurityAnalysis&size=100&after=2452d\n",
      "Querying from: https://api.pushshift.io/reddit/search/submission?subreddit=SecurityAnalysis&size=100&after=2456d\n",
      "Querying from: https://api.pushshift.io/reddit/search/submission?subreddit=SecurityAnalysis&size=100&after=2460d\n",
      "Querying from: https://api.pushshift.io/reddit/search/submission?subreddit=SecurityAnalysis&size=100&after=2464d\n",
      "Querying from: https://api.pushshift.io/reddit/search/submission?subreddit=SecurityAnalysis&size=100&after=2468d\n",
      "Querying from: https://api.pushshift.io/reddit/search/submission?subreddit=SecurityAnalysis&size=100&after=2472d\n",
      "Querying from: https://api.pushshift.io/reddit/search/submission?subreddit=SecurityAnalysis&size=100&after=2476d\n",
      "Querying from: https://api.pushshift.io/reddit/search/submission?subreddit=SecurityAnalysis&size=100&after=2480d\n",
      "Querying from: https://api.pushshift.io/reddit/search/submission?subreddit=SecurityAnalysis&size=100&after=2484d\n",
      "Querying from: https://api.pushshift.io/reddit/search/submission?subreddit=SecurityAnalysis&size=100&after=2488d\n",
      "Querying from: https://api.pushshift.io/reddit/search/submission?subreddit=SecurityAnalysis&size=100&after=2492d\n",
      "Querying from: https://api.pushshift.io/reddit/search/submission?subreddit=SecurityAnalysis&size=100&after=2496d\n",
      "Querying from: https://api.pushshift.io/reddit/search/submission?subreddit=SecurityAnalysis&size=100&after=2500d\n",
      "Querying from: https://api.pushshift.io/reddit/search/submission?subreddit=SecurityAnalysis&size=100&after=2504d\n",
      "Querying from: https://api.pushshift.io/reddit/search/submission?subreddit=SecurityAnalysis&size=100&after=2508d\n",
      "Querying from: https://api.pushshift.io/reddit/search/submission?subreddit=SecurityAnalysis&size=100&after=2512d\n",
      "Querying from: https://api.pushshift.io/reddit/search/submission?subreddit=SecurityAnalysis&size=100&after=2516d\n",
      "Querying from: https://api.pushshift.io/reddit/search/submission?subreddit=SecurityAnalysis&size=100&after=2520d\n",
      "Querying from: https://api.pushshift.io/reddit/search/submission?subreddit=SecurityAnalysis&size=100&after=2524d\n",
      "Querying from: https://api.pushshift.io/reddit/search/submission?subreddit=SecurityAnalysis&size=100&after=2528d\n",
      "Querying from: https://api.pushshift.io/reddit/search/submission?subreddit=SecurityAnalysis&size=100&after=2532d\n",
      "Querying from: https://api.pushshift.io/reddit/search/submission?subreddit=SecurityAnalysis&size=100&after=2536d\n",
      "Querying from: https://api.pushshift.io/reddit/search/submission?subreddit=SecurityAnalysis&size=100&after=2540d\n",
      "Querying from: https://api.pushshift.io/reddit/search/submission?subreddit=SecurityAnalysis&size=100&after=2544d\n",
      "Querying from: https://api.pushshift.io/reddit/search/submission?subreddit=SecurityAnalysis&size=100&after=2548d\n",
      "Querying from: https://api.pushshift.io/reddit/search/submission?subreddit=SecurityAnalysis&size=100&after=2552d\n",
      "Querying from: https://api.pushshift.io/reddit/search/submission?subreddit=SecurityAnalysis&size=100&after=2556d\n",
      "Querying from: https://api.pushshift.io/reddit/search/submission?subreddit=SecurityAnalysis&size=100&after=2560d\n",
      "Querying from: https://api.pushshift.io/reddit/search/submission?subreddit=SecurityAnalysis&size=100&after=2564d\n",
      "Querying from: https://api.pushshift.io/reddit/search/submission?subreddit=SecurityAnalysis&size=100&after=2568d\n",
      "Querying from: https://api.pushshift.io/reddit/search/submission?subreddit=SecurityAnalysis&size=100&after=2572d\n",
      "Querying from: https://api.pushshift.io/reddit/search/submission?subreddit=SecurityAnalysis&size=100&after=2576d\n",
      "Querying from: https://api.pushshift.io/reddit/search/submission?subreddit=SecurityAnalysis&size=100&after=2580d\n",
      "Querying from: https://api.pushshift.io/reddit/search/submission?subreddit=SecurityAnalysis&size=100&after=2584d\n",
      "Querying from: https://api.pushshift.io/reddit/search/submission?subreddit=SecurityAnalysis&size=100&after=2588d\n",
      "Querying from: https://api.pushshift.io/reddit/search/submission?subreddit=SecurityAnalysis&size=100&after=2592d\n",
      "Querying from: https://api.pushshift.io/reddit/search/submission?subreddit=SecurityAnalysis&size=100&after=2596d\n",
      "Querying from: https://api.pushshift.io/reddit/search/submission?subreddit=SecurityAnalysis&size=100&after=2600d\n",
      "Querying from: https://api.pushshift.io/reddit/search/submission?subreddit=SecurityAnalysis&size=100&after=2604d\n",
      "Querying from: https://api.pushshift.io/reddit/search/submission?subreddit=SecurityAnalysis&size=100&after=2608d\n",
      "Querying from: https://api.pushshift.io/reddit/search/submission?subreddit=SecurityAnalysis&size=100&after=2612d\n",
      "Querying from: https://api.pushshift.io/reddit/search/submission?subreddit=SecurityAnalysis&size=100&after=2616d\n",
      "Querying from: https://api.pushshift.io/reddit/search/submission?subreddit=SecurityAnalysis&size=100&after=2620d\n",
      "Querying from: https://api.pushshift.io/reddit/search/submission?subreddit=SecurityAnalysis&size=100&after=2624d\n",
      "Querying from: https://api.pushshift.io/reddit/search/submission?subreddit=SecurityAnalysis&size=100&after=2628d\n",
      "Querying from: https://api.pushshift.io/reddit/search/submission?subreddit=SecurityAnalysis&size=100&after=2632d\n",
      "Querying from: https://api.pushshift.io/reddit/search/submission?subreddit=SecurityAnalysis&size=100&after=2636d\n",
      "Querying from: https://api.pushshift.io/reddit/search/submission?subreddit=SecurityAnalysis&size=100&after=2640d\n"
     ]
    },
    {
     "name": "stdout",
     "output_type": "stream",
     "text": [
      "Querying from: https://api.pushshift.io/reddit/search/submission?subreddit=SecurityAnalysis&size=100&after=2644d\n",
      "Querying from: https://api.pushshift.io/reddit/search/submission?subreddit=SecurityAnalysis&size=100&after=2648d\n",
      "Querying from: https://api.pushshift.io/reddit/search/submission?subreddit=SecurityAnalysis&size=100&after=2652d\n",
      "Querying from: https://api.pushshift.io/reddit/search/submission?subreddit=SecurityAnalysis&size=100&after=2656d\n",
      "Querying from: https://api.pushshift.io/reddit/search/submission?subreddit=SecurityAnalysis&size=100&after=2660d\n",
      "Querying from: https://api.pushshift.io/reddit/search/submission?subreddit=SecurityAnalysis&size=100&after=2664d\n",
      "Querying from: https://api.pushshift.io/reddit/search/submission?subreddit=SecurityAnalysis&size=100&after=2668d\n",
      "Querying from: https://api.pushshift.io/reddit/search/submission?subreddit=SecurityAnalysis&size=100&after=2672d\n",
      "Querying from: https://api.pushshift.io/reddit/search/submission?subreddit=SecurityAnalysis&size=100&after=2676d\n",
      "Querying from: https://api.pushshift.io/reddit/search/submission?subreddit=SecurityAnalysis&size=100&after=2680d\n",
      "Querying from: https://api.pushshift.io/reddit/search/submission?subreddit=SecurityAnalysis&size=100&after=2684d\n",
      "Querying from: https://api.pushshift.io/reddit/search/submission?subreddit=SecurityAnalysis&size=100&after=2688d\n",
      "Querying from: https://api.pushshift.io/reddit/search/submission?subreddit=SecurityAnalysis&size=100&after=2692d\n",
      "Querying from: https://api.pushshift.io/reddit/search/submission?subreddit=SecurityAnalysis&size=100&after=2696d\n",
      "Querying from: https://api.pushshift.io/reddit/search/submission?subreddit=SecurityAnalysis&size=100&after=2700d\n",
      "Querying from: https://api.pushshift.io/reddit/search/submission?subreddit=SecurityAnalysis&size=100&after=2704d\n",
      "Querying from: https://api.pushshift.io/reddit/search/submission?subreddit=SecurityAnalysis&size=100&after=2708d\n",
      "Querying from: https://api.pushshift.io/reddit/search/submission?subreddit=SecurityAnalysis&size=100&after=2712d\n",
      "Querying from: https://api.pushshift.io/reddit/search/submission?subreddit=SecurityAnalysis&size=100&after=2716d\n",
      "Querying from: https://api.pushshift.io/reddit/search/submission?subreddit=SecurityAnalysis&size=100&after=2720d\n",
      "Querying from: https://api.pushshift.io/reddit/search/submission?subreddit=SecurityAnalysis&size=100&after=2724d\n",
      "Querying from: https://api.pushshift.io/reddit/search/submission?subreddit=SecurityAnalysis&size=100&after=2728d\n",
      "Querying from: https://api.pushshift.io/reddit/search/submission?subreddit=SecurityAnalysis&size=100&after=2732d\n",
      "Querying from: https://api.pushshift.io/reddit/search/submission?subreddit=SecurityAnalysis&size=100&after=2736d\n",
      "Querying from: https://api.pushshift.io/reddit/search/submission?subreddit=SecurityAnalysis&size=100&after=2740d\n",
      "Querying from: https://api.pushshift.io/reddit/search/submission?subreddit=SecurityAnalysis&size=100&after=2744d\n",
      "Querying from: https://api.pushshift.io/reddit/search/submission?subreddit=SecurityAnalysis&size=100&after=2748d\n",
      "Querying from: https://api.pushshift.io/reddit/search/submission?subreddit=SecurityAnalysis&size=100&after=2752d\n",
      "Querying from: https://api.pushshift.io/reddit/search/submission?subreddit=SecurityAnalysis&size=100&after=2756d\n",
      "Querying from: https://api.pushshift.io/reddit/search/submission?subreddit=SecurityAnalysis&size=100&after=2760d\n",
      "Querying from: https://api.pushshift.io/reddit/search/submission?subreddit=SecurityAnalysis&size=100&after=2764d\n",
      "Querying from: https://api.pushshift.io/reddit/search/submission?subreddit=SecurityAnalysis&size=100&after=2768d\n",
      "Querying from: https://api.pushshift.io/reddit/search/submission?subreddit=SecurityAnalysis&size=100&after=2772d\n",
      "Querying from: https://api.pushshift.io/reddit/search/submission?subreddit=SecurityAnalysis&size=100&after=2776d\n",
      "Querying from: https://api.pushshift.io/reddit/search/submission?subreddit=SecurityAnalysis&size=100&after=2780d\n",
      "Querying from: https://api.pushshift.io/reddit/search/submission?subreddit=SecurityAnalysis&size=100&after=2784d\n",
      "Querying from: https://api.pushshift.io/reddit/search/submission?subreddit=SecurityAnalysis&size=100&after=2788d\n",
      "Querying from: https://api.pushshift.io/reddit/search/submission?subreddit=SecurityAnalysis&size=100&after=2792d\n",
      "Querying from: https://api.pushshift.io/reddit/search/submission?subreddit=SecurityAnalysis&size=100&after=2796d\n",
      "Querying from: https://api.pushshift.io/reddit/search/submission?subreddit=SecurityAnalysis&size=100&after=2800d\n",
      "Query Complete!\n",
      "CPU times: user 20.9 s, sys: 1.32 s, total: 22.2 s\n",
      "Wall time: 46min 29s\n"
     ]
    }
   ],
   "source": [
    "%%time\n",
    "securityanalysissubmissions = query_pushshift_submissions(subreddit='SecurityAnalysis', kind='submission', day_window=4, n=700)"
   ]
  },
  {
   "cell_type": "markdown",
   "metadata": {},
   "source": [
    "### Check quality of data before exporting to csv"
   ]
  },
  {
   "cell_type": "code",
   "execution_count": 181,
   "metadata": {
    "ExecuteTime": {
     "end_time": "2021-03-16T08:30:38.502317Z",
     "start_time": "2021-03-16T08:30:38.497505Z"
    }
   },
   "outputs": [
    {
     "data": {
      "text/plain": [
       "(8472, 9)"
      ]
     },
     "execution_count": 181,
     "metadata": {},
     "output_type": "execute_result"
    }
   ],
   "source": [
    "securityanalysissubmissions.shape"
   ]
  },
  {
   "cell_type": "code",
   "execution_count": 182,
   "metadata": {
    "ExecuteTime": {
     "end_time": "2021-03-16T08:31:01.701406Z",
     "start_time": "2021-03-16T08:31:01.690759Z"
    }
   },
   "outputs": [
    {
     "data": {
      "text/html": [
       "<div>\n",
       "<style scoped>\n",
       "    .dataframe tbody tr th:only-of-type {\n",
       "        vertical-align: middle;\n",
       "    }\n",
       "\n",
       "    .dataframe tbody tr th {\n",
       "        vertical-align: top;\n",
       "    }\n",
       "\n",
       "    .dataframe thead th {\n",
       "        text-align: right;\n",
       "    }\n",
       "</style>\n",
       "<table border=\"1\" class=\"dataframe\">\n",
       "  <thead>\n",
       "    <tr style=\"text-align: right;\">\n",
       "      <th></th>\n",
       "      <th>title</th>\n",
       "      <th>selftext</th>\n",
       "      <th>subreddit</th>\n",
       "      <th>created_utc</th>\n",
       "      <th>author</th>\n",
       "      <th>num_comments</th>\n",
       "      <th>score</th>\n",
       "      <th>is_self</th>\n",
       "      <th>timestamp</th>\n",
       "    </tr>\n",
       "  </thead>\n",
       "  <tbody>\n",
       "    <tr>\n",
       "      <th>0</th>\n",
       "      <td>Any success stories of ordinary, retail value ...</td>\n",
       "      <td>Wondering how effective value investing can be...</td>\n",
       "      <td>SecurityAnalysis</td>\n",
       "      <td>1615539130</td>\n",
       "      <td>Past_Sir</td>\n",
       "      <td>0</td>\n",
       "      <td>1</td>\n",
       "      <td>True</td>\n",
       "      <td>2021-03-12</td>\n",
       "    </tr>\n",
       "    <tr>\n",
       "      <th>1</th>\n",
       "      <td>Home Depot Write-Up</td>\n",
       "      <td>2-Page write up about Home Depot\\n\\n* If you a...</td>\n",
       "      <td>SecurityAnalysis</td>\n",
       "      <td>1615664231</td>\n",
       "      <td>requantify</td>\n",
       "      <td>10</td>\n",
       "      <td>9</td>\n",
       "      <td>True</td>\n",
       "      <td>2021-03-13</td>\n",
       "    </tr>\n",
       "    <tr>\n",
       "      <th>2</th>\n",
       "      <td>Please help interpret this passage:</td>\n",
       "      <td>It seems to me that Leggate prefers oil compan...</td>\n",
       "      <td>SecurityAnalysis</td>\n",
       "      <td>1615830873</td>\n",
       "      <td>rhetorical_twix</td>\n",
       "      <td>4</td>\n",
       "      <td>1</td>\n",
       "      <td>True</td>\n",
       "      <td>2021-03-15</td>\n",
       "    </tr>\n",
       "    <tr>\n",
       "      <th>3</th>\n",
       "      <td>DTCC Amendments Regarding Supplemental Liquidi...</td>\n",
       "      <td>Thought this was interesting enough to share. ...</td>\n",
       "      <td>SecurityAnalysis</td>\n",
       "      <td>1615248072</td>\n",
       "      <td>ilikepancakez</td>\n",
       "      <td>0</td>\n",
       "      <td>1</td>\n",
       "      <td>True</td>\n",
       "      <td>2021-03-08</td>\n",
       "    </tr>\n",
       "    <tr>\n",
       "      <th>4</th>\n",
       "      <td>300 Year Anniversary of the South Sea Bubble -...</td>\n",
       "      <td>http://renmac.com/Podcast-AndrewOdlyzko-012820...</td>\n",
       "      <td>SecurityAnalysis</td>\n",
       "      <td>1615254874</td>\n",
       "      <td>dect60</td>\n",
       "      <td>1</td>\n",
       "      <td>1</td>\n",
       "      <td>True</td>\n",
       "      <td>2021-03-08</td>\n",
       "    </tr>\n",
       "  </tbody>\n",
       "</table>\n",
       "</div>"
      ],
      "text/plain": [
       "                                               title  \\\n",
       "0  Any success stories of ordinary, retail value ...   \n",
       "1                                Home Depot Write-Up   \n",
       "2                Please help interpret this passage:   \n",
       "3  DTCC Amendments Regarding Supplemental Liquidi...   \n",
       "4  300 Year Anniversary of the South Sea Bubble -...   \n",
       "\n",
       "                                            selftext         subreddit  \\\n",
       "0  Wondering how effective value investing can be...  SecurityAnalysis   \n",
       "1  2-Page write up about Home Depot\\n\\n* If you a...  SecurityAnalysis   \n",
       "2  It seems to me that Leggate prefers oil compan...  SecurityAnalysis   \n",
       "3  Thought this was interesting enough to share. ...  SecurityAnalysis   \n",
       "4  http://renmac.com/Podcast-AndrewOdlyzko-012820...  SecurityAnalysis   \n",
       "\n",
       "   created_utc           author  num_comments  score  is_self   timestamp  \n",
       "0   1615539130         Past_Sir             0      1     True  2021-03-12  \n",
       "1   1615664231       requantify            10      9     True  2021-03-13  \n",
       "2   1615830873  rhetorical_twix             4      1     True  2021-03-15  \n",
       "3   1615248072    ilikepancakez             0      1     True  2021-03-08  \n",
       "4   1615254874           dect60             1      1     True  2021-03-08  "
      ]
     },
     "execution_count": 182,
     "metadata": {},
     "output_type": "execute_result"
    }
   ],
   "source": [
    "securityanalysissubmissions.head()"
   ]
  },
  {
   "cell_type": "code",
   "execution_count": 183,
   "metadata": {
    "ExecuteTime": {
     "end_time": "2021-03-16T08:31:23.154034Z",
     "start_time": "2021-03-16T08:31:23.131248Z"
    }
   },
   "outputs": [
    {
     "data": {
      "text/plain": [
       "title            0\n",
       "selftext        51\n",
       "subreddit        0\n",
       "created_utc      0\n",
       "author           0\n",
       "num_comments     0\n",
       "score            0\n",
       "is_self          0\n",
       "timestamp        0\n",
       "dtype: int64"
      ]
     },
     "execution_count": 183,
     "metadata": {},
     "output_type": "execute_result"
    }
   ],
   "source": [
    "securityanalysissubmissions.isnull().sum()"
   ]
  },
  {
   "cell_type": "code",
   "execution_count": 184,
   "metadata": {
    "ExecuteTime": {
     "end_time": "2021-03-16T08:31:37.337693Z",
     "start_time": "2021-03-16T08:31:37.321460Z"
    }
   },
   "outputs": [],
   "source": [
    "substituteincolumn(securityanalysissubsmissions, 'selftext')\n",
    "substituteincolumn(securityanalysissubmissions, 'author')"
   ]
  },
  {
   "cell_type": "code",
   "execution_count": 185,
   "metadata": {
    "ExecuteTime": {
     "end_time": "2021-03-16T08:31:42.747495Z",
     "start_time": "2021-03-16T08:31:42.728704Z"
    }
   },
   "outputs": [
    {
     "data": {
      "text/plain": [
       "title             0\n",
       "selftext         51\n",
       "subreddit         0\n",
       "created_utc       0\n",
       "author          461\n",
       "num_comments      0\n",
       "score             0\n",
       "is_self           0\n",
       "timestamp         0\n",
       "dtype: int64"
      ]
     },
     "execution_count": 185,
     "metadata": {},
     "output_type": "execute_result"
    }
   ],
   "source": [
    "securityanalysissubmissions.isnull().sum()"
   ]
  },
  {
   "cell_type": "code",
   "execution_count": 188,
   "metadata": {
    "ExecuteTime": {
     "end_time": "2021-03-16T08:32:29.250005Z",
     "start_time": "2021-03-16T08:32:29.236009Z"
    }
   },
   "outputs": [],
   "source": [
    "securityanalysissubmissions.dropna(inplace=True)"
   ]
  },
  {
   "cell_type": "code",
   "execution_count": 189,
   "metadata": {
    "ExecuteTime": {
     "end_time": "2021-03-16T08:32:40.225007Z",
     "start_time": "2021-03-16T08:32:35.511966Z"
    }
   },
   "outputs": [],
   "source": [
    "# Create new column called clean text with clean_strings function applied to selftext\n",
    "securityanalysissubmissions['cleantext'] = clean_strings(securityanalysissubmissions['selftext'], stopwords=combined_words)"
   ]
  },
  {
   "cell_type": "code",
   "execution_count": 190,
   "metadata": {
    "ExecuteTime": {
     "end_time": "2021-03-16T08:32:53.516041Z",
     "start_time": "2021-03-16T08:32:53.347547Z"
    }
   },
   "outputs": [],
   "source": [
    "# Add column with length of selftext\n",
    "securityanalysissubmissions['selftextwordcount'] = securityanalysissubmissions['selftext'].str.split().str.len()"
   ]
  },
  {
   "cell_type": "code",
   "execution_count": null,
   "metadata": {},
   "outputs": [],
   "source": [
    "# Consider Dropping Selftext before exporting to avoid issues"
   ]
  },
  {
   "cell_type": "code",
   "execution_count": 257,
   "metadata": {
    "ExecuteTime": {
     "end_time": "2021-03-16T09:15:14.431476Z",
     "start_time": "2021-03-16T09:15:14.406209Z"
    }
   },
   "outputs": [
    {
     "data": {
      "text/plain": [
       "title                0\n",
       "selftext             0\n",
       "subreddit            0\n",
       "author               0\n",
       "num_comments         0\n",
       "score                0\n",
       "timestamp            0\n",
       "cleantext            0\n",
       "selftextwordcount    0\n",
       "dtype: int64"
      ]
     },
     "execution_count": 257,
     "metadata": {},
     "output_type": "execute_result"
    }
   ],
   "source": [
    "securityanalysissubmissions.isnull().sum()"
   ]
  },
  {
   "cell_type": "raw",
   "metadata": {
    "ExecuteTime": {
     "end_time": "2021-03-16T08:40:27.506602Z",
     "start_time": "2021-03-16T08:40:27.472302Z"
    }
   },
   "source": [
    "securityanalysissubmissions.head().append(securityanalysissubmissions.tail())"
   ]
  },
  {
   "cell_type": "code",
   "execution_count": 258,
   "metadata": {
    "ExecuteTime": {
     "end_time": "2021-03-16T09:15:44.589220Z",
     "start_time": "2021-03-16T09:15:44.577930Z"
    }
   },
   "outputs": [
    {
     "data": {
      "text/plain": [
       "title                object\n",
       "selftext             object\n",
       "subreddit            object\n",
       "author               object\n",
       "num_comments          int64\n",
       "score                 int64\n",
       "timestamp            object\n",
       "cleantext            object\n",
       "selftextwordcount     int64\n",
       "dtype: object"
      ]
     },
     "execution_count": 258,
     "metadata": {},
     "output_type": "execute_result"
    }
   ],
   "source": [
    "securityanalysissubmissions.dtypes"
   ]
  },
  {
   "cell_type": "raw",
   "metadata": {
    "ExecuteTime": {
     "end_time": "2021-03-16T08:44:35.625674Z",
     "start_time": "2021-03-16T08:44:35.603154Z"
    }
   },
   "source": [
    "securityanalysissubmissions['created_utc']=securityanalysissubmissions['created_utc'].astype(int)\n",
    "securityanalysissubmissions['score']=securityanalysissubmissions['score'].astype(int)"
   ]
  },
  {
   "cell_type": "raw",
   "metadata": {
    "ExecuteTime": {
     "end_time": "2021-03-16T08:46:30.933446Z",
     "start_time": "2021-03-16T08:46:30.921252Z"
    }
   },
   "source": [
    "def mapdicttocolumn(column):\n",
    "    securityanalysissubmissions[column] = securityanalysissubmissions[column].map({'True': 1, 'False': 0})\n",
    "mapdicttocolumn('is_self')"
   ]
  },
  {
   "cell_type": "code",
   "execution_count": 288,
   "metadata": {
    "ExecuteTime": {
     "end_time": "2021-03-16T09:39:34.727790Z",
     "start_time": "2021-03-16T09:39:34.710576Z"
    },
    "scrolled": false
   },
   "outputs": [
    {
     "data": {
      "text/plain": [
       "title              0\n",
       "selftext        1480\n",
       "subreddit          0\n",
       "created_utc        0\n",
       "author             0\n",
       "num_comments       0\n",
       "score              0\n",
       "is_self            0\n",
       "timestamp          0\n",
       "dtype: int64"
      ]
     },
     "execution_count": 288,
     "metadata": {},
     "output_type": "execute_result"
    }
   ],
   "source": [
    "securityanalysissubsmissions.isnull().sum()"
   ]
  },
  {
   "cell_type": "code",
   "execution_count": 287,
   "metadata": {
    "ExecuteTime": {
     "end_time": "2021-03-16T09:39:25.165386Z",
     "start_time": "2021-03-16T09:39:25.134186Z"
    }
   },
   "outputs": [
    {
     "data": {
      "text/plain": [
       "title                0\n",
       "selftext             0\n",
       "subreddit            0\n",
       "author               0\n",
       "num_comments         0\n",
       "score                0\n",
       "timestamp            0\n",
       "cleantext            0\n",
       "selftextwordcount    0\n",
       "dtype: int64"
      ]
     },
     "execution_count": 287,
     "metadata": {},
     "output_type": "execute_result"
    }
   ],
   "source": [
    "securityanalysissubmissions.isnull().sum()"
   ]
  },
  {
   "cell_type": "code",
   "execution_count": null,
   "metadata": {
    "ExecuteTime": {
     "end_time": "2021-03-16T08:49:41.523839Z",
     "start_time": "2021-03-16T08:49:41.501667Z"
    }
   },
   "outputs": [],
   "source": [
    "# securityanalysissubmissions.drop(columns=['created_utc','is_self'], inplace=True)"
   ]
  },
  {
   "cell_type": "code",
   "execution_count": 211,
   "metadata": {
    "ExecuteTime": {
     "end_time": "2021-03-16T08:50:29.023946Z",
     "start_time": "2021-03-16T08:50:28.602620Z"
    }
   },
   "outputs": [],
   "source": [
    "# Save data set to csv in data folder\n",
    "securityanalysissubmissions.to_csv('./data/securityanalysissubmissions.csv', index = False)"
   ]
  },
  {
   "cell_type": "markdown",
   "metadata": {},
   "source": [
    "# Merging 4 Datasets\n",
    "- investing submissions\n",
    "- GME submissions\n",
    "- wallstreetbets submissions\n",
    "- SecurityAnalysis submissions"
   ]
  },
  {
   "cell_type": "code",
   "execution_count": 264,
   "metadata": {
    "ExecuteTime": {
     "end_time": "2021-03-16T09:24:37.254422Z",
     "start_time": "2021-03-16T09:24:35.382333Z"
    }
   },
   "outputs": [
    {
     "data": {
      "text/plain": [
       "(146053, 11)"
      ]
     },
     "execution_count": 264,
     "metadata": {},
     "output_type": "execute_result"
    }
   ],
   "source": [
    "investing=pd.read_csv('./data/Submissions/investingallsubmissions.csv', lineterminator='\\n') #dtype='object')\n",
    "investing.shape"
   ]
  },
  {
   "cell_type": "code",
   "execution_count": 238,
   "metadata": {
    "ExecuteTime": {
     "end_time": "2021-03-16T09:07:01.782327Z",
     "start_time": "2021-03-16T09:07:01.750285Z"
    }
   },
   "outputs": [
    {
     "data": {
      "text/plain": [
       "(1130, 11)"
      ]
     },
     "execution_count": 238,
     "metadata": {},
     "output_type": "execute_result"
    }
   ],
   "source": [
    "gmesubmissions=pd.read_csv('./data/Submissions/GMEallsubmissions.csv')\n",
    "gmesubmissions.shape"
   ]
  },
  {
   "cell_type": "code",
   "execution_count": 247,
   "metadata": {
    "ExecuteTime": {
     "end_time": "2021-03-16T09:12:03.866284Z",
     "start_time": "2021-03-16T09:12:03.523807Z"
    },
    "scrolled": false
   },
   "outputs": [
    {
     "data": {
      "text/plain": [
       "(28814, 11)"
      ]
     },
     "execution_count": 247,
     "metadata": {},
     "output_type": "execute_result"
    }
   ],
   "source": [
    "wallstreetbets=pd.read_csv('./data/Submissions/wsballsubmissions.csv', lineterminator='\\n')\n",
    "wallstreetbets.shape"
   ]
  },
  {
   "cell_type": "code",
   "execution_count": 267,
   "metadata": {
    "ExecuteTime": {
     "end_time": "2021-03-16T09:26:46.976686Z",
     "start_time": "2021-03-16T09:26:46.799033Z"
    }
   },
   "outputs": [
    {
     "data": {
      "text/plain": [
       "(8011, 9)"
      ]
     },
     "execution_count": 267,
     "metadata": {},
     "output_type": "execute_result"
    }
   ],
   "source": [
    "securityanalysis=pd.read_csv('./data/Submissions/securityanalysissubmissions.csv', lineterminator='\\n')\n",
    "securityanalysis.shape"
   ]
  },
  {
   "cell_type": "code",
   "execution_count": 263,
   "metadata": {
    "ExecuteTime": {
     "end_time": "2021-03-16T09:22:45.366418Z",
     "start_time": "2021-03-16T09:22:45.312382Z"
    }
   },
   "outputs": [
    {
     "data": {
      "text/plain": [
       "title                0\n",
       "selftext             0\n",
       "subreddit            0\n",
       "created_utc          0\n",
       "author               0\n",
       "num_comments         0\n",
       "score                0\n",
       "is_self              0\n",
       "timestamp            0\n",
       "cleantext            0\n",
       "selftextwordcount    0\n",
       "dtype: int64"
      ]
     },
     "execution_count": 263,
     "metadata": {},
     "output_type": "execute_result"
    }
   ],
   "source": [
    "wsbsubmissions.isnull().sum()"
   ]
  },
  {
   "cell_type": "code",
   "execution_count": 261,
   "metadata": {
    "ExecuteTime": {
     "end_time": "2021-03-16T09:21:23.895252Z",
     "start_time": "2021-03-16T09:21:23.882926Z"
    }
   },
   "outputs": [
    {
     "data": {
      "text/plain": [
       "title                0\n",
       "selftext             0\n",
       "subreddit            0\n",
       "author               0\n",
       "num_comments         0\n",
       "score                0\n",
       "timestamp            0\n",
       "cleantext            0\n",
       "selftextwordcount    0\n",
       "dtype: int64"
      ]
     },
     "execution_count": 261,
     "metadata": {},
     "output_type": "execute_result"
    }
   ],
   "source": [
    "securityanalysissubmissions.isnull().sum()"
   ]
  },
  {
   "cell_type": "code",
   "execution_count": 290,
   "metadata": {
    "ExecuteTime": {
     "end_time": "2021-03-16T09:40:05.160755Z",
     "start_time": "2021-03-16T09:40:05.032641Z"
    }
   },
   "outputs": [
    {
     "data": {
      "text/plain": [
       "title                0\n",
       "selftext             0\n",
       "subreddit            0\n",
       "author               0\n",
       "num_comments         0\n",
       "score                0\n",
       "timestamp            0\n",
       "cleantext            0\n",
       "selftextwordcount    0\n",
       "dtype: int64"
      ]
     },
     "execution_count": 290,
     "metadata": {},
     "output_type": "execute_result"
    }
   ],
   "source": [
    "investingsubsmissions.isnull().sum()"
   ]
  },
  {
   "cell_type": "code",
   "execution_count": 272,
   "metadata": {
    "ExecuteTime": {
     "end_time": "2021-03-16T09:31:13.747580Z",
     "start_time": "2021-03-16T09:31:13.728638Z"
    },
    "scrolled": true
   },
   "outputs": [
    {
     "data": {
      "text/plain": [
       "title                0\n",
       "selftext             0\n",
       "subreddit            0\n",
       "created_utc          0\n",
       "author               0\n",
       "num_comments         0\n",
       "score                0\n",
       "is_self              0\n",
       "timestamp            0\n",
       "cleantext            0\n",
       "selftextwordcount    0\n",
       "dtype: int64"
      ]
     },
     "execution_count": 272,
     "metadata": {},
     "output_type": "execute_result"
    }
   ],
   "source": [
    "GMEsubmissions.isnull().sum()"
   ]
  },
  {
   "cell_type": "code",
   "execution_count": 292,
   "metadata": {
    "ExecuteTime": {
     "end_time": "2021-03-16T09:40:55.875310Z",
     "start_time": "2021-03-16T09:40:55.859852Z"
    }
   },
   "outputs": [
    {
     "data": {
      "text/plain": [
       "((146053, 9), (1130, 9), (28814, 9), (8011, 9))"
      ]
     },
     "execution_count": 292,
     "metadata": {},
     "output_type": "execute_result"
    }
   ],
   "source": [
    "# Check for compatibility in dimensions of data sets\n",
    "investingsubsmissions.shape, GMEsubmissions.shape, wsbsubmissions.shape, securityanalysissubmissions.shape,"
   ]
  },
  {
   "cell_type": "code",
   "execution_count": 277,
   "metadata": {
    "ExecuteTime": {
     "end_time": "2021-03-16T09:33:57.167634Z",
     "start_time": "2021-03-16T09:33:57.112950Z"
    }
   },
   "outputs": [],
   "source": [
    "investingsubsmissions.drop(columns=['created_utc','is_self'], inplace=True)\n",
    "GMEsubmissions.drop(columns=['created_utc','is_self'], inplace=True)\n",
    "wsbsubmissions.drop(columns=['created_utc','is_self'], inplace=True)"
   ]
  },
  {
   "cell_type": "code",
   "execution_count": 284,
   "metadata": {
    "ExecuteTime": {
     "end_time": "2021-03-16T09:37:21.569097Z",
     "start_time": "2021-03-16T09:37:21.556146Z"
    }
   },
   "outputs": [
    {
     "data": {
      "text/plain": [
       "((146053, 9), (1130, 9), (28814, 9), (7546, 9))"
      ]
     },
     "execution_count": 284,
     "metadata": {},
     "output_type": "execute_result"
    }
   ],
   "source": [
    "# Check for compatibility in dimensions of data sets\n",
    "investingsubsmissions.shape, GMEsubmissions.shape, wsbsubmissions.shape, securityanalysissubsmissions.shape"
   ]
  },
  {
   "cell_type": "code",
   "execution_count": 280,
   "metadata": {
    "ExecuteTime": {
     "end_time": "2021-03-16T09:36:12.419461Z",
     "start_time": "2021-03-16T09:36:12.404854Z"
    }
   },
   "outputs": [
    {
     "data": {
      "text/html": [
       "<div>\n",
       "<style scoped>\n",
       "    .dataframe tbody tr th:only-of-type {\n",
       "        vertical-align: middle;\n",
       "    }\n",
       "\n",
       "    .dataframe tbody tr th {\n",
       "        vertical-align: top;\n",
       "    }\n",
       "\n",
       "    .dataframe thead th {\n",
       "        text-align: right;\n",
       "    }\n",
       "</style>\n",
       "<table border=\"1\" class=\"dataframe\">\n",
       "  <thead>\n",
       "    <tr style=\"text-align: right;\">\n",
       "      <th></th>\n",
       "      <th>title</th>\n",
       "      <th>selftext</th>\n",
       "      <th>subreddit</th>\n",
       "      <th>author</th>\n",
       "      <th>num_comments</th>\n",
       "      <th>score</th>\n",
       "      <th>timestamp</th>\n",
       "      <th>cleantext</th>\n",
       "      <th>selftextwordcount</th>\n",
       "    </tr>\n",
       "  </thead>\n",
       "  <tbody>\n",
       "  </tbody>\n",
       "</table>\n",
       "</div>"
      ],
      "text/plain": [
       "Empty DataFrame\n",
       "Columns: [title, selftext, subreddit, author, num_comments, score, timestamp, cleantext, selftextwordcount]\n",
       "Index: []"
      ]
     },
     "execution_count": 280,
     "metadata": {},
     "output_type": "execute_result"
    }
   ],
   "source": [
    "investingsubsmissions.head(0)"
   ]
  },
  {
   "cell_type": "code",
   "execution_count": 281,
   "metadata": {
    "ExecuteTime": {
     "end_time": "2021-03-16T09:36:27.277818Z",
     "start_time": "2021-03-16T09:36:27.270193Z"
    }
   },
   "outputs": [
    {
     "data": {
      "text/html": [
       "<div>\n",
       "<style scoped>\n",
       "    .dataframe tbody tr th:only-of-type {\n",
       "        vertical-align: middle;\n",
       "    }\n",
       "\n",
       "    .dataframe tbody tr th {\n",
       "        vertical-align: top;\n",
       "    }\n",
       "\n",
       "    .dataframe thead th {\n",
       "        text-align: right;\n",
       "    }\n",
       "</style>\n",
       "<table border=\"1\" class=\"dataframe\">\n",
       "  <thead>\n",
       "    <tr style=\"text-align: right;\">\n",
       "      <th></th>\n",
       "      <th>title</th>\n",
       "      <th>selftext</th>\n",
       "      <th>subreddit</th>\n",
       "      <th>author</th>\n",
       "      <th>num_comments</th>\n",
       "      <th>score</th>\n",
       "      <th>timestamp</th>\n",
       "      <th>cleantext</th>\n",
       "      <th>selftextwordcount</th>\n",
       "    </tr>\n",
       "  </thead>\n",
       "  <tbody>\n",
       "  </tbody>\n",
       "</table>\n",
       "</div>"
      ],
      "text/plain": [
       "Empty DataFrame\n",
       "Columns: [title, selftext, subreddit, author, num_comments, score, timestamp, cleantext, selftextwordcount]\n",
       "Index: []"
      ]
     },
     "execution_count": 281,
     "metadata": {},
     "output_type": "execute_result"
    }
   ],
   "source": [
    "GMEsubmissions.head(0)"
   ]
  },
  {
   "cell_type": "code",
   "execution_count": 282,
   "metadata": {
    "ExecuteTime": {
     "end_time": "2021-03-16T09:36:53.173582Z",
     "start_time": "2021-03-16T09:36:53.157640Z"
    }
   },
   "outputs": [
    {
     "data": {
      "text/html": [
       "<div>\n",
       "<style scoped>\n",
       "    .dataframe tbody tr th:only-of-type {\n",
       "        vertical-align: middle;\n",
       "    }\n",
       "\n",
       "    .dataframe tbody tr th {\n",
       "        vertical-align: top;\n",
       "    }\n",
       "\n",
       "    .dataframe thead th {\n",
       "        text-align: right;\n",
       "    }\n",
       "</style>\n",
       "<table border=\"1\" class=\"dataframe\">\n",
       "  <thead>\n",
       "    <tr style=\"text-align: right;\">\n",
       "      <th></th>\n",
       "      <th>title</th>\n",
       "      <th>selftext</th>\n",
       "      <th>subreddit</th>\n",
       "      <th>author</th>\n",
       "      <th>num_comments</th>\n",
       "      <th>score</th>\n",
       "      <th>timestamp</th>\n",
       "      <th>cleantext</th>\n",
       "      <th>selftextwordcount</th>\n",
       "    </tr>\n",
       "  </thead>\n",
       "  <tbody>\n",
       "  </tbody>\n",
       "</table>\n",
       "</div>"
      ],
      "text/plain": [
       "Empty DataFrame\n",
       "Columns: [title, selftext, subreddit, author, num_comments, score, timestamp, cleantext, selftextwordcount]\n",
       "Index: []"
      ]
     },
     "execution_count": 282,
     "metadata": {},
     "output_type": "execute_result"
    }
   ],
   "source": [
    "wsbsubmissions.head(0)"
   ]
  },
  {
   "cell_type": "code",
   "execution_count": 294,
   "metadata": {
    "ExecuteTime": {
     "end_time": "2021-03-16T09:41:59.934286Z",
     "start_time": "2021-03-16T09:41:59.911540Z"
    }
   },
   "outputs": [
    {
     "data": {
      "text/html": [
       "<div>\n",
       "<style scoped>\n",
       "    .dataframe tbody tr th:only-of-type {\n",
       "        vertical-align: middle;\n",
       "    }\n",
       "\n",
       "    .dataframe tbody tr th {\n",
       "        vertical-align: top;\n",
       "    }\n",
       "\n",
       "    .dataframe thead th {\n",
       "        text-align: right;\n",
       "    }\n",
       "</style>\n",
       "<table border=\"1\" class=\"dataframe\">\n",
       "  <thead>\n",
       "    <tr style=\"text-align: right;\">\n",
       "      <th></th>\n",
       "      <th>title</th>\n",
       "      <th>selftext</th>\n",
       "      <th>subreddit</th>\n",
       "      <th>author</th>\n",
       "      <th>num_comments</th>\n",
       "      <th>score</th>\n",
       "      <th>timestamp</th>\n",
       "      <th>cleantext</th>\n",
       "      <th>selftextwordcount</th>\n",
       "    </tr>\n",
       "  </thead>\n",
       "  <tbody>\n",
       "  </tbody>\n",
       "</table>\n",
       "</div>"
      ],
      "text/plain": [
       "Empty DataFrame\n",
       "Columns: [title, selftext, subreddit, author, num_comments, score, timestamp, cleantext, selftextwordcount]\n",
       "Index: []"
      ]
     },
     "execution_count": 294,
     "metadata": {},
     "output_type": "execute_result"
    }
   ],
   "source": [
    "securityanalysissubmissions.head(0)"
   ]
  },
  {
   "cell_type": "raw",
   "metadata": {},
   "source": [
    "# Fix width of datasets to only include desired columns in each data set (same for all)\n",
    "investingsubsmissions = investingsubsmissions[]\n",
    "GMEsubmissions = GMEsubmissions[]\n",
    "wsbsubmissions = wsbsubmissions[]\n",
    "investmentssubmissions = investmentssubmissions[]\n",
    "securityanalysissubsmissions = securityanalysissubsmissions[]"
   ]
  },
  {
   "cell_type": "code",
   "execution_count": 422,
   "metadata": {
    "ExecuteTime": {
     "end_time": "2021-03-16T21:57:41.295989Z",
     "start_time": "2021-03-16T21:57:40.424198Z"
    }
   },
   "outputs": [],
   "source": [
    "sub = pd.concat([investingsubsmissions,\n",
    "                         GMEsubmissions,\n",
    "                         wsbsubmissions,\n",
    "                         securityanalysissubmissions], axis=0)"
   ]
  },
  {
   "cell_type": "code",
   "execution_count": 433,
   "metadata": {
    "ExecuteTime": {
     "end_time": "2021-03-16T21:58:50.030052Z",
     "start_time": "2021-03-16T21:58:50.014440Z"
    }
   },
   "outputs": [],
   "source": [
    "sub.reset_index(inplace=True, drop=True)"
   ]
  },
  {
   "cell_type": "code",
   "execution_count": 424,
   "metadata": {
    "ExecuteTime": {
     "end_time": "2021-03-16T21:57:47.345568Z",
     "start_time": "2021-03-16T21:57:47.254412Z"
    }
   },
   "outputs": [
    {
     "data": {
      "text/plain": [
       "((146053, 9), (1130, 9), (28814, 9), (8011, 9))"
      ]
     },
     "execution_count": 424,
     "metadata": {},
     "output_type": "execute_result"
    }
   ],
   "source": [
    "investingsubsmissions.shape, GMEsubmissions.shape, wsbsubmissions.shape, securityanalysissubmissions.shape"
   ]
  },
  {
   "cell_type": "code",
   "execution_count": 434,
   "metadata": {
    "ExecuteTime": {
     "end_time": "2021-03-16T21:58:55.372573Z",
     "start_time": "2021-03-16T21:58:55.361953Z"
    }
   },
   "outputs": [
    {
     "data": {
      "text/plain": [
       "(184008, 9)"
      ]
     },
     "execution_count": 434,
     "metadata": {},
     "output_type": "execute_result"
    }
   ],
   "source": [
    "sub.shape"
   ]
  },
  {
   "cell_type": "code",
   "execution_count": 435,
   "metadata": {
    "ExecuteTime": {
     "end_time": "2021-03-16T21:59:00.884110Z",
     "start_time": "2021-03-16T21:59:00.862798Z"
    }
   },
   "outputs": [
    {
     "data": {
      "text/html": [
       "<div>\n",
       "<style scoped>\n",
       "    .dataframe tbody tr th:only-of-type {\n",
       "        vertical-align: middle;\n",
       "    }\n",
       "\n",
       "    .dataframe tbody tr th {\n",
       "        vertical-align: top;\n",
       "    }\n",
       "\n",
       "    .dataframe thead th {\n",
       "        text-align: right;\n",
       "    }\n",
       "</style>\n",
       "<table border=\"1\" class=\"dataframe\">\n",
       "  <thead>\n",
       "    <tr style=\"text-align: right;\">\n",
       "      <th></th>\n",
       "      <th>title</th>\n",
       "      <th>selftext</th>\n",
       "      <th>subreddit</th>\n",
       "      <th>author</th>\n",
       "      <th>num_comments</th>\n",
       "      <th>score</th>\n",
       "      <th>timestamp</th>\n",
       "      <th>cleantext</th>\n",
       "      <th>selftextwordcount</th>\n",
       "    </tr>\n",
       "  </thead>\n",
       "  <tbody>\n",
       "    <tr>\n",
       "      <th>0</th>\n",
       "      <td>Vanguard's poor ESG track record</td>\n",
       "      <td>I know there's a huge consensus for vanguard f...</td>\n",
       "      <td>investing</td>\n",
       "      <td>Dazen91</td>\n",
       "      <td>15</td>\n",
       "      <td>1</td>\n",
       "      <td>2021-03-14</td>\n",
       "      <td>know theres huge consensus vanguard funds low ...</td>\n",
       "      <td>129</td>\n",
       "    </tr>\n",
       "  </tbody>\n",
       "</table>\n",
       "</div>"
      ],
      "text/plain": [
       "                              title  \\\n",
       "0  Vanguard's poor ESG track record   \n",
       "\n",
       "                                            selftext  subreddit   author  \\\n",
       "0  I know there's a huge consensus for vanguard f...  investing  Dazen91   \n",
       "\n",
       "   num_comments  score   timestamp  \\\n",
       "0            15      1  2021-03-14   \n",
       "\n",
       "                                           cleantext  selftextwordcount  \n",
       "0  know theres huge consensus vanguard funds low ...                129  "
      ]
     },
     "execution_count": 435,
     "metadata": {},
     "output_type": "execute_result"
    }
   ],
   "source": [
    "sub.head(1)"
   ]
  },
  {
   "cell_type": "code",
   "execution_count": 436,
   "metadata": {
    "ExecuteTime": {
     "end_time": "2021-03-16T21:59:05.945234Z",
     "start_time": "2021-03-16T21:59:05.927051Z"
    }
   },
   "outputs": [
    {
     "data": {
      "text/plain": [
       "pandas.core.frame.DataFrame"
      ]
     },
     "execution_count": 436,
     "metadata": {},
     "output_type": "execute_result"
    }
   ],
   "source": [
    "type(sub)"
   ]
  },
  {
   "cell_type": "code",
   "execution_count": 437,
   "metadata": {
    "ExecuteTime": {
     "end_time": "2021-03-16T21:59:11.677008Z",
     "start_time": "2021-03-16T21:59:11.648512Z"
    }
   },
   "outputs": [
    {
     "data": {
      "text/plain": [
       "'question advice personal situation questions include relevant information following old country live employedmaking income objectives money buy house retirement savings time horizon need money month yrs risk tolerance mind risking blackjack need know safe current holdings exposure specific funds sectors assets big debts include rate expenses relevant financial information useful proper answer consider consulting faq wwwredditcomrinvestingwikifaq barwwwredditcomrinvestingaboutsidebar useful resources aware answers opinions redditors used starting point research strongly consider seeing registered financial rep making financial decisions'"
      ]
     },
     "execution_count": 437,
     "metadata": {},
     "output_type": "execute_result"
    }
   ],
   "source": [
    "sub.loc[1,'cleantext']"
   ]
  },
  {
   "cell_type": "code",
   "execution_count": 438,
   "metadata": {
    "ExecuteTime": {
     "end_time": "2021-03-16T21:59:17.404583Z",
     "start_time": "2021-03-16T21:59:17.244528Z"
    },
    "scrolled": true
   },
   "outputs": [
    {
     "data": {
      "text/plain": [
       "title                0\n",
       "selftext             0\n",
       "subreddit            0\n",
       "author               0\n",
       "num_comments         0\n",
       "score                0\n",
       "timestamp            0\n",
       "cleantext            0\n",
       "selftextwordcount    0\n",
       "dtype: int64"
      ]
     },
     "execution_count": 438,
     "metadata": {},
     "output_type": "execute_result"
    }
   ],
   "source": [
    "sub.isnull().sum()"
   ]
  },
  {
   "cell_type": "code",
   "execution_count": 439,
   "metadata": {
    "ExecuteTime": {
     "end_time": "2021-03-16T21:59:30.201414Z",
     "start_time": "2021-03-16T21:59:30.190030Z"
    }
   },
   "outputs": [
    {
     "data": {
      "text/plain": [
       "title                object\n",
       "selftext             object\n",
       "subreddit            object\n",
       "author               object\n",
       "num_comments          int64\n",
       "score                 int64\n",
       "timestamp            object\n",
       "cleantext            object\n",
       "selftextwordcount     int64\n",
       "dtype: object"
      ]
     },
     "execution_count": 439,
     "metadata": {},
     "output_type": "execute_result"
    }
   ],
   "source": [
    "sub.dtypes"
   ]
  },
  {
   "cell_type": "code",
   "execution_count": 440,
   "metadata": {
    "ExecuteTime": {
     "end_time": "2021-03-16T21:59:44.092117Z",
     "start_time": "2021-03-16T21:59:43.959556Z"
    }
   },
   "outputs": [
    {
     "data": {
      "text/plain": [
       "title                        object\n",
       "selftext                     object\n",
       "subreddit                    object\n",
       "author                       object\n",
       "num_comments                  int64\n",
       "score                         int64\n",
       "timestamp            datetime64[ns]\n",
       "cleantext                    object\n",
       "selftextwordcount             int64\n",
       "dtype: object"
      ]
     },
     "execution_count": 440,
     "metadata": {},
     "output_type": "execute_result"
    }
   ],
   "source": [
    "sub['title'].astype(object)               \n",
    "sub['selftext'].astype(object)           \n",
    "sub['subreddit'].astype(object)        \n",
    "sub['author'].astype(object)\n",
    "sub['num_comments'].astype(int)\n",
    "sub['score'].astype(int)\n",
    "sub['timestamp'] = pd.to_datetime(sub['timestamp'])\n",
    "sub['cleantext'].astype(object)\n",
    "sub['selftextwordcount'].astype(int)\n",
    "\n",
    "sub.dtypes"
   ]
  },
  {
   "cell_type": "code",
   "execution_count": 441,
   "metadata": {
    "ExecuteTime": {
     "end_time": "2021-03-16T21:59:50.453028Z",
     "start_time": "2021-03-16T21:59:50.383541Z"
    },
    "scrolled": true
   },
   "outputs": [
    {
     "data": {
      "text/plain": [
       "investing           146053\n",
       "wallstreetbets       28814\n",
       "SecurityAnalysis      8011\n",
       "GME                   1130\n",
       "Name: subreddit, dtype: int64"
      ]
     },
     "execution_count": 441,
     "metadata": {},
     "output_type": "execute_result"
    }
   ],
   "source": [
    "sub['subreddit'].value_counts()"
   ]
  },
  {
   "cell_type": "code",
   "execution_count": null,
   "metadata": {
    "ExecuteTime": {
     "end_time": "2021-03-16T22:00:06.148431Z",
     "start_time": "2021-03-16T22:00:06.124316Z"
    }
   },
   "outputs": [],
   "source": [
    "submissions.drop(columns=['selftext'],inplace=True)"
   ]
  },
  {
   "cell_type": "code",
   "execution_count": 394,
   "metadata": {
    "ExecuteTime": {
     "end_time": "2021-03-16T10:42:58.927685Z",
     "start_time": "2021-03-16T10:42:58.766536Z"
    },
    "scrolled": true
   },
   "outputs": [
    {
     "data": {
      "text/plain": [
       "title                0\n",
       "subreddit            0\n",
       "author               0\n",
       "num_comments         0\n",
       "score                0\n",
       "timestamp            0\n",
       "cleantext            0\n",
       "selftextwordcount    0\n",
       "dtype: int64"
      ]
     },
     "execution_count": 394,
     "metadata": {},
     "output_type": "execute_result"
    }
   ],
   "source": [
    "submissions.isnull().sum()"
   ]
  },
  {
   "cell_type": "code",
   "execution_count": 443,
   "metadata": {
    "ExecuteTime": {
     "end_time": "2021-03-16T22:01:18.947779Z",
     "start_time": "2021-03-16T22:01:11.359017Z"
    }
   },
   "outputs": [],
   "source": [
    "# Save data set to csv in data folder\n",
    "sub.to_csv('./data/submitwithselftext.csv', index = False)"
   ]
  },
  {
   "cell_type": "code",
   "execution_count": 398,
   "metadata": {
    "ExecuteTime": {
     "end_time": "2021-03-16T20:50:28.283373Z",
     "start_time": "2021-03-16T20:50:23.431845Z"
    }
   },
   "outputs": [],
   "source": [
    "# Save data set to csv in data folder\n",
    "submissions.to_csv('./data/submissions.csv', index = False)"
   ]
  },
  {
   "cell_type": "code",
   "execution_count": 399,
   "metadata": {
    "ExecuteTime": {
     "end_time": "2021-03-16T20:50:37.938191Z",
     "start_time": "2021-03-16T20:50:36.851205Z"
    }
   },
   "outputs": [],
   "source": [
    "submits = pd.read_csv('./data/submissions.csv', lineterminator='\\n')"
   ]
  },
  {
   "cell_type": "code",
   "execution_count": 400,
   "metadata": {
    "ExecuteTime": {
     "end_time": "2021-03-16T20:50:40.405775Z",
     "start_time": "2021-03-16T20:50:40.318345Z"
    },
    "scrolled": true
   },
   "outputs": [
    {
     "data": {
      "text/plain": [
       "title                    0\n",
       "subreddit                0\n",
       "author                   0\n",
       "num_comments             0\n",
       "score                    0\n",
       "timestamp                0\n",
       "cleantext            18336\n",
       "selftextwordcount        0\n",
       "dtype: int64"
      ]
     },
     "execution_count": 400,
     "metadata": {},
     "output_type": "execute_result"
    }
   ],
   "source": [
    "submits.isnull().sum()"
   ]
  },
  {
   "cell_type": "code",
   "execution_count": 401,
   "metadata": {
    "ExecuteTime": {
     "end_time": "2021-03-16T20:52:23.040042Z",
     "start_time": "2021-03-16T20:52:22.909251Z"
    }
   },
   "outputs": [],
   "source": [
    "submits.dropna(inplace=True)"
   ]
  },
  {
   "cell_type": "code",
   "execution_count": 402,
   "metadata": {
    "ExecuteTime": {
     "end_time": "2021-03-16T20:52:30.577713Z",
     "start_time": "2021-03-16T20:52:30.503618Z"
    }
   },
   "outputs": [
    {
     "data": {
      "text/plain": [
       "title                0\n",
       "subreddit            0\n",
       "author               0\n",
       "num_comments         0\n",
       "score                0\n",
       "timestamp            0\n",
       "cleantext            0\n",
       "selftextwordcount    0\n",
       "dtype: int64"
      ]
     },
     "execution_count": 402,
     "metadata": {},
     "output_type": "execute_result"
    }
   ],
   "source": [
    "submits.isnull().sum()"
   ]
  },
  {
   "cell_type": "code",
   "execution_count": 403,
   "metadata": {
    "ExecuteTime": {
     "end_time": "2021-03-16T20:52:59.575751Z",
     "start_time": "2021-03-16T20:52:56.295429Z"
    }
   },
   "outputs": [],
   "source": [
    "submits.to_csv('./data/submits.csv', index = False)"
   ]
  },
  {
   "cell_type": "code",
   "execution_count": 404,
   "metadata": {
    "ExecuteTime": {
     "end_time": "2021-03-16T20:53:35.241380Z",
     "start_time": "2021-03-16T20:53:34.242194Z"
    }
   },
   "outputs": [],
   "source": [
    "submit=pd.read_csv('./data/submits.csv')"
   ]
  },
  {
   "cell_type": "code",
   "execution_count": 405,
   "metadata": {
    "ExecuteTime": {
     "end_time": "2021-03-16T20:53:54.887367Z",
     "start_time": "2021-03-16T20:53:54.819412Z"
    }
   },
   "outputs": [
    {
     "data": {
      "text/plain": [
       "title                0\n",
       "subreddit            0\n",
       "author               0\n",
       "num_comments         0\n",
       "score                0\n",
       "timestamp            0\n",
       "cleantext            0\n",
       "selftextwordcount    0\n",
       "dtype: int64"
      ]
     },
     "execution_count": 405,
     "metadata": {},
     "output_type": "execute_result"
    }
   ],
   "source": [
    "submit.isnull().sum()"
   ]
  },
  {
   "cell_type": "code",
   "execution_count": 406,
   "metadata": {
    "ExecuteTime": {
     "end_time": "2021-03-16T20:54:10.451744Z",
     "start_time": "2021-03-16T20:54:10.403918Z"
    }
   },
   "outputs": [
    {
     "data": {
      "text/plain": [
       "(165672, 8)"
      ]
     },
     "execution_count": 406,
     "metadata": {},
     "output_type": "execute_result"
    }
   ],
   "source": [
    "submit.shape"
   ]
  },
  {
   "cell_type": "code",
   "execution_count": 407,
   "metadata": {
    "ExecuteTime": {
     "end_time": "2021-03-16T20:55:34.872561Z",
     "start_time": "2021-03-16T20:55:34.784913Z"
    }
   },
   "outputs": [
    {
     "data": {
      "text/plain": [
       "investing           146053\n",
       "wallstreetbets       28814\n",
       "SecurityAnalysis      8011\n",
       "GME                   1130\n",
       "Name: subreddit, dtype: int64"
      ]
     },
     "execution_count": 407,
     "metadata": {},
     "output_type": "execute_result"
    }
   ],
   "source": [
    "submissions['subreddit'].value_counts()"
   ]
  },
  {
   "cell_type": "code",
   "execution_count": 408,
   "metadata": {
    "ExecuteTime": {
     "end_time": "2021-03-16T20:55:48.936540Z",
     "start_time": "2021-03-16T20:55:48.900592Z"
    },
    "scrolled": false
   },
   "outputs": [
    {
     "data": {
      "text/plain": [
       "investing           131046\n",
       "wallstreetbets       25906\n",
       "SecurityAnalysis      7621\n",
       "GME                   1099\n",
       "Name: subreddit, dtype: int64"
      ]
     },
     "execution_count": 408,
     "metadata": {},
     "output_type": "execute_result"
    }
   ],
   "source": [
    "submit['subreddit'].value_counts()"
   ]
  },
  {
   "cell_type": "markdown",
   "metadata": {},
   "source": [
    "## Issues to Be Addressed: Notated Below"
   ]
  },
  {
   "cell_type": "raw",
   "metadata": {},
   "source": [
    "Possible unique characters in selftext or cleantext maybe be resulting in nulls from exporting to csv. When reading saved csv back in, seem to have lost 20,000 documents. Need to explore what the reason is for this."
   ]
  },
  {
   "cell_type": "markdown",
   "metadata": {},
   "source": [
    "# FURTHER DATA CLEANING + CHECKS"
   ]
  },
  {
   "cell_type": "code",
   "execution_count": 409,
   "metadata": {
    "ExecuteTime": {
     "end_time": "2021-03-16T20:59:14.387707Z",
     "start_time": "2021-03-16T20:59:14.375836Z"
    }
   },
   "outputs": [
    {
     "data": {
      "text/plain": [
       "title                object\n",
       "subreddit            object\n",
       "author               object\n",
       "num_comments          int64\n",
       "score                 int64\n",
       "timestamp            object\n",
       "cleantext            object\n",
       "selftextwordcount     int64\n",
       "dtype: object"
      ]
     },
     "execution_count": 409,
     "metadata": {},
     "output_type": "execute_result"
    }
   ],
   "source": [
    "submit.dtypes"
   ]
  },
  {
   "cell_type": "code",
   "execution_count": 410,
   "metadata": {
    "ExecuteTime": {
     "end_time": "2021-03-16T20:59:55.498537Z",
     "start_time": "2021-03-16T20:59:55.419949Z"
    },
    "scrolled": false
   },
   "outputs": [
    {
     "data": {
      "text/html": [
       "<div>\n",
       "<style scoped>\n",
       "    .dataframe tbody tr th:only-of-type {\n",
       "        vertical-align: middle;\n",
       "    }\n",
       "\n",
       "    .dataframe tbody tr th {\n",
       "        vertical-align: top;\n",
       "    }\n",
       "\n",
       "    .dataframe thead th {\n",
       "        text-align: right;\n",
       "    }\n",
       "</style>\n",
       "<table border=\"1\" class=\"dataframe\">\n",
       "  <thead>\n",
       "    <tr style=\"text-align: right;\">\n",
       "      <th></th>\n",
       "      <th>num_comments</th>\n",
       "      <th>score</th>\n",
       "      <th>selftextwordcount</th>\n",
       "    </tr>\n",
       "  </thead>\n",
       "  <tbody>\n",
       "    <tr>\n",
       "      <th>count</th>\n",
       "      <td>165672.000000</td>\n",
       "      <td>165672.000000</td>\n",
       "      <td>165672.000000</td>\n",
       "    </tr>\n",
       "    <tr>\n",
       "      <th>mean</th>\n",
       "      <td>24.722584</td>\n",
       "      <td>14.917789</td>\n",
       "      <td>102.246487</td>\n",
       "    </tr>\n",
       "    <tr>\n",
       "      <th>std</th>\n",
       "      <td>183.808128</td>\n",
       "      <td>143.135035</td>\n",
       "      <td>183.250636</td>\n",
       "    </tr>\n",
       "    <tr>\n",
       "      <th>min</th>\n",
       "      <td>0.000000</td>\n",
       "      <td>0.000000</td>\n",
       "      <td>1.000000</td>\n",
       "    </tr>\n",
       "    <tr>\n",
       "      <th>25%</th>\n",
       "      <td>3.000000</td>\n",
       "      <td>1.000000</td>\n",
       "      <td>30.000000</td>\n",
       "    </tr>\n",
       "    <tr>\n",
       "      <th>50%</th>\n",
       "      <td>7.000000</td>\n",
       "      <td>1.000000</td>\n",
       "      <td>60.000000</td>\n",
       "    </tr>\n",
       "    <tr>\n",
       "      <th>75%</th>\n",
       "      <td>17.000000</td>\n",
       "      <td>5.000000</td>\n",
       "      <td>113.000000</td>\n",
       "    </tr>\n",
       "    <tr>\n",
       "      <th>max</th>\n",
       "      <td>35566.000000</td>\n",
       "      <td>27161.000000</td>\n",
       "      <td>8403.000000</td>\n",
       "    </tr>\n",
       "  </tbody>\n",
       "</table>\n",
       "</div>"
      ],
      "text/plain": [
       "        num_comments          score  selftextwordcount\n",
       "count  165672.000000  165672.000000      165672.000000\n",
       "mean       24.722584      14.917789         102.246487\n",
       "std       183.808128     143.135035         183.250636\n",
       "min         0.000000       0.000000           1.000000\n",
       "25%         3.000000       1.000000          30.000000\n",
       "50%         7.000000       1.000000          60.000000\n",
       "75%        17.000000       5.000000         113.000000\n",
       "max     35566.000000   27161.000000        8403.000000"
      ]
     },
     "execution_count": 410,
     "metadata": {},
     "output_type": "execute_result"
    }
   ],
   "source": [
    "submit.describe()"
   ]
  },
  {
   "cell_type": "raw",
   "metadata": {},
   "source": [
    "investingsubsmissions\n",
    "GMEsubmissions\n",
    "wsbsubmissions\n",
    "securityanalysissubmissions"
   ]
  },
  {
   "cell_type": "code",
   "execution_count": 412,
   "metadata": {
    "ExecuteTime": {
     "end_time": "2021-03-16T21:03:00.712850Z",
     "start_time": "2021-03-16T21:03:00.635724Z"
    }
   },
   "outputs": [
    {
     "name": "stdout",
     "output_type": "stream",
     "text": [
      "<class 'pandas.core.frame.DataFrame'>\n",
      "RangeIndex: 165672 entries, 0 to 165671\n",
      "Data columns (total 8 columns):\n",
      " #   Column             Non-Null Count   Dtype \n",
      "---  ------             --------------   ----- \n",
      " 0   title              165672 non-null  object\n",
      " 1   subreddit          165672 non-null  object\n",
      " 2   author             165672 non-null  object\n",
      " 3   num_comments       165672 non-null  int64 \n",
      " 4   score              165672 non-null  int64 \n",
      " 5   timestamp          165672 non-null  object\n",
      " 6   cleantext          165672 non-null  object\n",
      " 7   selftextwordcount  165672 non-null  int64 \n",
      "dtypes: int64(3), object(5)\n",
      "memory usage: 10.1+ MB\n"
     ]
    }
   ],
   "source": [
    "submit.info()"
   ]
  },
  {
   "cell_type": "code",
   "execution_count": 417,
   "metadata": {
    "ExecuteTime": {
     "end_time": "2021-03-16T21:07:49.171459Z",
     "start_time": "2021-03-16T21:07:48.804588Z"
    }
   },
   "outputs": [
    {
     "data": {
      "text/plain": [
       "0.010653580568834807"
      ]
     },
     "execution_count": 417,
     "metadata": {},
     "output_type": "execute_result"
    }
   ],
   "source": [
    "# Select documents where Title or Selftext contain GME or gme or GameStop \n",
    "(submit['cleantext'].str.contains('GME') | submit['cleantext'].str.contains('gme')).mean()"
   ]
  },
  {
   "cell_type": "code",
   "execution_count": 421,
   "metadata": {
    "ExecuteTime": {
     "end_time": "2021-03-16T21:14:50.196048Z",
     "start_time": "2021-03-16T21:14:49.871366Z"
    }
   },
   "outputs": [
    {
     "data": {
      "text/plain": [
       "0.010152590661065237"
      ]
     },
     "execution_count": 421,
     "metadata": {},
     "output_type": "execute_result"
    }
   ],
   "source": [
    "# Consider using tesla / I don't see enough data here\n",
    "(submit['cleantext'].str.contains('Tesla') | submit['cleantext'].str.contains('tsla')).mean()"
   ]
  },
  {
   "cell_type": "raw",
   "metadata": {},
   "source": [
    "From originally having 186,000 documents, to 165,000 after transfer loss, the entire corpus only contains 0.010 or 1% where titles or cleantext (selftext but clean) that contain the keyword GME for GameStop. 16,500 instances of GME would be challenging to model with, especially over the past 5 years. I will adjust to model general market sentiment and attempt to predict index movements."
   ]
  }
 ],
 "metadata": {
  "kernelspec": {
   "display_name": "Python 3",
   "language": "python",
   "name": "python3"
  },
  "language_info": {
   "codemirror_mode": {
    "name": "ipython",
    "version": 3
   },
   "file_extension": ".py",
   "mimetype": "text/x-python",
   "name": "python",
   "nbconvert_exporter": "python",
   "pygments_lexer": "ipython3",
   "version": "3.8.5"
  }
 },
 "nbformat": 4,
 "nbformat_minor": 4
}
